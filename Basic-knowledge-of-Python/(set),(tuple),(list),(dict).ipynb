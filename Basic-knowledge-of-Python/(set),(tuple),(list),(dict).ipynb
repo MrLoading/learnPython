{
 "cells": [
  {
   "cell_type": "markdown",
   "metadata": {},
   "source": [
    "# Python 内置数据结构\n",
    "- 集合(set)\n",
    "- 元组(tuple)\n",
    "- 列表(list)\n",
    "- 字典(dict)"
   ]
  },
  {
   "cell_type": "markdown",
   "metadata": {},
   "source": [
    "## 集合(set)\n",
    "- set和dict一样，只是没有value，相当于dict的key集合\n",
    "- 不重复\n",
    "- 元素为不可变对象\n",
    "- 语法：\n",
    "``` python\n",
    "        set = set()\n",
    "        set = {11,22,33,44}\n",
    "        #注意在创建空集合的时候只能使用s=set()，因为s={}创建的是空字典\n",
    "```"
   ]
  },
  {
   "cell_type": "markdown",
   "metadata": {},
   "source": [
    "#### 基本操作： 比较"
   ]
  },
  {
   "cell_type": "code",
   "execution_count": 1,
   "metadata": {},
   "outputs": [
    {
     "name": "stdout",
     "output_type": "stream",
     "text": [
      "{33, 11}\n",
      "{33, 11, 22}\n",
      "None\n",
      "{33, 11}\n"
     ]
    }
   ],
   "source": [
    "se = {11, 22, 33}\n",
    "be = {22, 55}\n",
    "temp1 = se.difference(be)        #找到se中存在，be中不存在的集合，返回新值\n",
    "print(temp1)        #{33, 11}\n",
    "print(se)        #{33, 11, 22}\n",
    "\n",
    "temp2 = se.difference_update(be) #找到se中存在，be中不存在的集合，覆盖掉se\n",
    "print(temp2)        #None\n",
    "print(se)           #{33, 11},"
   ]
  },
  {
   "cell_type": "markdown",
   "metadata": {},
   "source": [
    "#### 基本操作：添加、删除"
   ]
  },
  {
   "cell_type": "code",
   "execution_count": 2,
   "metadata": {},
   "outputs": [
    {
     "name": "stdout",
     "output_type": "stream",
     "text": [
      "{'a', 'bcd'}\n",
      "{'b', 'd', 'a', 'c', 'bcd'}\n",
      "{'b', 'a', 'c', 'bcd'}\n"
     ]
    }
   ],
   "source": [
    "# 集合的添加有两种常用方法，分别是add和update\n",
    "## add() : 把要传入的元素\"整个\"添加到集合中\n",
    "a = {'a'}\n",
    "a.add('bcd')\n",
    "print(a)\n",
    "\n",
    "## update() : 把要传入的元素\"拆分\"做为个体传入到集合中\n",
    "a.update('bcd')             #拆分为'b , 'c' , 'd'\n",
    "print(a)\n",
    "\n",
    "#集合删除操作方法：remove\n",
    "a.remove('d')\n",
    "print(a)"
   ]
  },
  {
   "cell_type": "markdown",
   "metadata": {},
   "source": [
    "#### 基本操作：取交集"
   ]
  },
  {
   "cell_type": "code",
   "execution_count": 3,
   "metadata": {},
   "outputs": [
    {
     "name": "stdout",
     "output_type": "stream",
     "text": [
      "a =  {1, 2, 3, 4, 5, 6}\n",
      "c =  {4, 5, 6}\n",
      "a =  {4, 5, 6}\n",
      "d =  None\n"
     ]
    }
   ],
   "source": [
    "a = {1,2,3,4,5,6}\n",
    "b = {4,5,6,7,8,9}\n",
    "c = a.intersection(b)             #取交集，赋给新值\n",
    "print(\"a = \",a)\n",
    "print(\"c = \",c)\n",
    "d = a.intersection_update(b)      #取交集并更新自己\n",
    "print(\"a = \",a)\n",
    "print(\"d = \",d)"
   ]
  },
  {
   "cell_type": "markdown",
   "metadata": {},
   "source": [
    "#### 基本操作：取并集/合并"
   ]
  },
  {
   "cell_type": "code",
   "execution_count": 4,
   "metadata": {},
   "outputs": [
    {
     "name": "stdout",
     "output_type": "stream",
     "text": [
      "a =  {1, 2, 3, 4, 5, 6}\n",
      "c =  {1, 2, 3, 4, 5, 6, 7, 8, 9}\n",
      "a =  {1, 2, 3, 4, 5, 6}\n",
      "c =  {1, 2, 3, 7, 8, 9}\n",
      "a =  {1, 2, 3, 7, 8, 9}\n",
      "d =  None\n"
     ]
    }
   ],
   "source": [
    "a = {1,2,3,4,5,6}\n",
    "b = {4,5,6,7,8,9}\n",
    "c = a.union(b)             #取并集，并赋新值\n",
    "print(\"a = \",a)\n",
    "print(\"c = \",c)\n",
    "\n",
    "c = a.symmetric_difference(b)  # 合并不同项，并赋新值\n",
    "print(\"a = \",a)\n",
    "print(\"c = \",c)\n",
    "d = a.symmetric_difference_update(b)  # 合并不同项，并更新自己\n",
    "print(\"a = \",a)\n",
    "print(\"d = \",d)"
   ]
  },
  {
   "cell_type": "markdown",
   "metadata": {},
   "source": [
    "#### 基本操作：判断"
   ]
  },
  {
   "cell_type": "code",
   "execution_count": 5,
   "metadata": {},
   "outputs": [
    {
     "name": "stdout",
     "output_type": "stream",
     "text": [
      "False\n",
      "False\n",
      "True\n"
     ]
    }
   ],
   "source": [
    "a = {1, 2, 3}\n",
    "b = {2}\n",
    "\n",
    "print(a.isdisjoint(b))        #False，判断是否不存在交集（有交集False，无交集True）\n",
    "print(a.issubset(b))          #False，判断a是否是b的子集合\n",
    "print(a.issuperset(b))        #True，判断a是否是b的父集合"
   ]
  },
  {
   "cell_type": "markdown",
   "metadata": {},
   "source": [
    "### 集合函数方法\n",
    "| 方法 | 等价于 | 说明 |\n",
    "|:------------------------------------ |:-----------------|:----------------------------------|\n",
    "| set([obj])                         |             | 可变集合：ojb必须是支持迭代的，由obj中的元素创建集合，否则创建一个空集合| \n",
    "| frozenset([obj])                   |             | 不可变集合：执行方式好set()方法相同，但它返回的是不可变集合| \n",
    "|                                    | s == t      | 等价测试| \n",
    "|                                    | s != t      | 不等价测试|\n",
    "|                                    | s &lt; t    | 严格意义上）子集测试| \n",
    "| s.issubset(t)                      | s &lt;= t   | 子集测试| \n",
    "| s.union(t)                         | s &#124; t  | 合并操作| \n",
    "| s.intersec-tion(t)                 | s & t       | 交集操作| \n",
    "| s.difference(t)                    | s – t       | 差分操作| \n",
    "| len()                              |             | 元素个数\n",
    "| s.update(t)                        | s &#124;= t | 修改操作：拆分t，并添加入s| \n",
    "| s.add(obj)                         |             | 加操作：| \n",
    "| s.remove(obj)                      |             | 删除操作| \n",
    "| s.discard(obj)                     |             | 丢弃操作：remove()的友好版本，如果s中存在ojb，从s中删除它| \n",
    "| s.copy()                           |             | (浅复制)副本 仅适用于可变集合| \n",
    "| s.pop()                            |             | Pop操作：移除并返回s中的任意一个值| \n",
    "| s.clear()                          |             | 清除操作| \n",
    "| obj in s                           |             | 成员测试| \n",
    "| obj not in s                       |             | 非成员测试| \n",
    "|                                    | s > t       | (严格意义上)超集测试| \n",
    "|  s.issuperset(t)                   | s &gt;= t   | 超集测试| \n",
    "|  s.intersection_update(t)          | s &= t      | 交集修改操作：s中仅包括s和t中共有的成员| \n",
    "|  s.difference_update(t)            | s -= t      | 差修改操作：s中仅包括属于s但不属于t的成员| \n",
    "|  s.symmetric_difference_ update(t) | s ^= t      | 对称差分修改操作：s中包括仅属于s或仅属于t的成员| \n",
    "|  s.symmetric_fifference(t)         | s ^ t       | 对称差分操作|   "
   ]
  },
  {
   "cell_type": "markdown",
   "metadata": {},
   "source": [
    "## 元组(tuple)：\n",
    "- 元组常用小括号表示，即：()，元素加逗号，是元组的标识。\n",
    "- 语法:\n",
    "```python\n",
    "            tup1e = ()\n",
    "            tuple = (\"aaa\",\"bbb\",\"ccc\",\"ddd\",\"eee\",\"fff\",\"ggg\")\n",
    "```\n",
    "- 访问、切片、乘、成员检测 __同list__"
   ]
  },
  {
   "cell_type": "code",
   "execution_count": 6,
   "metadata": {},
   "outputs": [
    {
     "name": "stdout",
     "output_type": "stream",
     "text": [
      "<class 'tuple'>\n",
      "<class 'int'>\n",
      "<class 'tuple'>\n",
      "<class 'tuple'>\n",
      "<class 'str'>\n",
      "<class 'tuple'>\n",
      "<class 'tuple'>\n",
      "<class 'tuple'>\n"
     ]
    }
   ],
   "source": [
    "# 创建元组\n",
    "t1   = ()\n",
    "t2   = (3)         #<class 'int'>\n",
    "t22  = (3,)        #加‘，’即可\n",
    "t222 = 3,          #亦可，但不建议使用\n",
    "t3   = ('c')       #<class 'str'>\n",
    "t33  = ('c',)      #加‘，’即可\n",
    "t333 = 'c',        #亦可，但不建议使用\n",
    "t4 = (\"a\",\"bb\",\"c\")\n",
    "print(type(t1))\n",
    "print(type(t2))\n",
    "print(type(t22))\n",
    "print(type(t222))\n",
    "print(type(t3))\n",
    "print(type(t33))\n",
    "print(type(t333))\n",
    "print(type(t4))"
   ]
  },
  {
   "cell_type": "code",
   "execution_count": 7,
   "metadata": {
    "scrolled": true
   },
   "outputs": [
    {
     "name": "stdout",
     "output_type": "stream",
     "text": [
      "tuple[4]    eee\n",
      "tuple[2:3] ('ccc',)\n",
      "tuple[:3]  ('aaa', 'bbb', 'ccc')\n",
      "tuple[3:]  ('ddd', 'eee', 'fff', 'ggg')\n",
      "\n",
      "tupleA ('ggg', 'ccc', 'fff', 'ddd', 'bbbeee', 'aaa')\n",
      "\n",
      "len(tuple) =>  7\n",
      "max(tuple) =>  ggg\n",
      "min(tuple) =>  aaa\n",
      "sorted(tuple) =>  ['aaa', 'bbb', 'ccc', 'ddd', 'eee', 'fff', 'ggg']\n",
      "\n"
     ]
    }
   ],
   "source": [
    "#访问元组\n",
    "tuple = (\"aaa\",\"bbb\",\"ccc\",\"ddd\",\"eee\",\"fff\",\"ggg\")\n",
    "\n",
    "print(\"tuple[4]   \",tuple[4])     #下标为4\n",
    "\n",
    "print(\"tuple[2:3]\",tuple[2:3])    #前闭后开区间\n",
    "\n",
    "print(\"tuple[:3] \",tuple[:3])\n",
    "\n",
    "print(\"tuple[3:] \",tuple[3:])\n",
    "print()\n",
    "\n",
    "# 不支持删改，支持连接增加\n",
    "tupleA= (\"ggg\",\"ccc\",\"fff\",)\n",
    "\n",
    "tupleB= (\"ddd\",\"bbb\"\"eee\",\"aaa\")\n",
    "\n",
    "tupleA = tupleA + tupleB\n",
    "\n",
    "print(\"tupleA\",tupleA)\n",
    "print()\n",
    "\n",
    "# 内置函数\n",
    "print(\"len(tuple) => \", len(tuple))\n",
    "print(\"max(tuple) => \", max(tuple))\n",
    "print(\"min(tuple) => \", min(tuple))\n",
    "# 同一数据类型排序\n",
    "print(\"sorted(tuple) => \", sorted(tuple))\n",
    "print()\n"
   ]
  },
  {
   "cell_type": "markdown",
   "metadata": {},
   "source": [
    "#### 元组函数\n",
    "\n",
    "| 函数名 | 说明 |\n",
    "|:------|:-----|\n",
    "| len(tuple) | 计算元组元素个数|\n",
    "| max(tuple) | 返回元组中元素最大值|\n",
    "| min(tuple) | 返回元组中元素最小值|\n",
    "| tuple(seq) | 将列表转换为元组|\n",
    "| del(tuple) | 删除元组,元组中的元素值不允许删除，可以使用del语句来删除整个元组|"
   ]
  },
  {
   "cell_type": "markdown",
   "metadata": {},
   "source": [
    "## 列表(list):\n",
    "\n",
    "- 列表常用方括号表示，即：[]；\n",
    "\n",
    "- 创建一个列表，只要把用逗号分隔的不同的数据项使用方括号括起来即可。\n",
    "\n",
    "- 语法:\n",
    "```python\n",
    "            list = list()\n",
    "            list = ['a','b','c',1,3,5]\n",
    "```"
   ]
  },
  {
   "cell_type": "code",
   "execution_count": 8,
   "metadata": {},
   "outputs": [
    {
     "name": "stdout",
     "output_type": "stream",
     "text": [
      "<class 'list'>\n",
      "<class 'list'>\n",
      "[100, 150, 200]\n",
      "a =  ['t', 'o', ' ', 'b', 'e', ' ', 'o', 'r', ' ', 'n', 'o', 't']\n",
      "b =  ['2', '.', '7']\n",
      "c =  ['k1', 'k2', 'k3']\n"
     ]
    }
   ],
   "source": [
    "#创建空列表\n",
    "l1 = []\n",
    "print(type(l1))\n",
    "\n",
    "#创建赋值的列表\n",
    "l2 = [100,150,200]\n",
    "print(type(l2))\n",
    "print(l2)\n",
    "#其他格式转为list\n",
    "a = 'to be or not'\n",
    "b = ('2','.','7')\n",
    "c = {'k1':'2','k2':'.','k3':'7'}            #字典dict转list只保留键名\n",
    "print('a = ',list(a))\n",
    "print('b = ',list(b))\n",
    "print('c = ',list(c))"
   ]
  },
  {
   "cell_type": "code",
   "execution_count": 9,
   "metadata": {},
   "outputs": [
    {
     "name": "stdout",
     "output_type": "stream",
     "text": [
      "l2 =  [2, 7, 1, 8, 2, 8]\n",
      "l3 =  [20, 70, 10, 80, 20, 80]\n",
      "l4 =  [1, 2, 3, 4, 5, 6, 7] l5 =  [8, 9, 10, 11, 12, 13, 14, 15]\n",
      "l6 =  [2, 4, 6] \n",
      "l7 =  [9, 10, 11, 12, 13, 14, 10, 11, 12, 13, 14, 11, 12, 13, 14, 12, 13, 14, 13, 14, 14]\n"
     ]
    }
   ],
   "source": [
    "# 其他方式创建列表\n",
    "l1 = [2,7,1,8,2,8]\n",
    "\n",
    "l2 = [i for i in l1]                                ## l1 中的元素，逐个放入 l2\n",
    "l3 = [i*10 for i in l1]                             ## l1 中的元素，逐个*10 并放入 l3\n",
    "print(\"l2 = \",l2)\n",
    "print(\"l3 = \",l3)\n",
    "\n",
    "## 可以对 源列表 的元素进行条件筛选 操作\n",
    "l4 = [i for i in range(1,8)]\n",
    "l5 = [i for i in range(8,16)]\n",
    "print('l4 = ',l4,'l5 = ',l5)\n",
    "\n",
    "l6 = [i for i in l4 if i % 2 == 0]                 # l4 中是偶数的取出放入 l6\n",
    "l7 = [m + n for m in l4 for n in l5 if m + n < 15] # l4 中每个元素分别与 l5 中的元素求和,取小于15的\n",
    "print('l6 = ',l6,'\\nl7 = ',l7)"
   ]
  },
  {
   "cell_type": "code",
   "execution_count": 10,
   "metadata": {},
   "outputs": [
    {
     "name": "stdout",
     "output_type": "stream",
     "text": [
      "['baidu', 'google']\n",
      "[[2, 4, 6], 'baidu', 'google']\n"
     ]
    }
   ],
   "source": [
    "# 增加list元素\n",
    "l1 = ['baidu']\n",
    "l1.append('google')\n",
    "print(l1)\n",
    "# 插入list元素\n",
    "l1.insert(0, l6)\n",
    "print(l1)"
   ]
  },
  {
   "cell_type": "code",
   "execution_count": 11,
   "metadata": {},
   "outputs": [
    {
     "name": "stdout",
     "output_type": "stream",
     "text": [
      "l2 =  [100, 150, 200]\n",
      "id(l2) =  2302941556040\n",
      "l2 =  [100, 150]\n",
      "id(l2) =  2302941556040\n"
     ]
    }
   ],
   "source": [
    "#del 删除list元素(不创建新list)\n",
    "l2 = [100,150,200]\n",
    "print(\"l2 = \",l2)\n",
    "print(\"id(l2) = \",id(l2))\n",
    "del l2[2]\n",
    "print(\"l2 = \",l2)\n",
    "print(\"id(l2) = \",id(l2))\n",
    "\n",
    "#删除一个变量后不能继续使用此变量\n",
    "del l2\n",
    "#print(l2)        #报错\n"
   ]
  },
  {
   "cell_type": "code",
   "execution_count": 12,
   "metadata": {},
   "outputs": [
    {
     "name": "stdout",
     "output_type": "stream",
     "text": [
      "d =  [1, 2, 3, 3, 4, 5, 'a', 'b', 'c']\n",
      "c*3 =  ['a', 'b', 'c', 'a', 'b', 'c', 'a', 'b', 'c']\n"
     ]
    }
   ],
   "source": [
    "#连接列表/列表相加\n",
    "a = [1,2,3]\n",
    "b = [3,4,5]\n",
    "c = ['a','b','c']\n",
    "d = a + b + c\n",
    "print(\"d = \",d)\n",
    "#乘号操作\n",
    "#列表直接与一个整数n相乘，相当于把n个相同列表相连\n",
    "print(\"c*3 = \",c * 3)"
   ]
  },
  {
   "cell_type": "markdown",
   "metadata": {},
   "source": [
    "#### random.choice( seq  )\n",
    "- seq -- 可以是一个列表, 元组或字符串\n",
    "- 方法返回 seq 的随机一项。"
   ]
  },
  {
   "cell_type": "code",
   "execution_count": 13,
   "metadata": {},
   "outputs": [
    {
     "name": "stdout",
     "output_type": "stream",
     "text": [
      "class\n"
     ]
    }
   ],
   "source": [
    "import random\n",
    "\n",
    "li = ['name', 'age', 'class']\n",
    "print(random.choice( li  ))"
   ]
  },
  {
   "cell_type": "markdown",
   "metadata": {},
   "source": [
    "#### list 常用的函数：\n",
    "\n",
    "| 函数名 | 说明 |\n",
    "|:------------|:--------------|\n",
    "| len(list)   | 返回列表元素个数|\n",
    "| max(list)   | 返回列表元素最大值|\n",
    "| min(list)   | 返回列表元素最小值|\n",
    "| list(tuple) | 将元组转换为列表|\n",
    "#### list 常用的方法：\n",
    "\n",
    "| 方法名 | 说明 |\n",
    "|:------------------------|:-----|\n",
    "| list.append(obj)        | 在末尾添加新的对象|\n",
    "| list.count(obj)         | 统计某个元素在列表中出现的次数|\n",
    "| list.index(obj)         | 从列表中找出某个值第一个匹配项的索引位置|\n",
    "| list.extend(list)       | 在末尾添加包含多个值的另一个序列(list连接)(list地址不变)|\n",
    "| list.insert(index,obj)  | 将对象插入列表中的第index元素之__前__|\n",
    "| list.pop(obj=list[-1])  | 出栈/移除列表中的一个元素（默认最后一个元素），并且返回该元素的值 |\n",
    "| list.remove(obj)        | 移除列表中某个值(list地址不变)|\n",
    "| list.sort(cmp=None, key=None, reverse=False) | 列表排序|\n",
    "| list.reverse()          | 列表反向排序(list地址不变)|\n",
    "| list.clear()            | 清空列表(list地址不变)|\n",
    "| l2 = l1                 | (传地址)|\n",
    "| list.copy()             | 复制列表、浅copy(list地址不变，只copy1层)|\n",
    "| l2 = copy.deepcopy(l1)  | 深copy，需要import copy|"
   ]
  },
  {
   "cell_type": "code",
   "execution_count": 14,
   "metadata": {},
   "outputs": [
    {
     "name": "stdout",
     "output_type": "stream",
     "text": [
      "True\n",
      "True\n",
      "False\n",
      "True\n",
      "False\n",
      "False\n"
     ]
    }
   ],
   "source": [
    "# 比较列表\n",
    "a = [123, 456]\n",
    "b = [456, 789,1]\n",
    "#print (cmp(list1, list2))   #python3中 operator操作 替换python2中cmp函数\n",
    "import operator\n",
    "print(operator.lt(a, b))    #相当于 a<b     从第一个数字或字母（ASCII）比大小\n",
    "print(operator.le(a, b))    #相当于a<=b\n",
    "print(operator.eq(a, b))    #相当于a==b    字母完全一样，返回True\n",
    "print(operator.ne(a, b))    #相当于a!=b\n",
    "print(operator.ge(a, b))    #相当于 a>=b\n",
    "print(operator.gt(a, b))    #相当于a>b"
   ]
  },
  {
   "cell_type": "markdown",
   "metadata": {},
   "source": [
    "### 访问 与 切片/分片"
   ]
  },
  {
   "cell_type": "code",
   "execution_count": 15,
   "metadata": {},
   "outputs": [
    {
     "name": "stdout",
     "output_type": "stream",
     "text": [
      "1\n",
      "7\n",
      "8 \n",
      "\n",
      "[3, 4, 5]\n",
      "[6, 7, 8, 9]\n",
      "[1, 2, 3, 4, 5]\n",
      "[5, 6, 7, 8] \n",
      "\n",
      "[3, 4, 5, 6, 7, 8, 9]\n",
      "[3, 4, 5, 6, 7, 8, 9]\n",
      "[3, 5, 7, 9]\n",
      "[9, 7, 5, 3]\n"
     ]
    }
   ],
   "source": [
    "#使用下标访问\n",
    "#下标可为负(访问顺序为从右到左),规定右端第一个元素的下标为 -1\n",
    "l1 = [1,2,3,4,5,6,7,8,9]\n",
    "print(l1[0])\n",
    "print(l1[6])\n",
    "print(l1[-2],\"\\n\")\n",
    "#分片操作 区间前闭后开\n",
    "print(l1[2:5])\n",
    "print(l1[5:])\n",
    "print(l1[:5])\n",
    "print(l1[-5:-1],\"\\n\")\n",
    "#分片可控制访问元素步长/幅度/间距，默认为1\n",
    "#若下标使用负数，则步长也需使用负数\n",
    "print(l1[2:9])\n",
    "print(l1[2:9:1])\n",
    "print(l1[2:9:2])\n",
    "print(l1[-1:-8:-2])"
   ]
  },
  {
   "cell_type": "markdown",
   "metadata": {},
   "source": [
    "#### 分片操作生成了新的list\n",
    "- 内置函数id()可显示数据唯一确定编号\n",
    "- 测试list分片操作是否生成新的list"
   ]
  },
  {
   "cell_type": "code",
   "execution_count": 16,
   "metadata": {},
   "outputs": [
    {
     "name": "stdout",
     "output_type": "stream",
     "text": [
      "2302942475848\n",
      "2302942476424\n",
      "2302942476232\n",
      "2302942476232\n",
      "[3, 5, 'ppp', 9, 6, 4, 8, 2]\n",
      "[3, 5, 'ppp', 9, 6, 'pppd', 8, 2]\n"
     ]
    }
   ],
   "source": [
    "l1 = [3,5,7,9,6,4,8,2]\n",
    "l2 = ['b','c','d','e','f','g','h']\n",
    "print(id(l1))\n",
    "print(id(l2))\n",
    "\n",
    "# l3 与 l1 的id不同，说明 l1 与 l3 是两个不同的list\n",
    "# l3 与 l4 是同一组list\n",
    "l3 = l1[:]\n",
    "l4 = l3\n",
    "print(id(l3))\n",
    "print(id(l4))\n",
    "# l3 与 l4 是同一组list验证：\n",
    "l3[2] = 'ppp'\n",
    "print(l4)\n",
    "l4[5] = 'pppd'\n",
    "print(l3)"
   ]
  },
  {
   "cell_type": "markdown",
   "metadata": {},
   "source": [
    "### 列表遍历\n",
    "- for\n",
    "- while(使用少)"
   ]
  },
  {
   "cell_type": "code",
   "execution_count": 17,
   "metadata": {},
   "outputs": [
    {
     "name": "stdout",
     "output_type": "stream",
     "text": [
      "for :  0\n",
      "for :  1\n",
      "for :  2\n",
      "while :  0\n",
      "while :  1\n",
      "while :  2\n",
      "2 - -> 7\n",
      "std - -> 1\n",
      "a - -> b\n",
      "2 - 7 - 1\n",
      "std - 8 - 2\n",
      "a - b - c\n"
     ]
    }
   ],
   "source": [
    "# for遍历\n",
    "l1 = list(range(3))\n",
    "for i in l1:\n",
    "    print(\"for : \",i)\n",
    "    \n",
    "'''\n",
    "for i in range(0,len(l1)):\n",
    "    print(\"for range(): \",l1[i])\n",
    "'''\n",
    "\n",
    "# while 下标\n",
    "index = 0\n",
    "while index < len(l1):\n",
    "    print(\"while : \",l1[index])\n",
    "    index += 1\n",
    "\n",
    "#双层列表、嵌套列表\n",
    "l2 = [[2,7],['std',1],['a','b']]\n",
    "l3 = [[2,7,1],['std',8,2],['a','b','c']]\n",
    "\n",
    "for k,v in l2:\n",
    "    print(k,'- ->',v)\n",
    "\n",
    "for k,v,i in l3:\n",
    "    print(k,'-',v,\"-\",i)"
   ]
  },
  {
   "cell_type": "markdown",
   "metadata": {},
   "source": [
    "### 成员检测"
   ]
  },
  {
   "cell_type": "code",
   "execution_count": 18,
   "metadata": {},
   "outputs": [
    {
     "name": "stdout",
     "output_type": "stream",
     "text": [
      "True\n",
      "False\n"
     ]
    }
   ],
   "source": [
    "l1 = [2,7,1,8,2,8]\n",
    "l2 = [3,1,4,1,5,9,2,6]\n",
    "print((7 in l1))\n",
    "print((7 in l2))"
   ]
  },
  {
   "cell_type": "markdown",
   "metadata": {},
   "source": [
    "## 字典(dict)\n",
    "\n",
    "- 字典是由花括号{}来包含其数据的，一个项包含键(key)和值(value)，键和值用冒号:隔开，项用逗号,隔开，空字典直接使用花括号{}表示。\n",
    "\n",
    "- 语法：\n",
    "```python\n",
    "      dict = {'name':'john','age':20,'sex':'male'}\n",
    "```\n",
    "- 键是一个唯一、不可变的数据类型"
   ]
  },
  {
   "cell_type": "code",
   "execution_count": 19,
   "metadata": {},
   "outputs": [
    {
     "name": "stdout",
     "output_type": "stream",
     "text": [
      "{}\n",
      "{}\n",
      "{'a': 1, 'b': 2, 'c': 3}\n",
      "{'one': 1, 'two': 2, 'three': 3}\n",
      "{'name': 'tom', 'age': 14}\n",
      "{'name': ['Mark', '14', '100'], 'age': ['Mark', '14', '100'], 'height': ['Mark', '14', '100']}\n"
     ]
    }
   ],
   "source": [
    "# 创建空字典\n",
    "d = {}\n",
    "print(d)\n",
    "d = dict()\n",
    "print(d)\n",
    "\n",
    "# 创建带值字典\n",
    "d = dict(a=1,b=2,c=3)\n",
    "print(d)\n",
    "d = dict( [('one',1),('two',2),('three',3)] )\n",
    "print(d)\n",
    "d = {'name':'tom','age':14}\n",
    "print(d)\n",
    "\n",
    "# fromkeys(seq[, value])创建一个新字典,以序列seq中元素做字典的键,val为字典**所有**键对应的初始值\n",
    "k = ['name','age','height']\n",
    "v = ['Mark','14','100']\n",
    "print(d.fromkeys(k,v))          #val为字典**所有**键对应的初始值\n",
    "\n",
    "# 从字典创建字典\n",
    "d1 = {'one':1,'two':2,'three':3,'four':4}\n",
    "d2 = {k:v for k,v in d1.items() if v % 2 == 0}\n",
    "\n",
    "\n"
   ]
  },
  {
   "cell_type": "code",
   "execution_count": 20,
   "metadata": {},
   "outputs": [
    {
     "name": "stdout",
     "output_type": "stream",
     "text": [
      "<class 'dict_items'>\n",
      "dict_items([('one', 1), ('two', 2), ('three', 3), ('four', 4)])\n",
      "<class 'dict_values'>\n",
      "dict_values([1, 2, 3, 4])\n",
      "None\n",
      "2333\n"
     ]
    }
   ],
   "source": [
    "# items() 返回字典的键值组成的元组格式(可迭代结构)\n",
    "d1 = {'one':1,'two':2,'three':3,'four':4}\n",
    "print(type(d1.items()))\n",
    "print(d1.items())\n",
    "# values() 返回字典的值组成的列表格式(可迭代结构)\n",
    "print(type(d1.values()))\n",
    "print(d1.values())\n",
    "#get 根据键值返回相应的值，可以设置默认值\n",
    "print(d1.get('zero'))\n",
    "print(d1.get('zero',2333))"
   ]
  },
  {
   "cell_type": "markdown",
   "metadata": {},
   "source": [
    "### 字典特征\n",
    "- 字典是无序序列，没有分片和索引\n",
    "- key唯一"
   ]
  },
  {
   "cell_type": "code",
   "execution_count": 21,
   "metadata": {},
   "outputs": [
    {
     "name": "stdout",
     "output_type": "stream",
     "text": [
      "name tom\n",
      "age 14\n",
      "height 100\n"
     ]
    }
   ],
   "source": [
    "# 访问字典\n",
    "d = {'name':'tom','age':14,'height':100}\n",
    "for k in d:\n",
    "    print(k, d[k])"
   ]
  },
  {
   "cell_type": "code",
   "execution_count": 22,
   "metadata": {},
   "outputs": [
    {
     "name": "stdout",
     "output_type": "stream",
     "text": [
      "更新字典 dict1 :  {'Name': 'tom', 'age': 14, 'phone': '555-5555', 'Sex': 'female'}\n"
     ]
    }
   ],
   "source": [
    "# update() ,该方法没有任何返回值。(无则添加，有则更新值)\n",
    "dict1 = {'Name': 'tom', 'age': 7,}\n",
    "dict2 = {'Sex': 'female', 'age':14 }\n",
    "dict1['phone'] = '555-5555'  # 可以直接添加\n",
    "\n",
    "dict1.update(dict2)\n",
    "print (\"更新字典 dict1 : \", dict1)"
   ]
  },
  {
   "cell_type": "code",
   "execution_count": 23,
   "metadata": {},
   "outputs": [
    {
     "name": "stdout",
     "output_type": "stream",
     "text": [
      "True\n",
      "False\n"
     ]
    }
   ],
   "source": [
    "# 成员检测 只能检测key值\n",
    "d = {'name':'tom','age':14,'height':100}\n",
    "print('name' in d)\n",
    "print(100 in d)"
   ]
  },
  {
   "cell_type": "markdown",
   "metadata": {},
   "source": [
    "- 键不可变\n",
    "\n",
    "- 添加项：\n",
    "\n",
    "　　变量名:[新添加的键名] = 新添加的键对应的值\n",
    "  \n",
    "- 修改项的值:\n",
    "\n",
    "　　变量名:[要修改的键名] = 新值\n",
    "\n",
    "- 删除项或值:\n",
    "\n",
    "| 操作 | 说明 |\n",
    "|:------------------|:-------|\n",
    "| del方法：          |   |  \n",
    "| del dictName[key] |删除键对应的值|\n",
    "| del dictName      |删除字典|\n",
    "| clear方法：        |    |\n",
    "| dictName.clear()  | 清空字典内容 |\n",
    "| dictName.items()           | 返回包含[(键,值),(键,值)]的元组列表   |\n",
    "|dictName.pop(key[,default]) | 删除字典给定键 key 所对应的值，返回值为被删除的值。key值必须给出。 否则，返回default值|\n",
    "|dictName.get(key[,default]) | 返回给定键 key 所对应的值key值必须给出。 否则，返回default值 |\n",
    "| dictName.popitem()         | 随机返回并删除字典中的一对键和值(一般删除末尾对)|\n",
    "| dictName.copy()            | 返回一个字典的浅复制|"
   ]
  },
  {
   "cell_type": "code",
   "execution_count": null,
   "metadata": {},
   "outputs": [],
   "source": []
  }
 ],
 "metadata": {
  "kernelspec": {
   "display_name": "Python 3",
   "language": "python",
   "name": "python3"
  },
  "language_info": {
   "codemirror_mode": {
    "name": "ipython",
    "version": 3
   },
   "file_extension": ".py",
   "mimetype": "text/x-python",
   "name": "python",
   "nbconvert_exporter": "python",
   "pygments_lexer": "ipython3",
   "version": "3.6.6"
  }
 },
 "nbformat": 4,
 "nbformat_minor": 2
}
