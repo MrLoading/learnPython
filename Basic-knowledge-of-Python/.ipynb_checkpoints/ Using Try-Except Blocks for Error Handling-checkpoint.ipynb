{
 "cells": [
  {
   "cell_type": "markdown",
   "metadata": {},
   "source": [
    "###  Using Try-Except Blocks for Error Handling\n",
    "```python\n",
    "            try:\n",
    "                pass\n",
    "            except Exception:\n",
    "                pass\n",
    "            else:\n",
    "                pass\n",
    "            finally:\n",
    "                pass\n",
    "```"
   ]
  },
  {
   "cell_type": "code",
   "execution_count": 2,
   "metadata": {},
   "outputs": [
    {
     "name": "stdout",
     "output_type": "stream",
     "text": [
      "[Errno 2] No such file or directory: 'test_file.text'\n",
      "EXecuting Finally ...\n"
     ]
    }
   ],
   "source": [
    "try:\n",
    "    f = open('test_file.text')\n",
    "except FileNotFoundError as e:\n",
    "    print(e)\n",
    "except Exception as e:\n",
    "    print(e)\n",
    "else:\n",
    "    print(f.read())\n",
    "    f.close\n",
    "finally:\n",
    "    print(\"EXecuting Finally ...\")"
   ]
  },
  {
   "cell_type": "code",
   "execution_count": 28,
   "metadata": {},
   "outputs": [
    {
     "name": "stdout",
     "output_type": "stream",
     "text": [
      "It's Tony!\n",
      "EXecuting Finally ...\n"
     ]
    }
   ],
   "source": [
    "import os\n",
    "\n",
    "class TonyException(Exception):\n",
    "      def __init__(self, err=\"It's Tony!\"):\n",
    "            Exception.__init__ (self, err)\n",
    "            \n",
    "\n",
    "try:\n",
    "    f = open('../tmp/new.tmp')\n",
    "    path, fname = os.path.split(f.name)\n",
    "    r = f.read()\n",
    "    \n",
    "    if r == 'Tony':\n",
    "        raise TonyException\n",
    "#     if fname == 'new.tmp':\n",
    "#         raise Exception(\"An Exception !\")\n",
    "    \n",
    "except FileNotFoundError as e:\n",
    "    print(e)\n",
    "except TonyException as e:\n",
    "    print(e)\n",
    "except Exception as e:\n",
    "    print(e)\n",
    "else:\n",
    "    print(r)\n",
    "    f.close\n",
    "finally:\n",
    "    print(\"EXecuting Finally ...\")"
   ]
  },
  {
   "cell_type": "code",
   "execution_count": null,
   "metadata": {},
   "outputs": [],
   "source": []
  }
 ],
 "metadata": {
  "kernelspec": {
   "display_name": "Python 3",
   "language": "python",
   "name": "python3"
  },
  "language_info": {
   "codemirror_mode": {
    "name": "ipython",
    "version": 3
   },
   "file_extension": ".py",
   "mimetype": "text/x-python",
   "name": "python",
   "nbconvert_exporter": "python",
   "pygments_lexer": "ipython3",
   "version": "3.6.6"
  }
 },
 "nbformat": 4,
 "nbformat_minor": 2
}
