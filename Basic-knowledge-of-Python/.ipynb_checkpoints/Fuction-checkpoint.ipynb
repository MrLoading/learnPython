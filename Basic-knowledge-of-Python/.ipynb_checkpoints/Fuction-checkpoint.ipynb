{
 "cells": [
  {
   "cell_type": "markdown",
   "metadata": {},
   "source": [
    "## 函数及其返回值\n",
    "- def来声明函数"
   ]
  },
  {
   "cell_type": "code",
   "execution_count": 2,
   "metadata": {},
   "outputs": [
    {
     "name": "stdout",
     "output_type": "stream",
     "text": [
      "done!\n",
      "小明's age is 10\n",
      "done!\n",
      "no_name's age is 14\n"
     ]
    }
   ],
   "source": [
    "# keep it Dry\n",
    "def my_function(age,name=\"no_name\"):\n",
    "    str = \"{1}'s age is {0}\".format(age,name)\n",
    "    print(\"done!\")\n",
    "    return str\n",
    "print(my_function(10,\"小明\"))\n",
    "print(my_function(14))"
   ]
  },
  {
   "cell_type": "markdown",
   "metadata": {},
   "source": [
    "### 收集参数\n",
    "- 把没有位置，不能定义的参数位置相对应的参数，放入一个特定的数据结构中\n",
    "- 语法\n",
    "``` python\n",
    "def func(*args):\n",
    "            func body\n",
    "            ...\n",
    "# 按照list使用方式访问args得到的参数\n",
    "# 调用：\n",
    "func(a1,a2,a3...)\n",
    "```\n",
    "- args约定俗成\n",
    "- 收集参数可以与其他参数共存"
   ]
  },
  {
   "cell_type": "code",
   "execution_count": 127,
   "metadata": {},
   "outputs": [
    {
     "name": "stdout",
     "output_type": "stream",
     "text": [
      "<class 'tuple'>\n",
      "小明 10 291 done!\n"
     ]
    }
   ],
   "source": [
    "def speak(*args):\n",
    "    print(type(args))\n",
    "    for item in args:\n",
    "        print(item,end=' ')\n",
    "    print(\"done!\")\n",
    "speak(\"小明\",10,0x123)"
   ]
  },
  {
   "cell_type": "markdown",
   "metadata": {},
   "source": [
    "#### 关键字收集参数\n",
    "- 把关键字按字典格式存入收集参数\n",
    "- 语法\n",
    "``` python\n",
    "        def func(**kwargs):\n",
    "            func body\n",
    "            ...\n",
    "        # 调用：\n",
    "        func(a1=b1,a2=b2,a3=b3...)\n",
    "```\n",
    "- kwargs约定俗成\n",
    "- 多余的关键字参数放入kwargs\n",
    "- 访问kwargs需要按照字典格式访问"
   ]
  },
  {
   "cell_type": "code",
   "execution_count": 128,
   "metadata": {
    "scrolled": true
   },
   "outputs": [
    {
     "name": "stdout",
     "output_type": "stream",
     "text": [
      "<class 'dict'>\n",
      "<class 'dict'>\n",
      "~!~!~!~!~!~!~!~!~!~!\n"
     ]
    }
   ],
   "source": [
    "def speak(**kwargs):\n",
    "    print(type(kwargs))\n",
    "#    pass\n",
    "speak(name=\"小明\",age=\"12\")\n",
    "str = {'age':'10','name':'小明'}\n",
    "speak(**str)\n",
    "#字符串重复10次\n",
    "print(\"~!\" * 10) "
   ]
  },
  {
   "cell_type": "markdown",
   "metadata": {},
   "source": [
    "#### 收集参数混合调用顺序\n",
    "\n",
    "- 收集参数，关键字参数，普通参数可混用\n",
    "- 使用规则：普通参数和关键字参数优先\n",
    "- 定义时基本原则是：先位置参数，默认参数，包裹位置tuple，包裹关键字dict 定义和**调用**都应遵循! **调用！！！**\n",
    "- 解包 **\\*list ** 和 **\\*\\*dict**"
   ]
  },
  {
   "cell_type": "code",
   "execution_count": 129,
   "metadata": {},
   "outputs": [
    {
     "name": "stdout",
     "output_type": "stream",
     "text": [
      "name:   小明\theight: 191\tage:    14\tnum:    1010\tdone!\n",
      "name:   小明\theight: 192\tage:    15\tnum:    1111\tdone!\n",
      "name:   小明\theight: 193\tage:    16\tnum:    1111\tdone!\n",
      "name:   小明\theight: 190\tage:    16\tnum:    1111\t2 3 4 5 name1 : xiaoming age1 : 20 done!\n",
      "name:   小明\theight: 193\tage:    1111\tnum:    16\thgfdg 543 786 rf name1 : xiaoming age1 : 20 done!\n"
     ]
    }
   ],
   "source": [
    "def speak(name,height,age=14,num=1010,*args,**kwargs):\n",
    "    print(\"name:  \",name,end='\\t')\n",
    "    print(\"height:\",height,end='\\t')\n",
    "    print(\"age:   \",age,end='\\t')\n",
    "    print(\"num:   \",num,end='\\t')\n",
    "    for item in args:\n",
    "        print(item,end=\" \")\n",
    "    for key in kwargs:\n",
    "        print(key,\":\",kwargs[key],end=\" \")\n",
    "    print(\"done!\")\n",
    "\n",
    "l = (\"hgfdg\",\"543\",\"786\",\"rf\")\n",
    "dict = {'name1':\"xiaoming\",'age1':20}\n",
    "speak(\"小明\",191)\n",
    "speak(\"小明\",192,15,1111)\n",
    "speak(\"小明\",193,num=1111,age=16)\n",
    "speak(\"小明\",190,16,1111,2,3,4,5,name1=\"xiaoming\",age1=\"20\")\n",
    "speak(\"小明\",193,1111,16,*l,**dict)\n",
    "#speak(\"小明\",190,age=16,num=1111,2,3,4,5,name1=\"xiaoming\",age1=\"20\")\n",
    "#SyntaxError: positional argument follows keyword argument"
   ]
  },
  {
   "cell_type": "markdown",
   "metadata": {},
   "source": [
    "## 递归函数\n",
    "-  递归资源消耗较大,Python递归层数限制：1000层左右\n",
    "- python通过setrecursionlimit(limit)函数来设置最大递归数\n",
    "- 过大的递归层数是会导致系统崩溃的"
   ]
  },
  {
   "cell_type": "code",
   "execution_count": 1,
   "metadata": {},
   "outputs": [],
   "source": [
    "x =  1\n",
    "def my_func():\n",
    "    global x\n",
    "    print(x)\n",
    "    x += 1\n",
    "    my_func()\n",
    "my_func()"
   ]
  },
  {
   "cell_type": "code",
   "execution_count": 6,
   "metadata": {},
   "outputs": [
    {
     "name": "stdout",
     "output_type": "stream",
     "text": [
      "f(5) =  5\n"
     ]
    }
   ],
   "source": [
    "def fibn(n):\n",
    "    if n == 1:\n",
    "        return 1\n",
    "    if n == 2:\n",
    "        return 1\n",
    "    return fibn(n-1) + fibn(n-2)\n",
    "print(\"f(5) = \",fibn(5))"
   ]
  },
  {
   "cell_type": "markdown",
   "metadata": {},
   "source": [
    "## 变量作用域"
   ]
  },
  {
   "cell_type": "markdown",
   "metadata": {},
   "source": [
    "## 函数文档\n",
    "- help(func)\n",
    "    - 语法：\n",
    "``` python\n",
    "             help(func)\n",
    "```\n",
    "- \\__doc__\n",
    "    - 语法：\n",
    "\n",
    "                func.\\__doc__\n"
   ]
  },
  {
   "cell_type": "code",
   "execution_count": 130,
   "metadata": {
    "scrolled": false
   },
   "outputs": [
    {
     "name": "stdout",
     "output_type": "stream",
     "text": [
      "Help on built-in function print in module builtins:\n",
      "\n",
      "print(...)\n",
      "    print(value, ..., sep=' ', end='\\n', file=sys.stdout, flush=False)\n",
      "    \n",
      "    Prints the values to a stream, or to sys.stdout by default.\n",
      "    Optional keyword arguments:\n",
      "    file:  a file-like object (stream); defaults to the current sys.stdout.\n",
      "    sep:   string inserted between values, default a space.\n",
      "    end:   string appended after the last value, default a newline.\n",
      "    flush: whether to forcibly flush the stream.\n",
      "\n",
      "----------------------------------------------------------------------\n"
     ]
    },
    {
     "data": {
      "text/plain": [
       "\"Forward raw_input to frontends\\n\\n        Raises\\n        ------\\n        StdinNotImplentedError if active frontend doesn't support stdin.\\n        \""
      ]
     },
     "execution_count": 130,
     "metadata": {},
     "output_type": "execute_result"
    }
   ],
   "source": [
    "help(print)\n",
    "print(\"-\" *70)\n",
    "input.__doc__"
   ]
  },
  {
   "cell_type": "markdown",
   "metadata": {},
   "source": [
    "#### 写函数文档的相关标准\n",
    "- 三引号字符串\n",
    "- 。。。。"
   ]
  },
  {
   "cell_type": "code",
   "execution_count": 134,
   "metadata": {
    "scrolled": true
   },
   "outputs": [
    {
     "name": "stdout",
     "output_type": "stream",
     "text": [
      "Help on function speak in module __main__:\n",
      "\n",
      "speak(name, age)\n",
      "    这是。。。自定义的函数。。。。它。。。。\n",
      "    :param name: 表示名称\n",
      "    :param age:  表示年龄\n",
      "    :return:     函数没有返回值\n",
      "\n",
      "----------------------------------------------------------------------\n"
     ]
    },
    {
     "data": {
      "text/plain": [
       "'\\n    这是。。。自定义的函数。。。。它。。。。\\n    :param name: 表示名称\\n    :param age:  表示年龄\\n    :return:     函数没有返回值\\n    '"
      ]
     },
     "execution_count": 134,
     "metadata": {},
     "output_type": "execute_result"
    }
   ],
   "source": [
    "def speak(name,age):\n",
    "    '''\n",
    "    这是。。。自定义的函数。。。。它。。。。\n",
    "    :param name: 表示名称\n",
    "    :param age:  表示年龄\n",
    "    :return:     函数没有返回值\n",
    "    '''\n",
    "    pass\n",
    "help(speak)\n",
    "print(\"-\" *70)\n",
    "speak.__doc__"
   ]
  },
  {
   "cell_type": "markdown",
   "metadata": {},
   "source": [
    "## globals()，locals()函数\n",
    "- 通过globals()，locals()显示出全局变量和局部变量"
   ]
  },
  {
   "cell_type": "code",
   "execution_count": 1,
   "metadata": {},
   "outputs": [
    {
     "name": "stdout",
     "output_type": "stream",
     "text": [
      "Local = {'z': 3, 'b': 6, 'a': 5}\n",
      "Global = {'__name__': '__main__', '__doc__': 'Automatically created module for IPython interactive environment', '__package__': None, '__loader__': None, '__spec__': None, '__builtin__': <module 'builtins' (built-in)>, '__builtins__': <module 'builtins' (built-in)>, '_ih': ['', 'x = 1\\ny = 2\\ndef func(a,b):\\n    z = 3\\n    print(\"Local = {0}\".format(locals()))\\n    print(\"Global = {0}\".format(globals()))\\nfunc(5,6)'], '_oh': {}, '_dh': ['D:\\\\MrLoding\\\\GitDocuments\\\\learnPython\\\\Basic-knowledge-of-Python'], 'In': ['', 'x = 1\\ny = 2\\ndef func(a,b):\\n    z = 3\\n    print(\"Local = {0}\".format(locals()))\\n    print(\"Global = {0}\".format(globals()))\\nfunc(5,6)'], 'Out': {}, 'get_ipython': <bound method InteractiveShell.get_ipython of <ipykernel.zmqshell.ZMQInteractiveShell object at 0x000002C2B5BB5DA0>>, 'exit': <IPython.core.autocall.ZMQExitAutocall object at 0x000002C2B5C116D8>, 'quit': <IPython.core.autocall.ZMQExitAutocall object at 0x000002C2B5C116D8>, '_': '', '__': '', '___': '', '_i': '', '_ii': '', '_iii': '', '_i1': 'x = 1\\ny = 2\\ndef func(a,b):\\n    z = 3\\n    print(\"Local = {0}\".format(locals()))\\n    print(\"Global = {0}\".format(globals()))\\nfunc(5,6)', 'x': 1, 'y': 2, 'func': <function func at 0x000002C2B5CFCD90>}\n"
     ]
    }
   ],
   "source": [
    "x = 1\n",
    "y = 2\n",
    "def func(a,b):\n",
    "    z = 3\n",
    "    print(\"Local = {0}\".format(locals()))\n",
    "    print(\"Global = {0}\".format(globals()))\n",
    "func(5,6)"
   ]
  },
  {
   "cell_type": "markdown",
   "metadata": {},
   "source": [
    "## eval()\n",
    "- 将字符串作为表达式计算结果\n",
    "- 语法：\n",
    "``` python\n",
    "        eval(expression, globals=None, locals=None)\n",
    "```"
   ]
  },
  {
   "cell_type": "code",
   "execution_count": 139,
   "metadata": {},
   "outputs": [
    {
     "name": "stdout",
     "output_type": "stream",
     "text": [
      "3\n"
     ]
    }
   ],
   "source": [
    "## eval()\n",
    "x = 1\n",
    "y = 2\n",
    "z = eval(\"x + y\")\n",
    "print(z)"
   ]
  },
  {
   "cell_type": "markdown",
   "metadata": {},
   "source": [
    "## exec()\n",
    "- 将字符串作为表达式计算结果 不返回结果\n",
    "- 语法：\n",
    "``` python\n",
    "        eval(expression, globals=None, locals=None)\n",
    "```"
   ]
  },
  {
   "cell_type": "code",
   "execution_count": 147,
   "metadata": {},
   "outputs": [
    {
     "name": "stdout",
     "output_type": "stream",
     "text": [
      "None\n",
      "x + y =  3\n"
     ]
    }
   ],
   "source": [
    "## exec()\n",
    "x = 1\n",
    "y = 2\n",
    "z = 0\n",
    "z = exec(\"x + y\")\n",
    "print(z)\n",
    "z = exec('print(\"x + y = \",x + y)')"
   ]
  },
  {
   "cell_type": "code",
   "execution_count": null,
   "metadata": {},
   "outputs": [],
   "source": []
  }
 ],
 "metadata": {
  "kernelspec": {
   "display_name": "Python 3",
   "language": "python",
   "name": "python3"
  },
  "language_info": {
   "codemirror_mode": {
    "name": "ipython",
    "version": 3
   },
   "file_extension": ".py",
   "mimetype": "text/x-python",
   "name": "python",
   "nbconvert_exporter": "python",
   "pygments_lexer": "ipython3",
   "version": "3.6.6"
  }
 },
 "nbformat": 4,
 "nbformat_minor": 2
}
