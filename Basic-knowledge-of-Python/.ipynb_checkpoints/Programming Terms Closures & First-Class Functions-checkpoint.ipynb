{
 "cells": [
  {
   "cell_type": "markdown",
   "metadata": {},
   "source": [
    "### How to Use Closure"
   ]
  },
  {
   "cell_type": "code",
   "execution_count": 10,
   "metadata": {},
   "outputs": [
    {
     "name": "stdout",
     "output_type": "stream",
     "text": [
      "Hi\n",
      "None\n"
     ]
    }
   ],
   "source": [
    "''' # P1\n",
    "    When we run this outer function 'outer_func()', \n",
    "    it executes the inner function 'inner_func()' and it\n",
    "    doesn't take any parameters. \n",
    "    Now the first thing it does is it comes in and assigins this\n",
    "    variable message with the value of 'Hi',\n",
    "    and then we have a inner function here.\n",
    "    This inner function doesn't take in any parameters either\n",
    "    and all it does is print the message variable.\n",
    "'''\n",
    "'''# P2\n",
    "    Now when our inner accesses this message variable, \n",
    "    this is actullywhat we called free variable(It's not \n",
    "    defined in the inner funtion).\n",
    "'''  \n",
    "'''# P3\n",
    "    We are executing this inner function and then \n",
    "    we are returning that(reutrn Nothing)\n",
    "'''\n",
    "def outer_func():       # P1\n",
    "    message = 'Hi'\n",
    "  \n",
    "    def inner_func():   # P2\n",
    "        print(message)\n",
    "        \n",
    "    return inner_func() # P3\n",
    "\n",
    "rtn = outer_func()        # Hi\n",
    "\n",
    "print(rtn)                # None"
   ]
  },
  {
   "cell_type": "code",
   "execution_count": 11,
   "metadata": {},
   "outputs": [
    {
     "name": "stdout",
     "output_type": "stream",
     "text": [
      "<function outer_func.<locals>.inner_func at 0x0000015D20619378>\n",
      "inner_func\n",
      "Hi\n",
      "Hi\n",
      "Hi\n"
     ]
    }
   ],
   "source": [
    "''' # P4\n",
    "    Let's do something different:\n",
    "    instead of executing this inner function and then returning it,\n",
    "    let's just returning the function without executing it.\n",
    "'''\n",
    "'''# P5\n",
    "    So, the 'my_func' variable here is actually a function now.\n",
    "    And it's equal to the 'inner_func' function,because that's \n",
    "    what we retruned\n",
    "'''\n",
    "def outer_func():\n",
    "    message = 'Hi'\n",
    "    \n",
    "    def inner_func():\n",
    "        print(message)\n",
    "        \n",
    "    return inner_func   # P4\n",
    "\n",
    "my_func = outer_func()  # P5\n",
    "\n",
    "print(my_func)\n",
    "print(my_func.__name__)\n",
    "\n",
    "my_func()\n",
    "my_func()\n",
    "my_func()"
   ]
  },
  {
   "cell_type": "markdown",
   "metadata": {},
   "source": [
    "This is kind of interesting because We redone with the execution of our outer function ,but the inner function that we returned stil has access to thatmessage variable that it's printing out.\n",
    "so thats what a closure is.\n",
    "\n",
    "        A closure is an Inner function that remembers and has access tovariables in the local scope in which it was created. Even after the outer_function has finished executing"
   ]
  },
  {
   "cell_type": "markdown",
   "metadata": {},
   "source": [
    "##### add parameters for our functions "
   ]
  },
  {
   "cell_type": "code",
   "execution_count": 12,
   "metadata": {},
   "outputs": [
    {
     "name": "stdout",
     "output_type": "stream",
     "text": [
      "Hi\n",
      "Hello\n"
     ]
    }
   ],
   "source": [
    "def outer_func(msg):\n",
    "    message = msg\n",
    "    \n",
    "    def inner_func():\n",
    "        print(message)\n",
    "        \n",
    "    return inner_func\n",
    "\n",
    "\n",
    "hi_func = outer_func('Hi')\n",
    "holle_func = outer_func('Hello')\n",
    "\n",
    "hi_func()\n",
    "holle_func()"
   ]
  },
  {
   "cell_type": "markdown",
   "metadata": {},
   "source": [
    "#### an example\n",
    "```javascript\n",
    "    function html_tag(tag){\n",
    "        function wrap_text(msg){\n",
    "            console.log('<' + tag + '>' + msg + '</' + tag + '>');\n",
    "        }\n",
    "        return wrap_text;\n",
    "    }\n",
    "\n",
    "    print_h1 = html_tag('h1');\n",
    "    print_p = html_tag('p');\n",
    "\n",
    "    print_h1('Test Headline !');  // <h1>Test Headline !</h1>\n",
    "    print_p('Test Paragraph !');  // <p>Test Paragraph !</p>\n",
    "```\n"
   ]
  },
  {
   "cell_type": "markdown",
   "metadata": {},
   "source": [
    "### First-Class Functions"
   ]
  },
  {
   "cell_type": "markdown",
   "metadata": {},
   "source": [
    "#### First-class function wiki\n",
    "    \n",
    "- In computer science, a programming language is said to have **first-class functions** if it treats functions as first-class citizens. Specifically, this means the language supports **passing functions as arguments** to other functions, **returning** them as the values from other functions, and **assigning** them to variables or **storing** them in data structures.\n",
    "- 在计算机科学中，如果一门编程语言把函数看做头等公民就可以这门语言支持头等函数。具体也就是说，函数能**像参数那样被传递**到另一个函数、从另一个函数那像值一样**被返回**出来、函数可以**赋值**给变量或者**储存**数据结构中。\n",
    "#### first-class citizens wiki\n",
    "\n",
    "- In programming language design, a first-class citizen (also object, entity, or value) in a given programming language is an entity which supports all the operations generally available to other entities. These operations typically include **being passed as a parameter, returned from a function, and assigned to a variable.**\n",
    "- 在编程语言设计中，给定编程语言中的一等公民（也是类型，对象，实体或价值）是支持通常可用于其他实体的所有操作的实体。这些操作通常包括**作为参数传递，从函数返回，修改并分配给变量**"
   ]
  },
  {
   "cell_type": "code",
   "execution_count": 15,
   "metadata": {},
   "outputs": [
    {
     "name": "stdout",
     "output_type": "stream",
     "text": [
      "[1, 4, 9, 16, 25]\n",
      "[1, 8, 27, 64, 125]\n"
     ]
    }
   ],
   "source": [
    "def square(x):\n",
    "    return x * x\n",
    "\n",
    "def cube(x):\n",
    "    return x * x * x\n",
    "\n",
    "def my_map(func, arg_list):\n",
    "    result = []\n",
    "    for i in arg_list:\n",
    "        result.append(func(i))\n",
    "    return result\n",
    "\n",
    "ls = [1, 2, 3, 4, 5]\n",
    "squares = my_map(square, ls)\n",
    "cubes = my_map(cube, ls)\n",
    "\n",
    "print(squares)\n",
    "print(cubes)"
   ]
  },
  {
   "cell_type": "code",
   "execution_count": 16,
   "metadata": {},
   "outputs": [
    {
     "name": "stdout",
     "output_type": "stream",
     "text": [
      "<function logger.<locals>.log_message at 0x0000015D206192F0>\n",
      "<function logger.<locals>.log_message at 0x0000015D206190D0>\n",
      "Log:  Hello\n",
      "Log:  Hi\n"
     ]
    }
   ],
   "source": [
    "def logger(msg):\n",
    "    def log_message():\n",
    "        print('Log: ', msg)\n",
    "    \n",
    "    return log_message\n",
    "\n",
    "log_hi = logger('Hi')\n",
    "log_hello = logger('Hello')\n",
    "\n",
    "print(log_hi)\n",
    "print(log_hello)\n",
    "\n",
    "log_hello()\n",
    "log_hi()"
   ]
  },
  {
   "cell_type": "code",
   "execution_count": null,
   "metadata": {},
   "outputs": [],
   "source": []
  }
 ],
 "metadata": {
  "kernelspec": {
   "display_name": "Python 3",
   "language": "python",
   "name": "python3"
  },
  "language_info": {
   "codemirror_mode": {
    "name": "ipython",
    "version": 3
   },
   "file_extension": ".py",
   "mimetype": "text/x-python",
   "name": "python",
   "nbconvert_exporter": "python",
   "pygments_lexer": "ipython3",
   "version": "3.6.6"
  }
 },
 "nbformat": 4,
 "nbformat_minor": 2
}
