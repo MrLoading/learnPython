{
 "cells": [
  {
   "cell_type": "markdown",
   "metadata": {},
   "source": [
    "###  1. regular reader &  regular writer"
   ]
  },
  {
   "cell_type": "code",
   "execution_count": 1,
   "metadata": {},
   "outputs": [
    {
     "name": "stdout",
     "output_type": "stream",
     "text": [
      "john-doe@bogusemail.com\n",
      "maryjacobsc@bogusemail.com\n",
      "davesmith@bogusemail.com\n",
      "janestuart@bogusemail.com\n",
      "tomwright@bogusemail.com\n",
      "steverobinson@bogusemail.com\n",
      "nicolejaco@bogusemail.com\n",
      "janewrighta@bogusemail.com\n",
      "ianedoea@bogusemail.com\n",
      "kurtwright@bogusemail.com\n",
      "kurrobinson@bogusemail.com\n",
      "janejenkins@bogusemail.com\n",
      "neiLrobinson@bogusemail.com\n",
      "tompattersone@bogusemail.com\n",
      "samjenkins@bogusemail.com\n",
      "stevestuart@bogusemail.com\n",
      "maggiepattersone@bogusemail.com\n",
      "maggiestuarte@bogusemail.com\n",
      "janedoeg@bogusemaiL.com\n",
      "stevepatterson@bogusemail.com\n",
      "davesmithe@bogusemail.com\n",
      "kurtjeffs@email.com\n",
      "samwilkse@bogusemail.com\n"
     ]
    }
   ],
   "source": [
    "import csv\n",
    "\n",
    "with open('../tmp/CSV_Files/names.csv', 'r') as csv_file:\n",
    "    csv_reader = csv.reader(csv_file)  # regular reader\n",
    "    \n",
    "    next(csv_reader)\n",
    "\n",
    "    for line in csv_reader:\n",
    "        print(line[2])"
   ]
  },
  {
   "cell_type": "code",
   "execution_count": 2,
   "metadata": {},
   "outputs": [],
   "source": [
    "\n",
    "# Using Ubuntu 18.04 Python 3.6\n",
    "import csv\n",
    "\n",
    "with open('../tmp/CSV_Files/names.csv', 'r') as csv_file:\n",
    "    csv_reader = csv.reader(csv_file)  # regular reader\n",
    "    \n",
    "    with open('../tmp/CSV_Files/new_names.csv', 'w') as new_file:\n",
    "        # regular writer\n",
    "        csv_writer = csv.writer(new_file, delimiter='\\t')  # Extra '\\n' at the end of each row on Windows.\n",
    "        \n",
    "        for line in csv_reader:\n",
    "            csv_writer.writerow(line)  "
   ]
  },
  {
   "cell_type": "code",
   "execution_count": 3,
   "metadata": {},
   "outputs": [
    {
     "name": "stdout",
     "output_type": "stream",
     "text": [
      "['firstname', 'lastname', 'email']\n",
      "['John', 'Doe', 'john-doe@bogusemail.com']\n",
      "['Mary', 'Smith-robinson', 'maryjacobsc@bogusemail.com']\n",
      "['Dave', 'Smith', 'davesmith@bogusemail.com']\n",
      "['Jane', 'Stuart', 'janestuart@bogusemail.com']\n",
      "['Tom', 'Wright', 'tomwright@bogusemail.com']\n",
      "['Steve', 'Robinson', 'steverobinson@bogusemail.com']\n",
      "['Nicole', 'Jacobs', 'nicolejaco@bogusemail.com']\n",
      "['Jane', 'Wright', 'janewrighta@bogusemail.com']\n",
      "['Jane', 'Doe', 'ianedoea@bogusemail.com']\n",
      "['Kurt', 'Wright', 'kurtwright@bogusemail.com']\n",
      "['Kurt', 'Robinson', 'kurrobinson@bogusemail.com']\n",
      "['Jane', 'Jenkins', 'janejenkins@bogusemail.com']\n",
      "['Neil', 'Robinson', 'neiLrobinson@bogusemail.com']\n",
      "['Tom', 'Patterson', 'tompattersone@bogusemail.com']\n",
      "['Sam', 'Jenkins', 'samjenkins@bogusemail.com']\n",
      "['Steve', 'Stuart', 'stevestuart@bogusemail.com']\n",
      "['Maggie', 'Patterson', 'maggiepattersone@bogusemail.com']\n",
      "['Maggie', 'Stuart', 'maggiestuarte@bogusemail.com']\n",
      "['Jane', 'Doe', 'janedoeg@bogusemaiL.com']\n",
      "['Steve', 'Patterson', 'stevepatterson@bogusemail.com']\n",
      "['Dave', 'Smith', 'davesmithe@bogusemail.com']\n",
      "['urt', 'Jefferson', 'kurtjeffs@email.com']\n",
      "['Sam', 'WiLks', 'samwilkse@bogusemail.com']\n"
     ]
    }
   ],
   "source": [
    "import csv\n",
    "\n",
    "with open('../tmp/CSV_Files/new_names.csv', 'r') as csv_file:\n",
    "    csv_reader = csv.reader(csv_file, delimiter='\\t')  # regular reader\n",
    "    for line in csv_reader:\n",
    "        print(line)"
   ]
  },
  {
   "cell_type": "markdown",
   "metadata": {},
   "source": [
    "### 2. dictionary reader & dictionary writer"
   ]
  },
  {
   "cell_type": "code",
   "execution_count": 4,
   "metadata": {},
   "outputs": [
    {
     "name": "stdout",
     "output_type": "stream",
     "text": [
      "OrderedDict([('firstname', 'John'), ('lastname', 'Doe'), ('email', 'john-doe@bogusemail.com')])\n",
      "OrderedDict([('firstname', 'Mary'), ('lastname', 'Smith-robinson'), ('email', 'maryjacobsc@bogusemail.com')])\n",
      "OrderedDict([('firstname', 'Dave'), ('lastname', 'Smith'), ('email', 'davesmith@bogusemail.com')])\n",
      "OrderedDict([('firstname', 'Jane'), ('lastname', 'Stuart'), ('email', 'janestuart@bogusemail.com')])\n",
      "OrderedDict([('firstname', 'Tom'), ('lastname', 'Wright'), ('email', 'tomwright@bogusemail.com')])\n",
      "OrderedDict([('firstname', 'Steve'), ('lastname', 'Robinson'), ('email', 'steverobinson@bogusemail.com')])\n",
      "OrderedDict([('firstname', 'Nicole'), ('lastname', 'Jacobs'), ('email', 'nicolejaco@bogusemail.com')])\n",
      "OrderedDict([('firstname', 'Jane'), ('lastname', 'Wright'), ('email', 'janewrighta@bogusemail.com')])\n",
      "OrderedDict([('firstname', 'Jane'), ('lastname', 'Doe'), ('email', 'ianedoea@bogusemail.com')])\n",
      "OrderedDict([('firstname', 'Kurt'), ('lastname', 'Wright'), ('email', 'kurtwright@bogusemail.com')])\n",
      "OrderedDict([('firstname', 'Kurt'), ('lastname', 'Robinson'), ('email', 'kurrobinson@bogusemail.com')])\n",
      "OrderedDict([('firstname', 'Jane'), ('lastname', 'Jenkins'), ('email', 'janejenkins@bogusemail.com')])\n",
      "OrderedDict([('firstname', 'Neil'), ('lastname', 'Robinson'), ('email', 'neiLrobinson@bogusemail.com')])\n",
      "OrderedDict([('firstname', 'Tom'), ('lastname', 'Patterson'), ('email', 'tompattersone@bogusemail.com')])\n",
      "OrderedDict([('firstname', 'Sam'), ('lastname', 'Jenkins'), ('email', 'samjenkins@bogusemail.com')])\n",
      "OrderedDict([('firstname', 'Steve'), ('lastname', 'Stuart'), ('email', 'stevestuart@bogusemail.com')])\n",
      "OrderedDict([('firstname', 'Maggie'), ('lastname', 'Patterson'), ('email', 'maggiepattersone@bogusemail.com')])\n",
      "OrderedDict([('firstname', 'Maggie'), ('lastname', 'Stuart'), ('email', 'maggiestuarte@bogusemail.com')])\n",
      "OrderedDict([('firstname', 'Jane'), ('lastname', 'Doe'), ('email', 'janedoeg@bogusemaiL.com')])\n",
      "OrderedDict([('firstname', 'Steve'), ('lastname', 'Patterson'), ('email', 'stevepatterson@bogusemail.com')])\n",
      "OrderedDict([('firstname', 'Dave'), ('lastname', 'Smith'), ('email', 'davesmithe@bogusemail.com')])\n",
      "OrderedDict([('firstname', 'urt'), ('lastname', 'Jefferson'), ('email', 'kurtjeffs@email.com')])\n",
      "OrderedDict([('firstname', 'Sam'), ('lastname', 'WiLks'), ('email', 'samwilkse@bogusemail.com')])\n"
     ]
    }
   ],
   "source": [
    "with open('../tmp/CSV_Files/names.csv', 'r') as csv_file:\n",
    "    csv_reader = csv.DictReader(csv_file)  # dictionary reader ： \n",
    "    for line in csv_reader:\n",
    "        print(line)"
   ]
  },
  {
   "cell_type": "code",
   "execution_count": 5,
   "metadata": {},
   "outputs": [
    {
     "name": "stdout",
     "output_type": "stream",
     "text": [
      "john-doe@bogusemail.com\n",
      "maryjacobsc@bogusemail.com\n",
      "davesmith@bogusemail.com\n",
      "janestuart@bogusemail.com\n",
      "tomwright@bogusemail.com\n",
      "steverobinson@bogusemail.com\n",
      "nicolejaco@bogusemail.com\n",
      "janewrighta@bogusemail.com\n",
      "ianedoea@bogusemail.com\n",
      "kurtwright@bogusemail.com\n",
      "kurrobinson@bogusemail.com\n",
      "janejenkins@bogusemail.com\n",
      "neiLrobinson@bogusemail.com\n",
      "tompattersone@bogusemail.com\n",
      "samjenkins@bogusemail.com\n",
      "stevestuart@bogusemail.com\n",
      "maggiepattersone@bogusemail.com\n",
      "maggiestuarte@bogusemail.com\n",
      "janedoeg@bogusemaiL.com\n",
      "stevepatterson@bogusemail.com\n",
      "davesmithe@bogusemail.com\n",
      "kurtjeffs@email.com\n",
      "samwilkse@bogusemail.com\n"
     ]
    }
   ],
   "source": [
    "with open('../tmp/CSV_Files/names.csv', 'r') as csv_file:\n",
    "    csv_reader = csv.DictReader(csv_file)  # dictionary reader\n",
    "    for line in csv_reader:\n",
    "        print(line['email'])"
   ]
  },
  {
   "cell_type": "code",
   "execution_count": 6,
   "metadata": {},
   "outputs": [],
   "source": [
    "\n",
    "# Using Ubuntu 18.04 Python 3.6\n",
    "import csv\n",
    "\n",
    "with open('../tmp/CSV_Files/names.csv', 'r') as csv_file:\n",
    "    csv_reader = csv.DictReader(csv_file)  # dictionary reader\n",
    "    \n",
    "    with open('../tmp/CSV_Files/new_DictW_names.csv', 'w') as new_DictW_file:\n",
    "        fieldnames = ['firstname', 'lastname']  # a list of field names，we won't the email\n",
    "        \n",
    "        csv_writer = csv.DictWriter(new_DictW_file, fieldnames=fieldnames, delimiter='\\t')\n",
    "        \n",
    "        csv_writer.writeheader()  # write out those field names as the first line\n",
    "        \n",
    "        for line in csv_reader:\n",
    "            del line['email']    # don't forget to delete email key & value\n",
    "            csv_writer.writerow(line)  "
   ]
  },
  {
   "cell_type": "code",
   "execution_count": null,
   "metadata": {},
   "outputs": [],
   "source": []
  }
 ],
 "metadata": {
  "kernelspec": {
   "display_name": "Python 3",
   "language": "python",
   "name": "python3"
  },
  "language_info": {
   "codemirror_mode": {
    "name": "ipython",
    "version": 3
   },
   "file_extension": ".py",
   "mimetype": "text/x-python",
   "name": "python",
   "nbconvert_exporter": "python",
   "pygments_lexer": "ipython3",
   "version": "3.6.5"
  }
 },
 "nbformat": 4,
 "nbformat_minor": 2
}
