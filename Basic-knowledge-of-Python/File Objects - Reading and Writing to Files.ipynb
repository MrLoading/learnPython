{
 "cells": [
  {
   "cell_type": "markdown",
   "metadata": {},
   "source": [
    "## File Objects - Reading and Writing to Files\n",
    "### 1. Reading File\n",
    "#### open file mode"
   ]
  },
  {
   "cell_type": "code",
   "execution_count": 40,
   "metadata": {},
   "outputs": [
    {
     "name": "stdout",
     "output_type": "stream",
     "text": [
      "../tmp/test.txt\n",
      "r\n"
     ]
    }
   ],
   "source": [
    "# open a file \n",
    "# r  ->  read\n",
    "# r+ ->  read & write\n",
    "# rb ->  read(bytes)\n",
    "# w  ->  write\n",
    "# w+ ->  read & write\n",
    "# wb ->  write(bytes)\n",
    "# a  ->  add (read only)\n",
    "# a+ ->  add (read & write)\n",
    "# \n",
    "# rt ->  read by text-mode(Windows only)\n",
    "# wt ->  write by text-mode(Windows only)\n",
    "# \n",
    "# in Python 3 , universal newline  (the translating between '\\n' and platform-specific newline conventions\n",
    "# so you don't have to care about them) \n",
    "# is available for text-mode files on any platform\n",
    "# for byte-mode, \n",
    "#  Windows : '\\r\\n'\n",
    "#  Linux/Unix : '\\n' \n",
    "#  Mac OS : '\\r'\n",
    "f = open('../tmp/test.txt', 'r')  # the file is already exists\n",
    "\n",
    "print(f.name)\n",
    "print(f.mode)\n",
    "f.close()"
   ]
  },
  {
   "cell_type": "markdown",
   "metadata": {},
   "source": [
    "#### context manager "
   ]
  },
  {
   "cell_type": "code",
   "execution_count": 1,
   "metadata": {},
   "outputs": [
    {
     "name": "stdout",
     "output_type": "stream",
     "text": [
      "r\n",
      "True\n"
     ]
    }
   ],
   "source": [
    "# context manager \n",
    "with open('../tmp/TXT_Files/test.txt', 'r') as f:\n",
    "    pass\n",
    "\n",
    "# now, the file will just be colsed after we exit the context manager\n",
    "# but we actually have access to this object variable\n",
    "print(f.mode)\n",
    "print(f.closed)"
   ]
  },
  {
   "cell_type": "code",
   "execution_count": 2,
   "metadata": {},
   "outputs": [
    {
     "name": "stdout",
     "output_type": "stream",
     "text": [
      "1) This is a test file!\n",
      "2) with multiple Lines of data...\n",
      "3) Third line\n",
      "4) Fourth line\n",
      "5) Fifth line\n",
      "6) Sixth line\n",
      "7) Seventh line\n",
      "8) Eighth line\n",
      "9) Ninth line\n",
      "10)Tenth line\n"
     ]
    }
   ],
   "source": [
    "with open('../tmp/TXT_Files/test.txt', 'r') as f:\n",
    "    f_contents = f.read()  # maybe memory warning\n",
    "    print(f_contents)"
   ]
  },
  {
   "cell_type": "markdown",
   "metadata": {},
   "source": [
    "#### size_to_read"
   ]
  },
  {
   "cell_type": "code",
   "execution_count": null,
   "metadata": {},
   "outputs": [],
   "source": [
    "with open('../tmp/TXT_Files/test.txt', 'r') as f:\n",
    "    print(\"# read the first 100 characters\")\n",
    "    f_contents = f.read(100)   # read the first 100 characters\n",
    "    print(f_contents)\n",
    "    \n",
    "    print(\"# read the next 100 characters\")\n",
    "    f_contents = f.read(100)   # remember character '\\n'\n",
    "    print(f_contents)\n"
   ]
  },
  {
   "cell_type": "code",
   "execution_count": 36,
   "metadata": {},
   "outputs": [
    {
     "name": "stdout",
     "output_type": "stream",
     "text": [
      "1) This is* a test fi*le!\n",
      "2) wit*h multiple* Lines of *data...\n",
      "3)* Third lin*e\n",
      "4) Fourt*h line\n",
      "5) *Fifth line*\n",
      "6) Sixth *line\n",
      "7) Se*venth line*\n",
      "8) Eighth* line\n",
      "9) N*inth line\n",
      "*10)Tenth l*ine*"
     ]
    }
   ],
   "source": [
    "with open('../tmp/TXT_Files/test.txt', 'r') as f:\n",
    "    \n",
    "    size_to_read = 10\n",
    "    \n",
    "    f_contents = f.read(size_to_read)\n",
    "    while len(f_contents) > 0:\n",
    "        print(f_contents, end='*')\n",
    "        f_contents = f.read(size_to_read)"
   ]
  },
  {
   "cell_type": "code",
   "execution_count": 20,
   "metadata": {},
   "outputs": [
    {
     "name": "stdout",
     "output_type": "stream",
     "text": [
      "['1) This is a test file!\\n', '2) with multiple Lines of data...\\n', '3) Third line\\n', '4) Fourth line\\n', '5) Fifth line\\n', '6) Sixth line\\n', '7) Seventh line\\n', '8) Eighth line\\n', '9) Ninth line\\n', '10)Tenth line']\n"
     ]
    }
   ],
   "source": [
    "with open('../tmp/TXT_Files/test.txt', 'r') as f:\n",
    "    f_contents = f.readlines()  # maybe memory warning\n",
    "    print(f_contents)"
   ]
  },
  {
   "cell_type": "code",
   "execution_count": 22,
   "metadata": {},
   "outputs": [
    {
     "name": "stdout",
     "output_type": "stream",
     "text": [
      "1) This is a test file!\n",
      "\n",
      "2) with multiple Lines of data...\n",
      "\n"
     ]
    }
   ],
   "source": [
    "with open('../tmp/TXT_Files/test.txt', 'r') as f:\n",
    "    f_contents = f.readlines()\n",
    "    print(f_contents)"
   ]
  },
  {
   "cell_type": "code",
   "execution_count": 23,
   "metadata": {},
   "outputs": [
    {
     "name": "stdout",
     "output_type": "stream",
     "text": [
      "1) This is a test file!\n",
      "\n",
      "2) with multiple Lines of data...\n",
      "\n",
      "3) Third line\n",
      "\n",
      "4) Fourth line\n",
      "\n",
      "5) Fifth line\n",
      "\n",
      "6) Sixth line\n",
      "\n",
      "7) Seventh line\n",
      "\n",
      "8) Eighth line\n",
      "\n",
      "9) Ninth line\n",
      "\n",
      "10)Tenth line\n"
     ]
    }
   ],
   "source": [
    "with open('../tmp/TXT_Files/test.txt', 'r') as f:\n",
    "    for line in f:\n",
    "        print(line)"
   ]
  },
  {
   "cell_type": "markdown",
   "metadata": {},
   "source": [
    "#### seek() , change the location to any location that you like"
   ]
  },
  {
   "cell_type": "code",
   "execution_count": 39,
   "metadata": {},
   "outputs": [
    {
     "name": "stdout",
     "output_type": "stream",
     "text": [
      "1) This is*1) This is*"
     ]
    }
   ],
   "source": [
    "with open('../tmp/TXT_Files/test.txt', 'r') as f:\n",
    "    \n",
    "    size_to_read = 10\n",
    "    \n",
    "    f_contents = f.read(size_to_read)\n",
    "    print(f_contents, end='*')\n",
    "    \n",
    "    f.seek(0)  # to start at the beginning of the file\n",
    "    \n",
    "    f_contents = f.read(size_to_read)\n",
    "    print(f_contents, end='*')"
   ]
  },
  {
   "cell_type": "markdown",
   "metadata": {},
   "source": [
    "### Writing File"
   ]
  },
  {
   "cell_type": "code",
   "execution_count": 43,
   "metadata": {},
   "outputs": [],
   "source": [
    "with open('../tmp/TXT_Files/test2.txt', 'w') as f:\n",
    "    f.write('Test')\n",
    "    f.seek(0)\n",
    "    f.write('R')\n",
    "#     size_to_read = 10\n",
    "    \n",
    "#     f_contents = f.read(size_to_read)\n",
    "#     print(f_contents, end='*')"
   ]
  },
  {
   "cell_type": "code",
   "execution_count": 47,
   "metadata": {},
   "outputs": [],
   "source": [
    "with open('../tmp/TXT_Files/test.txt', 'r') as rf:\n",
    "    with open('../tmp/TXT_Files/test_copy.txt', 'w') as wf:\n",
    "        for line in rf:\n",
    "            wf.write(line)\n",
    "\n",
    "\n",
    "with open('../tmp/Img_Files/python-logo.png', 'rb') as rf:\n",
    "    with open('../tmp/Img_Files/python-logo_copy.png', 'wb') as wf:\n",
    "        for line in rf:\n",
    "            wf.write(line)"
   ]
  },
  {
   "cell_type": "code",
   "execution_count": 50,
   "metadata": {},
   "outputs": [],
   "source": [
    "with open('../tmp/Img_Files/python-logo.png', 'rb') as rf:\n",
    "    with open('../tmp/Img_Files/python-logo_copy.png', 'wb') as wf:\n",
    "        chunk_size = 4096\n",
    "        rf_chunk = rf.read(chunk_size)\n",
    "        while len(rf_chunk) > 0:\n",
    "            wf.write(rf_chunk)\n",
    "            rf_chunk = rf.read(chunk_size)"
   ]
  },
  {
   "cell_type": "code",
   "execution_count": 53,
   "metadata": {},
   "outputs": [
    {
     "name": "stdout",
     "output_type": "stream",
     "text": [
      "\r\n",
      "\n"
     ]
    }
   ],
   "source": [
    "import os\n",
    "\n",
    "print(os.linesep)"
   ]
  },
  {
   "cell_type": "code",
   "execution_count": null,
   "metadata": {},
   "outputs": [],
   "source": []
  }
 ],
 "metadata": {
  "kernelspec": {
   "display_name": "Python 3",
   "language": "python",
   "name": "python3"
  },
  "language_info": {
   "codemirror_mode": {
    "name": "ipython",
    "version": 3
   },
   "file_extension": ".py",
   "mimetype": "text/x-python",
   "name": "python",
   "nbconvert_exporter": "python",
   "pygments_lexer": "ipython3",
   "version": "3.6.6"
  }
 },
 "nbformat": 4,
 "nbformat_minor": 2
}
