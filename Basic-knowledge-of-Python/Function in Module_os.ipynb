{
 "cells": [
  {
   "cell_type": "markdown",
   "metadata": {},
   "source": [
    "## Function in Module_os"
   ]
  },
  {
   "cell_type": "code",
   "execution_count": 1,
   "metadata": {},
   "outputs": [
    {
     "name": "stdout",
     "output_type": "stream",
     "text": [
      "['DirEntry', 'F_OK', 'MutableMapping', 'O_APPEND', 'O_BINARY', 'O_CREAT', 'O_EXCL', 'O_NOINHERIT', 'O_RANDOM', 'O_RDONLY', 'O_RDWR', 'O_SEQUENTIAL', 'O_SHORT_LIVED', 'O_TEMPORARY', 'O_TEXT', 'O_TRUNC', 'O_WRONLY', 'P_DETACH', 'P_NOWAIT', 'P_NOWAITO', 'P_OVERLAY', 'P_WAIT', 'PathLike', 'R_OK', 'SEEK_CUR', 'SEEK_END', 'SEEK_SET', 'TMP_MAX', 'W_OK', 'X_OK', '_Environ', '__all__', '__builtins__', '__cached__', '__doc__', '__file__', '__loader__', '__name__', '__package__', '__spec__', '_execvpe', '_exists', '_exit', '_fspath', '_get_exports_list', '_putenv', '_unsetenv', '_wrap_close', 'abc', 'abort', 'access', 'altsep', 'chdir', 'chmod', 'close', 'closerange', 'cpu_count', 'curdir', 'defpath', 'device_encoding', 'devnull', 'dup', 'dup2', 'environ', 'errno', 'error', 'execl', 'execle', 'execlp', 'execlpe', 'execv', 'execve', 'execvp', 'execvpe', 'extsep', 'fdopen', 'fsdecode', 'fsencode', 'fspath', 'fstat', 'fsync', 'ftruncate', 'get_exec_path', 'get_handle_inheritable', 'get_inheritable', 'get_terminal_size', 'getcwd', 'getcwdb', 'getenv', 'getlogin', 'getpid', 'getppid', 'isatty', 'kill', 'linesep', 'link', 'listdir', 'lseek', 'lstat', 'makedirs', 'mkdir', 'name', 'open', 'pardir', 'path', 'pathsep', 'pipe', 'popen', 'putenv', 'read', 'readlink', 'remove', 'removedirs', 'rename', 'renames', 'replace', 'rmdir', 'scandir', 'sep', 'set_handle_inheritable', 'set_inheritable', 'spawnl', 'spawnle', 'spawnv', 'spawnve', 'st', 'startfile', 'stat', 'stat_float_times', 'stat_result', 'statvfs_result', 'strerror', 'supports_bytes_environ', 'supports_dir_fd', 'supports_effective_ids', 'supports_fd', 'supports_follow_symlinks', 'symlink', 'sys', 'system', 'terminal_size', 'times', 'times_result', 'truncate', 'umask', 'uname_result', 'unlink', 'urandom', 'utime', 'waitpid', 'walk', 'write']\n"
     ]
    }
   ],
   "source": [
    "import os\n",
    "\n",
    "print(dir(os))\n",
    "# show all the attributes and methods"
   ]
  },
  {
   "cell_type": "markdown",
   "metadata": {},
   "source": [
    "#### get current working directory"
   ]
  },
  {
   "cell_type": "code",
   "execution_count": 9,
   "metadata": {},
   "outputs": [
    {
     "name": "stdout",
     "output_type": "stream",
     "text": [
      "D:\\MrLoding\\GitDocuments\\learnPython\\tmp\n"
     ]
    }
   ],
   "source": [
    "import os\n",
    "\n",
    "# get current working directory\n",
    "print(os.getcwd())"
   ]
  },
  {
   "cell_type": "markdown",
   "metadata": {},
   "source": [
    "#### change directory"
   ]
  },
  {
   "cell_type": "code",
   "execution_count": 5,
   "metadata": {},
   "outputs": [
    {
     "name": "stdout",
     "output_type": "stream",
     "text": [
      "D:\\MrLoding\\GitDocuments\\learnPython\\tmp\n"
     ]
    }
   ],
   "source": [
    "import os\n",
    "\n",
    "# change directory\n",
    "os.chdir('D:/MrLoding/GitDocuments/learnPython/tmp')\n",
    "print(os.getcwd())"
   ]
  },
  {
   "cell_type": "markdown",
   "metadata": {},
   "source": [
    "#### list directory"
   ]
  },
  {
   "cell_type": "code",
   "execution_count": 8,
   "metadata": {},
   "outputs": [
    {
     "name": "stdout",
     "output_type": "stream",
     "text": [
      "['CSV Files', 'CSV_Files', 'demo.txt', 'img', 'new.tmp', 'OSdemo', 'OSdemo2', 'test.txt', 'test2.txt', 'test_copy.txt', 'tmpfolder', 'TXT_Files']\n"
     ]
    }
   ],
   "source": [
    "# list directory->folders and files\n",
    "print(os.listdir())"
   ]
  },
  {
   "cell_type": "markdown",
   "metadata": {},
   "source": [
    "#### create   directory"
   ]
  },
  {
   "cell_type": "code",
   "execution_count": 7,
   "metadata": {},
   "outputs": [
    {
     "name": "stdout",
     "output_type": "stream",
     "text": [
      "['CSV Files', 'CSV_Files', 'demo.txt', 'img', 'new.tmp', 'OSdemo', 'OSdemo2', 'test.txt', 'test2.txt', 'test_copy.txt', 'tmpfolder', 'TXT_Files']\n"
     ]
    }
   ],
   "source": [
    "# create a top-level directory-> folder called OSdemo\n",
    "os.mkdir('OSdemo')\n",
    "# create a directory that's few levels deep\n",
    "# recursively create : Usually, it's safer than 'mkdir()'\n",
    "os.makedirs('OSdemo2/Sub-Dri')\n",
    "\n",
    "print(os.listdir())"
   ]
  },
  {
   "cell_type": "markdown",
   "metadata": {},
   "source": [
    "#### remove  directory"
   ]
  },
  {
   "cell_type": "code",
   "execution_count": 7,
   "metadata": {},
   "outputs": [
    {
     "name": "stdout",
     "output_type": "stream",
     "text": [
      "['demo.txt', 'img', 'new.tmp', 'test.txt', 'test2.txt', 'test_copy.txt', 'tmpfolder']\n"
     ]
    }
   ],
   "source": [
    "# remove a directory :will not remove the intermediate directories\n",
    "os.rmdir('OSdemo')\n",
    "# remove a directory :will remove the intermediate directories\n",
    "# recursively remove : Usually, it's more dangerous than 'rmdir()'\n",
    "os.removedirs('OSdemo2/Sub-Dri')\n",
    "\n",
    "print(os.listdir())"
   ]
  },
  {
   "cell_type": "markdown",
   "metadata": {},
   "source": [
    "#### get information about the files"
   ]
  },
  {
   "cell_type": "code",
   "execution_count": 16,
   "metadata": {},
   "outputs": [
    {
     "name": "stdout",
     "output_type": "stream",
     "text": [
      "os.stat_result(st_mode=33206, st_ino=2814749767131757, st_dev=1886866759, st_nlink=1, st_uid=0, st_gid=0, st_size=15, st_atime=1534867384, st_mtime=1534823964, st_ctime=1534823938)\n"
     ]
    }
   ],
   "source": [
    "# some information about the files\n",
    "print(os.stat('./TXT_Files/demo.txt'))"
   ]
  },
  {
   "cell_type": "code",
   "execution_count": 17,
   "metadata": {},
   "outputs": [
    {
     "name": "stdout",
     "output_type": "stream",
     "text": [
      "15\n",
      "1534823964.370846\n",
      "2018-08-21 11:59:24.370846\n"
     ]
    }
   ],
   "source": [
    "# file size -> byte\n",
    "print(os.stat('./TXT_Files/demo.txt').st_size)\n",
    "\n",
    "# last modification time -> a timestamp\n",
    "print(os.stat('./TXT_Files/demo.txt').st_mtime)\n",
    "\n",
    "# view this in an actual date time format\n",
    "from datetime import datetime\n",
    "mod_time = os.stat('./TXT_Files/demo.txt').st_mtime\n",
    "print(datetime.fromtimestamp(mod_time))"
   ]
  },
  {
   "cell_type": "markdown",
   "metadata": {},
   "source": [
    "#### walks through a directory"
   ]
  },
  {
   "cell_type": "code",
   "execution_count": 31,
   "metadata": {},
   "outputs": [
    {
     "name": "stdout",
     "output_type": "stream",
     "text": [
      "Current Path: D:\\MrLoding\\GitDocuments\\learnPython\\tmp\n",
      "Directories: ['OSdemo', 'OSdemo2', 'tmpfolder', 'TXT_Files']\n",
      "Files: []\n",
      "\n",
      "Current Path: D:\\MrLoding\\GitDocuments\\learnPython\\tmp\\OSdemo\n",
      "Directories: []\n",
      "Files: []\n",
      "\n",
      "Current Path: D:\\MrLoding\\GitDocuments\\learnPython\\tmp\\OSdemo2\n",
      "Directories: ['Sub-Dri']\n",
      "Files: []\n",
      "\n",
      "Current Path: D:\\MrLoding\\GitDocuments\\learnPython\\tmp\\OSdemo2\\Sub-Dri\n",
      "Directories: []\n",
      "Files: []\n",
      "\n",
      "Current Path: D:\\MrLoding\\GitDocuments\\learnPython\\tmp\\tmpfolder\n",
      "Directories: []\n",
      "Files: ['new2.tmp']\n",
      "\n",
      "Current Path: D:\\MrLoding\\GitDocuments\\learnPython\\tmp\\TXT_Files\n",
      "Directories: []\n",
      "Files: ['demo.txt']\n",
      "\n"
     ]
    }
   ],
   "source": [
    "\n",
    "for dirpath, dirnames, filenames in os.walk('D:\\MrLoding\\GitDocuments\\learnPython\\\\tmp'):\n",
    "    print('Current Path:', dirpath)\n",
    "    print('Directories:', dirnames)\n",
    "    print('Files:', filenames)\n",
    "    print()"
   ]
  },
  {
   "cell_type": "markdown",
   "metadata": {},
   "source": [
    "#### os.environ\n",
    "#### os.path"
   ]
  },
  {
   "cell_type": "code",
   "execution_count": 47,
   "metadata": {},
   "outputs": [
    {
     "name": "stdout",
     "output_type": "stream",
     "text": [
      "E:\\Program Files\\Java\\jdk-10\n",
      "E:\\Program Files\\Java\\jdk-10test.txt\n",
      "E:\\Program Files\\Java\\jdk-10\\test.txt\n",
      "test.txt\n",
      "/tmp\n",
      "('/tmp', 'test.txt')\n",
      "False\n",
      "False\n",
      "False\n",
      "('/tmp/test', '.txt')\n",
      "['__all__', '__builtins__', '__cached__', '__doc__', '__file__', '__loader__', '__name__', '__package__', '__spec__', '_get_bothseps', '_getfinalpathname', '_getfullpathname', '_getvolumepathname', 'abspath', 'altsep', 'basename', 'commonpath', 'commonprefix', 'curdir', 'defpath', 'devnull', 'dirname', 'exists', 'expanduser', 'expandvars', 'extsep', 'genericpath', 'getatime', 'getctime', 'getmtime', 'getsize', 'isabs', 'isdir', 'isfile', 'islink', 'ismount', 'join', 'lexists', 'normcase', 'normpath', 'os', 'pardir', 'pathsep', 'realpath', 'relpath', 'samefile', 'sameopenfile', 'samestat', 'sep', 'split', 'splitdrive', 'splitext', 'splitunc', 'stat', 'supports_unicode_filenames', 'sys']\n"
     ]
    }
   ],
   "source": [
    "# get environment variables\n",
    "import os\n",
    "\n",
    "print(os.environ.get('JAVA_HOME'))\n",
    "\n",
    "file_path = os.environ.get('JAVA_HOME') + 'test.txt'\n",
    "print(file_path)  # maybe missing a slash\n",
    "\n",
    "file_path = os.path.join(os.environ.get('JAVA_HOME'), 'test.txt')\n",
    "print(file_path)  # will not miss the slashes\n",
    "\n",
    "# show the base name/directory name of this entire path\n",
    "# the path doesn't have to be a real path\n",
    "print(os.path.basename('/tmp/test.txt'))\n",
    "print(os.path.dirname('/tmp/test.txt'))\n",
    "print(os.path.split('/tmp/test.txt'))\n",
    "\n",
    "# check the existence\n",
    "print(os.path.exists('/tmp/test.txt'))\n",
    "\n",
    "# check something is a directory or a file\n",
    "# if the path isn't exist, it will reurn False at all time \n",
    "print(os.path.isdir('/tmp/test.txt'))\n",
    "print(os.path.isfile('/tmp/test'))\n",
    "\n",
    "# split the file root and the extension\n",
    "print(os.path.splitext('/tmp/test.txt'))\n",
    "\n",
    "\n",
    "print(dir(os.path))"
   ]
  },
  {
   "cell_type": "code",
   "execution_count": null,
   "metadata": {},
   "outputs": [],
   "source": []
  }
 ],
 "metadata": {
  "kernelspec": {
   "display_name": "Python 3",
   "language": "python",
   "name": "python3"
  },
  "language_info": {
   "codemirror_mode": {
    "name": "ipython",
    "version": 3
   },
   "file_extension": ".py",
   "mimetype": "text/x-python",
   "name": "python",
   "nbconvert_exporter": "python",
   "pygments_lexer": "ipython3",
   "version": "3.6.6"
  }
 },
 "nbformat": 4,
 "nbformat_minor": 2
}
