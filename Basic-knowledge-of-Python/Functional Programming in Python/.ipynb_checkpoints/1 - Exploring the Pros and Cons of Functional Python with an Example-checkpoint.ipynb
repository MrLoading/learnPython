{
 "cells": [
  {
   "cell_type": "markdown",
   "metadata": {},
   "source": [
    "### 1. Explained functional programming and its( dis)advantages\n",
    "### 2. Understood the pro-statelessness, (lack of)side effects, and referential transparency\n",
    "### 3. Explored the pro-provability\n",
    "### 4. Discussed con-complexity and deep recursion, and con-poor match with human psychology"
   ]
  },
  {
   "cell_type": "markdown",
   "metadata": {},
   "source": [
    "## 1."
   ]
  },
  {
   "cell_type": "markdown",
   "metadata": {},
   "source": [
    "### Procedural Programing\n",
    "- Line by line excution\n",
    "- Heavy use of statements (for loop , if else....)\n",
    "- Heavy use of expressions\n",
    "- Long functions\n",
    "\n",
    "### Funtional Programingp\n",
    "- Little use of statements (no for loop...)\n",
    "- Heavy use of expressions\n",
    "- Single-line functions"
   ]
  },
  {
   "cell_type": "markdown",
   "metadata": {},
   "source": [
    "#### A procedural approach!\n",
    "- Functions generally consist of multiple statements\n",
    "    - Assignments\n",
    "    - If-statements\n",
    "    - While loops\n",
    "    - Elc.."
   ]
  },
  {
   "cell_type": "code",
   "execution_count": 12,
   "metadata": {},
   "outputs": [
    {
     "name": "stdout",
     "output_type": "stream",
     "text": [
      "Wellcome to the barely function calculator!\n",
      "Enter an integer:1\n",
      "Enter an operator('+', '-', '*', '/')*\n",
      "Enter an integer:2\n",
      "The result is : 2\n"
     ]
    },
    {
     "data": {
      "text/plain": [
       "2"
      ]
     },
     "execution_count": 12,
     "metadata": {},
     "output_type": "execute_result"
    }
   ],
   "source": [
    "OPERATORS = '+', '-', '*', '/'\n",
    "\n",
    "def p_mian():\n",
    "    \n",
    "    print(\"Wellcome to the barely function calculator!\")\n",
    "    number1 = p_get_number()\n",
    "    operator = p_get_oparetor()\n",
    "    number2 = p_get_number()\n",
    "    result = p_calculate(number1, operator, number2)\n",
    "    print('The result is : {}'.format(result))\n",
    "    return result\n",
    "\n",
    "def p_get_number():\n",
    "    while True:\n",
    "        s = input('Enter an integer:')\n",
    "        try:\n",
    "            return int(s)\n",
    "        except Valueerror:\n",
    "            print('That is not an integer!')\n",
    "\n",
    "def p_get_oparetor():\n",
    "    while True:\n",
    "        s = input(\"Enter an operator('+', '-', '*', '/')\")\n",
    "        if s in OPERATORS:\n",
    "            return s\n",
    "        print('That is not an operator!')\n",
    "\n",
    "def p_calculate(number1, operator, number2):\n",
    "    if operator == '+':\n",
    "        return number1 + number2\n",
    "    if operator == '-':\n",
    "        return number1 - number2\n",
    "    if operator == '*':\n",
    "        return number1 * number2\n",
    "    if operator == '/':\n",
    "        return number1 / number2\n",
    "    return 'Invalid operator!'\n",
    "\n",
    "p_mian()\n"
   ]
  },
  {
   "cell_type": "markdown",
   "metadata": {},
   "source": [
    "#### A functional approach\n",
    "- Functions consist of only one expression\n",
    "- How can we validate input? (One of the many things we will learn later"
   ]
  },
  {
   "cell_type": "code",
   "execution_count": 15,
   "metadata": {},
   "outputs": [
    {
     "name": "stdout",
     "output_type": "stream",
     "text": [
      "Enter an integer:5\n",
      "Enter an operator('+', '-', '*', '/')*\n",
      "Enter an integer:6\n",
      "The result is :  30\n"
     ]
    }
   ],
   "source": [
    "OPERATORS = '+', '-', '*', '/'\n",
    "\n",
    "def f_get_number():\n",
    "    return int(input('Enter an integer:'))\n",
    "\n",
    "\n",
    "def f_get_oparetor():\n",
    "    return input(\"Enter an operator('+', '-', '*', '/')\")\n",
    "\n",
    "\n",
    "def f_calculate(number1, operator, number2):\n",
    "    return number1+number2 if operator == '+' \\\n",
    "        else number1-number2 if operator == '-' \\\n",
    "        else number1*number2 if operator == '*'\\\n",
    "        else number1/number2 if operator == '/'\\\n",
    "        else None\n",
    "    \n",
    "\n",
    "def f_mian():\n",
    "    return f_calculate(\n",
    "    f_get_number(),\n",
    "    f_get_oparetor(),\n",
    "    f_get_number(),\n",
    "    )\n",
    " \n",
    "print('The result is : ', f_mian())"
   ]
  },
  {
   "cell_type": "markdown",
   "metadata": {},
   "source": [
    "## 2."
   ]
  },
  {
   "cell_type": "markdown",
   "metadata": {},
   "source": [
    "### State and statelessness\n",
    "- State\n",
    "    - Functions are not executed in a void\n",
    "    - There are global variables\n",
    "    - Objects with properties\n",
    "    - These are states\n",
    "    - Can influence how functions work\n",
    "- statelessness\n",
    "    - Always return the same result\n",
    "    - Given the same arguments\n",
    "    - Regardless of the program's state\n",
    "- wiki\n",
    "    - 在信息技术和计算机科学中 ，如果程序被设计为记住先前事件或用户交互，则程序被描述为有状态的; 记住的信息称为系统状态 。\n",
    "\n",
    "    - 系统可以占用的状态集称为其状态空间 。 在离散系统中 ，状态空间是可数的并且通常是有限的 ，系统的内部行为或与其环境的交互由单独发生的个体动作或事件组成，例如接受输入或产生输出，这可能会也可能不会导致系统改变它的状态。 这种系统的示例是数字逻辑电路和组件 ， 计算机程序和计算机 。 任何时候数字电路或计算机程序的输出完全取决于其当前输入和状态。\n",
    "    \n",
    "### Side effects\n",
    "- Function without Side Effect\n",
    "    - Do not change the program's state\n",
    "    - Related to but distinct from statelessness\n",
    "- wiki\n",
    "    - 在计算机科学中 ，如果函数或表达式修改其局部环境之外的某些状态，则称其具有副作用 ，也就是说除了返回值之外还具有与外部世界的可观察的交互。 特定函数的示例副作用可能包括修改非局部变量 ，修改静态局部变量 ，修改引用传递的可变参数，执行I / O或调用其他副作用函数。在存在副作用的情况下，程序的行为可能取决于历史; 也就是说，评估的顺序很重要。 理解和调试具有副作用的函数需要了解有关上下文及其可能的历史。\n",
    "\n",
    "    - 副作用是程序与外部世界（人，文件系统，网络上的其他计算机）交互的最常见方式。 使用副作用的程度取决于编程范例。 命令式编程因其频繁使用副作用而闻名。\n",
    "\n",
    "    - 在函数式编程中 ，很少使用副作用。 缺乏副作用使得更容易对程序进行正式验证 。 标准ML ， Scheme和Scala等功能语言不会限制副作用，但程序员习惯于避免它们。 函数语言Haskell使用monadic动作表示诸如I / O和其他有状态计算之类的副作用。\n",
    "    \n",
    "### Referential transparency\n",
    "- allows parallel execution\n",
    "\n",
    "- functions can be tested separately\n",
    "- wiki\n",
    "    - 参考透明度和参考不透明度是计算机程序部分的属性。 如果表达式可以替换为其相应的值而不更改程序的行为，则该表达式称为引用透明。这要求表达式是纯粹的 ，也就是说相同输入的表达式值必须相同，并且其评估必须没有副作用 。 不是引用透明的表达式称为引用不透明。\n",
    "\n",
    "    - 在数学中 ，通过定义构成数学函数的内容，所有函数应用都是参考透明的 。 然而，在编程中并非总是如此，其中术语过程和方法用于避免误导内涵。 在函数式编程中，仅考虑引用透明函数。 一些编程语言提供了保证引用透明性的方法。 一些函数式编程语言强制所有函数的引用透明性。\n",
    "\n",
    "    - 引用透明性的重要性在于它允许程序员和编译器将程序行为推理为重写系统 。 这有助于证明正确性 ，简化算法 ，协助修改代码而不破坏代码，或通过**记忆 ， 公共子表达式消除 ， 惰性求值或并行化**来优化代码。 "
   ]
  },
  {
   "cell_type": "markdown",
   "metadata": {},
   "source": [
    "### Stateless functions without side-effects always produce the same result\n",
    "Or: Referential transparency\n",
    "#### A stateful example\n",
    "Using global varables in functions is one example of relying on and modifying state."
   ]
  },
  {
   "cell_type": "code",
   "execution_count": 19,
   "metadata": {},
   "outputs": [
    {
     "name": "stdout",
     "output_type": "stream",
     "text": [
      "[John]Hello world\n",
      "[Carlos]Foobar!\n"
     ]
    }
   ],
   "source": [
    "current_speaker = None\n",
    "\n",
    "def register(name):\n",
    "    global current_speaker\n",
    "    current_speaker = name\n",
    "\n",
    "\n",
    "def speak(text):   # stateful\n",
    "    \n",
    "    print('[{}]{}'.format(current_speaker, text))\n",
    "\n",
    "\n",
    "register('John')\n",
    "speak('Hello world')\n",
    "register('Carlos')\n",
    "speak('Foobar!')"
   ]
  },
  {
   "cell_type": "markdown",
   "metadata": {},
   "source": [
    "#### Objects are also states\n",
    "- Objects are by definition,  states.Thereore methods(obect functions)are stateful."
   ]
  },
  {
   "cell_type": "code",
   "execution_count": 20,
   "metadata": {},
   "outputs": [
    {
     "name": "stdout",
     "output_type": "stream",
     "text": [
      "[John]Hello world\n",
      "[Carlos]Hello Foobar\n"
     ]
    }
   ],
   "source": [
    "class Speaker():\n",
    "    def __init__(self, name):\n",
    "        self.name =name\n",
    "    \n",
    "    def speak(self, text):\n",
    "        print('[{}]{}'.format(self.name, text))\n",
    "\n",
    "john = Speaker('John')\n",
    "john.speak('Hello world')\n",
    "Carlos = Speaker('Carlos')\n",
    "Carlos.speak('Hello Foobar')"
   ]
  },
  {
   "cell_type": "markdown",
   "metadata": {},
   "source": [
    "### Stateless functions are often trivial\n",
    "A stateless function relies only on\n",
    "- The arguments that have been passed to the function\n",
    "- Return values from other (stateless )functions\n",
    "The result is often a very simple function. But when was simplicity ever a bad thing?"
   ]
  },
  {
   "cell_type": "code",
   "execution_count": 2,
   "metadata": {},
   "outputs": [
    {
     "name": "stdout",
     "output_type": "stream",
     "text": [
      "[John] Hello world\n",
      "[Carlos] Foobar!\n"
     ]
    }
   ],
   "source": [
    "def speak(speaker, text):\n",
    "    \n",
    "    print('[{}] {}'.format(speaker, text))\n",
    "\n",
    "john = 'John'\n",
    "speak(john, 'Hello world')\n",
    "carlos = 'Carlos'\n",
    "speak(carlos, 'Foobar!')"
   ]
  },
  {
   "cell_type": "markdown",
   "metadata": {},
   "source": [
    "## 3."
   ]
  },
  {
   "cell_type": "markdown",
   "metadata": {},
   "source": [
    "### Unit Testing\n",
    "\n",
    "- Case-based testing\n",
    "    - Functions are tested with different kinds of input\n",
    "    - To see if they behave well\n",
    "    - But no guarantees\n",
    "\n",
    "### Provability\n",
    "\n",
    "- Mathematics\n",
    "    - Referential transparency allows formal provability\n",
    "    - Beautiful in theory,Difficult in practice\n",
    "\n",
    "\"Proving programs correct is largely impractical and not relevant to Python software\""
   ]
  },
  {
   "cell_type": "markdown",
   "metadata": {},
   "source": [
    "#### Pro: You can (at least in theory!)prove that your code is correct\n",
    "Functional programming is characterized by\n",
    "- Short functions\n",
    "- Referential transparency(return values are completely predictable based on arguments)\n",
    "\n",
    "These properties make it possible, in theory, to prove that functions do what they should do\n",
    "\n",
    "This contrasts with the traditional approach of testing functions on a case-by-base basis, or so-called unit testing"
   ]
  },
  {
   "cell_type": "code",
   "execution_count": 9,
   "metadata": {},
   "outputs": [],
   "source": [
    "import itertools\n",
    "\n",
    "def smile(l):\n",
    "    '''Takes a list of integers. For each integer (i), create\n",
    "    a list of smileys of length i. Then flatten this list and \n",
    "    return the result'''\n",
    "    \n",
    "    return list(itertools.chain(*[['😊']*i for i in l]))\n",
    "\n",
    " # [1, 2] → [['😊']， ['😊'， '😊']] → [['😊'， '😊'， '😊']]\n",
    "    "
   ]
  },
  {
   "cell_type": "markdown",
   "metadata": {},
   "source": [
    "#### Unit testing\n",
    "If we want to test if smile( ) works as it should, we can design a set of test cases. And then, for each of these test cases, we verify that the output matches our expectation, This is called unit testing\n",
    "\n",
    "Here I use simple assert statements: in real life, you would generally use some library designed specifically for unit testing, such as nose or Pythons built-in **unittest**"
   ]
  },
  {
   "cell_type": "code",
   "execution_count": 10,
   "metadata": {},
   "outputs": [
    {
     "name": "stdout",
     "output_type": "stream",
     "text": [
      "Start test\n",
      "Done\n"
     ]
    }
   ],
   "source": [
    "print('Start test')\n",
    "assert(smile([]) == [])\n",
    "assert(smile([0]) == [])\n",
    "assert(smile([1]) == ['😊'])\n",
    "assert(smile([1, 0, 2]) == ['😊', '😊', '😊'])\n",
    "print('Done')"
   ]
  },
  {
   "cell_type": "markdown",
   "metadata": {},
   "source": [
    "#### Provability\n",
    "But we can also look inside the function, and try to understand what it does. In this case, we can actually simplify the function a lot!\n",
    "\n",
    "l x a + l x b + l x c → l x (a+b+c)\n",
    "\n",
    "And now it's obvious that the function is correct.(And that the initial solution was unnecessarily complicated)"
   ]
  },
  {
   "cell_type": "code",
   "execution_count": 11,
   "metadata": {},
   "outputs": [
    {
     "name": "stdout",
     "output_type": "stream",
     "text": [
      "['😊', '😊', '😊']\n"
     ]
    }
   ],
   "source": [
    "def smile(l):\n",
    "    return ['😊'] * sum(l)\n",
    "\n",
    "print(smile([1, 2]))"
   ]
  },
  {
   "cell_type": "markdown",
   "metadata": {},
   "source": [
    "## 4."
   ]
  },
  {
   "cell_type": "markdown",
   "metadata": {},
   "source": [
    "### Recursion\n",
    "\n",
    "#### Con: Complexity and (overly)deep recursion\n",
    "Where procedural programming relies on loops, functional programming often relies on recursion\n",
    "#### A procedural approach\n",
    "Lets first consider a procedural implementation of the factorial(!)operation"
   ]
  },
  {
   "cell_type": "code",
   "execution_count": 1,
   "metadata": {},
   "outputs": [
    {
     "name": "stdout",
     "output_type": "stream",
     "text": [
      "2\n",
      "24\n"
     ]
    }
   ],
   "source": [
    "def p_factorial(n):\n",
    "    f = 1\n",
    "    for i in range(1, n+1):\n",
    "        f *= i\n",
    "    return f\n",
    "\n",
    "print(p_factorial(2))\n",
    "print(p_factorial(4))"
   ]
  },
  {
   "cell_type": "markdown",
   "metadata": {},
   "source": [
    "#### A functional approach"
   ]
  },
  {
   "cell_type": "code",
   "execution_count": 2,
   "metadata": {},
   "outputs": [
    {
     "name": "stdout",
     "output_type": "stream",
     "text": [
      "2\n",
      "24\n"
     ]
    }
   ],
   "source": [
    "def f_factorail(n):\n",
    "    \n",
    "    return 1 if n == 0 else n*f_factorail(n-1)\n",
    "\n",
    "print(p_factorial(2))\n",
    "print(p_factorial(4))"
   ]
  },
  {
   "cell_type": "markdown",
   "metadata": {},
   "source": [
    "### Meet Recursion Error\n",
    "- Python's maximum recursion depth\n",
    "The procedural and functional implementations are valid and identical. But the functional implementation is limited by Pythons maximum recursion depth of 1000 (around)!"
   ]
  },
  {
   "cell_type": "code",
   "execution_count": 3,
   "metadata": {},
   "outputs": [],
   "source": [
    "# p_factorial(5000)  # ok\n",
    "# f_factorail(5000)  # RecursionError: maximum recursion depth exceeded in comparison"
   ]
  },
  {
   "cell_type": "markdown",
   "metadata": {},
   "source": [
    "### Con: Functional programming doesn't(always) match how humans think\n",
    "#### Consider voting \n",
    "- Political voting has at least two actors: the voter and the politician. \n",
    "- Voting is an action of the voter; we don't think of being voting upon is an action of the politician. The politician that was voted upon is a property of the voter. The number of votes received is a property of the politician.\n",
    "- This logic can be beautifully encapsulated by object-oriented programming\n",
    "\n",
    "#### An object-oriented approach"
   ]
  },
  {
   "cell_type": "code",
   "execution_count": 7,
   "metadata": {},
   "outputs": [
    {
     "name": "stdout",
     "output_type": "stream",
     "text": [
      "Jean voted for Macron\n",
      "Macron received 1 vote(s)\n"
     ]
    }
   ],
   "source": [
    "class Voter:\n",
    "    def __init__(self, name):\n",
    "        self.name = name\n",
    "        self.woted_for = None\n",
    "    \n",
    "    def vote(self, politician):\n",
    "        \n",
    "        self.voted_for = politician\n",
    "        politician.votes += 1\n",
    "    \n",
    "    def __str__(self):\n",
    "        \n",
    "        return self.name\n",
    "\n",
    "\n",
    "class Politician:\n",
    "    \n",
    "    def __init__(self, name):\n",
    "        \n",
    "        self.name = name\n",
    "        self.votes = 0\n",
    "    \n",
    "    def __str__(self):\n",
    "        \n",
    "        return self.name\n",
    "\n",
    "\n",
    "macron = Politician('Macron')\n",
    "jean = Voter('Jean')\n",
    "jean.vote(macron)\n",
    "print('{} voted for {}'.format(jean, jean.voted_for))\n",
    "print('{} received {} vote(s)'.format(macron, macron.votes))\n",
    "        "
   ]
  },
  {
   "cell_type": "markdown",
   "metadata": {},
   "source": [
    "#### A functional approach\n",
    "- We can implement the same logic using purely functional programming. But the result is clunky, and less intuitive then the object oriented counterpart."
   ]
  },
  {
   "cell_type": "code",
   "execution_count": 15,
   "metadata": {},
   "outputs": [
    {
     "name": "stdout",
     "output_type": "stream",
     "text": [
      "Jean voted for Macron\n",
      "Macron received 1 vote(s)\n"
     ]
    }
   ],
   "source": [
    "def vote(voters, politicians, voter, politician):\n",
    "    \n",
    "    voters[voter] = politician\n",
    "    if politician in politicians:\n",
    "        politicians[politician] += 1\n",
    "    else:\n",
    "        politicians[politician] = 1\n",
    "    return voters, politicians\n",
    "\n",
    "\n",
    "def voted_for(voters, voter):\n",
    "    return '{} voted for {}'.format(voter, voters.get(voter, None))\n",
    "\n",
    "\n",
    "def votes(politicians, politician):\n",
    "    return '{} received {} vote(s)'.format(politician, politicians.get(politician, 0))\n",
    "\n",
    "voters, politicians = vote({}, {}, 'Jean', 'Macron')\n",
    "print(voted_for(voters, 'Jean'))\n",
    "print(votes(politicians, 'Macron'))"
   ]
  },
  {
   "cell_type": "code",
   "execution_count": null,
   "metadata": {},
   "outputs": [],
   "source": []
  }
 ],
 "metadata": {
  "kernelspec": {
   "display_name": "Python 3",
   "language": "python",
   "name": "python3"
  },
  "language_info": {
   "codemirror_mode": {
    "name": "ipython",
    "version": 3
   },
   "file_extension": ".py",
   "mimetype": "text/x-python",
   "name": "python",
   "nbconvert_exporter": "python",
   "pygments_lexer": "ipython3",
   "version": "3.6.6"
  }
 },
 "nbformat": 4,
 "nbformat_minor": 2
}
