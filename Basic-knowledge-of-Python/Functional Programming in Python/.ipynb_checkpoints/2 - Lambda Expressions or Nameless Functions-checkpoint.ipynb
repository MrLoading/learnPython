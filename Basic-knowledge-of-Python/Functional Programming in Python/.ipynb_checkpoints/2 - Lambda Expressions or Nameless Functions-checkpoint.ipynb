{
 "cells": [
  {
   "cell_type": "markdown",
   "metadata": {},
   "source": [
    "### 1. Difference between statements and expressions\n",
    "### 2. Explained lambda functions-functions without statements\n",
    "### 3. Discovered how 'and' and 'or' really work\n",
    "### 4. Stated 'if' expressions- conditional branching without statements"
   ]
  },
  {
   "cell_type": "markdown",
   "metadata": {},
   "source": [
    "## 1."
   ]
  },
  {
   "cell_type": "markdown",
   "metadata": {},
   "source": [
    "### Difference between statements and expressions"
   ]
  },
  {
   "cell_type": "markdown",
   "metadata": {},
   "source": [
    "#### Statements\n",
    "#### Assignment\n",
    "- Procedural programming relies heavily on assignments, which are statements."
   ]
  },
  {
   "cell_type": "code",
   "execution_count": 27,
   "metadata": {},
   "outputs": [],
   "source": [
    "x = 0\n",
    "x += 1"
   ]
  },
  {
   "cell_type": "markdown",
   "metadata": {},
   "source": [
    "### Conditional branching (if, elif, else)\n",
    "In procedural programming, branching is often implemented with 'If' statements, and the associated 'elif'' and 'else 'statements"
   ]
  },
  {
   "cell_type": "code",
   "execution_count": 28,
   "metadata": {},
   "outputs": [
    {
     "name": "stdout",
     "output_type": "stream",
     "text": [
      "0\n",
      "2\n"
     ]
    }
   ],
   "source": [
    "for x in range(2):\n",
    "    print(x*2)  # ..."
   ]
  },
  {
   "cell_type": "markdown",
   "metadata": {},
   "source": [
    "### Function, generator, and class definitions\n",
    "In procedural programming, functions and classes are defined using def and Class statements. return and yield are also statements"
   ]
  },
  {
   "cell_type": "code",
   "execution_count": 29,
   "metadata": {},
   "outputs": [],
   "source": [
    "class MyClass:\n",
    "    pass\n",
    "\n",
    "def my_function(x):\n",
    "    return x*2\n",
    "\n",
    "def my_generator(x):\n",
    "    yield x*2\n"
   ]
  },
  {
   "cell_type": "markdown",
   "metadata": {},
   "source": [
    "#### Expressions\n",
    "An expression is something that gives a value, and can be printed out. "
   ]
  },
  {
   "cell_type": "code",
   "execution_count": 30,
   "metadata": {},
   "outputs": [
    {
     "name": "stdout",
     "output_type": "stream",
     "text": [
      "20\n",
      "a\n",
      "[0, 2]\n"
     ]
    }
   ],
   "source": [
    "print(2 * 10)\n",
    "print('a')\n",
    "print([x*2 for x in range(2)])"
   ]
  },
  {
   "cell_type": "markdown",
   "metadata": {},
   "source": [
    "## 2."
   ]
  },
  {
   "cell_type": "markdown",
   "metadata": {},
   "source": [
    "### Lambda expressions\n",
    "- Lambda functions are Python's implementation of λ calculus\n",
    "- Expressions, not statements(unlike def)\n",
    "- Without a name"
   ]
  },
  {
   "cell_type": "markdown",
   "metadata": {},
   "source": [
    "#### A simple procedural function\n",
    "In procedural programming, functions are defined with def statements"
   ]
  },
  {
   "cell_type": "code",
   "execution_count": 32,
   "metadata": {},
   "outputs": [
    {
     "data": {
      "text/plain": [
       "1.4142135623730951"
      ]
     },
     "execution_count": 32,
     "metadata": {},
     "output_type": "execute_result"
    }
   ],
   "source": [
    "from math import sqrt\n",
    "\n",
    "def p_pythagoras(x, y):\n",
    "    \n",
    "    return sqrt(x**2 + y**2)\n",
    "\n",
    "p_pythagoras(1, 1)"
   ]
  },
  {
   "cell_type": "markdown",
   "metadata": {},
   "source": [
    "#### A simple Lambda function\n",
    "In functional programming, we can use Lambda expressions for the same purposes "
   ]
  },
  {
   "cell_type": "code",
   "execution_count": 33,
   "metadata": {},
   "outputs": [
    {
     "data": {
      "text/plain": [
       "1.4142135623730951"
      ]
     },
     "execution_count": 33,
     "metadata": {},
     "output_type": "execute_result"
    }
   ],
   "source": [
    "l_pythagoras = lambda x, y:sqrt(x**2 + y**2)\n",
    "l_pythagoras(1, 1)"
   ]
  },
  {
   "cell_type": "markdown",
   "metadata": {},
   "source": [
    "#### Recursion requires a name\n",
    "Functions created with Lambda expressions can be nameless. \n",
    "But for a function to call itself. it needs a name. In such cases, a def statement may be more intuitive"
   ]
  },
  {
   "cell_type": "code",
   "execution_count": 34,
   "metadata": {},
   "outputs": [
    {
     "data": {
      "text/plain": [
       "6"
      ]
     },
     "execution_count": 34,
     "metadata": {},
     "output_type": "execute_result"
    }
   ],
   "source": [
    "def f_factorail(n):\n",
    "    \n",
    "    return 1 if n== 0 else n*f_factorail(n-1)\n",
    "\n",
    "f_factorail(3)"
   ]
  },
  {
   "cell_type": "code",
   "execution_count": 35,
   "metadata": {},
   "outputs": [
    {
     "data": {
      "text/plain": [
       "6"
      ]
     },
     "execution_count": 35,
     "metadata": {},
     "output_type": "execute_result"
    }
   ],
   "source": [
    "l_factorail = lambda n: 1 if n == 0 else n*l_factorail(n-1)\n",
    "l_factorail(3)"
   ]
  },
  {
   "cell_type": "markdown",
   "metadata": {},
   "source": [
    "#### When lambda's are convenient\n",
    "Lambda expressions are very convenient if you quickly need a short function, for example to pass as an argument to map()or filter()"
   ]
  },
  {
   "cell_type": "code",
   "execution_count": 36,
   "metadata": {},
   "outputs": [
    {
     "data": {
      "text/plain": [
       "[0, 2, 4, 6, 8]"
      ]
     },
     "execution_count": 36,
     "metadata": {},
     "output_type": "execute_result"
    }
   ],
   "source": [
    "l = [0, 1, 2, 3, 4]\n",
    "list(map(lambda x:x*2, l ))"
   ]
  },
  {
   "cell_type": "markdown",
   "metadata": {},
   "source": [
    "## 3."
   ]
  },
  {
   "cell_type": "markdown",
   "metadata": {},
   "source": [
    "###  'and' and 'or'\n",
    "- How 'and' and 'or' really work\n",
    "- Using 'and' and 'or' as flow control\n",
    "- When not to use 'and' and 'or'"
   ]
  },
  {
   "cell_type": "markdown",
   "metadata": {},
   "source": [
    "#### 'and'\n",
    "1. Gives the **first value** that **isn't True**,The rest is not evaluated\n",
    "\n",
    "'1' and \n",
    "<font color=#FFCC33> '0' </font> ~~and '1' and  False~~\n",
    "\n",
    "2. Or the **last value** if all values are True\n",
    "\n",
    "'a' and True and 'b' and\n",
    "<font color=#FFCC33>'c'</font>"
   ]
  },
  {
   "cell_type": "markdown",
   "metadata": {},
   "source": [
    "#### 'or'\n",
    "1. Gives the **first value** that is **True**,The rest is not evaluated\n",
    "\n",
    "'' or 'a' or '' or 'b'\n",
    "\n",
    "2. Or the **last value** if all values are False\n",
    "\n",
    "() or {} or \n",
    "<font color=#FFCC33> []</font>"
   ]
  },
  {
   "cell_type": "markdown",
   "metadata": {},
   "source": [
    "\n",
    "- How Control 'and ' and 'or 'therefore control flow.\n",
    "Just like if statements\n",
    "\n",
    "- But be careful.\n",
    "This can result in hard-to-read code"
   ]
  },
  {
   "cell_type": "markdown",
   "metadata": {},
   "source": [
    "#### How do and and or really work?\n",
    "- Lets consider these two custom implementations of andand or."
   ]
  },
  {
   "cell_type": "code",
   "execution_count": 47,
   "metadata": {},
   "outputs": [],
   "source": [
    "def my_and(*values):\n",
    "    \n",
    "    '''An Implementation of and, which accepts a List of argument\n",
    "    and returns the first argument that is False or the last\n",
    "    argument if all arguments are True'''\n",
    "    \n",
    "    for value in values:\n",
    "        if not value:\n",
    "            return value\n",
    "    return value\n",
    "\n",
    "def my_or(*values):\n",
    "    \n",
    "    '''An implementation of 'or', which accepts a List of arguments \n",
    "    and returns the first argument that is True or the Last argument\n",
    "    if all arguments are False'''\n",
    "    \n",
    "    for value in values:\n",
    "        if value:\n",
    "            return value\n",
    "    return value"
   ]
  },
  {
   "cell_type": "markdown",
   "metadata": {},
   "source": [
    "Let's try a few testcases to see if  'my_and( )'  and  'my_or( )'   are really equivalent to  'and'  and  'or' ."
   ]
  },
  {
   "cell_type": "code",
   "execution_count": 48,
   "metadata": {},
   "outputs": [
    {
     "name": "stdout",
     "output_type": "stream",
     "text": [
      "a\n",
      "a\n",
      "True\n"
     ]
    }
   ],
   "source": [
    "print(my_or('', 'a', []))\n",
    "print('' or 'a' or [])\n",
    "print(my_or('', 'a', []) == ('' or 'a' or []))"
   ]
  },
  {
   "cell_type": "code",
   "execution_count": 50,
   "metadata": {},
   "outputs": [
    {
     "name": "stdout",
     "output_type": "stream",
     "text": [
      "c\n",
      "c\n",
      "False\n"
     ]
    }
   ],
   "source": [
    "print(my_and('a', 'b', 'c'))\n",
    "print('a' and 'b' and 'c')\n",
    "print(my_and('a', 'b', 'c') == ('a' and 'b' and 'b'))"
   ]
  },
  {
   "cell_type": "markdown",
   "metadata": {},
   "source": [
    "#### Flow contro\n",
    "But 'and' and 'or' have another important property, which our custom implementations do not have ; Not all arguments are even evaluated! This makes it possible to use 'and' and 'or' as flow control tools"
   ]
  },
  {
   "cell_type": "code",
   "execution_count": 56,
   "metadata": {},
   "outputs": [
    {
     "name": "stdout",
     "output_type": "stream",
     "text": [
      "False\n",
      "True\n"
     ]
    }
   ],
   "source": [
    "# We limit ourselves to vertebrates, and even then this is not biologically accurate!\n",
    "ANIMALS = 'mammal', 'reptile', 'amphibian', 'bird'\n",
    "EGG_LAYING_ANIMALS = 'reptile', 'amphibian', 'bird'\n",
    "is_animal = lambda animal: animal in ANIMALS\n",
    "animal_lays_eggs = lambda animal: animal in EGG_LAYING_ANIMALS\n",
    "\n",
    "lays_eggs = lambda thing:is_animal(thing) and animal_lays_eggs(thing)\n",
    "\n",
    "print(lays_eggs('animal'))\n",
    "print(lays_eggs('reptile'))"
   ]
  },
  {
   "cell_type": "markdown",
   "metadata": {},
   "source": [
    "## 4."
   ]
  },
  {
   "cell_type": "markdown",
   "metadata": {},
   "source": [
    "### 'if' expressions\n",
    "- Conditional branching without statements\n",
    "- The 'if' expression\n",
    "    - if' statements are statements\n",
    "    - Which cannot be used in lambda expressions\n",
    "    - But 'if' expressions can"
   ]
  },
  {
   "cell_type": "markdown",
   "metadata": {},
   "source": [
    "#### Conditional branching: The procedural way\n",
    "Consider a simple, procedural implementation of a function that translates grade points (8)to grade descriptions(good)"
   ]
  },
  {
   "cell_type": "code",
   "execution_count": 57,
   "metadata": {},
   "outputs": [
    {
     "data": {
      "text/plain": [
       "'good'"
      ]
     },
     "execution_count": 57,
     "metadata": {},
     "output_type": "execute_result"
    }
   ],
   "source": [
    "def p_grade_description(gp):\n",
    "    \n",
    "    '''Dutch grades range between 0 and 10'''\n",
    "    \n",
    "    if gp >7:\n",
    "        return 'good'\n",
    "    elif gp >5:\n",
    "        return 'sufficient'\n",
    "    return 'insufficient'\n",
    "\n",
    "p_grade_description(8)"
   ]
  },
  {
   "cell_type": "markdown",
   "metadata": {},
   "source": [
    "#### Conditional branching: The functional way\n",
    "A functional implementation of p grade description()makes use of the If expression"
   ]
  },
  {
   "cell_type": "code",
   "execution_count": 59,
   "metadata": {},
   "outputs": [
    {
     "data": {
      "text/plain": [
       "'good'"
      ]
     },
     "execution_count": 59,
     "metadata": {},
     "output_type": "execute_result"
    }
   ],
   "source": [
    "(lambda gp:'good' if gp > 7 else 'sufficient' if gp > 5 else 'insufficient')(8)"
   ]
  },
  {
   "cell_type": "markdown",
   "metadata": {},
   "source": [
    "### Concise readable code\n",
    "You can use if expressions in procedural code as well to implement concise, readable conditions."
   ]
  },
  {
   "cell_type": "code",
   "execution_count": 61,
   "metadata": {},
   "outputs": [
    {
     "name": "stdout",
     "output_type": "stream",
     "text": [
      "female\n"
     ]
    }
   ],
   "source": [
    "gender_code = 1\n",
    "gender = 'female' if gender_code else 'male'\n",
    "\n",
    "print(gender)"
   ]
  },
  {
   "cell_type": "code",
   "execution_count": null,
   "metadata": {},
   "outputs": [],
   "source": []
  }
 ],
 "metadata": {
  "kernelspec": {
   "display_name": "Python 3",
   "language": "python",
   "name": "python3"
  },
  "language_info": {
   "codemirror_mode": {
    "name": "ipython",
    "version": 3
   },
   "file_extension": ".py",
   "mimetype": "text/x-python",
   "name": "python",
   "nbconvert_exporter": "python",
   "pygments_lexer": "ipython3",
   "version": "3.6.6"
  }
 },
 "nbformat": 4,
 "nbformat_minor": 2
}
