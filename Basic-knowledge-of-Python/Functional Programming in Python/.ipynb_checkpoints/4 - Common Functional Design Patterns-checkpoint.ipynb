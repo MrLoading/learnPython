{
 "cells": [
  {
   "cell_type": "markdown",
   "metadata": {},
   "source": [
    "### 1. Currying\n",
    "### 2. Monads\n",
    "### 3. Memoization"
   ]
  },
  {
   "cell_type": "markdown",
   "metadata": {},
   "source": [
    "## 1."
   ]
  },
  {
   "cell_type": "markdown",
   "metadata": {},
   "source": [
    "#### Lets take a simple function\n",
    "Most functions, even simple ones, take multiple arguments"
   ]
  },
  {
   "cell_type": "code",
   "execution_count": 17,
   "metadata": {},
   "outputs": [
    {
     "name": "stdout",
     "output_type": "stream",
     "text": [
      "1110\n"
     ]
    }
   ],
   "source": [
    "def add(a, b, c):\n",
    "    \n",
    "    return a + b + c\n",
    "\n",
    "print(add(10,100, 1000))"
   ]
  },
  {
   "cell_type": "markdown",
   "metadata": {
    "slideshow": {
     "slide_type": "-"
    }
   },
   "source": [
    "### Binding function arguments\n",
    "- But we can bind arguments to a function, so that we end up with a function that takes one argument less than the original function. This is done with functools.partial()"
   ]
  },
  {
   "cell_type": "code",
   "execution_count": 4,
   "metadata": {},
   "outputs": [
    {
     "name": "stdout",
     "output_type": "stream",
     "text": [
      "1110\n"
     ]
    }
   ],
   "source": [
    "from functools import partial\n",
    "\n",
    "def add(a, b, c):\n",
    "    \n",
    "    return a + b + c\n",
    "\n",
    "add_10 = partial(add, 10)\n",
    "add_10_100 = partial(add_10, 100)\n",
    "print(add_10_100(1000))"
   ]
  },
  {
   "cell_type": "markdown",
   "metadata": {},
   "source": [
    "### Currying\n",
    "- Currying is a specific kind of argument binding, in which we create a sequence of functions that each take exactly one argument. \n",
    "- In Python, you can implement this elegantly with a decorator"
   ]
  },
  {
   "cell_type": "code",
   "execution_count": 9,
   "metadata": {},
   "outputs": [
    {
     "name": "stdout",
     "output_type": "stream",
     "text": [
      "<function curry.<locals>.inner at 0x000001606D39F620>\n",
      "1110\n",
      "<function curry.<locals>.inner at 0x000001606D39F7B8>\n"
     ]
    }
   ],
   "source": [
    "from inspect import signature\n",
    "\n",
    "def curry(fnc):\n",
    "    \n",
    "    def inner(arg):\n",
    "        \n",
    "        if len(signature(fnc).parameters) == 1:\n",
    "            return fnc(arg)\n",
    "        return curry(partial(fnc, arg))\n",
    "    \n",
    "    return inner\n",
    "\n",
    "@curry\n",
    "def add(a, b, c):\n",
    "    \n",
    "    return a + b + c\n",
    "\n",
    "add_10 = add(10)\n",
    "print(add_10)\n",
    "add_10_100 = add_10(100)\n",
    "print(add_10_100(1000))\n",
    "print(add_10_100)"
   ]
  },
  {
   "cell_type": "markdown",
   "metadata": {},
   "source": [
    "## 2."
   ]
  },
  {
   "cell_type": "markdown",
   "metadata": {},
   "source": [
    "### Monads"
   ]
  },
  {
   "cell_type": "markdown",
   "metadata": {},
   "source": [
    "- nan -- (not a number)\n",
    "    - Is a special numeric value Any operation on **nan** returns **nan**\n",
    "    - **nan** × 1 = **nan**\n",
    "    - **nan** overrides operations\n",
    "- Maybe  -- (Just or Nothing)\n",
    "    - The **Maybe monad** is like **nan**\n",
    "    - Two kinds of values\n",
    "        - Normal values ( Just)\n",
    "        - Invalid values ( Nothing)\n",
    "    - Any function applied to Nothing returns Nothing\n",
    "- List  -- [1, 2, 3]\n",
    "    - The **List monad** defines a series of values\n",
    "    - Any function applied to a List monad , Is applied to each element\n",
    "    - The result is a new List monad"
   ]
  },
  {
   "cell_type": "markdown",
   "metadata": {},
   "source": [
    "Let's start with some functions,camelcase(), which transform \" a string Like this\" into\"AStringLikeThis\""
   ]
  },
  {
   "cell_type": "code",
   "execution_count": 11,
   "metadata": {},
   "outputs": [
    {
     "name": "stdout",
     "output_type": "stream",
     "text": [
      "SomeFunction\n"
     ]
    }
   ],
   "source": [
    "def camelcase(s):\n",
    "    \n",
    "    return ''.join([w.capitalize() for x in s.split('_')])\n",
    "\n",
    "print(camelcase('some_function'))"
   ]
  },
  {
   "cell_type": "markdown",
   "metadata": {},
   "source": [
    "### The Maybe monad\n",
    "The Maybe monad consists of two kinds of data, which are typically called Just and Nothing. They both behave very simply:\n",
    "- When a function is bound to a Just value the function is simply executed and the result is stored in a new Just value\n",
    "- When a function is bound to a Nothing value, the function is bypassed and Nothing is returned right away.\n",
    "- In addition, when a function generates an error, it returns a Nothing value\n",
    "See how similar this is to nan behavior?"
   ]
  },
  {
   "cell_type": "code",
   "execution_count": null,
   "metadata": {
    "collapsed": true
   },
   "outputs": [],
   "source": [
    "class Just:\n",
    "    \n",
    "    def __init__(self, value):\n",
    "        \n",
    "        self._value = value\n",
    "        \n",
    "    def bind(self, fnc):\n",
    "        \n",
    "        try:\n",
    "            return Just(fnc(self._value))\n",
    "        except:\n",
    "            return Nothing()\n",
    "    def __repr__(self):\n",
    "        \n",
    "        return self._value\n",
    "\n",
    "\n",
    "class Nothing:\n",
    "    \n",
    "    def bind(self, fnc):\n",
    "        \n",
    "        return Nothing()\n",
    "    \n",
    "    def __repr__(self):\n",
    "        \n",
    "        return 'Nothing'\n",
    "\n",
    "\n",
    "print(Just('some_function').bind(camelcase))\n",
    "print(Nothing().bind(camelcase))\n",
    "print(Just(10).bind(camelcase))"
   ]
  },
  {
   "cell_type": "markdown",
   "metadata": {},
   "source": [
    "### The List monad\n",
    "The List monad stores a list of values. When it is bound to a function each value is passed onto the function separately, and the result is stored as another List"
   ]
  },
  {
   "cell_type": "code",
   "execution_count": 19,
   "metadata": {},
   "outputs": [
    {
     "data": {
      "text/plain": [
       "['SomeText', 'MoreTexxt']"
      ]
     },
     "execution_count": 19,
     "metadata": {},
     "output_type": "execute_result"
    }
   ],
   "source": [
    "class List:\n",
    "    \n",
    "    def __init__(self, values):\n",
    "        \n",
    "        self._values = values\n",
    "    \n",
    "    def bind(self, fnc):\n",
    "        \n",
    "        return List([fnc(value) for value in self._values])\n",
    "    \n",
    "    def __repr__(self):\n",
    "        \n",
    "        return str(self._values)\n",
    "    \n",
    "    \n",
    "List(['some_text', 'more_texxt']).bind(camelcase)"
   ]
  },
  {
   "cell_type": "markdown",
   "metadata": {},
   "source": [
    "## 3."
   ]
  },
  {
   "cell_type": "markdown",
   "metadata": {},
   "source": [
    "### Memoization  --  (Remember me!)\n",
    "- Referential transparency\n",
    "- Return values depend only on arguments\n",
    "- Once a return value has been determined\n",
    "- A function never needs to be called again\n",
    "- That's memoization!"
   ]
  },
  {
   "cell_type": "markdown",
   "metadata": {},
   "source": [
    "- all (iterable)\n",
    "    - Return True if all elements of the iterable are true (or if the iterable is empty). "
   ]
  },
  {
   "cell_type": "markdown",
   "metadata": {},
   "source": [
    "##### Aome expensive function\n",
    "- Let's consider a function that can take a long time to execute"
   ]
  },
  {
   "cell_type": "code",
   "execution_count": 32,
   "metadata": {},
   "outputs": [
    {
     "name": "stdout",
     "output_type": "stream",
     "text": [
      "999983\n",
      "Took 2.5840938091278076 s\n",
      "999983\n",
      "Took 2.3856167793273926 s\n",
      "99991\n",
      "Took 0.0937502384185791 s\n",
      "99991\n",
      "Took 0.09075593948364258 s\n"
     ]
    }
   ],
   "source": [
    "import time\n",
    "\n",
    "def prime(n):\n",
    "    \n",
    "    for i in range(n, 0, -1):\n",
    "        if all([i // x != i / x for x in range(i-1, 1, -1)]):\n",
    "            print(i)\n",
    "            return i\n",
    "\n",
    "def timer(func, arg):\n",
    "    \n",
    "    t0 = time.time()\n",
    "    func(arg)\n",
    "    t1 = time.time()\n",
    "    \n",
    "    return  t1-t0\n",
    "\n",
    "print('Took {} s'.format(timer(prime, 1000000)))\n",
    "print('Took {} s'.format(timer(prime, 1000000)))\n",
    "print('Took {} s'.format(timer(prime, 99999)))\n",
    "print('Took {} s'.format(timer(prime, 99999)))"
   ]
  },
  {
   "cell_type": "markdown",
   "metadata": {},
   "source": [
    "#### Caching \n",
    "- We can speed up function calls by storing the result in a cache"
   ]
  },
  {
   "cell_type": "code",
   "execution_count": 37,
   "metadata": {},
   "outputs": [
    {
     "name": "stdout",
     "output_type": "stream",
     "text": [
      "Took 2.5083281993865967 s\n",
      "Took 0.0 s\n",
      "Took 0.10275721549987793 s\n",
      "Took 0.0 s\n"
     ]
    }
   ],
   "source": [
    "cache = {}\n",
    "\n",
    "def cache_prime(n):\n",
    "    \n",
    "    if n in cache:\n",
    "        return cache[n]\n",
    "    for i in range(n, 0, -1):\n",
    "        if all([i // x != i / x for x in range(i-1, 1, -1)]):\n",
    "            cache[n] = i\n",
    "            return i\n",
    "        \n",
    "        \n",
    "print('Took {} s'.format(timer(cache_prime, 1000000)))\n",
    "print('Took {} s'.format(timer(cache_prime, 1000000)))\n",
    "print('Took {} s'.format(timer(cache_prime, 99999)))\n",
    "print('Took {} s'.format(timer(cache_prime, 99999)))"
   ]
  },
  {
   "cell_type": "markdown",
   "metadata": {},
   "source": [
    "#### Memoization\n",
    "- Memoization is a type of caching in which return values are stored for specific arguments. Therefore, the implementation above is an example of memoization. But it can be implemented more elegantly using a decorator!"
   ]
  },
  {
   "cell_type": "code",
   "execution_count": 38,
   "metadata": {},
   "outputs": [
    {
     "name": "stdout",
     "output_type": "stream",
     "text": [
      "Took 2.606009006500244 s\n",
      "Took 0.0 s\n",
      "Took 0.10073041915893555 s\n",
      "Took 0.0 s\n"
     ]
    }
   ],
   "source": [
    "def memoize(fnc):\n",
    "    \n",
    "    cache = {}\n",
    "    \n",
    "    def inner(*args):\n",
    "        \n",
    "        if args in cache:\n",
    "            return cache[args]\n",
    "        cache[args] = fnc(*args)\n",
    "        return cache[args]\n",
    "    \n",
    "    return inner\n",
    "\n",
    "\n",
    "@memoize\n",
    "def memoized_prime(n):\n",
    "\n",
    "    for i in range(n, 0, -1):\n",
    "        if all([i // x != i / x for x in range(i-1, 1, -1)]):\n",
    "            return i\n",
    "\n",
    "        \n",
    "print('Took {} s'.format(timer(memoized_prime, 1000000)))\n",
    "print('Took {} s'.format(timer(memoized_prime, 1000000)))\n",
    "print('Took {} s'.format(timer(memoized_prime, 99999)))\n",
    "print('Took {} s'.format(timer(memoized_prime, 99999)))    "
   ]
  },
  {
   "cell_type": "code",
   "execution_count": null,
   "metadata": {},
   "outputs": [],
   "source": []
  }
 ],
 "metadata": {
  "kernelspec": {
   "display_name": "Python 3",
   "language": "python",
   "name": "python3"
  },
  "language_info": {
   "codemirror_mode": {
    "name": "ipython",
    "version": 3
   },
   "file_extension": ".py",
   "mimetype": "text/x-python",
   "name": "python",
   "nbconvert_exporter": "python",
   "pygments_lexer": "ipython3",
   "version": "3.6.6"
  }
 },
 "nbformat": 4,
 "nbformat_minor": 2
}
