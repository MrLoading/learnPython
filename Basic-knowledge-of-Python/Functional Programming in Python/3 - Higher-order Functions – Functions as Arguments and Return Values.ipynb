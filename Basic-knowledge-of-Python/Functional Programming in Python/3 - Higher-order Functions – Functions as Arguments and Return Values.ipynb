{
 "cells": [
  {
   "cell_type": "markdown",
   "metadata": {},
   "source": [
    "\n",
    "\n",
    "### 1. Functions as return values\n",
    "### 2. The operator module\n",
    "### 3. Decorators\n",
    "### 4. Decorators with arguments"
   ]
  },
  {
   "cell_type": "markdown",
   "metadata": {},
   "source": [
    "## 1."
   ]
  },
  {
   "cell_type": "markdown",
   "metadata": {},
   "source": [
    "### Functions as arguments"
   ]
  },
  {
   "cell_type": "markdown",
   "metadata": {},
   "source": [
    "#### Lets start with our factorial function "
   ]
  },
  {
   "cell_type": "code",
   "execution_count": 1,
   "metadata": {},
   "outputs": [],
   "source": [
    "l_factorial = lambda n:1 if n == 0 else n*l_factorial(n-1)"
   ]
  },
  {
   "cell_type": "markdown",
   "metadata": {},
   "source": [
    "#### Timing\n",
    "##### The procedural way, going line by line\n",
    "Factorial is a recursive and hence time-consuming operation. Lets see how long it takes"
   ]
  },
  {
   "cell_type": "code",
   "execution_count": 2,
   "metadata": {},
   "outputs": [
    {
     "name": "stdout",
     "output_type": "stream",
     "text": [
      "Took 0.00099730 s\n"
     ]
    }
   ],
   "source": [
    "import time\n",
    "\n",
    "t0 = time.time()\n",
    "l_factorial(900)\n",
    "t1 = time.time()\n",
    "print('Took %.8f s'%(t1-t0))"
   ]
  },
  {
   "cell_type": "markdown",
   "metadata": {},
   "source": [
    "#### The functional way, with a wrapper function\n",
    "But a better way is to write a wrapper function that times every function that's passed onto it!"
   ]
  },
  {
   "cell_type": "code",
   "execution_count": 3,
   "metadata": {},
   "outputs": [
    {
     "name": "stdout",
     "output_type": "stream",
     "text": [
      "Took 0.00099874 s\n"
     ]
    }
   ],
   "source": [
    "def timer(func, arg):\n",
    "\n",
    "    t0 = time.time()\n",
    "    func(arg)\n",
    "    t1 = time.time()\n",
    "    return t1-t0\n",
    "\n",
    "print('Took %.8f s'%timer(l_factorial, 900))"
   ]
  },
  {
   "cell_type": "markdown",
   "metadata": {},
   "source": [
    "#### The fully functional way, with lambda wrapper functions\n",
    "We can even turn timer()into a lambda function, although it takes a pretty functional state of mind to do so"
   ]
  },
  {
   "cell_type": "code",
   "execution_count": 4,
   "metadata": {},
   "outputs": [
    {
     "name": "stdout",
     "output_type": "stream",
     "text": [
      "Took 0.00099826 s\n"
     ]
    }
   ],
   "source": [
    "l_timestamp = lambda func, arg:(time.time(), func(arg), time.time())\n",
    "l_diff = lambda t0, retval, t1:t1-t0\n",
    "l_timer = lambda func, arg:l_diff(*l_timestamp(func, arg))\n",
    "\n",
    "print('Took %.8f s'%l_timer(l_factorial, 900))"
   ]
  },
  {
   "cell_type": "markdown",
   "metadata": {},
   "source": [
    "### Nested functions\n",
    "- How to define nested functions\n",
    "- How nested functions affect variable scope\n",
    "- How to control variable scope"
   ]
  },
  {
   "cell_type": "markdown",
   "metadata": {},
   "source": [
    "#### Knowest thy scope\n",
    "#### Inner and outer functions\n",
    "- Let's start by defining a very basic nested function\n",
    "- lets all function refer to a variable x. This is the same variable, the global variable x, in all cases"
   ]
  },
  {
   "cell_type": "code",
   "execution_count": 5,
   "metadata": {},
   "outputs": [
    {
     "name": "stdout",
     "output_type": "stream",
     "text": [
      "Global (before): global\n",
      "Outer (before): outer\n",
      "Inner:\t\t inner\n",
      "Outer  (after): outer\n",
      "Global (after): global\n"
     ]
    }
   ],
   "source": [
    "def outer():\n",
    "\n",
    "    x = 'outer'\n",
    "    def inner():\n",
    "        \n",
    "        x = 'inner'\n",
    "        print('Inner:\\t\\t', x)\n",
    "    \n",
    "    print('Outer (before):', x)\n",
    "    inner()\n",
    "    print('Outer  (after):', x)\n",
    "    \n",
    "\n",
    "x = 'global'\n",
    "print('Global (before):', x)\n",
    "outer()\n",
    "print('Global (after):', x)"
   ]
  },
  {
   "cell_type": "markdown",
   "metadata": {},
   "source": [
    "### Controlling the variable scope with global and nonlocal\n",
    "- global binds a variable to the global level\n",
    "- nonlocal (Python >=3) binds a variable to one level higher"
   ]
  },
  {
   "cell_type": "code",
   "execution_count": 6,
   "metadata": {},
   "outputs": [
    {
     "name": "stdout",
     "output_type": "stream",
     "text": [
      "Global (before): global\n",
      "Outer (before): outer\n",
      "Inner:\t\t global\n",
      "Outer  (after): outer\n",
      "Global (after): global\n"
     ]
    }
   ],
   "source": [
    "def outer():\n",
    "\n",
    "    x = 'outer'\n",
    "    def inner():\n",
    "        \n",
    "        global x\n",
    "        print('Inner:\\t\\t', x)\n",
    "    \n",
    "    print('Outer (before):', x)\n",
    "    inner()\n",
    "    print('Outer  (after):', x)\n",
    "    \n",
    "\n",
    "x = 'global'\n",
    "print('Global (before):', x)\n",
    "outer()\n",
    "print('Global (after):', x)"
   ]
  },
  {
   "cell_type": "code",
   "execution_count": 7,
   "metadata": {},
   "outputs": [
    {
     "name": "stdout",
     "output_type": "stream",
     "text": [
      "Global (before): global\n",
      "Outer (before): outer\n",
      "Inner:\t\t outer\n",
      "Outer  (after): outer\n",
      "Global (after): global\n"
     ]
    }
   ],
   "source": [
    "def outer():\n",
    "\n",
    "    x = 'outer'\n",
    "    def inner():\n",
    "        \n",
    "        nonlocal x\n",
    "        print('Inner:\\t\\t', x)\n",
    "    \n",
    "    print('Outer (before):', x)\n",
    "    inner()\n",
    "    print('Outer  (after):', x)\n",
    "    \n",
    "\n",
    "x = 'global'\n",
    "print('Global (before):', x)\n",
    "outer()\n",
    "print('Global (after):', x)"
   ]
  },
  {
   "cell_type": "markdown",
   "metadata": {},
   "source": [
    "#### Four steps to baking a (pre-baked ) croissant\n",
    "- We need to perform four steps"
   ]
  },
  {
   "cell_type": "code",
   "execution_count": 8,
   "metadata": {},
   "outputs": [],
   "source": [
    "preheat_oven = lambda: print('Preheating oven')\n",
    "put_croissants_in = lambda: print('Putting croissants in')\n",
    "wait_five_minutes = lambda: print('Waiting five minutes')\n",
    "take_croissants_out = lambda: print('Take croissants out(and eat them!)')"
   ]
  },
  {
   "cell_type": "markdown",
   "metadata": {},
   "source": [
    "#### Passing all steps to a launcher function\n",
    "Alternatively, we can create a launcher function(peform_recipe( ) to which w ass all functions and which then performs all these functions for us. This is, by itself. not very useful"
   ]
  },
  {
   "cell_type": "code",
   "execution_count": 9,
   "metadata": {},
   "outputs": [
    {
     "name": "stdout",
     "output_type": "stream",
     "text": [
      "Preheating oven\n",
      "Putting croissants in\n",
      "Waiting five minutes\n",
      "Take croissants out(and eat them!)\n"
     ]
    }
   ],
   "source": [
    "def perform_steps(*functions):\n",
    "    \n",
    "    for function in functions:\n",
    "        function()\n",
    "    \n",
    "perform_steps(preheat_oven,\n",
    "    put_croissants_in,\n",
    "    wait_five_minutes,\n",
    "    take_croissants_out)"
   ]
  },
  {
   "cell_type": "markdown",
   "metadata": {},
   "source": [
    "### Wrapping all steps into a single recipe"
   ]
  },
  {
   "cell_type": "code",
   "execution_count": 10,
   "metadata": {},
   "outputs": [
    {
     "name": "stdout",
     "output_type": "stream",
     "text": [
      "Preheating oven\n",
      "Putting croissants in\n",
      "Waiting five minutes\n",
      "Take croissants out(and eat them!)\n"
     ]
    }
   ],
   "source": [
    "def perform_steps(*functions):\n",
    "    \n",
    "    def run_all():\n",
    "        \n",
    "        for function in functions:\n",
    "            function()\n",
    "    return run_all\n",
    "\n",
    "    \n",
    "run = perform_steps(preheat_oven,\n",
    "    put_croissants_in,\n",
    "    wait_five_minutes,\n",
    "    take_croissants_out)\n",
    "\n",
    "run()"
   ]
  },
  {
   "cell_type": "markdown",
   "metadata": {},
   "source": [
    "## 2."
   ]
  },
  {
   "cell_type": "markdown",
   "metadata": {},
   "source": [
    "### The operator module"
   ]
  },
  {
   "cell_type": "code",
   "execution_count": 11,
   "metadata": {},
   "outputs": [],
   "source": [
    "l_factorial = lambda n:1 if n == 0 else n*l_factorial(n-1)"
   ]
  },
  {
   "cell_type": "markdown",
   "metadata": {},
   "source": [
    "#### Chaining functions and combining return values\n",
    "- Say that we want to call this function a number of times, with different arguments, and do something with the return values. How can we do that?"
   ]
  },
  {
   "cell_type": "code",
   "execution_count": 12,
   "metadata": {},
   "outputs": [
    {
     "data": {
      "text/plain": [
       "12"
      ]
     },
     "execution_count": 12,
     "metadata": {},
     "output_type": "execute_result"
    }
   ],
   "source": [
    "def chain_mul(*what):\n",
    "    \n",
    "    '''Takes a List of (function, argument )tuples. Calls each\n",
    "    function with its argument, multiplies up the return values\n",
    "    (starting at 1) and returns the total'''\n",
    "    total = 1\n",
    "    for (func, arg) in what:\n",
    "        total *= func(arg)\n",
    "    return total\n",
    "\n",
    "chain_mul((l_factorial, 2), (l_factorial, 3))    "
   ]
  },
  {
   "cell_type": "markdown",
   "metadata": {},
   "source": [
    "#### Operators as regular functions\n",
    "- The function above is not very general: it can only multiple values, not multiply or subtract them. Ideally, we would pass an operator to the function as well\n",
    "- But * is syntax an not an object that we can pass! Fortunately the Pythons built-in **operator module** offers all operators as regular functions"
   ]
  },
  {
   "cell_type": "code",
   "execution_count": 13,
   "metadata": {},
   "outputs": [
    {
     "data": {
      "text/plain": [
       "0.08333333333333333"
      ]
     },
     "execution_count": 13,
     "metadata": {},
     "output_type": "execute_result"
    }
   ],
   "source": [
    "import operator\n",
    "\n",
    "def chain(how, *what):\n",
    "    \n",
    "    total = 1\n",
    "    for (func, arg) in what:\n",
    "        total = how(total, func(arg))\n",
    "    return total\n",
    "\n",
    "chain(operator.truediv, (l_factorial, 2), (l_factorial, 3))  "
   ]
  },
  {
   "cell_type": "markdown",
   "metadata": {},
   "source": [
    "## 3."
   ]
  },
  {
   "cell_type": "markdown",
   "metadata": {},
   "source": [
    "### That's a decorator!"
   ]
  },
  {
   "cell_type": "code",
   "execution_count": 14,
   "metadata": {},
   "outputs": [
    {
     "data": {
      "text/plain": [
       "0.0"
      ]
     },
     "execution_count": 14,
     "metadata": {},
     "output_type": "execute_result"
    }
   ],
   "source": [
    "import time\n",
    "\n",
    "factorial = lambda n:1 if n == 0 else n*factorial(n-1)\n",
    "\n",
    "def timer(func):\n",
    "\n",
    "    def inner(arg):\n",
    "        \n",
    "        t0 = time.time()\n",
    "        func(arg)\n",
    "        t1 = time.time()\n",
    "        return t1-t0\n",
    "    \n",
    "    return inner\n",
    "\n",
    "\n",
    "timed_factorail = timer(factorial)\n",
    "timed_factorail(900)"
   ]
  },
  {
   "cell_type": "markdown",
   "metadata": {},
   "source": [
    "- The timer function that we've defined above is a decorator. You can apply a decorator to a function directly, using the @ syntax"
   ]
  },
  {
   "cell_type": "code",
   "execution_count": 15,
   "metadata": {},
   "outputs": [
    {
     "name": "stdout",
     "output_type": "stream",
     "text": [
      "0.0009965896606445312\n"
     ]
    }
   ],
   "source": [
    "@timer\n",
    "def timed_factorial(n):\n",
    "    \n",
    "    return 1 if n == 0 else n*factorial(n-1)\n",
    "\n",
    "print(timed_factorial(900))"
   ]
  },
  {
   "cell_type": "markdown",
   "metadata": {},
   "source": [
    "## 4.\n",
    "### Decorators with arguments"
   ]
  },
  {
   "cell_type": "markdown",
   "metadata": {},
   "source": [
    "- What if we want to specify the units of time?\n",
    "If we want to specify the units of time(seconds or milliseconds), we need to prove the units of time as arguments to the decorator.\n",
    "- We can do this, but it requires another level of nesting"
   ]
  },
  {
   "cell_type": "code",
   "execution_count": 16,
   "metadata": {},
   "outputs": [
    {
     "name": "stdout",
     "output_type": "stream",
     "text": [
      "0.0009984970092773438\n",
      "0.9980201721191406\n"
     ]
    }
   ],
   "source": [
    "import time\n",
    "\n",
    "factorial = lambda n:1 if n == 0 else n*factorial(n-1)\n",
    "\n",
    "def timer_with_arguments(units='s'):\n",
    "\n",
    "    def timer(func):\n",
    "\n",
    "        def inner(arg):\n",
    "\n",
    "            t0 = time.time()\n",
    "            func(arg)\n",
    "            t1 = time.time()\n",
    "            diff = t1-t0\n",
    "            if units == 'ms':\n",
    "                diff *= 1000\n",
    "            return diff\n",
    "\n",
    "        return inner\n",
    "    \n",
    "    return timer\n",
    "\n",
    "timed_factorial = timer(factorial)\n",
    "print(timed_factorial(900))\n",
    "timed_factorial = timer_with_arguments(units='ms')(factorial)\n",
    "print(timed_factorial(1000))"
   ]
  },
  {
   "cell_type": "markdown",
   "metadata": {},
   "source": [
    "#### That's a decorator with arguments\n",
    "- Again, using the @ syntax, this is gives very clean code!"
   ]
  },
  {
   "cell_type": "code",
   "execution_count": 17,
   "metadata": {},
   "outputs": [
    {
     "data": {
      "text/plain": [
       "0.000997781753540039"
      ]
     },
     "execution_count": 17,
     "metadata": {},
     "output_type": "execute_result"
    }
   ],
   "source": [
    "@timer_with_arguments(units='s')\n",
    "def a_factorail(n):\n",
    "    \n",
    "    return 1 if n == 0 else n*a_factorail(n-1)\n",
    "\n",
    "a_factorail(900)"
   ]
  },
  {
   "cell_type": "code",
   "execution_count": null,
   "metadata": {},
   "outputs": [],
   "source": []
  },
  {
   "cell_type": "code",
   "execution_count": null,
   "metadata": {},
   "outputs": [],
   "source": []
  }
 ],
 "metadata": {
  "kernelspec": {
   "display_name": "Python 3",
   "language": "python",
   "name": "python3"
  },
  "language_info": {
   "codemirror_mode": {
    "name": "ipython",
    "version": 3
   },
   "file_extension": ".py",
   "mimetype": "text/x-python",
   "name": "python",
   "nbconvert_exporter": "python",
   "pygments_lexer": "ipython3",
   "version": "3.6.6"
  }
 },
 "nbformat": 4,
 "nbformat_minor": 2
}
