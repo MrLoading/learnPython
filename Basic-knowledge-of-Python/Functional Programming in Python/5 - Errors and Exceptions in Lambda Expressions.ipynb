{
 "cells": [
  {
   "cell_type": "markdown",
   "metadata": {},
   "source": [
    "### 1. Explained how one cannot catch expressions in Lambda expressions\n",
    "### 2. Handled errors in Lambda expressions using Maybe-like decorator\n",
    "### 3. Seen an interactive calculator that relies on many of the techniques that we've learned\n",
    "\n",
    "\n",
    "\n"
   ]
  },
  {
   "cell_type": "markdown",
   "metadata": {},
   "source": [
    "## 1."
   ]
  },
  {
   "cell_type": "markdown",
   "metadata": {},
   "source": [
    "### Exceptions\n",
    "- In Python, Exceptions are the main way to deal with Whenever an error occurs, an Exception object is 'raised'. This causes the code to abort,until the Exception is caught in a try : ...  except: ... statement"
   ]
  },
  {
   "cell_type": "code",
   "execution_count": 7,
   "metadata": {},
   "outputs": [
    {
     "name": "stdout",
     "output_type": "stream",
     "text": [
      "5\n",
      "None\n"
     ]
    }
   ],
   "source": [
    "def add_str(s):\n",
    "    \n",
    "    try:\n",
    "        return sum([int(i) for i in s.split('+')])\n",
    "    except AttributeError:\n",
    "        return None\n",
    "    \n",
    "print(add_str('2+3'))\n",
    "print(add_str(2+3))"
   ]
  },
  {
   "cell_type": "markdown",
   "metadata": {},
   "source": [
    "### The curse of statements\n",
    "- But try is a statement, and you can therefore not use it in Lambda expressions! \n",
    "- Unlike for most other statements, Python does not offer an expression alternative to the try statement."
   ]
  },
  {
   "cell_type": "code",
   "execution_count": 8,
   "metadata": {},
   "outputs": [
    {
     "name": "stdout",
     "output_type": "stream",
     "text": [
      "7\n"
     ]
    }
   ],
   "source": [
    "l_add_str = lambda s: sum([int(i) for i in s.split(\"+\")])\n",
    "\n",
    "print(l_add_str('2+5'))\n",
    "# print(l_add_str(2+5))  # AttributeError: 'int' object has no attribute 'split'"
   ]
  },
  {
   "cell_type": "code",
   "execution_count": null,
   "metadata": {},
   "outputs": [],
   "source": []
  }
 ],
 "metadata": {
  "kernelspec": {
   "display_name": "Python 3",
   "language": "python",
   "name": "python3"
  },
  "language_info": {
   "codemirror_mode": {
    "name": "ipython",
    "version": 3
   },
   "file_extension": ".py",
   "mimetype": "text/x-python",
   "name": "python",
   "nbconvert_exporter": "python",
   "pygments_lexer": "ipython3",
   "version": "3.6.6"
  }
 },
 "nbformat": 4,
 "nbformat_minor": 2
}
