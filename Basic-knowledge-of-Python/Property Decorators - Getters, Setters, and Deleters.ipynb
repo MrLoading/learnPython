{
 "cells": [
  {
   "cell_type": "markdown",
   "metadata": {},
   "source": []
  },
  {
   "cell_type": "code",
   "execution_count": 5,
   "metadata": {},
   "outputs": [
    {
     "name": "stdout",
     "output_type": "stream",
     "text": [
      "Mark\n",
      "Mark.Doe@email.com\n",
      "Mark Doe\n",
      "\n",
      "Cory\n",
      "Mark.Doe@email.com\n",
      "Cory Doe\n"
     ]
    }
   ],
   "source": [
    "class Employee:\n",
    "    def __init__(self, first, last, pay):\n",
    "        self.first = first\n",
    "        self.last = last\n",
    "        self.email = first + '.' + last + '@email.com'\n",
    "        self.pay = pay\n",
    "    \n",
    "    def fullname(self):\n",
    "        return '{} {}'.format(self.first, self.last)\n",
    "\n",
    "\n",
    "emp1 = Employee('Mark', 'Doe', 50000)\n",
    "emp2 = Employee('Tom', 'Smith', 60000)\n",
    "\n",
    "print(emp1.first)\n",
    "print(emp1.email)\n",
    "print(emp1.fullname())\n",
    "\n",
    "print()\n",
    "# when we change the emp1.first and print again\n",
    "# The email has our old first name?\n",
    "emp1.first = 'Cory'\n",
    "print(emp1.first)\n",
    "print(emp1.email)\n",
    "print(emp1.fullname())\n"
   ]
  },
  {
   "cell_type": "markdown",
   "metadata": {},
   "source": [
    "1. we can wirte a 'email()' method ,\n",
    "2. or wirte 'get()' or 'set()' method just like Java and C++\n",
    "3. But we can use 'Decorators' in Python --> **@property**"
   ]
  },
  {
   "cell_type": "code",
   "execution_count": 9,
   "metadata": {},
   "outputs": [
    {
     "name": "stdout",
     "output_type": "stream",
     "text": [
      "Cory\n",
      "Cory.Doe@email.com\n",
      "Cory Doe\n"
     ]
    }
   ],
   "source": [
    "#  @property\n",
    "class Employee:\n",
    "    def __init__(self, first, last, pay):\n",
    "        self.first = first\n",
    "        self.last = last\n",
    "        self.pay = pay\n",
    "    \n",
    "    def email(self):\n",
    "        return self.first + '.' + self.last + '@email.com'\n",
    "    \n",
    "    def fullname(self):\n",
    "        return '{} {}'.format(self.first, self.last)\n",
    "\n",
    "\n",
    "emp1 = Employee('Mark', 'Doe', 50000)\n",
    "\n",
    "emp1.first = 'Cory'\n",
    "print(emp1.first)\n",
    "print(emp1.email())\n",
    "print(emp1.fullname())"
   ]
  },
  {
   "cell_type": "code",
   "execution_count": 11,
   "metadata": {},
   "outputs": [
    {
     "name": "stdout",
     "output_type": "stream",
     "text": [
      "Cory\n",
      "Cory.Doe@email.com\n",
      "Cory Doe\n"
     ]
    }
   ],
   "source": [
    "#  method 3\n",
    "class Employee:\n",
    "    def __init__(self, first, last, pay):\n",
    "        self.first = first\n",
    "        self.last = last\n",
    "        self.pay = pay\n",
    "    \n",
    "    @property\n",
    "    def email(self):\n",
    "        return self.first + '.' + self.last + '@email.com'\n",
    "    \n",
    "    @property\n",
    "    def fullname(self):\n",
    "        return '{} {}'.format(self.first, self.last)\n",
    "\n",
    "\n",
    "emp1 = Employee('Mark', 'Doe', 50000)\n",
    "\n",
    "emp1.first = 'Cory'\n",
    "print(emp1.first)\n",
    "print(emp1.email)\n",
    "print(emp1.fullname)"
   ]
  },
  {
   "cell_type": "markdown",
   "metadata": {},
   "source": [
    "#### Setters\n",
    "- **\\@attribute.setter**\n",
    "- **\\@attribute.deletter**"
   ]
  },
  {
   "cell_type": "code",
   "execution_count": 12,
   "metadata": {},
   "outputs": [
    {
     "ename": "AttributeError",
     "evalue": "can't set attribute",
     "output_type": "error",
     "traceback": [
      "\u001b[1;31m---------------------------------------------------------------------------\u001b[0m",
      "\u001b[1;31mAttributeError\u001b[0m                            Traceback (most recent call last)",
      "\u001b[1;32m<ipython-input-12-1f717a03c3ee>\u001b[0m in \u001b[0;36m<module>\u001b[1;34m()\u001b[0m\n\u001b[0;32m      1\u001b[0m \u001b[1;31m# if we want the ability to set the emp1.fullname ??\u001b[0m\u001b[1;33m\u001b[0m\u001b[1;33m\u001b[0m\u001b[0m\n\u001b[1;32m----> 2\u001b[1;33m \u001b[0memp1\u001b[0m\u001b[1;33m.\u001b[0m\u001b[0mfullname\u001b[0m \u001b[1;33m=\u001b[0m \u001b[1;34m'Cory Smith'\u001b[0m\u001b[1;33m\u001b[0m\u001b[0m\n\u001b[0m",
      "\u001b[1;31mAttributeError\u001b[0m: can't set attribute"
     ]
    }
   ],
   "source": [
    "# if we want the ability to set the emp1.fullname ??\n",
    "# AttributeError: can't set attribute!\n",
    "# So, what to do?\n",
    "emp1.fullname = 'Cory Smith'"
   ]
  },
  {
   "cell_type": "code",
   "execution_count": 21,
   "metadata": {},
   "outputs": [
    {
     "name": "stdout",
     "output_type": "stream",
     "text": [
      "Cory\n",
      "Cory.Doe@email.com\n",
      "Cory Doe\n",
      "\n",
      "Cory\n",
      "Smith\n",
      "Cory.Smith@email.com\n",
      "\n",
      "Delete Name !\n",
      "None\n",
      "None\n",
      "None None\n",
      "\n"
     ]
    }
   ],
   "source": [
    "#  @attribute.setter\n",
    "#  @attribute.deletter\n",
    "class Employee:\n",
    "    def __init__(self, first, last, pay):\n",
    "        self.first = first\n",
    "        self.last = last\n",
    "        self.pay = pay\n",
    "    \n",
    "    @property\n",
    "    def email(self):\n",
    "        return self.first + '.' + self.last + '@email.com'\n",
    "    \n",
    "    @property\n",
    "    def fullname(self):\n",
    "        return '{} {}'.format(self.first, self.last)\n",
    "    \n",
    "    @fullname.setter  # @attribute.setter\n",
    "    def fullname(self, name):\n",
    "        first, last = name.split(' ')\n",
    "        self.first = first\n",
    "        self.last = last\n",
    "    \n",
    "    @fullname.deleter  # @attribute.deletter\n",
    "    def fullname(self):\n",
    "        print(\"Delete Name !\")\n",
    "        self.first = None\n",
    "        self.last = None\n",
    "    \n",
    "\n",
    "emp1 = Employee('Mark', 'Doe', 50000)\n",
    "\n",
    "emp1.first = 'Cory'\n",
    "print(emp1.first)\n",
    "print(emp1.email)\n",
    "print(emp1.fullname)\n",
    "print()\n",
    "\n",
    "emp1.fullname = 'Cory Smith'\n",
    "print(emp1.first)\n",
    "print(emp1.last)\n",
    "print(emp1.email)\n",
    "print()\n",
    "\n",
    "del emp1.fullname\n",
    "print(emp1.first)\n",
    "print(emp1.last)\n",
    "print(emp1.fullname)\n",
    "# print(emp1.email)  # TypeError: unsupported operand type(s) for +: 'NoneType' and 'str'\n",
    "print()"
   ]
  },
  {
   "cell_type": "code",
   "execution_count": null,
   "metadata": {},
   "outputs": [],
   "source": []
  }
 ],
 "metadata": {
  "kernelspec": {
   "display_name": "Python 3",
   "language": "python",
   "name": "python3"
  },
  "language_info": {
   "codemirror_mode": {
    "name": "ipython",
    "version": 3
   },
   "file_extension": ".py",
   "mimetype": "text/x-python",
   "name": "python",
   "nbconvert_exporter": "python",
   "pygments_lexer": "ipython3",
   "version": "3.6.6"
  }
 },
 "nbformat": 4,
 "nbformat_minor": 2
}
