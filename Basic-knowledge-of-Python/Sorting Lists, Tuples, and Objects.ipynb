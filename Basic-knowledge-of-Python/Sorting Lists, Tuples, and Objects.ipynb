{
 "cells": [
  {
   "cell_type": "markdown",
   "metadata": {},
   "source": [
    "### Sort Lists, Tuples, and Objects\n",
    "#### Sort Lists"
   ]
  },
  {
   "cell_type": "code",
   "execution_count": 21,
   "metadata": {},
   "outputs": [
    {
     "name": "stdout",
     "output_type": "stream",
     "text": [
      "Sorted   :  [1, 2, 3, 4, 5, 6, 7, 8, 9]\n",
      "Original :  [5, 8, 3, 6, 2, 4, 9, 7, 1]\n",
      "Original :  [1, 2, 3, 4, 5, 6, 7, 8, 9]\n"
     ]
    }
   ],
   "source": [
    "li = [5, 8, 3, 6, 2, 4, 9, 7, 1]\n",
    "\n",
    "s_li = sorted(li)  # return a mew sorted list\n",
    "\n",
    "print('Sorted   : ', s_li)\n",
    "print('Original : ', li)\n",
    "\n",
    "li.sort()\n",
    "print('Original : ', li)"
   ]
  },
  {
   "cell_type": "code",
   "execution_count": 22,
   "metadata": {},
   "outputs": [
    {
     "name": "stdout",
     "output_type": "stream",
     "text": [
      "Sorted   :  [8, 7, 6, 5, 5, 4, 3, 2, 1]\n",
      "Original :  [5, 8, 3, 6, 2, 4, 5, 7, 1]\n",
      "Original :  [8, 7, 6, 5, 5, 4, 3, 2, 1]\n"
     ]
    }
   ],
   "source": [
    "li = [5, 8, 3, 6, 2, 4, 5, 7, 1]\n",
    "s_li = sorted(li, reverse=True)  # return a mew sorted list\n",
    "\n",
    "print('Sorted   : ', s_li)\n",
    "print('Original : ', li)\n",
    "li.sort(reverse=True)\n",
    "print('Original : ', li)"
   ]
  },
  {
   "cell_type": "markdown",
   "metadata": {},
   "source": [
    "#### Sort Tuples"
   ]
  },
  {
   "cell_type": "code",
   "execution_count": 2,
   "metadata": {},
   "outputs": [
    {
     "name": "stdout",
     "output_type": "stream",
     "text": [
      "(5, 8, 3, 6, 2, 4, 9, 7, 1)\n",
      "[1, 2, 3, 4, 5, 6, 7, 8, 9]\n"
     ]
    }
   ],
   "source": [
    "# Using Windows10 Python3.6.6\n",
    "t = (5, 8, 3, 6, 2, 4, 9, 7, 1)\n",
    "# t.sort()  # 'tuple' object has no attribute 'sort'\n",
    "st = sorted(t)  # return a mew sorted list\n",
    "print(t)\n",
    "print(st)"
   ]
  },
  {
   "cell_type": "markdown",
   "metadata": {},
   "source": [
    "#### Sort Objects"
   ]
  },
  {
   "cell_type": "code",
   "execution_count": 26,
   "metadata": {},
   "outputs": [
    {
     "name": "stdout",
     "output_type": "stream",
     "text": [
      "['age', 'job', 'name', 'os']\n",
      "{'name': 'Corey', 'job': 'programming bugs', 'age': 'maybe 100', 'os': None}\n"
     ]
    }
   ],
   "source": [
    "di = {'name':'Corey', 'job':'programming bugs', 'age':'maybe 100', 'os':None}\n",
    "\n",
    "s_di = sorted(di)\n",
    "# di.sort()  # AttributeError: 'dict' object has no attribute 'sort'\n",
    "print(s_di)\n",
    "print(di)"
   ]
  },
  {
   "cell_type": "markdown",
   "metadata": {},
   "source": [
    "#### sorted(iterable, *, key=None, reverse=False)\n",
    "-  **key parameter** :  to specify a function to be called on each list element **prior** to making comparisons.\n",
    "- **reverse parameter** : If set to True, then the list elements are sorted as if each comparison were reversed."
   ]
  },
  {
   "cell_type": "code",
   "execution_count": 33,
   "metadata": {},
   "outputs": [
    {
     "name": "stdout",
     "output_type": "stream",
     "text": [
      "[(John,22,$90000), (Sarah,14,$80000), (Tom,18,$70000)]\n",
      "[(Tom,18,$70000), (Sarah,14,$80000), (John,22,$90000)]\n",
      "[(John,22,$90000), (Tom,18,$70000), (Sarah,14,$80000)]\n"
     ]
    }
   ],
   "source": [
    "class Employee:\n",
    "    def __init__(self, name, age, salary):\n",
    "        self.name = name\n",
    "        self.age = age\n",
    "        self.salary = salary\n",
    "    \n",
    "    def __repr__(self):\n",
    "        return '({},{},${})'.format(self.name, self.age, self.salary)\n",
    "\n",
    "def e_sort(emp):\n",
    "    return emp.name\n",
    "\n",
    "e1 = Employee('Tom', 18, 70000)\n",
    "e2 = Employee('Sarah', 14, 80000)\n",
    "e3 = Employee('John', 22, 90000)\n",
    "es = [e1, e2, e3]\n",
    "\n",
    "s_employee = sorted(es, key=e_sort)\n",
    "print(s_employee)\n",
    "s_employee = sorted(es, key=lambda e : e.name, reverse=True)\n",
    "print(s_employee)\n",
    "\n",
    "from operator import attrgetter\n",
    "s_employee = sorted(es, key=attrgetter('age'), reverse=True)\n",
    "print(s_employee)"
   ]
  },
  {
   "cell_type": "code",
   "execution_count": null,
   "metadata": {},
   "outputs": [],
   "source": []
  }
 ],
 "metadata": {
  "kernelspec": {
   "display_name": "Python 3",
   "language": "python",
   "name": "python3"
  },
  "language_info": {
   "codemirror_mode": {
    "name": "ipython",
    "version": 3
   },
   "file_extension": ".py",
   "mimetype": "text/x-python",
   "name": "python",
   "nbconvert_exporter": "python",
   "pygments_lexer": "ipython3",
   "version": "3.6.6"
  }
 },
 "nbformat": 4,
 "nbformat_minor": 2
}
