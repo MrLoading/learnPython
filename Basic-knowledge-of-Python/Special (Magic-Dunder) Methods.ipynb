{
 "cells": [
  {
   "cell_type": "markdown",
   "metadata": {},
   "source": [
    "### Special (Magic/Dunder) Methods\n",
    "1. __\\_\\_init\\_\\___( )\n",
    "2. __\\_\\_repr\\_\\___( )\n",
    "3. __\\_\\_str\\_\\___( )"
   ]
  },
  {
   "cell_type": "markdown",
   "metadata": {},
   "source": [
    "##### \\_\\_repr\\_\\_"
   ]
  },
  {
   "cell_type": "code",
   "execution_count": 10,
   "metadata": {},
   "outputs": [
    {
     "name": "stdout",
     "output_type": "stream",
     "text": [
      "<__main__.Employee object at 0x0000021490D15518>\n",
      "<__main__.Employee object at 0x0000021490D15518>\n",
      "<__main__.Employee object at 0x0000021490D15518>\n"
     ]
    }
   ],
   "source": [
    "class Employee:\n",
    "    def __init__(self, first, last, pay):\n",
    "        self.first = first\n",
    "        self.last = last\n",
    "        self.email = first + '.' + last + '@email.com'\n",
    "        self.pay = pay\n",
    "\n",
    "        \n",
    "emp1 = Employee('Mark', 'Doe', 50000)\n",
    "\n",
    "print(emp1)\n",
    "print(repr(emp1))\n",
    "print(str(emp1))"
   ]
  },
  {
   "cell_type": "code",
   "execution_count": 11,
   "metadata": {},
   "outputs": [
    {
     "name": "stdout",
     "output_type": "stream",
     "text": [
      "Employee('Mark', 'Doe', 50000)\n",
      "Employee('Mark', 'Doe', 50000)\n",
      "Employee('Mark', 'Doe', 50000)\n"
     ]
    }
   ],
   "source": [
    "class Employee:\n",
    "    def __init__(self, first, last, pay):\n",
    "        self.first = first\n",
    "        self.last = last\n",
    "        self.email = first + '.' + last + '@email.com'\n",
    "        self.pay = pay\n",
    "    \n",
    "    def __repr__(self):\n",
    "        return \"Employee('{}', '{}', {})\".format(self.first, self.last, self.pay)\n",
    "        \n",
    "emp1 = Employee('Mark', 'Doe', 50000)\n",
    "\n",
    "print(emp1)\n",
    "print(repr(emp1))\n",
    "print(str(emp1))"
   ]
  },
  {
   "cell_type": "code",
   "execution_count": 45,
   "metadata": {},
   "outputs": [
    {
     "name": "stdout",
     "output_type": "stream",
     "text": [
      "Employee('Mark', 'Doe', 50000)\n",
      "Employee('Mark', 'Doe', 50000)\n",
      "Employee('Mark', 'Doe', 50000)\n"
     ]
    }
   ],
   "source": [
    "class Employee:\n",
    "    def __init__(self, first, last, pay):\n",
    "        self.first = first\n",
    "        self.last = last\n",
    "        self.email = first + '.' + last + '@email.com'\n",
    "        self.pay = pay\n",
    "    \n",
    "    def emp_repr(self):\n",
    "        return \"Employee('{}', '{}', {})\".format(self.first, self.last, self.pay)\n",
    "    \n",
    "    __repr__ = emp_repr  # just like : def __repr__(): .....\n",
    "    \n",
    "emp1 = Employee('Mark', 'Doe', 50000)\n",
    "\n",
    "print(emp1)\n",
    "print(repr(emp1))\n",
    "print(str(emp1))"
   ]
  },
  {
   "cell_type": "markdown",
   "metadata": {},
   "source": [
    "#### \\_\\_str\\_\\_"
   ]
  },
  {
   "cell_type": "code",
   "execution_count": 37,
   "metadata": {},
   "outputs": [
    {
     "name": "stdout",
     "output_type": "stream",
     "text": [
      "Mark Doe-Mark.Doe@email.com\n",
      "\n",
      "Employee('Mark', 'Doe', 50000)\n",
      "Mark Doe-Mark.Doe@email.com\n",
      "\n",
      "Employee('Mark', 'Doe', 50000)\n",
      "Mark Doe-Mark.Doe@email.com\n"
     ]
    }
   ],
   "source": [
    "class Employee:\n",
    "    def __init__(self, first, last, pay):\n",
    "        self.first = first\n",
    "        self.last = last\n",
    "        self.email = first + '.' + last + '@email.com'\n",
    "        self.pay = pay\n",
    "    \n",
    "    def __repr__(self):\n",
    "        return \"Employee('{}', '{}', {})\".format(self.first, self.last, self.pay)\n",
    "    \n",
    "    def __str__(self):\n",
    "        return \"{} {}-{}\".format(self.first, self.last, self.email)\n",
    "    \n",
    "    \n",
    "emp1 = Employee('Mark', 'Doe', 50000)\n",
    "emp2 = Employee('Corey', 'Schafer', 60000)\n",
    "\n",
    "print(emp1)\n",
    "print()\n",
    "print(repr(emp1))\n",
    "print(str(emp1))\n",
    "print()\n",
    "print(emp1.__repr__())\n",
    "print(emp1.__str__())"
   ]
  },
  {
   "cell_type": "markdown",
   "metadata": {},
   "source": [
    "#### \\_\\_add\\_\\_"
   ]
  },
  {
   "cell_type": "code",
   "execution_count": 38,
   "metadata": {},
   "outputs": [
    {
     "name": "stdout",
     "output_type": "stream",
     "text": [
      "3\n",
      "3\n",
      "ab\n"
     ]
    }
   ],
   "source": [
    "print(1+2)\n",
    "print(int.__add__(1, 2))\n",
    "print(str.__add__('a', 'b'))"
   ]
  },
  {
   "cell_type": "code",
   "execution_count": 39,
   "metadata": {},
   "outputs": [
    {
     "ename": "TypeError",
     "evalue": "unsupported operand type(s) for +: 'Employee' and 'Employee'",
     "output_type": "error",
     "traceback": [
      "\u001b[1;31m---------------------------------------------------------------------------\u001b[0m",
      "\u001b[1;31mTypeError\u001b[0m                                 Traceback (most recent call last)",
      "\u001b[1;32m<ipython-input-39-fc1594997f93>\u001b[0m in \u001b[0;36m<module>\u001b[1;34m()\u001b[0m\n\u001b[0;32m      8\u001b[0m \u001b[1;33m\u001b[0m\u001b[0m\n\u001b[0;32m      9\u001b[0m \u001b[1;31m#TypeError: unsupported operand type(s) for +: 'Employee' and 'Employee'\u001b[0m\u001b[1;33m\u001b[0m\u001b[1;33m\u001b[0m\u001b[0m\n\u001b[1;32m---> 10\u001b[1;33m \u001b[0mprint\u001b[0m\u001b[1;33m(\u001b[0m\u001b[0memp1\u001b[0m \u001b[1;33m+\u001b[0m \u001b[0memp2\u001b[0m\u001b[1;33m)\u001b[0m\u001b[1;33m\u001b[0m\u001b[0m\n\u001b[0m",
      "\u001b[1;31mTypeError\u001b[0m: unsupported operand type(s) for +: 'Employee' and 'Employee'"
     ]
    }
   ],
   "source": [
    "class Employee:\n",
    "    def __init__(self, first, last, pay):\n",
    "        self.first = first\n",
    "        self.last = last\n",
    "        self.email = first + '.' + last + '@email.com'\n",
    "        self.pay = pay\n",
    "\n",
    "\n",
    "#TypeError: unsupported operand type(s) for +: 'Employee' and 'Employee'\n",
    "print(emp1 + emp2) "
   ]
  },
  {
   "cell_type": "code",
   "execution_count": 40,
   "metadata": {},
   "outputs": [
    {
     "name": "stdout",
     "output_type": "stream",
     "text": [
      "110000\n"
     ]
    }
   ],
   "source": [
    "class Employee:\n",
    "    def __init__(self, first, last, pay):\n",
    "        self.first = first\n",
    "        self.last = last\n",
    "        self.email = first + '.' + last + '@email.com'\n",
    "        self.pay = pay\n",
    "\n",
    "    def __add__(self, other):\n",
    "        return self.pay + other.pay\n",
    "    \n",
    "emp1 = Employee('Mark', 'Doe', 50000)\n",
    "emp2 = Employee('Corey', 'Schafer', 60000)\n",
    "\n",
    "print(emp1 + emp2)"
   ]
  },
  {
   "cell_type": "markdown",
   "metadata": {},
   "source": [
    "#### \\_\\_len\\_\\_"
   ]
  },
  {
   "cell_type": "code",
   "execution_count": 42,
   "metadata": {},
   "outputs": [
    {
     "name": "stdout",
     "output_type": "stream",
     "text": [
      "4\n",
      "4\n"
     ]
    }
   ],
   "source": [
    "print(len('test'))\n",
    "print('test'.__len__())"
   ]
  },
  {
   "cell_type": "code",
   "execution_count": 44,
   "metadata": {},
   "outputs": [
    {
     "name": "stdout",
     "output_type": "stream",
     "text": [
      "8\n"
     ]
    }
   ],
   "source": [
    "class Employee:\n",
    "    def __init__(self, first, last, pay):\n",
    "        self.first = first\n",
    "        self.last = last\n",
    "        self.email = first + '.' + last + '@email.com'\n",
    "        self.pay = pay\n",
    "        self.fullname = first + ' ' + last\n",
    "\n",
    "    def __len__(self):\n",
    "        return len(self.fullname)\n",
    "    \n",
    "emp1 = Employee('Mark', 'Doe', 50000)\n",
    "\n",
    "print(len(emp1))"
   ]
  },
  {
   "cell_type": "markdown",
   "metadata": {},
   "source": [
    "| name | name | name | name |\n",
    "|:--- |:----|:--- |:----|\n",
    "| object.__add__(self, other)           | object.__radd__(self, other)      | object.__iadd__(self, other)           | object.__neg__(self) \n",
    "| object.__sub__(self, other)           | object.__rsub__(self, other)      | object.__isub__(self, other)           | object.__pos__(self) \n",
    "| object.__mul__(self, other)           | object.__rmul__(self, other)      | object.__imul__(self, other)           | object.__abs__(self) \n",
    "| object.__matmul__(self, other)        | object.__rmatmul__(self, other)   | object.__imatmul__(self, other)        | object.__invert__(self) \n",
    "| object.__truediv__(self, other)       | object.__rtruediv__(self, other)  | object.__itruediv__(self, other)       |  \n",
    "| object.__floordiv__(self, other)      | object.__rfloordiv__(self, other) | object.__ifloordiv__(self, other)      | object.__complex__(self) \n",
    "| object.__mod__(self, other)           | object.__rmod__(self, other)      | object.__imod__(self, other)           | object.__int__(self) \n",
    "| object.__divmod__(self, other)        | object.__rdivmod__(self, other)   | object.__ipow__(self, other[, modulo]) | object.__float__(self) \n",
    "| object.__pow__(self, other[, modulo]) | object.__rpow__(self, other)      | object.__ilshift__(self, other)        |  \n",
    "| object.__lshift__(self, other)        | object.__rlshift__(self, other)   | object.__irshift__(self, other)        | object.__round__(self[, ndigits]) \n",
    "| object.__rshift__(self, other)        | object.__rrshift__(self, other)   | object.__iand__(self, other)           | object.__trunc__(self) \n",
    "| object.__and__(self, other)           | object.__rand__(self, other)      | object.__ixor__(self, other)           | object.__floor__(self) \n",
    "| object.__xor__(self, other)           | object.__rxor__(self, other)      | object.__ior__(self, other)            | object.__ceil__(self) \n",
    "| object.__or__(self, other)            | object.__ror__(self, other)       |                                        |"
   ]
  },
  {
   "cell_type": "code",
   "execution_count": null,
   "metadata": {},
   "outputs": [],
   "source": []
  }
 ],
 "metadata": {
  "kernelspec": {
   "display_name": "Python 3",
   "language": "python",
   "name": "python3"
  },
  "language_info": {
   "codemirror_mode": {
    "name": "ipython",
    "version": 3
   },
   "file_extension": ".py",
   "mimetype": "text/x-python",
   "name": "python",
   "nbconvert_exporter": "python",
   "pygments_lexer": "ipython3",
   "version": "3.6.6"
  }
 },
 "nbformat": 4,
 "nbformat_minor": 2
}
