{
 "cells": [
  {
   "cell_type": "markdown",
   "metadata": {},
   "source": [
    "# 1."
   ]
  },
  {
   "cell_type": "markdown",
   "metadata": {},
   "source": [
    "### 变量作用域\n",
    "- LEGB规则 \n",
    "    - (Local 局部作用域, Enclosing 函数范围作用域, Global 全局作用域, Built-in 内置对象作用域)\n",
    "- global/nonlocal (全局/非局部)"
   ]
  },
  {
   "cell_type": "markdown",
   "metadata": {},
   "source": [
    "###### Local,  Global"
   ]
  },
  {
   "cell_type": "code",
   "execution_count": 1,
   "metadata": {},
   "outputs": [
    {
     "name": "stdout",
     "output_type": "stream",
     "text": [
      "local X\n",
      "local y\n",
      "------------------------------\n",
      "local X\n",
      "global y\n"
     ]
    }
   ],
   "source": [
    "x = 'global x'\n",
    "y = 'global y'\n",
    "\n",
    "def test():\n",
    "    global x\n",
    "    x = 'local X'\n",
    "    y = 'local y'\n",
    "    print(x)\n",
    "    print(y)\n",
    "    return None\n",
    "\n",
    "test()\n",
    "print(\"-\"*30)\n",
    "print(x)\n",
    "print(y)"
   ]
  },
  {
   "cell_type": "markdown",
   "metadata": {},
   "source": [
    "###### Built-in\n",
    "- 这个空间内有很多的内建函数和对象\n",
    "- 常用的min() max() sum() len()等"
   ]
  },
  {
   "cell_type": "code",
   "execution_count": 2,
   "metadata": {},
   "outputs": [
    {
     "name": "stdout",
     "output_type": "stream",
     "text": [
      "1\n"
     ]
    }
   ],
   "source": [
    "a = [5, 9, 3, 1, 7]\n",
    "print(min(a))"
   ]
  },
  {
   "cell_type": "code",
   "execution_count": 3,
   "metadata": {},
   "outputs": [
    {
     "name": "stdout",
     "output_type": "stream",
     "text": [
      "my min(x)\n"
     ]
    }
   ],
   "source": [
    "a = [5, 9, 3, 1, 7]\n",
    "\n",
    "def min(x):\n",
    "    return 'my min(x)'\n",
    "\n",
    "print(min(a))"
   ]
  },
  {
   "cell_type": "markdown",
   "metadata": {},
   "source": [
    "- Enclosing 函数范围作用域也称直接外围作用域\n",
    "- 常见于嵌套函数"
   ]
  },
  {
   "cell_type": "code",
   "execution_count": 4,
   "metadata": {},
   "outputs": [
    {
     "name": "stdout",
     "output_type": "stream",
     "text": [
      "inner\n",
      "outer\n",
      "--------------------\n",
      "global\n"
     ]
    }
   ],
   "source": [
    "x = 'global'\n",
    "\n",
    "def outer():\n",
    "    x = 'outer'\n",
    "    \n",
    "    def inner():\n",
    "        x = 'inner'\n",
    "        print(x)\n",
    "    \n",
    "    inner()\n",
    "    print(x)\n",
    "    \n",
    "    \n",
    "outer()\n",
    "print('-'*20)\n",
    "print(x)\n",
    "\n",
    "# 注释掉 x = 'inner' 重新运行"
   ]
  },
  {
   "cell_type": "markdown",
   "metadata": {},
   "source": [
    "# 2."
   ]
  },
  {
   "cell_type": "markdown",
   "metadata": {},
   "source": [
    "###  Lists, Tuples, and Objects 列表 , 元组 , 对象 排序"
   ]
  },
  {
   "cell_type": "markdown",
   "metadata": {},
   "source": [
    "- list\n",
    "    - list.sort(reverse=False)\n",
    "    - sorted(list, reverse=False)"
   ]
  },
  {
   "cell_type": "code",
   "execution_count": 5,
   "metadata": {},
   "outputs": [
    {
     "name": "stdout",
     "output_type": "stream",
     "text": [
      "Sorted   :  [1, 2, 3, 4, 5, 6, 7, 8, 9]\n",
      "Original :  [5, 8, 3, 6, 2, 4, 9, 7, 1]\n",
      "Original :  [1, 2, 3, 4, 5, 6, 7, 8, 9]\n"
     ]
    }
   ],
   "source": [
    "li = [5, 8, 3, 6, 2, 4, 9, 7, 1]\n",
    "\n",
    "s_li = sorted(li)  # return a mew sorted list\n",
    "\n",
    "print('Sorted   : ', s_li)\n",
    "print('Original : ', li)\n",
    "\n",
    "li.sort()\n",
    "print('Original : ', li)"
   ]
  },
  {
   "cell_type": "code",
   "execution_count": 6,
   "metadata": {},
   "outputs": [
    {
     "name": "stdout",
     "output_type": "stream",
     "text": [
      "Sorted   :  [8, 7, 6, 5, 5, 4, 3, 2, 1]\n",
      "Original :  [5, 8, 3, 6, 2, 4, 5, 7, 1]\n",
      "Original :  [8, 7, 6, 5, 5, 4, 3, 2, 1]\n"
     ]
    }
   ],
   "source": [
    "li = [5, 8, 3, 6, 2, 4, 5, 7, 1]\n",
    "s_li = sorted(li, reverse=True)  # return a mew sorted list\n",
    "\n",
    "print('Sorted   : ', s_li)\n",
    "print('Original : ', li)\n",
    "li.sort(reverse=True)\n",
    "print('Original : ', li)"
   ]
  },
  {
   "cell_type": "markdown",
   "metadata": {},
   "source": [
    "- Sort Tuples (能不能排序?)"
   ]
  },
  {
   "cell_type": "code",
   "execution_count": 7,
   "metadata": {},
   "outputs": [
    {
     "name": "stdout",
     "output_type": "stream",
     "text": [
      "1990826327640\n",
      "1990825956680\n",
      "1990826327640\n",
      "(5, 8, 3, 6, 2, 4, 9, 7, 1)\n",
      "[1, 2, 3, 4, 5, 6, 7, 8, 9]\n"
     ]
    }
   ],
   "source": [
    "t = (5, 8, 3, 6, 2, 4, 9, 7, 1)\n",
    "\n",
    "print(id(t))\n",
    "\n",
    "\n",
    "# t.sort()  # 'tuple' object has no attribute 'sort' 元组不能直接排序\n",
    "st = sorted(t)  # 返回一个新列表 而不是元组\n",
    "\n",
    "print(id(st))\n",
    "print(id(t))\n",
    "print(t)\n",
    "print(st)"
   ]
  },
  {
   "cell_type": "markdown",
   "metadata": {},
   "source": [
    "#### Sort Objects\n",
    "- dict字典"
   ]
  },
  {
   "cell_type": "code",
   "execution_count": 8,
   "metadata": {},
   "outputs": [
    {
     "name": "stdout",
     "output_type": "stream",
     "text": [
      "['age', 'job', 'name', 'os']\n",
      "{'name': 'Corey', 'job': 'programming bugs', 'age': 'maybe 100', 'os': None}\n"
     ]
    }
   ],
   "source": [
    "di = {'name':'Corey', 'job':'programming bugs', 'age':'maybe 100', 'os':None}\n",
    "\n",
    "s_di = sorted(di)\n",
    "# di.sort()  # AttributeError: 'dict' object has no attribute 'sort'\n",
    "print(s_di)\n",
    "print(di)"
   ]
  },
  {
   "cell_type": "markdown",
   "metadata": {},
   "source": [
    "- 自定义对象的排序"
   ]
  },
  {
   "cell_type": "markdown",
   "metadata": {},
   "source": [
    "#### sorted(iterable, *, key=None, reverse=False)\n",
    "-  **key** : 在进行比较之前，指定要在每个列表元素上调用的函数\n",
    "- **reverse** : 是否倒序?"
   ]
  },
  {
   "cell_type": "code",
   "execution_count": 9,
   "metadata": {},
   "outputs": [
    {
     "name": "stdout",
     "output_type": "stream",
     "text": [
      "[(John,22,$90000), (Sarah,14,$80000), (Tom,18,$70000)]\n",
      "[(Sarah,14,$80000), (Tom,18,$70000), (John,22,$90000)]\n",
      "[(John,22,$90000), (Sarah,14,$80000), (Tom,18,$70000)]\n"
     ]
    }
   ],
   "source": [
    "class Employee:\n",
    "    def __init__(self, name, age, salary):\n",
    "        self.name = name\n",
    "        self.age = age\n",
    "        self.salary = salary\n",
    "    \n",
    "    def __repr__(self):\n",
    "        return '({},{},${})'.format(self.name, self.age, self.salary)\n",
    "\n",
    "def e_sort(emp):\n",
    "    return emp.name\n",
    "\n",
    "e1 = Employee('Tom', 18, 70000)\n",
    "e2 = Employee('Sarah', 14, 80000)\n",
    "e3 = Employee('John', 22, 90000)\n",
    "es = [e1, e2, e3]\n",
    "\n",
    "se = sorted(es, key=e_sort)\n",
    "print(se)\n",
    "\n",
    "# 按年龄排序?\n",
    "se = sorted(es, key=lambda e:e.age)\n",
    "print(se)\n",
    "\n",
    "# 方便的选择对象属性 attribute getter\n",
    "from operator import attrgetter\n",
    "\n",
    "s_employee = sorted(es, key=attrgetter('salary'), reverse=True)  # 工资从高到低\n",
    "print(s_employee)"
   ]
  },
  {
   "cell_type": "markdown",
   "metadata": {},
   "source": [
    "# 3."
   ]
  },
  {
   "cell_type": "markdown",
   "metadata": {},
   "source": [
    "###  使用try -- except 块进行错误处理\n",
    "```python\n",
    "            try:\n",
    "                pass\n",
    "            except Exception:\n",
    "                pass\n",
    "```"
   ]
  },
  {
   "cell_type": "markdown",
   "metadata": {},
   "source": [
    "- 写个bug -- 打开文件异常\n",
    "- 用try--except处理"
   ]
  },
  {
   "cell_type": "code",
   "execution_count": 10,
   "metadata": {},
   "outputs": [],
   "source": [
    "try:\n",
    "    f = open('tmp.txt', 'r')\n",
    "\n",
    "except Exception as e:\n",
    "    \n",
    "    print(e)"
   ]
  },
  {
   "cell_type": "markdown",
   "metadata": {},
   "source": [
    "- try -- except -- finally"
   ]
  },
  {
   "cell_type": "code",
   "execution_count": 11,
   "metadata": {},
   "outputs": [
    {
     "name": "stdout",
     "output_type": "stream",
     "text": [
      "Finally...\n"
     ]
    }
   ],
   "source": [
    "try:\n",
    "    f = open('tmp.txt', 'r')\n",
    "    \n",
    "except Exception as e:\n",
    "    \n",
    "    print(e)\n",
    "    \n",
    "finally:\n",
    "    print(\"Finally...\")"
   ]
  },
  {
   "cell_type": "markdown",
   "metadata": {},
   "source": [
    "- try -- except -- else -- finally"
   ]
  },
  {
   "cell_type": "code",
   "execution_count": 12,
   "metadata": {},
   "outputs": [
    {
     "name": "stdout",
     "output_type": "stream",
     "text": [
      "{\n",
      " \"cells\": [\n",
      "  {\n",
      "   \"cell_type\": \"markdown\",\n",
      "   \"metadata\": {},\n",
      "   \"source\": [\n",
      "    \"# 1.\"\n",
      "   ]\n",
      "  }\n"
     ]
    }
   ],
   "source": [
    "# 在当前工作目录下创建一个tmp.txt\n",
    "try:\n",
    "    f = open('tmp.txt', 'r')\n",
    "    \n",
    "except Exception as e:\n",
    "    \n",
    "    print(e)\n",
    "    \n",
    "else:\n",
    "    r = f.read()\n",
    "    print(r)"
   ]
  },
  {
   "cell_type": "markdown",
   "metadata": {},
   "source": [
    "- 主动抛出异常 raise Exception('msg')"
   ]
  },
  {
   "cell_type": "code",
   "execution_count": 13,
   "metadata": {},
   "outputs": [
    {
     "name": "stdout",
     "output_type": "stream",
     "text": [
      "a is 1\n",
      "Finally...\n"
     ]
    }
   ],
   "source": [
    "try:\n",
    "    a = 1\n",
    "    if a == 1:\n",
    "        raise Exception('a is 1')\n",
    "    \n",
    "except Exception as e:\n",
    "    \n",
    "    print(e)\n",
    "    \n",
    "finally:\n",
    "    print(\"Finally...\")"
   ]
  },
  {
   "cell_type": "code",
   "execution_count": null,
   "metadata": {},
   "outputs": [],
   "source": []
  },
  {
   "cell_type": "markdown",
   "metadata": {},
   "source": [
    "# 4."
   ]
  },
  {
   "cell_type": "markdown",
   "metadata": {},
   "source": [
    "### 用unittest模块测试代码"
   ]
  },
  {
   "cell_type": "markdown",
   "metadata": {},
   "source": [
    "- 有一部分写好的代码需要测试"
   ]
  },
  {
   "cell_type": "code",
   "execution_count": 14,
   "metadata": {},
   "outputs": [],
   "source": [
    "## calc.py\n",
    "def add(x, y):\n",
    "    return x + y\n",
    "\n",
    "\n",
    "def subtract(x, y):\n",
    "    return x - y\n",
    "\n",
    "\n",
    "def multiply(x, y):\n",
    "    return x * y\n",
    "\n",
    "\n",
    "def divide(x, y):\n",
    "    if y == 0:\n",
    "        raise ValueError(\"Can not divide by zero!\")\n",
    "    return x / y\n"
   ]
  },
  {
   "cell_type": "markdown",
   "metadata": {},
   "source": [
    "#### 单元测试\n",
    "- unittest\n",
    "- .assertEqual()"
   ]
  },
  {
   "cell_type": "code",
   "execution_count": 15,
   "metadata": {},
   "outputs": [],
   "source": [
    "import unittest\n",
    "from  calc import  add,subtract, multiply, divide\n",
    "\n",
    "\n",
    "class TestCalc(unittest.TestCase):\n",
    "    # must start with the word 'test',for example: it can't be 'add_test'\n",
    "    def test_add(self):\n",
    "        result = add(10, 5)\n",
    "        self.assertEqual(result, 15)\n",
    "        self.assertEqual(add(-1, 1), 0)\n",
    "        self.assertEqual(add(-1, -1), -2)\n",
    "\n",
    "    def test_subtract(self):\n",
    "        self.assertEqual(subtract(-1, 1), -2)\n",
    "        self.assertEqual(subtract(1, 1), 0)\n",
    "\n",
    "    def test_multiply(self):\n",
    "        self.assertEqual(multiply(-1, 1), -1)\n",
    "        self.assertEqual(multiply(-1, 0), 0)\n",
    "        self.assertEqual(multiply(1, 1), 1)\n",
    "\n",
    "    def test_divide(self):\n",
    "        self.assertEqual(divide(-1, 1), -1)\n",
    "        self.assertEqual(divide(2, 1), 2)\n",
    "\n",
    "        self.assertRaises(ValueError, divide, 10, 0)\n",
    "\n",
    "        with self.assertRaises(ValueError):\n",
    "            divide(5, 0)"
   ]
  },
  {
   "cell_type": "code",
   "execution_count": null,
   "metadata": {},
   "outputs": [],
   "source": []
  },
  {
   "cell_type": "code",
   "execution_count": null,
   "metadata": {},
   "outputs": [],
   "source": []
  },
  {
   "cell_type": "code",
   "execution_count": null,
   "metadata": {},
   "outputs": [],
   "source": []
  },
  {
   "cell_type": "code",
   "execution_count": null,
   "metadata": {},
   "outputs": [],
   "source": []
  },
  {
   "cell_type": "code",
   "execution_count": null,
   "metadata": {},
   "outputs": [],
   "source": []
  },
  {
   "cell_type": "code",
   "execution_count": null,
   "metadata": {},
   "outputs": [],
   "source": []
  },
  {
   "cell_type": "code",
   "execution_count": null,
   "metadata": {},
   "outputs": [],
   "source": []
  },
  {
   "cell_type": "code",
   "execution_count": null,
   "metadata": {},
   "outputs": [],
   "source": []
  },
  {
   "cell_type": "code",
   "execution_count": null,
   "metadata": {},
   "outputs": [],
   "source": []
  },
  {
   "cell_type": "code",
   "execution_count": null,
   "metadata": {},
   "outputs": [],
   "source": []
  },
  {
   "cell_type": "code",
   "execution_count": null,
   "metadata": {},
   "outputs": [],
   "source": []
  },
  {
   "cell_type": "code",
   "execution_count": null,
   "metadata": {},
   "outputs": [],
   "source": []
  },
  {
   "cell_type": "code",
   "execution_count": null,
   "metadata": {},
   "outputs": [],
   "source": []
  },
  {
   "cell_type": "code",
   "execution_count": null,
   "metadata": {},
   "outputs": [],
   "source": []
  },
  {
   "cell_type": "markdown",
   "metadata": {},
   "source": [
    "- Python 基础教程21课时end\n",
    "    - 删减了原视频的习题课\n",
    "    - 简化了运算符等部分的内容\n",
    "    - 合并简化了单元测试等部分的内容 (我也不是很清楚)\n",
    "    \n",
    "- 下面是面向对象的编程部分"
   ]
  },
  {
   "cell_type": "markdown",
   "metadata": {},
   "source": [
    "# 1."
   ]
  },
  {
   "cell_type": "markdown",
   "metadata": {},
   "source": [
    "### 类和实例"
   ]
  },
  {
   "cell_type": "markdown",
   "metadata": {},
   "source": [
    "- self 在对象方法中表示当前对象本身，如果调用对象的一个方法，\n",
    "    那么该对象\"self\"会自动传入当前方法的**第一个参数**中"
   ]
  },
  {
   "cell_type": "code",
   "execution_count": 23,
   "metadata": {},
   "outputs": [
    {
     "name": "stdout",
     "output_type": "stream",
     "text": [
      "<__main__.Employee object at 0x000001757AFD32E8>\n",
      "<__main__.Employee object at 0x000001757AFD32B0>\n",
      "Mark\n",
      "50000\n",
      "Smith\n",
      "Join\n",
      "60000\n",
      "Test\n"
     ]
    }
   ],
   "source": [
    "class Employee:\n",
    "    pass\n",
    "\n",
    "\n",
    "e1 = Employee()\n",
    "e2 = Employee()\n",
    "\n",
    "print(e1)\n",
    "print(e2)\n",
    "\n",
    "e1.first = 'Mark'\n",
    "e1.last = 'Smith'\n",
    "e1.pay = 50000\n",
    "\n",
    "e2.first = 'Join'\n",
    "e2.last = 'Test'\n",
    "e2.pay = 60000\n",
    "\n",
    "print(e1.first)\n",
    "print(e1.pay)\n",
    "print(e1.last)\n",
    "print(e2.first)\n",
    "print(e2.pay)\n",
    "print(e2.last)"
   ]
  },
  {
   "cell_type": "markdown",
   "metadata": {},
   "source": [
    "- 构造函数 \\__init__"
   ]
  },
  {
   "cell_type": "code",
   "execution_count": 22,
   "metadata": {},
   "outputs": [
    {
     "name": "stdout",
     "output_type": "stream",
     "text": [
      "Mark\n",
      "Smith\n",
      "Mark Smith\n"
     ]
    }
   ],
   "source": [
    "class Employee:\n",
    "    \n",
    "    def __init__(self, first, last, pay):\n",
    "        self.first = first\n",
    "        self.last = last\n",
    "        self.pay = pay\n",
    "        \n",
    "\n",
    "\n",
    "e1 = Employee('Mark', 'Smith', 50000)\n",
    "e2 = Employee('Join', 'Test', 60000)\n",
    "\n",
    "\n",
    "print(e1.first)\n",
    "\n",
    "print(e1.last)\n",
    "\n",
    "print('{} {}'.format(e1.first, e1.last))"
   ]
  },
  {
   "cell_type": "code",
   "execution_count": 21,
   "metadata": {},
   "outputs": [
    {
     "name": "stdout",
     "output_type": "stream",
     "text": [
      "Mark Smith\n"
     ]
    }
   ],
   "source": [
    "class Employee:\n",
    "    \n",
    "    def __init__(self, first, last, pay):\n",
    "        self.first = first\n",
    "        self.last = last\n",
    "        self.pay = pay\n",
    "        \n",
    "    def fullname(self):\n",
    "        fullname = '{} {}'.format(self.first, self.last)\n",
    "        return fullname\n",
    "\n",
    "e1 = Employee('Mark', 'Smith', 50000)\n",
    "e2 = Employee('Join', 'Test', 60000)\n",
    "\n",
    "\n",
    "print(e1.fullname())"
   ]
  },
  {
   "cell_type": "markdown",
   "metadata": {},
   "source": [
    "- 如果类想调用绑定方法，就必须遵循函数的参数规则，有几个参数，就必须传递几个参数"
   ]
  },
  {
   "cell_type": "code",
   "execution_count": 19,
   "metadata": {},
   "outputs": [
    {
     "name": "stdout",
     "output_type": "stream",
     "text": [
      "Mark Smith\n"
     ]
    }
   ],
   "source": [
    "# print(employee.fullname())  # 参数缺失,出错\n",
    "print(employee.fullname(e1)) "
   ]
  },
  {
   "cell_type": "markdown",
   "metadata": {},
   "source": [
    "# 2."
   ]
  },
  {
   "cell_type": "markdown",
   "metadata": {},
   "source": [
    "## 类中的方法有2类：\n",
    "\n",
    "#### 1.绑定方法\n",
    "\n",
    "\n",
    "- 1.对象的绑定方法\n",
    "    - 凡是类中的方法或函数，默认情况下都是绑定给**对象**使用的。\n",
    "    - 如果**类**来调用类中的方法，那么这个方法仅仅只是一个函数，那么既然是函数，就不会自动传值。(手动传值)\n",
    "\n",
    "```python\n",
    "    def func(self):\n",
    "        pass\n",
    "```\n",
    "- 2.类的绑定方法\n",
    "    -  怎样将类中对象的绑定方法解除对象绑定关系? 在python中，引入了 **@classmethod** 方法，将类中的方法绑定到类身上。\n",
    "    \n",
    "```python\n",
    "    @classmethod\n",
    "    def func(cls):\n",
    "        pass\n",
    "```\n",
    "#### 2.非绑定方法(静态方法)\n",
    "- python给我们提供了 **@staticmethod** 可以解除绑定关系，将一个类中的方法，变为一个普通函数。\n",
    "- 使用了 **@staticmethod** 装饰了一个函数，那么这个函数跟普通函数没有什么区别。遵从函数参数传递规则，有几个参数就传递几个参数。\n",
    "\n",
    "```python\n",
    "    @classmethod\n",
    "    def func(cls):\n",
    "        pass\n",
    "```"
   ]
  },
  {
   "cell_type": "code",
   "execution_count": 20,
   "metadata": {
    "scrolled": true
   },
   "outputs": [
    {
     "ename": "TypeError",
     "evalue": "fullname() takes 0 positional arguments but 1 was given",
     "output_type": "error",
     "traceback": [
      "\u001b[1;31m---------------------------------------------------------------------------\u001b[0m",
      "\u001b[1;31mTypeError\u001b[0m                                 Traceback (most recent call last)",
      "\u001b[1;32m<ipython-input-20-464816f19d93>\u001b[0m in \u001b[0;36m<module>\u001b[1;34m()\u001b[0m\n\u001b[0;32m     13\u001b[0m \u001b[0me1\u001b[0m \u001b[1;33m=\u001b[0m \u001b[0mEmployee\u001b[0m\u001b[1;33m(\u001b[0m\u001b[1;34m'Mark'\u001b[0m\u001b[1;33m,\u001b[0m \u001b[1;34m'Smith'\u001b[0m\u001b[1;33m,\u001b[0m \u001b[1;36m50000\u001b[0m\u001b[1;33m)\u001b[0m\u001b[1;33m\u001b[0m\u001b[0m\n\u001b[0;32m     14\u001b[0m \u001b[1;33m\u001b[0m\u001b[0m\n\u001b[1;32m---> 15\u001b[1;33m \u001b[0mprint\u001b[0m\u001b[1;33m(\u001b[0m\u001b[0me1\u001b[0m\u001b[1;33m.\u001b[0m\u001b[0mfullname\u001b[0m\u001b[1;33m(\u001b[0m\u001b[1;33m)\u001b[0m\u001b[1;33m)\u001b[0m\u001b[1;33m\u001b[0m\u001b[0m\n\u001b[0m",
      "\u001b[1;31mTypeError\u001b[0m: fullname() takes 0 positional arguments but 1 was given"
     ]
    }
   ],
   "source": [
    "class Employee:\n",
    "    \n",
    "    def __init__(self, first, last, pay):\n",
    "        self.first = first\n",
    "        self.last = last\n",
    "        self.pay = pay\n",
    "        \n",
    "    def fullname():\n",
    "        \n",
    "        return 'fullname'\n",
    "    \n",
    "    \n",
    "e1 = Employee('Mark', 'Smith', 50000)\n",
    "\n",
    "print(e1.fullname())"
   ]
  },
  {
   "cell_type": "markdown",
   "metadata": {},
   "source": [
    "- fullname()不需要参数, 但传入了一个参数,引起报错\n",
    "- 我们改为def fullname(self):"
   ]
  },
  {
   "cell_type": "code",
   "execution_count": 17,
   "metadata": {},
   "outputs": [
    {
     "name": "stdout",
     "output_type": "stream",
     "text": [
      "fullname\n"
     ]
    }
   ],
   "source": [
    "class Employee:\n",
    "    \n",
    "    def __init__(self, first, last, pay):\n",
    "        self.first = first\n",
    "        self.last = last\n",
    "        self.pay = pay\n",
    "        \n",
    "    def fullname(self):\n",
    "        \n",
    "        return 'fullname'\n",
    "    \n",
    "    \n",
    "e1 = Employee('Mark', 'Smith', 50000)\n",
    "\n",
    "print(e1.fullname())"
   ]
  },
  {
   "cell_type": "markdown",
   "metadata": {},
   "source": [
    "- 并没有报错, 因为调用时**e1**被Python默认传入def fullname(self): 中,\n",
    "- 我们用**self**接收了默认传入的**e1**, 所以不会报错"
   ]
  },
  {
   "cell_type": "markdown",
   "metadata": {},
   "source": [
    "我们再试试**类的绑定方法**"
   ]
  },
  {
   "cell_type": "code",
   "execution_count": 18,
   "metadata": {},
   "outputs": [
    {
     "ename": "TypeError",
     "evalue": "fullname() takes 0 positional arguments but 1 was given",
     "output_type": "error",
     "traceback": [
      "\u001b[1;31m---------------------------------------------------------------------------\u001b[0m",
      "\u001b[1;31mTypeError\u001b[0m                                 Traceback (most recent call last)",
      "\u001b[1;32m<ipython-input-18-4a900381592b>\u001b[0m in \u001b[0;36m<module>\u001b[1;34m()\u001b[0m\n\u001b[0;32m     14\u001b[0m \u001b[0me1\u001b[0m \u001b[1;33m=\u001b[0m \u001b[0mEmployee\u001b[0m\u001b[1;33m(\u001b[0m\u001b[1;34m'Mark'\u001b[0m\u001b[1;33m,\u001b[0m \u001b[1;34m'Smith'\u001b[0m\u001b[1;33m,\u001b[0m \u001b[1;36m50000\u001b[0m\u001b[1;33m)\u001b[0m\u001b[1;33m\u001b[0m\u001b[0m\n\u001b[0;32m     15\u001b[0m \u001b[1;33m\u001b[0m\u001b[0m\n\u001b[1;32m---> 16\u001b[1;33m \u001b[0mprint\u001b[0m\u001b[1;33m(\u001b[0m\u001b[0me1\u001b[0m\u001b[1;33m.\u001b[0m\u001b[0mfullname\u001b[0m\u001b[1;33m(\u001b[0m\u001b[1;33m)\u001b[0m\u001b[1;33m)\u001b[0m\u001b[1;33m\u001b[0m\u001b[0m\n\u001b[0m",
      "\u001b[1;31mTypeError\u001b[0m: fullname() takes 0 positional arguments but 1 was given"
     ]
    }
   ],
   "source": [
    "class Employee:\n",
    "    \n",
    "    def __init__(self, first, last, pay):\n",
    "        self.first = first\n",
    "        self.last = last\n",
    "        self.pay = pay\n",
    "        \n",
    "    @classmethod    \n",
    "    def fullname():\n",
    "        \n",
    "        return 'fullname'\n",
    "    \n",
    "    \n",
    "e1 = Employee('Mark', 'Smith', 50000)\n",
    "\n",
    "print(e1.fullname())"
   ]
  },
  {
   "cell_type": "markdown",
   "metadata": {},
   "source": [
    "- 出错, 原因同样是多传入一个参数\n",
    "- 我们改为def fullname(cls)试试"
   ]
  },
  {
   "cell_type": "code",
   "execution_count": 19,
   "metadata": {},
   "outputs": [
    {
     "name": "stdout",
     "output_type": "stream",
     "text": [
      "fullname\n"
     ]
    }
   ],
   "source": [
    "class Employee:\n",
    "    \n",
    "    def __init__(self, first, last, pay):\n",
    "        self.first = first\n",
    "        self.last = last\n",
    "        self.pay = pay\n",
    "        \n",
    "    @classmethod    \n",
    "    def fullname(cls):\n",
    "        \n",
    "        return 'fullname'\n",
    "    \n",
    "    \n",
    "e1 = Employee('Mark', 'Smith', 50000)\n",
    "\n",
    "print(e1.fullname())"
   ]
  },
  {
   "cell_type": "markdown",
   "metadata": {},
   "source": [
    "- 并没有报错, 因为调用时**employee类**被Python默认传入def fullname(cls): 中,\n",
    "- 我们用**cls**接收了默认传入的**employee类**, 所以不会报错"
   ]
  },
  {
   "cell_type": "markdown",
   "metadata": {},
   "source": [
    "- 再看一下静态方法,\n",
    "- 使用了 **@staticmethod** 装饰的一个函数    def fullname():"
   ]
  },
  {
   "cell_type": "code",
   "execution_count": 12,
   "metadata": {},
   "outputs": [
    {
     "name": "stdout",
     "output_type": "stream",
     "text": [
      "fullname\n"
     ]
    }
   ],
   "source": [
    "class Employee:\n",
    "    \n",
    "    def __init__(self, first, last, pay):\n",
    "        self.first = first\n",
    "        self.last = last\n",
    "        self.pay = pay\n",
    "        \n",
    "    @staticmethod\n",
    "    def fullname():\n",
    "        \n",
    "        return 'fullname'\n",
    "    \n",
    "    \n",
    "e1 = Employee('Mark', 'Smith', 50000)\n",
    "\n",
    "print(e1.fullname())"
   ]
  },
  {
   "cell_type": "markdown",
   "metadata": {},
   "source": [
    "# 3."
   ]
  },
  {
   "cell_type": "markdown",
   "metadata": {},
   "source": [
    "### 类变量"
   ]
  },
  {
   "cell_type": "code",
   "execution_count": 16,
   "metadata": {},
   "outputs": [
    {
     "name": "stdout",
     "output_type": "stream",
     "text": [
      "1.04\n"
     ]
    }
   ],
   "source": [
    "# 为员工类添加一项 raise_mt 工资涨幅(类变量)\n",
    "class Employee:\n",
    "    \n",
    "    raise_mt = 1.04\n",
    "    \n",
    "    def __init__(self, first, last, pay):\n",
    "        self.first = first\n",
    "        self.last = last\n",
    "        self.pay = pay\n",
    "        \n",
    "    def fullname(self):\n",
    "        fullname = '{} {}'.format(self.first, self.last)\n",
    "        return fullname\n",
    "    \n",
    "    \n",
    "e1 = Employee('Mark', 'Smith', 50000)\n",
    "e2 = Employee('Join', 'Test', 60000)\n",
    "\n",
    "print(e1.raise_mt)"
   ]
  },
  {
   "cell_type": "code",
   "execution_count": 15,
   "metadata": {},
   "outputs": [
    {
     "name": "stdout",
     "output_type": "stream",
     "text": [
      "{'first': 'Mark', 'last': 'Smith', 'pay': 50000}\n"
     ]
    }
   ],
   "source": [
    "# 查看实例的所有属性\n",
    "class Employee:\n",
    "    \n",
    "    raise_mt = 1.04\n",
    "    \n",
    "    def __init__(self, first, last, pay):\n",
    "        self.first = first\n",
    "        self.last = last\n",
    "        self.pay = pay\n",
    "        \n",
    "    def fullname(self):\n",
    "        fullname = '{} {}'.format(self.first, self.last)\n",
    "        return fullname\n",
    "    \n",
    "    \n",
    "e1 = Employee('Mark', 'Smith', 50000)\n",
    "e2 = Employee('Join', 'Test', 60000)\n",
    "\n",
    "\n",
    "print(e1.__dict__)  # 并没有arise_mt"
   ]
  },
  {
   "cell_type": "markdown",
   "metadata": {},
   "source": [
    "- 对象访问一个成员时,如果对象中没有该成员,尝试访问类中的同名成员。\n",
    "- 如果对象中有此成员,一定使用对象中的成员"
   ]
  },
  {
   "cell_type": "code",
   "execution_count": 13,
   "metadata": {},
   "outputs": [
    {
     "name": "stdout",
     "output_type": "stream",
     "text": [
      "1.04\n",
      "1.04\n",
      "1.04\n",
      "--------------------\n",
      "1.04\n",
      "1.05\n",
      "1.04\n"
     ]
    }
   ],
   "source": [
    "class Employee:\n",
    "    \n",
    "    raise_mt = 1.04\n",
    "    \n",
    "    def __init__(self, first, last, pay):\n",
    "        self.first = first\n",
    "        self.last = last\n",
    "        self.pay = pay\n",
    "        \n",
    "    def fullname(self):\n",
    "        fullname = '{} {}'.format(self.first, self.last)\n",
    "        return fullname\n",
    "    \n",
    "    \n",
    "e1 = Employee('Mark', 'Smith', 50000)\n",
    "e2 = Employee('Join', 'Test', 60000)\n",
    "\n",
    "\n",
    "print(Employee.raise_mt)\n",
    "print(e1.raise_mt)\n",
    "print(e2.raise_mt)\n",
    "\n",
    "e1.raise_mt = 1.05\n",
    "print('-'*20)\n",
    "print(Employee.raise_mt)\n",
    "print(e1.raise_mt)\n",
    "print(e2.raise_mt)"
   ]
  },
  {
   "cell_type": "code",
   "execution_count": 29,
   "metadata": {},
   "outputs": [
    {
     "name": "stdout",
     "output_type": "stream",
     "text": [
      "{'first': 'Mark', 'last': 'Smith', 'pay': 50000, 'raise_mt': 1.05}\n",
      "{'first': 'Join', 'last': 'Test', 'pay': 60000}\n",
      "{'__module__': '__main__', 'raise_mt': 1.04, '__init__': <function employee.__init__ at 0x000001CF8687A400>, 'fullname': <function employee.fullname at 0x000001CF8687A268>, '__dict__': <attribute '__dict__' of 'employee' objects>, '__weakref__': <attribute '__weakref__' of 'employee' objects>, '__doc__': None}\n"
     ]
    }
   ],
   "source": [
    "# 再次查看实例的所有属性\n",
    "print(e1.__dict__) \n",
    "print(e2.__dict__) \n",
    "print(employee.__dict__)"
   ]
  },
  {
   "cell_type": "markdown",
   "metadata": {},
   "source": [
    "- e1 比e2多了属性'raise_mt'\n",
    "- e1 访问'raise_mt'属性时, 访问 e1 自己的名为'raise_mt'的成员,\n",
    "- e2 访问'raise_mt'属性时, 由于e2 并没有'raise_mt'成员, 所以访问**employee类**中的同名成员 "
   ]
  },
  {
   "cell_type": "markdown",
   "metadata": {},
   "source": [
    "# 4."
   ]
  },
  {
   "cell_type": "markdown",
   "metadata": {},
   "source": [
    "### 继承-创建子类\n",
    "- class sub_class(super_class)\n",
    "```python\n",
    "    class Employee:\n",
    "        pass\n",
    "    \n",
    "    class Developer(Employee):\n",
    "        pass\n",
    "```"
   ]
  },
  {
   "cell_type": "code",
   "execution_count": 28,
   "metadata": {},
   "outputs": [
    {
     "name": "stdout",
     "output_type": "stream",
     "text": [
      "50000\n",
      "Join Test\n"
     ]
    }
   ],
   "source": [
    "class Employee:\n",
    "    \n",
    "    raise_mt = 1.04\n",
    "    \n",
    "    def __init__(self, first, last, pay):\n",
    "        self.first = first\n",
    "        self.last = last\n",
    "        self.pay = pay\n",
    "        \n",
    "    def fullname(self):\n",
    "        fullname = '{} {}'.format(self.first, self.last)\n",
    "        return fullname\n",
    "    \n",
    "    \n",
    "class Developer(Employee):\n",
    "    pass\n",
    "    \n",
    "e = Employee('Mark', 'Smith', 50000)\n",
    "d = Developer('Join', 'Test', 60000)\n",
    "\n",
    "print(e.pay)\n",
    "print(d.fullname())"
   ]
  },
  {
   "cell_type": "markdown",
   "metadata": {},
   "source": [
    "- 我们将Developer的 'raise_mt'值修改, 并添加apply_raise()方法\n",
    "- Employee 'raise_mt'值并不会变"
   ]
  },
  {
   "cell_type": "code",
   "execution_count": 42,
   "metadata": {},
   "outputs": [
    {
     "name": "stdout",
     "output_type": "stream",
     "text": [
      "1.04\n",
      "1.25\n",
      "60000\n",
      "75000\n"
     ]
    }
   ],
   "source": [
    "class Employee:\n",
    "    \n",
    "    raise_mt = 1.04\n",
    "    \n",
    "    def __init__(self, first, last, pay):\n",
    "        self.first = first\n",
    "        self.last = last\n",
    "        self.pay = pay\n",
    "        \n",
    "    def fullname(self):\n",
    "        fullname = '{} {}'.format(self.first, self.last)\n",
    "        return fullname\n",
    "    \n",
    "    \n",
    "class Developer(Employee):\n",
    "    raise_mt = 1.25\n",
    "    \n",
    "    def apply_raise(self):\n",
    "        self.pay = int(self.pay * self.raise_mt)\n",
    "    \n",
    "d = Developer('Join', 'Test', 60000)\n",
    "\n",
    "\n",
    "print(Employee.raise_mt)\n",
    "print(Developer.raise_mt)\n",
    "print(d.pay)\n",
    "d.apply_raise()\n",
    "print(d.pay)"
   ]
  },
  {
   "cell_type": "markdown",
   "metadata": {},
   "source": [
    "- help()查看Developer与的各种信息\n",
    "\n",
    "- 方法解析顺序:Method resolution order \n",
    "- 先Developer 后  Employee 最后  builtins.object内置对象\n",
    "    \n",
    "    - 新定义了方法apply_raise(self)\n",
    "    - 新调整了'raise_mt ' 的值\n",
    "    - 继承了Employee的 \\__init__方法, fullname()方法"
   ]
  },
  {
   "cell_type": "code",
   "execution_count": 44,
   "metadata": {},
   "outputs": [
    {
     "name": "stdout",
     "output_type": "stream",
     "text": [
      "Help on class Developer in module __main__:\n",
      "\n",
      "class Developer(Employee)\n",
      " |  Method resolution order:\n",
      " |      Developer\n",
      " |      Employee\n",
      " |      builtins.object\n",
      " |  \n",
      " |  Methods defined here:\n",
      " |  \n",
      " |  apply_raise(self)\n",
      " |  \n",
      " |  ----------------------------------------------------------------------\n",
      " |  Data and other attributes defined here:\n",
      " |  \n",
      " |  raise_mt = 1.25\n",
      " |  \n",
      " |  ----------------------------------------------------------------------\n",
      " |  Methods inherited from Employee:\n",
      " |  \n",
      " |  __init__(self, first, last, pay)\n",
      " |      Initialize self.  See help(type(self)) for accurate signature.\n",
      " |  \n",
      " |  fullname(self)\n",
      " |  \n",
      " |  ----------------------------------------------------------------------\n",
      " |  Data descriptors inherited from Employee:\n",
      " |  \n",
      " |  __dict__\n",
      " |      dictionary for instance variables (if defined)\n",
      " |  \n",
      " |  __weakref__\n",
      " |      list of weak references to the object (if defined)\n",
      "\n",
      "None\n"
     ]
    }
   ],
   "source": [
    "print(help(Developer))"
   ]
  },
  {
   "cell_type": "markdown",
   "metadata": {},
   "source": [
    "- 为Developer添加更多属性 skill = 'Python'\n",
    "- 使用Developer的\\_\\_init__(函数)初始化Developer\n",
    "    - 使用 super().\\_\\_init__()调用父类init方法"
   ]
  },
  {
   "cell_type": "code",
   "execution_count": 52,
   "metadata": {},
   "outputs": [
    {
     "name": "stdout",
     "output_type": "stream",
     "text": [
      "python\n",
      "Join Test\n"
     ]
    }
   ],
   "source": [
    "class Employee:\n",
    "    \n",
    "    raise_mt = 1.04\n",
    "    \n",
    "    def __init__(self, first, last, pay):\n",
    "        self.first = first\n",
    "        self.last = last\n",
    "        self.pay = pay\n",
    "        \n",
    "    def fullname(self):\n",
    "        fullname = '{} {}'.format(self.first, self.last)\n",
    "        return fullname\n",
    "    \n",
    "    \n",
    "class Developer(Employee):\n",
    "    raise_mt = 1.25\n",
    "    \n",
    "    def __init__(self, first, last, pay, skill):\n",
    "        \n",
    "        self.skill = skill\n",
    "        \n",
    "        super().__init__(first, last, pay)\n",
    "            \n",
    "    def apply_raise(self):\n",
    "        self.pay = int(self.pay * self.raise_mt)\n",
    "    \n",
    "d = Developer('Join', 'Test', 60000, 'python')\n",
    "\n",
    "\n",
    "\n",
    "print(d.skill)\n",
    "print(d.fullname())"
   ]
  },
  {
   "cell_type": "markdown",
   "metadata": {},
   "source": [
    "### isinstance() issubclass()\n",
    "### 判断类和实例 / 类和子类的关系\n",
    "- isinstance()将告诉我们一个对象是否是一个类的实例 (会考虑继承关系)\n",
    "- issubclass()将告诉我们一个类是否是一个类的子类"
   ]
  },
  {
   "cell_type": "code",
   "execution_count": 62,
   "metadata": {},
   "outputs": [
    {
     "name": "stdout",
     "output_type": "stream",
     "text": [
      "True\n",
      "True\n",
      "False\n",
      "True\n",
      "--------------------\n",
      "True\n",
      "True\n",
      "False\n"
     ]
    }
   ],
   "source": [
    "class Employee:\n",
    "    \n",
    "    raise_mt = 1.04\n",
    "    \n",
    "    def __init__(self, first, last, pay):\n",
    "        self.first = first\n",
    "        self.last = last\n",
    "        self.pay = pay\n",
    "        \n",
    "    def fullname(self):\n",
    "        fullname = '{} {}'.format(self.first, self.last)\n",
    "        return fullname\n",
    "    \n",
    "    \n",
    "class Developer(Employee):\n",
    "    raise_mt = 1.25\n",
    "    \n",
    "    def __init__(self, first, last, pay, skill):\n",
    "        \n",
    "        self.skill = skill\n",
    "        \n",
    "        super().__init__(first, last, pay)\n",
    "            \n",
    "    def apply_raise(self):\n",
    "        self.pay = int(self.pay * self.raise_mt)\n",
    "    \n",
    "d = Developer('Join', 'Test', 60000, 'python')\n",
    "e = Employee('Join', 'Test', 60000)\n",
    "\n",
    "\n",
    "print(isinstance(e, Employee))\n",
    "print(isinstance(d, Developer))\n",
    "print(isinstance(e, Developer))\n",
    "print(isinstance(d, Employee))\n",
    "\n",
    "print('-'*20)\n",
    "print(issubclass(Developer, Employee))\n",
    "print(issubclass(Employee, Employee))\n",
    "print(issubclass(Employee, Developer))"
   ]
  },
  {
   "cell_type": "markdown",
   "metadata": {},
   "source": [
    "# 5."
   ]
  },
  {
   "cell_type": "markdown",
   "metadata": {},
   "source": [
    "### 几个特殊的 (Magic/Dunder) 方法\n",
    "1. __\\_\\_init\\_\\___( )\n",
    "2. __\\_\\_repr\\_\\___( )\n",
    "3. __\\_\\_str\\_\\___( )"
   ]
  },
  {
   "cell_type": "markdown",
   "metadata": {},
   "source": [
    "- 简单了解一下2. __\\_\\_repr\\_\\___( )和3. __\\_\\_str\\_\\___( )"
   ]
  },
  {
   "cell_type": "code",
   "execution_count": 69,
   "metadata": {},
   "outputs": [
    {
     "name": "stdout",
     "output_type": "stream",
     "text": [
      "<__main__.Employee object at 0x000001757B01D860>\n"
     ]
    }
   ],
   "source": [
    "class Employee:\n",
    "    def __init__(self, first, last, pay):\n",
    "        self.first = first\n",
    "        self.last = last\n",
    "        self.email = first + '.' + last + '@email.com'\n",
    "        self.pay = pay\n",
    "\n",
    "        \n",
    "emp1 = Employee('Mark', 'Doe', 50000)\n",
    "# 直接print()一下\n",
    "print(emp1)\n"
   ]
  },
  {
   "cell_type": "markdown",
   "metadata": {},
   "source": [
    "- 输出了一些提示性信息, 但是并不是很友好,只是显示了内存地址等抽象信息\n",
    "- 我们想知道跟具体易懂的信息\n",
    "- 用\\__repr\\__()"
   ]
  },
  {
   "cell_type": "code",
   "execution_count": 72,
   "metadata": {},
   "outputs": [
    {
     "name": "stdout",
     "output_type": "stream",
     "text": [
      "Mark Doe\n"
     ]
    }
   ],
   "source": [
    "class Employee:\n",
    "    def __init__(self, first, last, pay):\n",
    "        self.first = first\n",
    "        self.last = last\n",
    "        self.email = first + '.' + last + '@email.com'\n",
    "        self.pay = pay\n",
    "    \n",
    "    def __repr__(self):\n",
    "        \n",
    "        return '{} {}'.format(self.first, self.last)\n",
    "    \n",
    "        \n",
    "emp1 = Employee('Mark', 'Doe', 50000)\n",
    "\n",
    "\n",
    "print(emp1)\n"
   ]
  },
  {
   "cell_type": "markdown",
   "metadata": {},
   "source": [
    "- 比较友好的输出"
   ]
  },
  {
   "cell_type": "markdown",
   "metadata": {},
   "source": [
    "- 重写\\__str\\__()\n",
    "- 相当于把Employee 转化成了 str字符串"
   ]
  },
  {
   "cell_type": "code",
   "execution_count": 73,
   "metadata": {},
   "outputs": [
    {
     "name": "stdout",
     "output_type": "stream",
     "text": [
      "Mark Doe   Mark.Doe@email.com\n"
     ]
    }
   ],
   "source": [
    "class Employee:\n",
    "    def __init__(self, first, last, pay):\n",
    "        self.first = first\n",
    "        self.last = last\n",
    "        self.email = first + '.' + last + '@email.com'\n",
    "        self.pay = pay\n",
    "    \n",
    "    def __repr__(self):\n",
    "        \n",
    "        return '{} {}'.format(self.first)\n",
    "    \n",
    "    def __str__(self):\n",
    "        \n",
    "        return '{} {}   {}'.format(self.first, self.last, self.email)\n",
    "    \n",
    "        \n",
    "emp1 = Employee('Mark', 'Doe', 50000)\n",
    "\n",
    "\n",
    "print(emp1)"
   ]
  },
  {
   "cell_type": "markdown",
   "metadata": {},
   "source": [
    "- \\__str\\__()覆盖住了\\__repr\\__()\n",
    "- 同时存在时一般\\__str\\__()优先"
   ]
  },
  {
   "cell_type": "markdown",
   "metadata": {},
   "source": [
    "#### 还有很多特殊函数, 可以在Python文档里找到\n",
    "- 例如\\_\\_len()\\_\\_"
   ]
  },
  {
   "cell_type": "markdown",
   "metadata": {},
   "source": [
    "- 将两个employee 相加?\n",
    "- 重写\\_\\_len()\\_\\_方法"
   ]
  },
  {
   "cell_type": "code",
   "execution_count": 78,
   "metadata": {},
   "outputs": [
    {
     "name": "stdout",
     "output_type": "stream",
     "text": [
      "90000\n"
     ]
    }
   ],
   "source": [
    "class Employee:\n",
    "    def __init__(self, first, last, pay):\n",
    "        self.first = first\n",
    "        self.last = last\n",
    "        self.email = first + '.' + last + '@email.com'\n",
    "        self.pay = pay\n",
    "    \n",
    "    def __repr__(self):\n",
    "        \n",
    "        return '{} {}'.format(self.first)\n",
    "    \n",
    "    def __str__(self):\n",
    "        \n",
    "        return '{} {}   {}'.format(self.first, self.last, self.email)\n",
    "    \n",
    "    def __add__(self, emp):\n",
    "        \n",
    "        return self.pay + emp.pay\n",
    "    \n",
    "    \n",
    "        \n",
    "emp1 = Employee('Mark', 'Doe', 50000)\n",
    "emp2 = Employee('Join', 'Cloer', 40000)\n",
    "\n",
    "print(emp1 + emp2)"
   ]
  },
  {
   "cell_type": "markdown",
   "metadata": {},
   "source": [
    "# 6."
   ]
  },
  {
   "cell_type": "markdown",
   "metadata": {},
   "source": [
    "###  装饰器 - Getters, Setters, and Deleters"
   ]
  },
  {
   "cell_type": "code",
   "execution_count": 1,
   "metadata": {},
   "outputs": [
    {
     "name": "stdout",
     "output_type": "stream",
     "text": [
      "Mark\n",
      "Mark.Doe@email.com\n",
      "Mark Doe\n",
      "\n",
      "Cory\n",
      "Mark.Doe@email.com\n",
      "Cory Doe\n"
     ]
    }
   ],
   "source": [
    "class Employee:\n",
    "    def __init__(self, first, last, pay):\n",
    "        self.first = first\n",
    "        self.last = last\n",
    "        self.email = first + '.' + last + '@email.com'\n",
    "        self.pay = pay\n",
    "    \n",
    "    def fullname(self):\n",
    "        return '{} {}'.format(self.first, self.last)\n",
    "\n",
    "\n",
    "emp1 = Employee('Mark', 'Doe', 50000)\n",
    "emp2 = Employee('Tom', 'Smith', 60000)\n",
    "\n",
    "print(emp1.first)\n",
    "print(emp1.email)\n",
    "print(emp1.fullname())\n",
    "\n",
    "print()\n",
    "# when we change the emp1.first and print again\n",
    "# The email has our old first name?\n",
    "emp1.first = 'Cory'\n",
    "print(emp1.first)\n",
    "print(emp1.email)\n",
    "print(emp1.fullname())"
   ]
  },
  {
   "cell_type": "markdown",
   "metadata": {},
   "source": [
    "- 修改emp1的first name后, 再次输出emp1的email, 发现email并没有随first的改变而改变\n",
    "- 因为email是在创建emp1的时候根据第一次输入的名字一次性生成的,之后email属性就不会受first 和 last 属性影响了\n",
    "- 怎么解决这个问题?\n",
    "- 1. 我们可以写一个email()方法, 就像fullname()方法一样(太麻烦了)\n",
    "- 2. 写get() 和 set()方法,就像C++/Java中一样(太麻烦了)\n",
    "- 3. 使用Python的装饰器---->**@property**"
   ]
  },
  {
   "cell_type": "code",
   "execution_count": 2,
   "metadata": {},
   "outputs": [
    {
     "name": "stdout",
     "output_type": "stream",
     "text": [
      "Cory\n",
      "Cory.Doe@email.com\n",
      "Cory Doe\n"
     ]
    }
   ],
   "source": [
    "class Employee:\n",
    "    def __init__(self, first, last, pay):\n",
    "        self.first = first\n",
    "        self.last = last\n",
    "        self.pay = pay\n",
    "    \n",
    "    @property\n",
    "    def email(self):\n",
    "        return self.first + '.' + self.last + '@email.com'\n",
    "    \n",
    "    @property\n",
    "    def fullname(self):\n",
    "        return '{} {}'.format(self.first, self.last)\n",
    "\n",
    "\n",
    "emp1 = Employee('Mark', 'Doe', 50000)\n",
    "\n",
    "emp1.first = 'Cory'\n",
    "print(emp1.first)\n",
    "print(emp1.email)\n",
    "print(emp1.fullname)"
   ]
  },
  {
   "cell_type": "markdown",
   "metadata": {},
   "source": [
    "- email(self) 和方法1.很类似, 只是在使用时不用调用函数的写法, 直接当做属性操作"
   ]
  },
  {
   "cell_type": "markdown",
   "metadata": {},
   "source": [
    "- 如果我们想要直接修改emp1.fullname()得到的值 ??\n",
    "- 并且使emp1对应的的first/last值都自动变为与fullname相应的值"
   ]
  },
  {
   "cell_type": "code",
   "execution_count": 5,
   "metadata": {},
   "outputs": [
    {
     "ename": "AttributeError",
     "evalue": "can't set attribute",
     "output_type": "error",
     "traceback": [
      "\u001b[1;31m---------------------------------------------------------------------------\u001b[0m",
      "\u001b[1;31mAttributeError\u001b[0m                            Traceback (most recent call last)",
      "\u001b[1;32m<ipython-input-5-16b228d9e240>\u001b[0m in \u001b[0;36m<module>\u001b[1;34m()\u001b[0m\n\u001b[1;32m----> 1\u001b[1;33m \u001b[0memp1\u001b[0m\u001b[1;33m.\u001b[0m\u001b[0mfullname\u001b[0m \u001b[1;33m=\u001b[0m \u001b[1;34m'Cory Smith'\u001b[0m\u001b[1;33m\u001b[0m\u001b[0m\n\u001b[0m",
      "\u001b[1;31mAttributeError\u001b[0m: can't set attribute"
     ]
    }
   ],
   "source": [
    "emp1.fullname = 'Cory Smith'"
   ]
  },
  {
   "cell_type": "code",
   "execution_count": 6,
   "metadata": {},
   "outputs": [],
   "source": [
    "\n",
    "# AttributeError: can't set attribute!\n",
    "# So, what to do?"
   ]
  },
  {
   "cell_type": "markdown",
   "metadata": {},
   "source": [
    "#### Setters\n",
    "- 使用setter装饰器\n",
    "- **\\@attribute.setter**\n",
    "- **\\@attribute.deletter**\n",
    "- 再写一个使用 @fullname.setter 的def fullname(self, name) 即可完成修改功能e.fullname = new_name\n",
    "- 使用 @fullname.deletter 的def fullname(self)删除名字del e.fullname"
   ]
  },
  {
   "cell_type": "code",
   "execution_count": 13,
   "metadata": {},
   "outputs": [
    {
     "name": "stdout",
     "output_type": "stream",
     "text": [
      "Mary Coler\n",
      "Mary\n",
      "Coler\n",
      "--------------------\n",
      "Delete Name !\n",
      "None\n",
      "None\n",
      "None None\n"
     ]
    }
   ],
   "source": [
    "class Employee:\n",
    "    def __init__(self, first, last, pay):\n",
    "        self.first = first\n",
    "        self.last = last\n",
    "        self.pay = pay\n",
    "    \n",
    "    @property\n",
    "    def email(self):\n",
    "        return self.first + '.' + self.last + '@email.com'\n",
    "    \n",
    "    @property\n",
    "    def fullname(self):\n",
    "        return '{} {}'.format(self.first, self.last)\n",
    "    \n",
    "    @fullname.setter\n",
    "    def fullname(self, name):\n",
    "        first, last = name.split(' ')\n",
    "        self.first = first\n",
    "        self.last = last\n",
    "        \n",
    "    @fullname.deleter  # @attribute.deletter\n",
    "    def fullname(self):\n",
    "        print(\"Delete Name !\")\n",
    "        self.first = None\n",
    "        self.last = None\n",
    "\n",
    "emp1 = Employee('Mark', 'Doe', 50000)\n",
    "\n",
    "emp1.fullname = 'Mary Coler'\n",
    "\n",
    "print(emp1.fullname)\n",
    "print(emp1.first)\n",
    "print(emp1.last)\n",
    "print('-'*20)\n",
    "del emp1.fullname\n",
    "print(emp1.first)\n",
    "print(emp1.last)\n",
    "print(emp1.fullname)"
   ]
  },
  {
   "cell_type": "code",
   "execution_count": null,
   "metadata": {},
   "outputs": [],
   "source": []
  },
  {
   "cell_type": "code",
   "execution_count": null,
   "metadata": {},
   "outputs": [],
   "source": []
  },
  {
   "cell_type": "code",
   "execution_count": null,
   "metadata": {},
   "outputs": [],
   "source": []
  },
  {
   "cell_type": "code",
   "execution_count": null,
   "metadata": {},
   "outputs": [],
   "source": []
  },
  {
   "cell_type": "code",
   "execution_count": null,
   "metadata": {},
   "outputs": [],
   "source": []
  },
  {
   "cell_type": "code",
   "execution_count": null,
   "metadata": {},
   "outputs": [],
   "source": []
  },
  {
   "cell_type": "code",
   "execution_count": null,
   "metadata": {},
   "outputs": [],
   "source": []
  },
  {
   "cell_type": "code",
   "execution_count": null,
   "metadata": {},
   "outputs": [],
   "source": []
  },
  {
   "cell_type": "code",
   "execution_count": null,
   "metadata": {},
   "outputs": [],
   "source": []
  },
  {
   "cell_type": "code",
   "execution_count": null,
   "metadata": {},
   "outputs": [],
   "source": []
  },
  {
   "cell_type": "code",
   "execution_count": null,
   "metadata": {},
   "outputs": [],
   "source": []
  },
  {
   "cell_type": "code",
   "execution_count": null,
   "metadata": {},
   "outputs": [],
   "source": []
  },
  {
   "cell_type": "code",
   "execution_count": null,
   "metadata": {},
   "outputs": [],
   "source": []
  },
  {
   "cell_type": "code",
   "execution_count": null,
   "metadata": {},
   "outputs": [],
   "source": []
  },
  {
   "cell_type": "code",
   "execution_count": null,
   "metadata": {},
   "outputs": [],
   "source": []
  },
  {
   "cell_type": "code",
   "execution_count": null,
   "metadata": {},
   "outputs": [],
   "source": []
  },
  {
   "cell_type": "code",
   "execution_count": null,
   "metadata": {},
   "outputs": [],
   "source": []
  },
  {
   "cell_type": "code",
   "execution_count": null,
   "metadata": {},
   "outputs": [],
   "source": []
  },
  {
   "cell_type": "code",
   "execution_count": null,
   "metadata": {},
   "outputs": [],
   "source": []
  },
  {
   "cell_type": "code",
   "execution_count": null,
   "metadata": {},
   "outputs": [],
   "source": []
  },
  {
   "cell_type": "code",
   "execution_count": null,
   "metadata": {},
   "outputs": [],
   "source": []
  },
  {
   "cell_type": "markdown",
   "metadata": {},
   "source": [
    "- 面向对象的编程6 end\n",
    "    - 补充了类中绑定/非绑定方法的介绍\n",
    "    - 原视频提到查Python Document"
   ]
  },
  {
   "cell_type": "markdown",
   "metadata": {},
   "source": [
    "### Closures 闭包\n",
    "###  First-Class Functions 第一类函数\n",
    "- 是什么?\n",
    "- 怎么用?"
   ]
  },
  {
   "cell_type": "markdown",
   "metadata": {},
   "source": [
    "- wiki\n",
    "- 闭包???\n",
    "- 在编程语言中，闭包是一种在具有**第一类函数(first-class functions)**的语言中实现词法范围的 名称绑定的技术。在操作上，闭包是将函数与环境一起存储的记录.\n",
    "    \n",
    "- 环境是一个映射，它将函数的每个自由变量（本地使用的变量，但在封闭范围中定义）与值或引用相关联创建闭包时绑定名称的名称。\n",
    "- 闭包 - 与普通函数不同 - 允许函数通过闭包的值或引用的副本访问那些捕获的变量，即使函数在其作用域之外调用也是如此\n",
    "\n",
    "- 第一类函数???\n",
    "    - 编程语言它把funtion作为**一等公民 (first-class citizens)**,则编程语言有first-class functions，这意味着该语言支持将函数作为参数传递给其他函数，将它们作为其他函数的值返回，并将它们分配给变量或将它们存储在数据结构中。\n",
    "- 一等公民?????\n",
    "    - 在编程语言设计中，给定编程语言中的一等公民（也是类型，对象，实体或价值）是支持通常可用于其他实体的所有操作的实体。这些操作通常包括作为参数传递，从函数返回，修改并分配给变量。"
   ]
  },
  {
   "cell_type": "markdown",
   "metadata": {},
   "source": [
    "- 关键词:**传值，返回，分配给变量**。\n",
    "- 在Python中我们可以像处理其他对象(int str float等)一样处理函数,使用函数做参数,返回值/将函数赋给变量等"
   ]
  },
  {
   "cell_type": "markdown",
   "metadata": {},
   "source": [
    "- 先看第一类函数\n",
    "- 一段代码"
   ]
  },
  {
   "cell_type": "code",
   "execution_count": 37,
   "metadata": {},
   "outputs": [
    {
     "name": "stdout",
     "output_type": "stream",
     "text": [
      "[1, 4, 9, 16]\n",
      "[1, 8, 27, 64]\n"
     ]
    }
   ],
   "source": [
    "# 求平方\n",
    "def square(x):\n",
    "    return x * x\n",
    "# 求立方\n",
    "def cube(x):\n",
    "    return x * x * x\n",
    "\n",
    "\n",
    "def my_map(func, arg_list):\n",
    "    result = []\n",
    "    \n",
    "    for i in arg_list:\n",
    "        result.append(func(i))\n",
    "    return result\n",
    "\n",
    "\n",
    "\n",
    "ls = [1, 2, 3, 4]\n",
    "\n",
    "\n",
    "print(my_map(square, ls))\n",
    "\n",
    "print(my_map(cube, ls))"
   ]
  },
  {
   "cell_type": "markdown",
   "metadata": {},
   "source": [
    "- 我们将square()和cube()两个函数分别作为参数传入了my_map()函数中,并进行了一些操作\n",
    "- 说明Python是支持将函数作为一般对象操作的语言  即(把funtion作为一等公民 (first-class citizens))"
   ]
  },
  {
   "cell_type": "markdown",
   "metadata": {},
   "source": [
    "- 闭包概念太抽象了, 先看一段代码"
   ]
  },
  {
   "cell_type": "code",
   "execution_count": 21,
   "metadata": {},
   "outputs": [
    {
     "name": "stdout",
     "output_type": "stream",
     "text": [
      "Hi\n"
     ]
    }
   ],
   "source": [
    "def outer():\n",
    "    msg = 'Hi'\n",
    "    \n",
    "    def inner():\n",
    "        print(msg)\n",
    "        \n",
    "    return inner()\n",
    "\n",
    "\n",
    "outer()"
   ]
  },
  {
   "cell_type": "markdown",
   "metadata": {},
   "source": [
    "- 只是输出了inner()的执行结果"
   ]
  },
  {
   "cell_type": "markdown",
   "metadata": {},
   "source": [
    "- 我们试着把代码稍作修改 去掉inner的括号"
   ]
  },
  {
   "cell_type": "code",
   "execution_count": 22,
   "metadata": {},
   "outputs": [
    {
     "data": {
      "text/plain": [
       "<function __main__.outer.<locals>.inner()>"
      ]
     },
     "execution_count": 22,
     "metadata": {},
     "output_type": "execute_result"
    }
   ],
   "source": [
    "def outer():\n",
    "    msg = 'Hi'\n",
    "    \n",
    "    def inner():\n",
    "        print(msg)\n",
    "        \n",
    "    return inner\n",
    "\n",
    "\n",
    "outer()"
   ]
  },
  {
   "cell_type": "markdown",
   "metadata": {},
   "source": [
    "- 什么也没有发生\n",
    "- 我们将返回值赋值给变量,并打印出来"
   ]
  },
  {
   "cell_type": "code",
   "execution_count": 25,
   "metadata": {},
   "outputs": [
    {
     "name": "stdout",
     "output_type": "stream",
     "text": [
      "<function outer.<locals>.inner at 0x000001D04790A158>\n"
     ]
    }
   ],
   "source": [
    "def outer():\n",
    "    msg = 'Hi'\n",
    "    \n",
    "    def inner():\n",
    "        print(msg)\n",
    "        \n",
    "    return inner\n",
    "\n",
    "\n",
    "func = outer()\n",
    "print(func)"
   ]
  },
  {
   "cell_type": "markdown",
   "metadata": {},
   "source": [
    "- 发现func变量成了一个函数\n",
    "- 执行以下func"
   ]
  },
  {
   "cell_type": "code",
   "execution_count": 26,
   "metadata": {},
   "outputs": [
    {
     "name": "stdout",
     "output_type": "stream",
     "text": [
      "Hi\n",
      "Hi\n"
     ]
    }
   ],
   "source": [
    "func()\n",
    "func()"
   ]
  },
  {
   "cell_type": "markdown",
   "metadata": {},
   "source": [
    "- outer() 将inner()函数作为对象返回,并赋值给了func\n",
    "- 这时候的func函数就是outer()中的inner()函数\n",
    "- 虽然outer()已经执行完成了,但返回的inner()函数依旧可以访问outer()中的局部变量msg\n",
    "    - inner()函数在msg作用域之外调用outer()中的msg\n",
    "- 即inner()函数与inner()函数执行的环境在outer()函数结束后依然被一起存储着"
   ]
  },
  {
   "cell_type": "markdown",
   "metadata": {},
   "source": [
    "- 我们试着继续把代码稍作修改 \n",
    "- 改为outer(msg)和inner(inf)两个需要传参的函数"
   ]
  },
  {
   "cell_type": "code",
   "execution_count": 32,
   "metadata": {},
   "outputs": [
    {
     "name": "stdout",
     "output_type": "stream",
     "text": [
      "Hi\n",
      "Hi Mark\n",
      "Hi Mark\n",
      "Hi Mark\n"
     ]
    }
   ],
   "source": [
    "def outer(msg):\n",
    "    outer_msg = msg\n",
    "    print(outer_msg)\n",
    "    \n",
    "    def inner(inf):\n",
    "        print(outer_msg, inf)\n",
    "        \n",
    "    return inner\n",
    "\n",
    "\n",
    "func = outer('Hi')\n",
    "\n",
    "func('Mark')\n",
    "func('Mark')\n",
    "func('Mark')"
   ]
  },
  {
   "cell_type": "markdown",
   "metadata": {},
   "source": [
    "- 我们可以改变outer(msg)传入的参数值\n",
    "- 看一下相应返回的函数会不会受影响"
   ]
  },
  {
   "cell_type": "code",
   "execution_count": 34,
   "metadata": {},
   "outputs": [
    {
     "name": "stdout",
     "output_type": "stream",
     "text": [
      "Hi\n",
      "Hello\n",
      "Hi Mark\n",
      "Hello Mary\n"
     ]
    }
   ],
   "source": [
    "def outer(msg):\n",
    "    outer_msg = msg\n",
    "    print(outer_msg)\n",
    "    \n",
    "    def inner(inf):\n",
    "        print(outer_msg, inf)\n",
    "        \n",
    "    return inner\n",
    "\n",
    "\n",
    "hi = outer('Hi')\n",
    "hello = outer('Hello')\n",
    "\n",
    "\n",
    "hi('Mark')\n",
    "hello('Mary')"
   ]
  },
  {
   "cell_type": "markdown",
   "metadata": {},
   "source": [
    "- 再次说明:闭包是将函数与环境一起存储的记录."
   ]
  },
  {
   "cell_type": "code",
   "execution_count": null,
   "metadata": {},
   "outputs": [],
   "source": []
  }
 ],
 "metadata": {
  "kernelspec": {
   "display_name": "Python 3",
   "language": "python",
   "name": "python3"
  },
  "language_info": {
   "codemirror_mode": {
    "name": "ipython",
    "version": 3
   },
   "file_extension": ".py",
   "mimetype": "text/x-python",
   "name": "python",
   "nbconvert_exporter": "python",
   "pygments_lexer": "ipython3",
   "version": "3.6.6"
  }
 },
 "nbformat": 4,
 "nbformat_minor": 2
}
