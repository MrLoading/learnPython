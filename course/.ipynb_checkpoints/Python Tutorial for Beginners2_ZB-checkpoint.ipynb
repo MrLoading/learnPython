{
 "cells": [
  {
   "cell_type": "markdown",
   "metadata": {},
   "source": [
    "# 1."
   ]
  },
  {
   "cell_type": "markdown",
   "metadata": {},
   "source": [
    "### 变量作用域\n",
    "- LEGB规则 \n",
    "    - (Local 局部作用域, Enclosing 函数范围作用域, Global 全局作用域, Built-in 内置对象作用域)\n",
    "- global/nonlocal (全局/非局部)"
   ]
  },
  {
   "cell_type": "markdown",
   "metadata": {},
   "source": [
    "###### Local,  Global"
   ]
  },
  {
   "cell_type": "code",
   "execution_count": 1,
   "metadata": {},
   "outputs": [],
   "source": [
    "x = 'global x'\n",
    "y = 'global y'\n",
    "\n",
    "def test():\n",
    "    global x\n",
    "    x = 'local X'\n",
    "    y = 'local y'\n",
    "    print(x)\n",
    "    print(y)\n",
    "    return None\n",
    "\n"
   ]
  },
  {
   "cell_type": "markdown",
   "metadata": {},
   "source": [
    "###### Built-in\n",
    "- 这个空间内有很多的内建函数和对象\n",
    "- 常用的min() max() sum() len()等"
   ]
  },
  {
   "cell_type": "code",
   "execution_count": 2,
   "metadata": {},
   "outputs": [],
   "source": [
    "a = [5, 9, 3, 1, 7]\n"
   ]
  },
  {
   "cell_type": "code",
   "execution_count": 3,
   "metadata": {},
   "outputs": [],
   "source": [
    "a = [5, 9, 3, 1, 7]\n",
    "\n",
    "def min(x):\n",
    "    return 'my min(x)'\n",
    "\n"
   ]
  },
  {
   "cell_type": "markdown",
   "metadata": {},
   "source": [
    "- Enclosing 函数范围作用域也称直接外围作用域\n",
    "- 常见于嵌套函数"
   ]
  },
  {
   "cell_type": "code",
   "execution_count": 4,
   "metadata": {},
   "outputs": [],
   "source": [
    "x = 'global'\n",
    "\n",
    "def outer():\n",
    "    x = 'outer'\n",
    "    \n",
    "    def inner():\n",
    "        x = 'inner'\n",
    "        print(x)\n",
    "    \n",
    "    inner()\n",
    "    print(x)\n",
    "    \n",
    "    \n"
   ]
  },
  {
   "cell_type": "markdown",
   "metadata": {},
   "source": [
    "# 2."
   ]
  },
  {
   "cell_type": "markdown",
   "metadata": {},
   "source": [
    "- 自定义对象的排序"
   ]
  },
  {
   "cell_type": "markdown",
   "metadata": {},
   "source": [
    "#### sorted(iterable, *, key=None, reverse=False)\n",
    "-  **key** : 在进行比较之前，指定要在每个列表元素上调用的函数\n",
    "- **reverse** : 是否倒序?"
   ]
  },
  {
   "cell_type": "code",
   "execution_count": 9,
   "metadata": {},
   "outputs": [],
   "source": [
    "class Employee:\n",
    "    def __init__(self, name, age, salary):\n",
    "        self.name = name\n",
    "        self.age = age\n",
    "        self.salary = salary\n",
    "    \n",
    "    def __repr__(self):\n",
    "        return '({},{},${})'.format(self.name, self.age, self.salary)\n",
    "\n",
    "\n",
    "e1 = Employee('Tom', 18, 70000)\n",
    "e2 = Employee('Sarah', 14, 80000)\n",
    "e3 = Employee('John', 22, 90000)\n",
    "es = [e1, e2, e3]\n",
    "\n"
   ]
  },
  {
   "cell_type": "markdown",
   "metadata": {},
   "source": [
    "# 3."
   ]
  },
  {
   "cell_type": "markdown",
   "metadata": {},
   "source": [
    "###  使用try -- except 块进行错误处理\n",
    "```python\n",
    "            try:\n",
    "                pass\n",
    "            except Exception:\n",
    "                pass\n",
    "```"
   ]
  },
  {
   "cell_type": "markdown",
   "metadata": {},
   "source": [
    "- 写个bug -- 打开文件异常\n",
    "- 用try--except处理"
   ]
  },
  {
   "cell_type": "code",
   "execution_count": 3,
   "metadata": {},
   "outputs": [],
   "source": [
    "# f = open('./tmp/tmp_img/python-logo.png', 'rb')\n",
    "# f.close()"
   ]
  },
  {
   "cell_type": "markdown",
   "metadata": {},
   "source": [
    "- try -- except -- finally"
   ]
  },
  {
   "cell_type": "code",
   "execution_count": null,
   "metadata": {},
   "outputs": [],
   "source": []
  },
  {
   "cell_type": "markdown",
   "metadata": {},
   "source": [
    "- try -- except -- else -- finally"
   ]
  },
  {
   "cell_type": "code",
   "execution_count": null,
   "metadata": {},
   "outputs": [],
   "source": []
  },
  {
   "cell_type": "markdown",
   "metadata": {},
   "source": [
    "- 主动抛出异常 raise Exception('msg')"
   ]
  },
  {
   "cell_type": "code",
   "execution_count": null,
   "metadata": {},
   "outputs": [],
   "source": []
  },
  {
   "cell_type": "code",
   "execution_count": null,
   "metadata": {},
   "outputs": [],
   "source": []
  },
  {
   "cell_type": "markdown",
   "metadata": {},
   "source": [
    "# 4."
   ]
  },
  {
   "cell_type": "markdown",
   "metadata": {},
   "source": [
    "### 用unittest模块测试代码"
   ]
  },
  {
   "cell_type": "markdown",
   "metadata": {},
   "source": [
    "- 有一部分写好的代码需要测试"
   ]
  },
  {
   "cell_type": "code",
   "execution_count": 10,
   "metadata": {},
   "outputs": [],
   "source": [
    "## calc.py\n",
    "def add(x, y):\n",
    "    return x + y\n",
    "\n",
    "\n",
    "def subtract(x, y):\n",
    "    return x - y\n",
    "\n",
    "\n",
    "def multiply(x, y):\n",
    "    return x * y\n",
    "\n",
    "\n",
    "def divide(x, y):\n",
    "    if y == 0:\n",
    "        raise ValueError(\"Can not divide by zero!\")\n",
    "    return x / y\n"
   ]
  },
  {
   "cell_type": "markdown",
   "metadata": {},
   "source": [
    "#### 单元测试\n",
    "- unittest\n",
    "- .assertEqual()"
   ]
  },
  {
   "cell_type": "code",
   "execution_count": 11,
   "metadata": {},
   "outputs": [],
   "source": [
    "import unittest\n",
    "from  calc import  add,subtract, multiply, divide\n",
    "\n",
    "\n",
    "class TestCalc(unittest.TestCase):\n",
    "    # must start with the word 'test',for example: it can't be 'add_test'\n",
    "    def test_add(self):\n",
    "        result = add(10, 5)\n",
    "        self.assertEqual(result, 15)\n",
    "        self.assertEqual(add(-1, 1), 0)\n",
    "        self.assertEqual(add(-1, -1), -2)\n",
    "\n",
    "    def test_subtract(self):\n",
    "        self.assertEqual(subtract(-1, 1), -2)\n",
    "        self.assertEqual(subtract(1, 1), 0)\n",
    "\n",
    "    def test_multiply(self):\n",
    "        self.assertEqual(multiply(-1, 1), -1)\n",
    "        self.assertEqual(multiply(-1, 0), 0)\n",
    "        self.assertEqual(multiply(1, 1), 1)\n",
    "\n",
    "    def test_divide(self):\n",
    "        self.assertEqual(divide(-1, 1), -1)\n",
    "        self.assertEqual(divide(2, 1), 2)\n",
    "\n",
    "        self.assertRaises(ValueError, divide, 10, 0)\n",
    "\n",
    "        with self.assertRaises(ValueError):\n",
    "            divide(5, 0)"
   ]
  },
  {
   "cell_type": "code",
   "execution_count": null,
   "metadata": {},
   "outputs": [],
   "source": []
  },
  {
   "cell_type": "code",
   "execution_count": null,
   "metadata": {},
   "outputs": [],
   "source": []
  },
  {
   "cell_type": "markdown",
   "metadata": {},
   "source": [
    "- Python 基础教程21课时end\n",
    "    - 删减了原视频的习题课\n",
    "    - 简化了运算符等部分的内容\n",
    "    - 合并简化了单元测试等部分的内容 (我也不是很清楚)\n",
    "    \n",
    "- 下面是面向对象的编程部分"
   ]
  },
  {
   "cell_type": "markdown",
   "metadata": {},
   "source": [
    "# 1."
   ]
  },
  {
   "cell_type": "markdown",
   "metadata": {},
   "source": [
    "### 类和实例"
   ]
  },
  {
   "cell_type": "markdown",
   "metadata": {},
   "source": [
    "- self 在对象方法中表示当前对象本身，如果调用对象的一个方法，\n",
    "    那么该对象\"self\"会自动传入当前方法的**第一个参数**中"
   ]
  },
  {
   "cell_type": "code",
   "execution_count": 12,
   "metadata": {},
   "outputs": [
    {
     "name": "stdout",
     "output_type": "stream",
     "text": [
      "<__main__.Employee object at 0x0000014F6F264908>\n",
      "<__main__.Employee object at 0x0000014F6F264470>\n"
     ]
    }
   ],
   "source": [
    "class Employee:\n",
    "    pass\n",
    "\n",
    "\n",
    "e1 = Employee()\n",
    "e2 = Employee()\n",
    "\n",
    "print(e1)\n",
    "print(e2)\n",
    "\n"
   ]
  },
  {
   "cell_type": "markdown",
   "metadata": {},
   "source": [
    "- 直接添加属性"
   ]
  },
  {
   "cell_type": "code",
   "execution_count": 4,
   "metadata": {},
   "outputs": [
    {
     "name": "stdout",
     "output_type": "stream",
     "text": [
      "Smith\n"
     ]
    }
   ],
   "source": [
    "class Employee:\n",
    "    pass\n",
    "\n",
    "\n",
    "e1 = Employee()\n",
    "\n",
    "e1.first = 'Mark'\n",
    "e1.last = 'Smith'\n",
    "e1.pay = 50000\n",
    "\n",
    "print(e1.last)"
   ]
  },
  {
   "cell_type": "markdown",
   "metadata": {},
   "source": [
    "-  \\_\\_init\\_\\_() 初始化(类似于构造函数)\n",
    "- self 在对象方法中表示当前对象本身，如果调用对象的一个方法，\n",
    "    那么该对象\"self\"会自动传入当前方法的**第一个参数**中"
   ]
  },
  {
   "cell_type": "code",
   "execution_count": 6,
   "metadata": {},
   "outputs": [
    {
     "name": "stdout",
     "output_type": "stream",
     "text": [
      "Mark.Smith@email.com\n",
      "Join.Test@email.com\n"
     ]
    }
   ],
   "source": [
    "class Employee:\n",
    "    \n",
    "    def __init__(self, first, last, pay):\n",
    "        self.first = first\n",
    "        self.last = last \n",
    "        self.pay = pay\n",
    "        self.email = f'{self.first}.{self.last}@email.com'\n",
    "\n",
    "\n",
    "\n",
    "e1 = Employee('Mark', 'Smith', 50000)\n",
    "e2 = Employee('Join', 'Test', 60000)\n",
    "\n",
    "\n",
    "print(e1.email)\n",
    "print(e2.email)"
   ]
  },
  {
   "cell_type": "markdown",
   "metadata": {},
   "source": [
    "##### 添加fullname()方法 , 用来得到employee的全名"
   ]
  },
  {
   "cell_type": "code",
   "execution_count": 7,
   "metadata": {},
   "outputs": [
    {
     "name": "stdout",
     "output_type": "stream",
     "text": [
      "Mark Smith\n",
      "Join.Test@email.com\n"
     ]
    }
   ],
   "source": [
    "class Employee:\n",
    "    \n",
    "    def __init__(self, first, last, pay):\n",
    "        self.first = first\n",
    "        self.last = last \n",
    "        self.pay = pay\n",
    "        self.email = f'{self.first}.{self.last}@email.com'\n",
    "\n",
    "    def fullname(self):\n",
    "        \n",
    "        return f'{self.first} {self.last}'\n",
    "    \n",
    "    \n",
    "\n",
    "e1 = Employee('Mark', 'Smith', 50000)\n",
    "e2 = Employee('Join', 'Test', 60000)\n",
    "\n",
    "\n",
    "print(e1.fullname())\n"
   ]
  },
  {
   "cell_type": "markdown",
   "metadata": {},
   "source": [
    "- 如果我们直接调用类名Employee来调用fullname()方法, 而不是用e1实例调用"
   ]
  },
  {
   "cell_type": "code",
   "execution_count": 9,
   "metadata": {},
   "outputs": [
    {
     "name": "stdout",
     "output_type": "stream",
     "text": [
      "Mark Smith\n"
     ]
    }
   ],
   "source": [
    "class Employee:\n",
    "    \n",
    "    def __init__(self, first, last, pay):\n",
    "        self.first = first\n",
    "        self.last = last \n",
    "        self.pay = pay\n",
    "        self.email = f'{self.first}.{self.last}@email.com'\n",
    "\n",
    "    def fullname(self):\n",
    "        \n",
    "        return f'{self.first} {self.last}'\n",
    "    \n",
    "    \n",
    "\n",
    "e1 = Employee('Mark', 'Smith', 50000)\n",
    "\n",
    "print(Employee.fullname(e1))"
   ]
  },
  {
   "cell_type": "markdown",
   "metadata": {},
   "source": [
    "- 需要把实例作为参数传入"
   ]
  },
  {
   "cell_type": "markdown",
   "metadata": {},
   "source": [
    "- 如果类想调用绑定方法，就必须遵循函数的参数规则，有几个参数，就必须传递几个参数"
   ]
  },
  {
   "cell_type": "markdown",
   "metadata": {},
   "source": [
    "# 2."
   ]
  },
  {
   "cell_type": "markdown",
   "metadata": {},
   "source": [
    "### 类变量\n",
    "- 类变量是类和所有实例共享的\n",
    "- 实例变量是每个实例独享的"
   ]
  },
  {
   "cell_type": "code",
   "execution_count": 17,
   "metadata": {},
   "outputs": [
    {
     "name": "stdout",
     "output_type": "stream",
     "text": [
      "1.04\n",
      "1.04\n",
      "1.04\n",
      "52000\n"
     ]
    }
   ],
   "source": [
    "# 添加一项类变量 raise_mt 工资涨幅(raise amount)\n",
    "# 添加一个加薪方法 apply_raise(self)\n",
    "\n",
    "class Employee:\n",
    "    \n",
    "    raise_amt = 1.04\n",
    "    \n",
    "    def __init__(self, first, last, pay):\n",
    "        self.first = first\n",
    "        self.last = last \n",
    "        self.pay = pay\n",
    "        self.email = f'{self.first}.{self.last}@email.com'\n",
    "\n",
    "    def fullname(self):\n",
    "        \n",
    "        return f'{self.first} {self.last}'\n",
    "    \n",
    "    def apply_raise(self):\n",
    "        \n",
    "        self.pay = int(self.pay * self.raise_amt)\n",
    "    \n",
    "    \n",
    "e1 = Employee('Mark', 'Smith', 50000)\n",
    "e2 = Employee('Join', 'Test', 60000)\n",
    "\n",
    "print(e1.raise_amt)\n",
    "print(e2.raise_amt)\n",
    "print(Employee.raise_amt)\n",
    "\n",
    "\n",
    "e1.apply_raise()\n",
    "\n",
    "print(e1.pay)"
   ]
  },
  {
   "cell_type": "code",
   "execution_count": 14,
   "metadata": {},
   "outputs": [
    {
     "name": "stdout",
     "output_type": "stream",
     "text": [
      "{'first': 'Mark', 'last': 'Smith', 'pay': 50000}\n",
      "{'__module__': '__main__', 'raise_mt': 1.04, '__init__': <function Employee.__init__ at 0x000001E374E287B8>, 'fullname': <function Employee.fullname at 0x000001E374E288C8>, '__dict__': <attribute '__dict__' of 'Employee' objects>, '__weakref__': <attribute '__weakref__' of 'Employee' objects>, '__doc__': None}\n"
     ]
    }
   ],
   "source": [
    "# .__dict__查看实例的所有成员/属性\n",
    "\n",
    "\n",
    "\n",
    "print(e1.__dict__)\n",
    "print(Employee.__dict__)"
   ]
  },
  {
   "cell_type": "markdown",
   "metadata": {},
   "source": [
    "- 对象访问一个成员时,如果对象中没有该成员,尝试访问类中的同名成员。\n",
    "- 如果对象中有此成员,一定使用对象中的成员"
   ]
  },
  {
   "cell_type": "code",
   "execution_count": 19,
   "metadata": {},
   "outputs": [],
   "source": [
    "# 把实例e1的工资涨幅修改\n",
    "\n",
    "e1.raise_amt = 1.4\n"
   ]
  },
  {
   "cell_type": "code",
   "execution_count": 21,
   "metadata": {},
   "outputs": [
    {
     "name": "stdout",
     "output_type": "stream",
     "text": [
      "{'first': 'Mark', 'last': 'Smith', 'pay': 52000, 'raise_amt': 1.4}\n",
      "{'first': 'Join', 'last': 'Test', 'pay': 60000}\n",
      "{'__module__': '__main__', 'raise_amt': 1.04, '__init__': <function Employee.__init__ at 0x000001E374E28D90>, 'fullname': <function Employee.fullname at 0x000001E374E54048>, 'apply_raise': <function Employee.apply_raise at 0x000001E374E540D0>, '__dict__': <attribute '__dict__' of 'Employee' objects>, '__weakref__': <attribute '__weakref__' of 'Employee' objects>, '__doc__': None}\n"
     ]
    }
   ],
   "source": [
    "# 再次查看实例的所有属性\n",
    "# print(e1.__dict__)\n",
    "# print(e2.__dict__)\n",
    "# print(Employee.__dict__)"
   ]
  },
  {
   "cell_type": "markdown",
   "metadata": {},
   "source": [
    "- e1 比e2多了属性'raise_amt'\n",
    "- e1 访问'raise_amt'时, 访问 e1 自己的名为'raise_amt'的成员,\n",
    "- e2 访问'raise_amt'时, 由于e2 并没有'raise_amt'成员, 所以访问**Employee类**中的同名成员 "
   ]
  },
  {
   "cell_type": "markdown",
   "metadata": {},
   "source": [
    "# 3."
   ]
  },
  {
   "cell_type": "markdown",
   "metadata": {},
   "source": [
    "## 类中的3类方法：\n",
    "\n",
    "#### 1.常规方法(实例方法/对象方法)\n",
    "- 凡是类中的方法或函数，默认情况下都是给**实例**使用的。\n",
    "- 调用时自动把**当前实例**当做第一个参数传入\n",
    "- 如果**类**来调用类中的方法，那么这个方法仅仅只是一个函数，那么既然是函数，就不会自动传值。(手动传值)\n",
    "\n",
    "```python\n",
    "    def func(self):\n",
    "        pass\n",
    "```\n",
    "\n",
    "#### 2.类方法\n",
    "\n",
    "-  怎样将类中常规的方法解除实例绑定关系? 在python中，引入了 **@classmethod** 方法(装饰器)，将类中实例的方法绑定到类身上。\n",
    "- 调用时自动把**当前类**当做第一个参数传入\n",
    "```python\n",
    "    @classmethod\n",
    "    def func(cls):\n",
    "        pass\n",
    "```\n",
    "\n",
    "#### 3.静态方法(普通方法)\n",
    "\n",
    "- python给我们提供了 **@staticmethod** 可以解除绑定关系，将一个类中的方法，变为一个普通函数。\n",
    "- 使用了 **@staticmethod** 装饰了一个函数，那么这个函数跟普通函数没有什么区别。遵从函数参数传递规则，有几个参数就传递几个参数。\n",
    "\n",
    "```python\n",
    "    @classmethod\n",
    "    def func(cls):\n",
    "        pass\n",
    "```"
   ]
  },
  {
   "cell_type": "markdown",
   "metadata": {},
   "source": [
    "### 常规方法(实例方法/对象方法)\n"
   ]
  },
  {
   "cell_type": "markdown",
   "metadata": {},
   "source": [
    "- 把fullname()修改为一个不需要参数的方法"
   ]
  },
  {
   "cell_type": "code",
   "execution_count": 29,
   "metadata": {},
   "outputs": [],
   "source": [
    "class Employee:\n",
    "    \n",
    "    def __init__(self, first, last, pay):\n",
    "        self.first = first\n",
    "        self.last = last\n",
    "        self.pay = pay\n",
    "        \n",
    "    def fullname():\n",
    "        \n",
    "        return 'fullname'\n",
    "    \n",
    "    \n",
    "e1 = Employee('Mark', 'Smith', 50000)\n",
    "\n",
    "# print(e1.fullname())"
   ]
  },
  {
   "cell_type": "markdown",
   "metadata": {},
   "source": [
    "- fullname()不需要参数, 但Python自动传入了一个参数(当前实例e1),引起报错\n",
    "- 我们改为def fullname(self):"
   ]
  },
  {
   "cell_type": "code",
   "execution_count": 24,
   "metadata": {},
   "outputs": [
    {
     "name": "stdout",
     "output_type": "stream",
     "text": [
      "fullname\n"
     ]
    }
   ],
   "source": [
    "class Employee:\n",
    "    \n",
    "    def __init__(self, first, last, pay):\n",
    "        self.first = first\n",
    "        self.last = last\n",
    "        self.pay = pay\n",
    "        \n",
    "    def fullname(self):\n",
    "        \n",
    "        return 'fullname'\n",
    "    \n",
    "    \n",
    "e1 = Employee('Mark', 'Smith', 50000)\n",
    "\n",
    "print(e1.fullname())"
   ]
  },
  {
   "cell_type": "markdown",
   "metadata": {},
   "source": [
    "- 并没有报错, 因为调用时**e1**被Python默认传入def fullname(self): 中,\n",
    "- 我们用**self**接收了默认传入的**e1**, 所以不会报错"
   ]
  },
  {
   "cell_type": "markdown",
   "metadata": {},
   "source": [
    "### 类方法\n",
    "- @classmethod"
   ]
  },
  {
   "cell_type": "markdown",
   "metadata": {},
   "source": [
    "定义了一个set_raise_amt()类方法,用于修改raise_amt 类变量"
   ]
  },
  {
   "cell_type": "code",
   "execution_count": 32,
   "metadata": {},
   "outputs": [
    {
     "name": "stdout",
     "output_type": "stream",
     "text": [
      "1.4\n"
     ]
    }
   ],
   "source": [
    "class Employee:\n",
    "    \n",
    "    raise_amt = 1.04\n",
    "    \n",
    "    def __init__(self, first, last, pay):\n",
    "        self.first = first\n",
    "        self.last = last\n",
    "        self.pay = pay\n",
    "     \n",
    "    def fullname(self):\n",
    "        \n",
    "        return 'fullname'\n",
    "    \n",
    "    @classmethod\n",
    "    def set_raise_amt(amount):\n",
    "        pass\n",
    "    \n",
    "    \n",
    "e1 = Employee('Mark', 'Smith', 50000)\n",
    "\n",
    "\n",
    "e1.set_raise_amt(1.4)\n",
    "\n"
   ]
  },
  {
   "cell_type": "markdown",
   "metadata": {},
   "source": [
    "- 出错, 原因同样是多传入一个参数\n",
    "- 我们改为def fullname(cls, amount)试试"
   ]
  },
  {
   "cell_type": "code",
   "execution_count": 37,
   "metadata": {},
   "outputs": [
    {
     "name": "stdout",
     "output_type": "stream",
     "text": [
      "1.4\n"
     ]
    }
   ],
   "source": [
    "class Employee:\n",
    "    \n",
    "    raise_amt = 1.04\n",
    "    \n",
    "    def __init__(self, first, last, pay):\n",
    "        self.first = first\n",
    "        self.last = last\n",
    "        self.pay = pay\n",
    "     \n",
    "    def fullname(self):\n",
    "        \n",
    "        return 'fullname'\n",
    "    \n",
    "    @classmethod\n",
    "    def set_raise_amt(cls, amount):\n",
    "        cls.raise_amt = amount\n",
    "    \n",
    "e1 = Employee('Mark', 'Smith', 50000)\n",
    "\n",
    "e1.set_raise_amt(1.4)\n",
    "\n",
    "print(Employee.raise_amt)"
   ]
  },
  {
   "cell_type": "markdown",
   "metadata": {},
   "source": [
    "- 并没有报错, 因为调用时**Employee类**被Python默认传入def fullname(cls, amount): 中,\n",
    "- 我们用**cls**接收了默认传入的**Employee类**, 所以不会报错\n",
    "\n",
    "\n",
    "- 再看一下静态方法,\n",
    "- 使用了 **@staticmethod** 装饰的一个函数    def work_overtime():"
   ]
  },
  {
   "cell_type": "code",
   "execution_count": 40,
   "metadata": {},
   "outputs": [
    {
     "name": "stdout",
     "output_type": "stream",
     "text": [
      "Yes\n"
     ]
    }
   ],
   "source": [
    "class Employee:\n",
    "    \n",
    "    def __init__(self, first, last, pay):\n",
    "        self.first = first\n",
    "        self.last = last\n",
    "        self.pay = pay\n",
    "        \n",
    "    def fullname(self):\n",
    "        \n",
    "        return 'fullname'\n",
    "    \n",
    "    @classmethod\n",
    "    def set_raise_amt(cls, amount):\n",
    "        cls.raise_amt = amount  \n",
    "        \n",
    "    @staticmethod\n",
    "    def work_overtime():\n",
    "        print('Yes')\n",
    "    \n",
    "    \n",
    "    \n",
    "e1 = Employee('Mark', 'Smith', 50000)\n",
    "e1.work_overtime()"
   ]
  },
  {
   "cell_type": "markdown",
   "metadata": {},
   "source": [
    "# 4."
   ]
  },
  {
   "cell_type": "markdown",
   "metadata": {},
   "source": [
    "### 继承-创建子类\n",
    "- class sub_class(super_class)\n",
    "```python\n",
    "    class Employee:\n",
    "        pass\n",
    "    \n",
    "    class Developer(Employee):\n",
    "        pass\n",
    "```"
   ]
  },
  {
   "cell_type": "code",
   "execution_count": 44,
   "metadata": {},
   "outputs": [
    {
     "name": "stdout",
     "output_type": "stream",
     "text": [
      "50000\n",
      "Join Test\n"
     ]
    }
   ],
   "source": [
    "class Employee:\n",
    "    \n",
    "    \n",
    "    \n",
    "    def __init__(self, first, last, pay):\n",
    "        self.first = first\n",
    "        self.last = last\n",
    "        self.pay = pay\n",
    "        \n",
    "    def fullname(self):\n",
    "        \n",
    "        return  f'{self.first} {self.last}'\n",
    "    \n",
    "    @classmethod\n",
    "    def set_raise_amt(cls, amount):\n",
    "        cls.raise_amt = amount  \n",
    "        \n",
    "    @staticmethod\n",
    "    def work_overtime():\n",
    "        print('Yes')\n",
    "    \n",
    "    \n",
    "class Developer(Employee):\n",
    "    pass\n",
    "    \n",
    "    \n",
    "e = Employee('Mark', 'Smith', 50000)\n",
    "d = Developer('Join', 'Test', 60000)\n",
    "\n",
    "print(e.pay)\n",
    "print(d.fullname())"
   ]
  },
  {
   "cell_type": "markdown",
   "metadata": {},
   "source": [
    "- 我们将Developer的 'raise_mt'值修改, 并添加apply_raise()方法\n",
    "- Employee 'raise_mt'值并不会变"
   ]
  },
  {
   "cell_type": "code",
   "execution_count": 24,
   "metadata": {},
   "outputs": [],
   "source": [
    "class Employee:\n",
    "    \n",
    "    raise_mt = 1.04\n",
    "    \n",
    "    def __init__(self, first, last, pay):\n",
    "        self.first = first\n",
    "        self.last = last\n",
    "        self.pay = pay\n",
    "        \n",
    "    def fullname(self):\n",
    "        fullname = '{} {}'.format(self.first, self.last)\n",
    "        return fullname\n",
    "    \n",
    "    \n",
    "class Developer(Employee):\n",
    "    \n",
    "    pass\n",
    "    \n",
    "# d = Developer('Join', 'Test', 60000)\n",
    "\n",
    "\n",
    "# print(Employee.raise_mt)\n",
    "# print(Developer.raise_mt)\n",
    "# print(d.pay)\n",
    "# d.apply_raise()\n",
    "# print(d.pay)"
   ]
  },
  {
   "cell_type": "markdown",
   "metadata": {},
   "source": [
    "- help()查看Developer与的各种信息\n",
    "\n",
    "- 方法解析顺序:Method resolution order \n",
    "- 先Developer 后  Employee 最后  builtins.object内置对象\n",
    "    \n",
    "    - 新定义了方法apply_raise(self)\n",
    "    - 新调整了'raise_mt ' 的值\n",
    "    - 继承了Employee的 \\__init__方法, fullname()方法"
   ]
  },
  {
   "cell_type": "code",
   "execution_count": 25,
   "metadata": {},
   "outputs": [],
   "source": [
    "# print(help(Developer))"
   ]
  },
  {
   "cell_type": "markdown",
   "metadata": {},
   "source": [
    "- 为Developer添加更多属性 skill = 'Python'\n",
    "- 使用Developer的\\_\\_init__(函数)初始化Developer\n",
    "    - 使用 super().\\_\\_init__()调用父类init方法"
   ]
  },
  {
   "cell_type": "code",
   "execution_count": 26,
   "metadata": {},
   "outputs": [],
   "source": [
    "class Employee:\n",
    "    \n",
    "    raise_mt = 1.04\n",
    "    \n",
    "    def __init__(self, first, last, pay):\n",
    "        self.first = first\n",
    "        self.last = last\n",
    "        self.pay = pay\n",
    "        \n",
    "    def fullname(self):\n",
    "        fullname = '{} {}'.format(self.first, self.last)\n",
    "        return fullname\n",
    "    \n",
    "    \n",
    "\n",
    "    \n",
    "# d = Developer('Join', 'Test', 60000, 'python')\n",
    "\n",
    "\n",
    "\n",
    "# print(d.skill)\n",
    "# print(d.fullname())"
   ]
  },
  {
   "cell_type": "markdown",
   "metadata": {},
   "source": [
    "### isinstance() issubclass()\n",
    "### 判断类和实例 / 类和子类的关系\n",
    "- isinstance()将告诉我们一个对象是否是一个类的实例 (会考虑继承关系)\n",
    "- issubclass()将告诉我们一个类是否是一个类的子类"
   ]
  },
  {
   "cell_type": "code",
   "execution_count": 27,
   "metadata": {},
   "outputs": [],
   "source": [
    "class Employee:\n",
    "    \n",
    "    raise_mt = 1.04\n",
    "    \n",
    "    def __init__(self, first, last, pay):\n",
    "        self.first = first\n",
    "        self.last = last\n",
    "        self.pay = pay\n",
    "        \n",
    "    def fullname(self):\n",
    "        fullname = '{} {}'.format(self.first, self.last)\n",
    "        return fullname\n",
    "    \n",
    "    \n",
    "class Developer(Employee):\n",
    "    raise_mt = 1.25\n",
    "    \n",
    "    def __init__(self, first, last, pay, skill):\n",
    "        \n",
    "        self.skill = skill\n",
    "        \n",
    "        super().__init__(first, last, pay)\n",
    "            \n",
    "    def apply_raise(self):\n",
    "        self.pay = int(self.pay * self.raise_mt)\n",
    "    \n",
    "d = Developer('Join', 'Test', 60000, 'python')\n",
    "e = Employee('Join', 'Test', 60000)\n",
    "\n",
    "\n",
    "\n"
   ]
  },
  {
   "cell_type": "markdown",
   "metadata": {},
   "source": [
    "# 5."
   ]
  },
  {
   "cell_type": "markdown",
   "metadata": {},
   "source": [
    "### 几个特殊的 (Magic/Dunder) 方法\n",
    "1. __\\_\\_init\\_\\___( )\n",
    "2. __\\_\\_repr\\_\\___( )\n",
    "3. __\\_\\_str\\_\\___( )"
   ]
  },
  {
   "cell_type": "markdown",
   "metadata": {},
   "source": [
    "- 简单了解一下2. __\\_\\_repr\\_\\___( )和3. __\\_\\_str\\_\\___( )"
   ]
  },
  {
   "cell_type": "code",
   "execution_count": 28,
   "metadata": {},
   "outputs": [],
   "source": [
    "class Employee:\n",
    "    def __init__(self, first, last, pay):\n",
    "        self.first = first\n",
    "        self.last = last\n",
    "        self.email = first + '.' + last + '@email.com'\n",
    "        self.pay = pay\n",
    "\n",
    "        \n",
    "emp1 = Employee('Mark', 'Doe', 50000)\n",
    "# 直接打印emp1\n",
    "\n"
   ]
  },
  {
   "cell_type": "markdown",
   "metadata": {},
   "source": [
    "- 输出了一些提示性信息, 但是并不是很友好,只是显示了内存地址等抽象信息\n",
    "- 我们想知道跟具体易懂的信息\n",
    "- 用\\__repr\\__()"
   ]
  },
  {
   "cell_type": "code",
   "execution_count": null,
   "metadata": {},
   "outputs": [],
   "source": []
  },
  {
   "cell_type": "markdown",
   "metadata": {},
   "source": [
    "- 比较友好的输出"
   ]
  },
  {
   "cell_type": "markdown",
   "metadata": {},
   "source": [
    "- 重写\\__str\\__()\n",
    "- 相当于把Employee 转化成了 str字符串"
   ]
  },
  {
   "cell_type": "code",
   "execution_count": null,
   "metadata": {},
   "outputs": [],
   "source": []
  },
  {
   "cell_type": "markdown",
   "metadata": {},
   "source": [
    "- \\__str\\__()覆盖住了\\__repr\\__()\n",
    "- 同时存在时一般\\__str\\__()优先"
   ]
  },
  {
   "cell_type": "markdown",
   "metadata": {},
   "source": [
    "#### 还有很多特殊函数, 可以在Python文档里找到\n",
    "- 例如\\_\\_len()\\_\\_"
   ]
  },
  {
   "cell_type": "markdown",
   "metadata": {},
   "source": [
    "- 将两个employee 相加? _\\_add_\\_()\n",
    "- 重写\\_\\_len()\\_\\_方法"
   ]
  },
  {
   "cell_type": "code",
   "execution_count": null,
   "metadata": {},
   "outputs": [],
   "source": []
  },
  {
   "cell_type": "markdown",
   "metadata": {},
   "source": [
    "# 6."
   ]
  },
  {
   "cell_type": "markdown",
   "metadata": {},
   "source": [
    "###  装饰器 - Getters, Setters, and Deleters"
   ]
  },
  {
   "cell_type": "code",
   "execution_count": 29,
   "metadata": {},
   "outputs": [],
   "source": [
    "class Employee:\n",
    "    def __init__(self, first, last, pay):\n",
    "        self.first = first\n",
    "        self.last = last\n",
    "        self.email = first + '.' + last + '@email.com'\n",
    "        self.pay = pay\n",
    "    \n",
    "    def fullname(self):\n",
    "        return '{} {}'.format(self.first, self.last)\n",
    "\n",
    "\n",
    "emp1 = Employee('Mark', 'Doe', 50000)\n",
    "emp2 = Employee('Tom', 'Smith', 60000)\n",
    "\n",
    "# print(emp1.first)\n",
    "# print(emp1.email)\n",
    "# print(emp1.fullname())\n",
    "\n",
    "# print()\n",
    "\n",
    "# emp1.first = 'Cory'\n",
    "# print(emp1.first)\n",
    "# print(emp1.email)\n",
    "# print(emp1.fullname())"
   ]
  },
  {
   "cell_type": "markdown",
   "metadata": {},
   "source": [
    "- 修改emp1的first name后, 再次输出emp1的email, 发现email并没有随first的改变而改变\n",
    "- 因为email是在创建emp1的时候根据第一次输入的名字一次性生成的,之后email属性就不会受first 和 last 属性影响了\n",
    "- 怎么解决这个问题?\n",
    "- 1. 我们可以写一个email()方法, 就像fullname()方法一样(访问时必须调用函数)\n",
    "- 2. 写get() 和 set()方法,就像C++/Java中一样(太麻烦了)\n",
    "- 3. 使用Python的装饰器---->**@property**"
   ]
  },
  {
   "cell_type": "code",
   "execution_count": 30,
   "metadata": {},
   "outputs": [],
   "source": [
    "class Employee:\n",
    "    def __init__(self, first, last, pay):\n",
    "        self.first = first\n",
    "        self.last = last\n",
    "        self.pay = pay\n",
    "    \n",
    "    \n",
    "\n",
    "\n",
    "# emp1 = Employee('Mark', 'Doe', 50000)\n",
    "\n",
    "# emp1.first = 'Cory'\n",
    "# print(emp1.first)\n",
    "# print(emp1.email)\n",
    "# print(emp1.fullname)"
   ]
  },
  {
   "cell_type": "markdown",
   "metadata": {},
   "source": [
    "- email(self) 和方法1.很类似, 在使用时不用调用函数的写法, 直接当做属性操作"
   ]
  },
  {
   "cell_type": "markdown",
   "metadata": {},
   "source": [
    "- 如果我们想要直接修改emp1.fullname()得到的值 ??\n",
    "- 并且使emp1对应的的first/last值都自动变为与fullname相应的值"
   ]
  },
  {
   "cell_type": "code",
   "execution_count": 31,
   "metadata": {},
   "outputs": [],
   "source": [
    "# emp1.fullname = 'Cory Smith'"
   ]
  },
  {
   "cell_type": "markdown",
   "metadata": {},
   "source": [
    "#### Setters\n",
    "- 使用setter装饰器\n",
    "- **\\@attribute.setter**\n",
    "- **\\@attribute.deletter**\n",
    "- 再写一个使用 @fullname.setter 的def fullname(self, name) 即可完成修改功能e.fullname = new_name\n",
    "- 使用 @fullname.deletter 的def fullname(self)删除名字del e.fullname"
   ]
  },
  {
   "cell_type": "code",
   "execution_count": 32,
   "metadata": {},
   "outputs": [],
   "source": [
    "class Employee:\n",
    "    def __init__(self, first, last, pay):\n",
    "        self.first = first\n",
    "        self.last = last\n",
    "        self.pay = pay\n",
    "    \n",
    "    @property\n",
    "    def email(self):\n",
    "        return self.first + '.' + self.last + '@email.com'\n",
    "    \n",
    "    @property\n",
    "    def fullname(self):\n",
    "        return '{} {}'.format(self.first, self.last)\n",
    "    \n",
    "\n",
    "# emp1 = Employee('Mark', 'Doe', 50000)\n",
    "\n",
    "# emp1.fullname = 'Mary Coler'\n",
    "\n",
    "# print(emp1.fullname)\n",
    "# print(emp1.first)\n",
    "# print(emp1.last)\n",
    "# print('-'*20)\n",
    "# del emp1.fullname\n",
    "# print(emp1.first)\n",
    "# print(emp1.last)\n",
    "# print(emp1.fullname)"
   ]
  },
  {
   "cell_type": "code",
   "execution_count": null,
   "metadata": {},
   "outputs": [],
   "source": []
  },
  {
   "cell_type": "code",
   "execution_count": null,
   "metadata": {},
   "outputs": [],
   "source": []
  },
  {
   "cell_type": "code",
   "execution_count": null,
   "metadata": {},
   "outputs": [],
   "source": []
  },
  {
   "cell_type": "code",
   "execution_count": null,
   "metadata": {},
   "outputs": [],
   "source": []
  },
  {
   "cell_type": "code",
   "execution_count": null,
   "metadata": {},
   "outputs": [],
   "source": []
  },
  {
   "cell_type": "code",
   "execution_count": null,
   "metadata": {},
   "outputs": [],
   "source": []
  },
  {
   "cell_type": "code",
   "execution_count": null,
   "metadata": {},
   "outputs": [],
   "source": []
  },
  {
   "cell_type": "code",
   "execution_count": null,
   "metadata": {},
   "outputs": [],
   "source": []
  },
  {
   "cell_type": "code",
   "execution_count": null,
   "metadata": {},
   "outputs": [],
   "source": []
  },
  {
   "cell_type": "code",
   "execution_count": null,
   "metadata": {},
   "outputs": [],
   "source": []
  },
  {
   "cell_type": "code",
   "execution_count": null,
   "metadata": {},
   "outputs": [],
   "source": []
  },
  {
   "cell_type": "code",
   "execution_count": null,
   "metadata": {},
   "outputs": [],
   "source": []
  },
  {
   "cell_type": "code",
   "execution_count": null,
   "metadata": {},
   "outputs": [],
   "source": []
  },
  {
   "cell_type": "code",
   "execution_count": null,
   "metadata": {},
   "outputs": [],
   "source": []
  },
  {
   "cell_type": "code",
   "execution_count": null,
   "metadata": {},
   "outputs": [],
   "source": []
  },
  {
   "cell_type": "code",
   "execution_count": null,
   "metadata": {},
   "outputs": [],
   "source": []
  },
  {
   "cell_type": "code",
   "execution_count": null,
   "metadata": {},
   "outputs": [],
   "source": []
  },
  {
   "cell_type": "code",
   "execution_count": null,
   "metadata": {},
   "outputs": [],
   "source": []
  },
  {
   "cell_type": "code",
   "execution_count": null,
   "metadata": {},
   "outputs": [],
   "source": []
  },
  {
   "cell_type": "code",
   "execution_count": null,
   "metadata": {},
   "outputs": [],
   "source": []
  },
  {
   "cell_type": "code",
   "execution_count": null,
   "metadata": {},
   "outputs": [],
   "source": []
  },
  {
   "cell_type": "markdown",
   "metadata": {},
   "source": [
    "- 面向对象的编程6 end\n",
    "    - 补充了类中绑定/非绑定方法的介绍\n",
    "    - 原视频提到查Python Document"
   ]
  },
  {
   "cell_type": "markdown",
   "metadata": {},
   "source": [
    "### Closures 闭包\n",
    "###  First-Class Functions 第一类函数\n",
    "- 是什么?\n",
    "- 怎么用?"
   ]
  },
  {
   "cell_type": "markdown",
   "metadata": {},
   "source": [
    "- wiki\n",
    "- 闭包???\n",
    "- 在编程语言中，闭包是一种在具有**第一类函数(first-class functions)**的语言中实现词法范围的 名称绑定的技术。在操作上，闭包是将函数与环境一起存储的记录.\n",
    "    \n",
    "- 环境是一个映射，它将函数的每个自由变量（本地使用的变量，但在封闭范围中定义）与值或引用相关联创建闭包时绑定名称的名称。\n",
    "- 闭包 - 与普通函数不同 - 允许函数通过闭包的值或引用的副本访问那些捕获的变量，即使函数在其作用域之外调用也是如此\n",
    "\n",
    "- 第一类函数???\n",
    "    - 编程语言它把funtion作为**一等公民 (first-class citizens)**,则编程语言有first-class functions，这意味着该语言支持将函数作为参数传递给其他函数，将它们作为其他函数的值返回，并将它们分配给变量或将它们存储在数据结构中。\n",
    "- 一等公民?????\n",
    "    - 在编程语言设计中，给定编程语言中的一等公民（也是类型，对象，实体或价值）是支持通常可用于其他实体的所有操作的实体。这些操作通常包括作为参数传递，从函数返回，修改并分配给变量。"
   ]
  },
  {
   "cell_type": "markdown",
   "metadata": {},
   "source": [
    "- 关键词:**传值，返回，分配给变量**。\n",
    "- 在Python中我们可以像处理其他对象(int str float等)一样处理函数,使用函数做参数,返回值/将函数赋给变量等"
   ]
  },
  {
   "cell_type": "markdown",
   "metadata": {},
   "source": [
    "- 先看第一类函数\n",
    "- 一段代码"
   ]
  },
  {
   "cell_type": "code",
   "execution_count": 33,
   "metadata": {},
   "outputs": [],
   "source": [
    "# 求平方\n",
    "def square(x):\n",
    "    return x * x\n",
    "# 求立方\n",
    "def cube(x):\n",
    "    return x * x * x\n",
    "\n",
    "\n",
    "def my_map(func, arg_list):\n",
    "    result = []\n",
    "    \n",
    "    for i in arg_list:\n",
    "        result.append(func(i))\n",
    "    return result\n",
    "\n",
    "\n",
    "\n",
    "ls = [1, 2, 3, 4]\n",
    "\n",
    "\n"
   ]
  },
  {
   "cell_type": "markdown",
   "metadata": {},
   "source": [
    "- 我们将square()和cube()两个函数分别作为参数传入了my_map()函数中,并进行了一些操作\n",
    "- 说明Python是支持将函数作为一般对象操作的语言  即(把funtion作为一等公民 (first-class citizens))"
   ]
  },
  {
   "cell_type": "markdown",
   "metadata": {},
   "source": [
    "- 闭包概念太抽象了, 先看一段代码"
   ]
  },
  {
   "cell_type": "code",
   "execution_count": 34,
   "metadata": {},
   "outputs": [
    {
     "name": "stdout",
     "output_type": "stream",
     "text": [
      "Hi\n"
     ]
    }
   ],
   "source": [
    "def outer():\n",
    "    msg = 'Hi'\n",
    "    \n",
    "    def inner():\n",
    "        print(msg)\n",
    "        \n",
    "    return inner()\n",
    "\n",
    "\n",
    "outer()"
   ]
  },
  {
   "cell_type": "markdown",
   "metadata": {},
   "source": [
    "- 只是输出了inner()的执行结果"
   ]
  },
  {
   "cell_type": "markdown",
   "metadata": {},
   "source": [
    "- 我们试着把代码稍作修改 去掉inner的括号"
   ]
  },
  {
   "cell_type": "code",
   "execution_count": 35,
   "metadata": {},
   "outputs": [
    {
     "data": {
      "text/plain": [
       "<function __main__.outer.<locals>.inner()>"
      ]
     },
     "execution_count": 35,
     "metadata": {},
     "output_type": "execute_result"
    }
   ],
   "source": [
    "def outer():\n",
    "    msg = 'Hi'\n",
    "    \n",
    "    def inner():\n",
    "        print(msg)\n",
    "        \n",
    "    return inner\n",
    "\n",
    "\n",
    "outer()"
   ]
  },
  {
   "cell_type": "markdown",
   "metadata": {},
   "source": [
    "- 什么也没有发生\n",
    "- 我们将返回值赋值给变量,并打印出来"
   ]
  },
  {
   "cell_type": "code",
   "execution_count": 36,
   "metadata": {},
   "outputs": [],
   "source": [
    "def outer():\n",
    "    msg = 'Hi'\n",
    "    \n",
    "    def inner():\n",
    "        print(msg)\n",
    "        \n",
    "    return inner\n",
    "\n",
    "\n",
    "func = outer()\n",
    "\n"
   ]
  },
  {
   "cell_type": "markdown",
   "metadata": {},
   "source": [
    "- 发现func变量成了一个函数\n",
    "- 执行以下func"
   ]
  },
  {
   "cell_type": "code",
   "execution_count": null,
   "metadata": {},
   "outputs": [],
   "source": []
  },
  {
   "cell_type": "markdown",
   "metadata": {},
   "source": [
    "- outer() 将inner()函数作为对象返回,并赋值给了func\n",
    "- 这时候的func函数就是outer()中的inner()函数\n",
    "- 虽然outer()已经执行完成了,但返回的inner()函数依旧可以访问outer()中的局部变量msg\n",
    "    - inner()函数在msg作用域之外调用outer()中的msg\n",
    "- 即inner()函数与inner()函数执行的环境在outer()函数结束后依然被一起存储着"
   ]
  },
  {
   "cell_type": "markdown",
   "metadata": {},
   "source": [
    "- 我们试着继续把代码稍作修改 \n",
    "- 改为outer(msg)和inner(inf)两个需要传参的函数"
   ]
  },
  {
   "cell_type": "code",
   "execution_count": null,
   "metadata": {},
   "outputs": [],
   "source": []
  },
  {
   "cell_type": "markdown",
   "metadata": {},
   "source": [
    "- 我们可以改变outer(msg)传入的参数值\n",
    "- 看一下相应返回的函数会不会受影响"
   ]
  },
  {
   "cell_type": "code",
   "execution_count": null,
   "metadata": {},
   "outputs": [],
   "source": []
  },
  {
   "cell_type": "markdown",
   "metadata": {},
   "source": [
    "- 再次说明:闭包是将函数与环境一起存储的记录."
   ]
  },
  {
   "cell_type": "code",
   "execution_count": null,
   "metadata": {},
   "outputs": [],
   "source": []
  }
 ],
 "metadata": {
  "kernelspec": {
   "display_name": "Python 3",
   "language": "python",
   "name": "python3"
  },
  "language_info": {
   "codemirror_mode": {
    "name": "ipython",
    "version": 3
   },
   "file_extension": ".py",
   "mimetype": "text/x-python",
   "name": "python",
   "nbconvert_exporter": "python",
   "pygments_lexer": "ipython3",
   "version": "3.6.6"
  }
 },
 "nbformat": 4,
 "nbformat_minor": 2
}
