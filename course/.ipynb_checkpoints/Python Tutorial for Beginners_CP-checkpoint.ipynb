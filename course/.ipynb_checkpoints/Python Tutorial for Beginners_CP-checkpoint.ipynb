{
 "cells": [
  {
   "cell_type": "markdown",
   "metadata": {},
   "source": [
    "### Python 初学者教程 21"
   ]
  },
  {
   "cell_type": "markdown",
   "metadata": {},
   "source": [
    "# 1."
   ]
  },
  {
   "cell_type": "markdown",
   "metadata": {},
   "source": [
    "### 字符串-string\n",
    "- .lower() 小写\n",
    "- .upper() 大写\n",
    "- .count() 计算字符串出现次数\n",
    "- .find() 返回第一次找时相应的下标\n",
    "#### 查看字符串更多属性方法：dir()"
   ]
  },
  {
   "cell_type": "code",
   "execution_count": 2,
   "metadata": {},
   "outputs": [
    {
     "name": "stdout",
     "output_type": "stream",
     "text": [
      "Hello World\n"
     ]
    }
   ],
   "source": [
    "s = \"Hello World\"\n",
    "\n",
    "print(s)"
   ]
  },
  {
   "cell_type": "code",
   "execution_count": 4,
   "metadata": {},
   "outputs": [
    {
     "name": "stdout",
     "output_type": "stream",
     "text": [
      "hello world\n",
      "HELLO WORLD\n",
      "3\n",
      "6\n"
     ]
    }
   ],
   "source": [
    "print(s.lower())\n",
    "print(s.upper())\n",
    "print(s.count('l'))\n",
    "print(s.find('World'))\n",
    "#print(dir(s))"
   ]
  },
  {
   "cell_type": "markdown",
   "metadata": {},
   "source": [
    "## 格式化字符串\n",
    "- 1. 占位符+参数      %d %f %s (整数/浮点/字符串)\n",
    "    - 多个占位符用括号将参数括起来\n",
    "- 2.  .format()函数\n",
    "    - 参数有序/无序\n",
    "- 3. python3.6新特性 **\" f String \" !**"
   ]
  },
  {
   "cell_type": "code",
   "execution_count": 5,
   "metadata": {},
   "outputs": [
    {
     "name": "stdout",
     "output_type": "stream",
     "text": [
      "Hello World\n",
      "Mr Loading is 14 years old ,and is 3.140000 px tall\n",
      "Mr Loading is 14 years old ,and is 3.14 px tall\n",
      "Mr Loading is 14 years old ,and is 3.14 px tall\n",
      "Mr Loading is 14 years old ,and is 3.14 px tall\n"
     ]
    }
   ],
   "source": [
    "s = 'Hello'\n",
    "name = 'Mr Loading'\n",
    "age = 14\n",
    "h = 3.14\n",
    "\n",
    "print('%s World'%(s))\n",
    "\n",
    "print('%s is %d years old ,and is %f px tall'%(name, age, h))\n",
    "\n",
    "print('{} is {} years old ,and is {} px tall'.format(name, age, h))\n",
    "print('{2} is {1} years old ,and is {0} px tall'.format(h, age, name))\n",
    "\n",
    "print(f'{name} is {age} years old ,and is {h} px tall')"
   ]
  },
  {
   "cell_type": "markdown",
   "metadata": {},
   "source": [
    "### python是强类型语言\n",
    "- type()查看类型"
   ]
  },
  {
   "cell_type": "markdown",
   "metadata": {},
   "source": [
    "- 例如 整型/浮点型/字符型"
   ]
  },
  {
   "cell_type": "code",
   "execution_count": 4,
   "metadata": {},
   "outputs": [
    {
     "name": "stdout",
     "output_type": "stream",
     "text": [
      "<class 'int'>\n",
      "<class 'float'>\n",
      "<class 'str'>\n"
     ]
    }
   ],
   "source": [
    "num = 2\n",
    "print(type(num))\n",
    "\n",
    "num = 2.71828\n",
    "print(type(num))\n",
    "\n",
    "num = '2.71828'\n",
    "print(type(num))"
   ]
  },
  {
   "cell_type": "markdown",
   "metadata": {},
   "source": [
    "## 运算符"
   ]
  },
  {
   "cell_type": "markdown",
   "metadata": {},
   "source": [
    "### 算术运算符\n",
    "- +\n",
    "- -\n",
    "- *\n",
    "- / Python2.x 与Python3.x中，除号（/）可能不同\n",
    "- // 整除 - 返回商的整数部分\n",
    "- ** 幂运算\n",
    "- % 取模 - 返回除法的余数"
   ]
  },
  {
   "cell_type": "code",
   "execution_count": 5,
   "metadata": {},
   "outputs": [
    {
     "name": "stdout",
     "output_type": "stream",
     "text": [
      "Python3.6.6 3 / 2 =  1.5\n"
     ]
    }
   ],
   "source": [
    "print('Python3.6.6 3 / 2 = ', 3/2)"
   ]
  },
  {
   "cell_type": "code",
   "execution_count": 6,
   "metadata": {},
   "outputs": [
    {
     "name": "stdout",
     "output_type": "stream",
     "text": [
      "1\n"
     ]
    }
   ],
   "source": [
    "print(3//2)"
   ]
  },
  {
   "cell_type": "code",
   "execution_count": 7,
   "metadata": {},
   "outputs": [
    {
     "name": "stdout",
     "output_type": "stream",
     "text": [
      "8\n"
     ]
    }
   ],
   "source": [
    "print(2**3)"
   ]
  },
  {
   "cell_type": "code",
   "execution_count": 8,
   "metadata": {},
   "outputs": [
    {
     "name": "stdout",
     "output_type": "stream",
     "text": [
      "1\n",
      "2\n",
      "0\n",
      "1\n",
      "2\n"
     ]
    }
   ],
   "source": [
    "print(1 % 3)\n",
    "print(2 % 3)\n",
    "print(3 % 3)\n",
    "print(4 % 3)\n",
    "print(5 % 3)"
   ]
  },
  {
   "cell_type": "markdown",
   "metadata": {},
   "source": [
    "#### python3.x中,round()的\"四舍六入五成双\""
   ]
  },
  {
   "cell_type": "code",
   "execution_count": 8,
   "metadata": {},
   "outputs": [
    {
     "name": "stdout",
     "output_type": "stream",
     "text": [
      "1\n",
      "3\n"
     ]
    }
   ],
   "source": [
    "# 1.4 ---->1\n",
    "# 2.6----->3\n",
    "\n",
    "print(round(1.4))\n",
    "print(round(2.6))"
   ]
  },
  {
   "cell_type": "code",
   "execution_count": 10,
   "metadata": {},
   "outputs": [
    {
     "name": "stdout",
     "output_type": "stream",
     "text": [
      "4\n",
      "6\n"
     ]
    }
   ],
   "source": [
    "'''\n",
    "    python2.x中,round()为\"四舍五入\"\n",
    "    python3.x中,round()为\"四舍六入五成双\"\n",
    "    \"五\"指的是根据5后面的数字来定，\n",
    "        当5后有数时，舍5入1；\n",
    "        当5后无有效数字时，需要分两种情况来讲：\n",
    "                （1）5前为奇数，舍5入1；\n",
    "                （2）5前为偶数，舍5不进（0是偶数）。\n",
    "    \n",
    "    - 例 ： 4.5--->4      5.5----->6\n",
    "'''\n",
    "print(round(4.5))\n",
    "print(round(5.5))"
   ]
  },
  {
   "cell_type": "markdown",
   "metadata": {},
   "source": [
    "#### 浮点数的精度是个问题， 机器储存精度误差\n",
    " - round(2.675，2) '四舍五入'和'四舍六入五成双'两种规则理论上都得到2.68"
   ]
  },
  {
   "cell_type": "code",
   "execution_count": 11,
   "metadata": {},
   "outputs": [
    {
     "name": "stdout",
     "output_type": "stream",
     "text": [
      "2.67\n"
     ]
    }
   ],
   "source": [
    "print(round(2.675, 2))"
   ]
  },
  {
   "cell_type": "markdown",
   "metadata": {},
   "source": [
    "- 误差来自二进制储存小数的误差上, 所以不建议用round()做精度/准确度要求高的操作"
   ]
  },
  {
   "cell_type": "markdown",
   "metadata": {},
   "source": [
    "### 比较运算符\n",
    "- \\>\n",
    "- \\<\n",
    "- \\==\n",
    "- \\>=\n",
    "- \\<=\n",
    "- \\!="
   ]
  },
  {
   "cell_type": "markdown",
   "metadata": {},
   "source": [
    "### 逻辑运算符\n",
    "- and 逻辑与 ~ (布尔乘)\n",
    "- or 逻辑或 ~ （布尔加）\n",
    "- not 逻辑非"
   ]
  },
  {
   "cell_type": "markdown",
   "metadata": {},
   "source": [
    "### True & False\n",
    "#### 判断为False 的值:\n",
    "- False\n",
    "- None\n",
    "- 任何数值类型的零\n",
    "- 空字符串/空集合/空列表/空字典:  '', (), [], {}"
   ]
  },
  {
   "cell_type": "markdown",
   "metadata": {},
   "source": [
    "- 依次测试以下"
   ]
  },
  {
   "cell_type": "code",
   "execution_count": 12,
   "metadata": {},
   "outputs": [
    {
     "name": "stdout",
     "output_type": "stream",
     "text": [
      "It's False\n",
      "It's False\n",
      "It's False\n",
      "It's False\n",
      "It's False\n",
      "It's False\n",
      "It's False\n"
     ]
    }
   ],
   "source": [
    "def false_value(value):\n",
    "    if value:\n",
    "        print(\"It's True\")\n",
    "    else:\n",
    "        print(\"It's False\")\n",
    "\n",
    "        \n",
    "false_value(None)\n",
    "false_value(0)\n",
    "false_value(0.000)\n",
    "false_value('')\n",
    "false_value([])\n",
    "false_value({})\n",
    "false_value(())"
   ]
  },
  {
   "cell_type": "markdown",
   "metadata": {},
   "source": [
    "### 位运算符\n",
    "- &\t按位与运算符 同1则1\n",
    "- |\t按位或运算符 有1则1\n",
    "- ^\t按位异或运算符 不同则1\n",
    "- ~\t按位取反运算符\n",
    "- << 左移动运算符：运算数的各二进位全部左移指定移动的位数\n",
    "- \\>> 右移动运算符：把\">>\"左边的运算数的各二进位全部右移指定移动的位数"
   ]
  },
  {
   "cell_type": "markdown",
   "metadata": {},
   "source": [
    "### 成员运算符\n",
    "- in\n",
    "- not in"
   ]
  },
  {
   "cell_type": "code",
   "execution_count": 9,
   "metadata": {},
   "outputs": [
    {
     "name": "stdout",
     "output_type": "stream",
     "text": [
      "True\n"
     ]
    }
   ],
   "source": [
    "ls = [2, 7, 1, 8]\n",
    "a = 2\n",
    "b = 3\n",
    "\n",
    "print(a in ls)"
   ]
  },
  {
   "cell_type": "code",
   "execution_count": 10,
   "metadata": {},
   "outputs": [
    {
     "name": "stdout",
     "output_type": "stream",
     "text": [
      "False\n"
     ]
    }
   ],
   "source": [
    "print(b in ls)"
   ]
  },
  {
   "cell_type": "markdown",
   "metadata": {},
   "source": [
    "# 2."
   ]
  },
  {
   "cell_type": "markdown",
   "metadata": {},
   "source": [
    "## Python 内置数据结构\n",
    "- 列表(list)[] 有序\n",
    "- 字典(dict){} key唯一\n",
    "- 集合(set){} 无序\n",
    "- 元组(tuple)()"
   ]
  },
  {
   "cell_type": "markdown",
   "metadata": {},
   "source": [
    "### 列表 list"
   ]
  },
  {
   "cell_type": "markdown",
   "metadata": {},
   "source": [
    "#### 创建\n",
    "#### 访问列表元素\n",
    "1. 下标list[index]\n",
    "    - 正/负"
   ]
  },
  {
   "cell_type": "code",
   "execution_count": 15,
   "metadata": {},
   "outputs": [
    {
     "name": "stdout",
     "output_type": "stream",
     "text": [
      "[1, 2, 3, 4, 5, 6, 7]\n",
      "2\n",
      "7\n"
     ]
    }
   ],
   "source": [
    "ls1 = [1, 2, 3, 4, 5, 6, 7]\n",
    "\n",
    "print(ls1)\n",
    "print(ls1[1])\n",
    "print(ls1[-1])"
   ]
  },
  {
   "cell_type": "markdown",
   "metadata": {},
   "source": [
    "2. 分片list[]\n",
    "    - 正/负\n",
    "    - [start:end:step], start会包含在结果中而end却不会， start<end"
   ]
  },
  {
   "cell_type": "code",
   "execution_count": 16,
   "metadata": {},
   "outputs": [
    {
     "name": "stdout",
     "output_type": "stream",
     "text": [
      "[2, 3, 4]\n",
      "[1, 2, 3, 4, 5, 6, 7]\n",
      "[1, 2, 3, 4]\n",
      "[2, 3, 4, 5, 6, 7]\n",
      "[1, 3]\n",
      "[2, 5]\n"
     ]
    }
   ],
   "source": [
    "ls2 = ls1[1:4]\n",
    "print(ls2)\n",
    "print(ls1)\n",
    "\n",
    "print(ls1[:4])\n",
    "print(ls1[1:])\n",
    "\n",
    "print(ls1[:4:2])\n",
    "print(ls1[1::3])\n"
   ]
  },
  {
   "cell_type": "markdown",
   "metadata": {},
   "source": [
    "#### 增加/插入/连接扩充\n",
    "- list.append(obj) 添加在末尾\n",
    "- list.insert(index, obj) 指定插入位置下标&插入元素\n",
    "- list.extend(sequence)  指定要连接在末尾的序列"
   ]
  },
  {
   "cell_type": "code",
   "execution_count": 17,
   "metadata": {},
   "outputs": [
    {
     "name": "stdout",
     "output_type": "stream",
     "text": [
      "[1, 2, 3, 'd']\n",
      "['str', 1, 2, 3, 'd']\n",
      "['str', 1, 2, 3, 'd', 'a', 'b', 'c']\n"
     ]
    }
   ],
   "source": [
    "l1 = [1, 2, 3]\n",
    "l2 = ['a', 'b', 'c']\n",
    "\n",
    "l1.append('d')\n",
    "print(l1)\n",
    "\n",
    "l1.insert(0, 'str')\n",
    "print(l1)\n",
    "\n",
    "l1.extend(l2)\n",
    "print(l1)"
   ]
  },
  {
   "cell_type": "markdown",
   "metadata": {},
   "source": [
    "#### 删除元素\n",
    "- 删除指定元素\n",
    "    1. .remove(obj)\n",
    "    2. del()\n",
    "- 删除任意元素，并将其返回（——通常是最后一个元素）\n",
    "    1. .pop() "
   ]
  },
  {
   "cell_type": "code",
   "execution_count": 18,
   "metadata": {},
   "outputs": [
    {
     "name": "stdout",
     "output_type": "stream",
     "text": [
      "[1, 2, 3, 4, 5, 7]\n",
      "[2, 3, 4, 5, 7]\n"
     ]
    }
   ],
   "source": [
    "l = [1, 2, 3, 4, 5, 6, 7]\n",
    "\n",
    "l.remove(6)\n",
    "print(l)\n",
    "\n",
    "del(l[0])\n",
    "print(l)\n",
    "\n",
    "del l\n",
    "# print(l)"
   ]
  },
  {
   "cell_type": "markdown",
   "metadata": {},
   "source": [
    "####  元素顺序\n",
    "1. 列表中元素反向(颠倒顺序)\n",
    "    - list.reverse()\n",
    "2. 排列列表元素(正序，倒序)\n",
    "    - list.sort(reverse=Fasle)\n",
    "    - sorted(sequence, reverse=Fasle)\n",
    "\n",
    "\n",
    "- min() 数值最小值, (字符则按字符编码表顺序)\n",
    "- max() 数值最大值, (字符则按字符编码表顺序)\n",
    "- sum() 数值求和"
   ]
  },
  {
   "cell_type": "code",
   "execution_count": 12,
   "metadata": {},
   "outputs": [
    {
     "name": "stdout",
     "output_type": "stream",
     "text": [
      "[6, 2, 9, 5, 1, 4, 1, 3]\n",
      "[1, 1, 2, 3, 4, 5, 6, 9]\n",
      "[9, 6, 5, 4, 3, 2, 1, 1]\n"
     ]
    }
   ],
   "source": [
    "l = [3, 1, 4, 1, 5, 9, 2, 6]\n",
    "s = ['a', 'b', 'c', 'd']\n",
    "\n",
    "l.reverse()\n",
    "print(l)\n",
    "\n",
    "# l.sort()\n",
    "# print(l)\n",
    "\n",
    "# l.sort(reverse=True)\n",
    "# print(l)\n",
    "\n",
    "\n",
    "print(sorted(l))\n",
    "print(sorted(l, reverse=True))"
   ]
  },
  {
   "cell_type": "code",
   "execution_count": 15,
   "metadata": {},
   "outputs": [
    {
     "name": "stdout",
     "output_type": "stream",
     "text": [
      "1\n",
      "d\n",
      "31\n"
     ]
    }
   ],
   "source": [
    "print(min(l))\n",
    "print(max(s))\n",
    "print(sum(l))"
   ]
  },
  {
   "cell_type": "markdown",
   "metadata": {},
   "source": [
    "- 从列表中找出某个值第一个匹配项的索引位置(下标)\n",
    "    - list.index(obj)"
   ]
  },
  {
   "cell_type": "code",
   "execution_count": 21,
   "metadata": {},
   "outputs": [
    {
     "name": "stdout",
     "output_type": "stream",
     "text": [
      "3\n"
     ]
    }
   ],
   "source": [
    "l = ['a', 'b', 'c', 'd']\n",
    "\n",
    "print(l.index('d'))"
   ]
  },
  {
   "cell_type": "markdown",
   "metadata": {},
   "source": [
    "### 访问每个元素及下标\n",
    "- 将一个可遍历的数据对象(如列表、元组或字符串)组合为一个索引序列,列出数据和数据下标\n",
    "- 常用在for循环里\n",
    "- index, values = enumerate(seq, start=0)"
   ]
  },
  {
   "cell_type": "code",
   "execution_count": 16,
   "metadata": {},
   "outputs": [
    {
     "name": "stdout",
     "output_type": "stream",
     "text": [
      "0 a\n",
      "1 b\n",
      "2 c\n",
      "3 d\n",
      "1 a\n",
      "2 b\n",
      "3 c\n",
      "4 d\n"
     ]
    }
   ],
   "source": [
    "l = ['a', 'b', 'c', 'd']\n",
    "\n",
    "for i , v in enumerate(l):\n",
    "    print(i, v)\n",
    "\n",
    "    \n",
    "for i , v in enumerate(l, start=1):\n",
    "    print(i, v)"
   ]
  },
  {
   "cell_type": "markdown",
   "metadata": {},
   "source": [
    "### 列表各元素组合为字符串 list --> str\n",
    "- split_str.join(list)\n",
    "### 字符串转列表 str -->  list\n",
    "- str.split(split_str)"
   ]
  },
  {
   "cell_type": "code",
   "execution_count": 23,
   "metadata": {},
   "outputs": [
    {
     "name": "stdout",
     "output_type": "stream",
     "text": [
      "a - b - c - d\n"
     ]
    }
   ],
   "source": [
    "l = ['a', 'b', 'c', 'd']\n",
    "\n",
    "l2 = ' - '.join(l)\n",
    "print(l2)"
   ]
  },
  {
   "cell_type": "code",
   "execution_count": 24,
   "metadata": {},
   "outputs": [
    {
     "name": "stdout",
     "output_type": "stream",
     "text": [
      "['a', 'b', 'c', 'd']\n"
     ]
    }
   ],
   "source": [
    "l3 = l2.split(' - ')\n",
    "print(l3)"
   ]
  },
  {
   "cell_type": "markdown",
   "metadata": {},
   "source": [
    "#### list - 指向一个内存地址\n",
    "- 列表间直接赋值时相当于引用\n",
    "- 修改赋值的list,被赋值的list也会变化"
   ]
  },
  {
   "cell_type": "code",
   "execution_count": 25,
   "metadata": {},
   "outputs": [
    {
     "name": "stdout",
     "output_type": "stream",
     "text": [
      "['ccc', 'b', 2, 'd']\n",
      "['ccc', 'b', 2, 'd']\n"
     ]
    }
   ],
   "source": [
    "l1 = ['a', 'b', 'c', 'd']\n",
    "l2 = l1\n",
    "\n",
    "l2[2] = 2\n",
    "l1[0] = 'ccc'\n",
    "\n",
    "print(l1)\n",
    "print(l2)"
   ]
  },
  {
   "cell_type": "markdown",
   "metadata": {},
   "source": [
    "##### 元组tuple/集合set等 \n",
    "1. tuple/set 只读类型， 'tuple' /  'set'object does not support item assignment)\n",
    "2. set集合元素不重复（重复无效）满足唯一性，确定性，无序性"
   ]
  },
  {
   "cell_type": "markdown",
   "metadata": {},
   "source": [
    "- 我们尝试手动改变元组的值"
   ]
  },
  {
   "cell_type": "code",
   "execution_count": 22,
   "metadata": {},
   "outputs": [
    {
     "ename": "TypeError",
     "evalue": "'tuple' object does not support item assignment",
     "output_type": "error",
     "traceback": [
      "\u001b[1;31m---------------------------------------------------------------------------\u001b[0m",
      "\u001b[1;31mTypeError\u001b[0m                                 Traceback (most recent call last)",
      "\u001b[1;32m<ipython-input-22-4e634f6d87e7>\u001b[0m in \u001b[0;36m<module>\u001b[1;34m()\u001b[0m\n\u001b[0;32m      2\u001b[0m \u001b[0mt2\u001b[0m \u001b[1;33m=\u001b[0m \u001b[0mt1\u001b[0m\u001b[1;33m\u001b[0m\u001b[0m\n\u001b[0;32m      3\u001b[0m \u001b[1;33m\u001b[0m\u001b[0m\n\u001b[1;32m----> 4\u001b[1;33m \u001b[0mt1\u001b[0m\u001b[1;33m[\u001b[0m\u001b[1;36m0\u001b[0m\u001b[1;33m]\u001b[0m \u001b[1;33m=\u001b[0m \u001b[1;34m'ccc'\u001b[0m\u001b[1;33m\u001b[0m\u001b[0m\n\u001b[0m\u001b[0;32m      5\u001b[0m \u001b[0mt2\u001b[0m\u001b[1;33m[\u001b[0m\u001b[1;36m0\u001b[0m\u001b[1;33m]\u001b[0m \u001b[1;33m=\u001b[0m \u001b[1;34m'ccc'\u001b[0m\u001b[1;33m\u001b[0m\u001b[0m\n",
      "\u001b[1;31mTypeError\u001b[0m: 'tuple' object does not support item assignment"
     ]
    }
   ],
   "source": [
    "t1 = ('a', 'b', 'c', 'd')\n",
    "t2 = t1\n",
    "\n",
    "t1[0] = 'ccc'\n",
    "t2[0] = 'ccc'"
   ]
  },
  {
   "cell_type": "markdown",
   "metadata": {},
   "source": [
    "    - 报错,不能修改\n",
    "    - 查看一下两个元组的id"
   ]
  },
  {
   "cell_type": "code",
   "execution_count": 23,
   "metadata": {},
   "outputs": [
    {
     "name": "stdout",
     "output_type": "stream",
     "text": [
      "('a', 'b', 'c', 'd')\n",
      "('a', 'b', 'c', 'd')\n",
      "2496161806520\n",
      "2496161806520\n"
     ]
    }
   ],
   "source": [
    "t1 = ('a', 'b', 'c', 'd')\n",
    "t2 = t1\n",
    "\n",
    "print(t1)\n",
    "print(t2)\n",
    "\n",
    "print(id(t1))\n",
    "print(id(t2))"
   ]
  },
  {
   "cell_type": "markdown",
   "metadata": {},
   "source": [
    "    - 内存地址相同,和list之间的赋值一样,只是引用了地址"
   ]
  },
  {
   "cell_type": "markdown",
   "metadata": {},
   "source": [
    "- 我们创建一个有重复元素的集合\n",
    "- 打印出来,观察输出结果"
   ]
  },
  {
   "cell_type": "code",
   "execution_count": 26,
   "metadata": {},
   "outputs": [
    {
     "name": "stdout",
     "output_type": "stream",
     "text": [
      "{1, 2, 3}\n"
     ]
    }
   ],
   "source": [
    "s1 = {1, 2, 3, 1}\n",
    "print(s1)"
   ]
  },
  {
   "cell_type": "markdown",
   "metadata": {},
   "source": [
    "- 集合元素满足唯一性,重复无效"
   ]
  },
  {
   "cell_type": "markdown",
   "metadata": {},
   "source": [
    "- 我们尝试修改一下集合的元素,同时打印集合间相互赋值后的id"
   ]
  },
  {
   "cell_type": "code",
   "execution_count": 17,
   "metadata": {},
   "outputs": [
    {
     "ename": "TypeError",
     "evalue": "'set' object does not support item assignment",
     "output_type": "error",
     "traceback": [
      "\u001b[1;31m---------------------------------------------------------------------------\u001b[0m",
      "\u001b[1;31mTypeError\u001b[0m                                 Traceback (most recent call last)",
      "\u001b[1;32m<ipython-input-17-af38922a0804>\u001b[0m in \u001b[0;36m<module>\u001b[1;34m()\u001b[0m\n\u001b[0;32m      2\u001b[0m \u001b[0ml2\u001b[0m \u001b[1;33m=\u001b[0m \u001b[0ml1\u001b[0m\u001b[1;33m\u001b[0m\u001b[0m\n\u001b[0;32m      3\u001b[0m \u001b[1;33m\u001b[0m\u001b[0m\n\u001b[1;32m----> 4\u001b[1;33m \u001b[0ml1\u001b[0m\u001b[1;33m[\u001b[0m\u001b[1;36m0\u001b[0m\u001b[1;33m]\u001b[0m \u001b[1;33m=\u001b[0m \u001b[1;34m'z'\u001b[0m\u001b[1;33m\u001b[0m\u001b[0m\n\u001b[0m\u001b[0;32m      5\u001b[0m \u001b[0ml2\u001b[0m\u001b[1;33m[\u001b[0m\u001b[1;36m1\u001b[0m\u001b[1;33m]\u001b[0m \u001b[1;33m=\u001b[0m \u001b[1;34m'a'\u001b[0m\u001b[1;33m\u001b[0m\u001b[0m\n\u001b[0;32m      6\u001b[0m \u001b[1;33m\u001b[0m\u001b[0m\n",
      "\u001b[1;31mTypeError\u001b[0m: 'set' object does not support item assignment"
     ]
    }
   ],
   "source": [
    "l1 = {1, 3, 6 ,9, 7}\n",
    "l2 = l1\n",
    "\n",
    "# l1[0] = 'z'\n",
    "# l2[1] = 'a'\n",
    "\n",
    "print(l1)\n",
    "print(l2)\n",
    "\n",
    "print(id(l1))\n",
    "print(id(l2))"
   ]
  },
  {
   "cell_type": "markdown",
   "metadata": {},
   "source": [
    "- 集合元素不可更改\n",
    "- 相互赋值也是引用"
   ]
  },
  {
   "cell_type": "markdown",
   "metadata": {},
   "source": [
    "### 两个set集合差集 并集 交集\n",
    "- set1.difference(set2)\n",
    "- set1.union(set2)\n",
    "- set1.intersection(set2)"
   ]
  },
  {
   "cell_type": "code",
   "execution_count": 29,
   "metadata": {},
   "outputs": [
    {
     "name": "stdout",
     "output_type": "stream",
     "text": [
      "{'b'}\n",
      "{'d', 'e', 'b', 'c', 'a'}\n",
      "{'d', 'c', 'a'}\n"
     ]
    }
   ],
   "source": [
    "l1 = {'a', 'b', 'c', 'd'}\n",
    "l2 = {'a', 'c', 'd', 'e'}\n",
    "\n",
    "print(l1.difference(l2))\n",
    "print(l1.union(l2))\n",
    "print(l1.intersection(l2))"
   ]
  },
  {
   "cell_type": "markdown",
   "metadata": {},
   "source": [
    "### 字典\n",
    "- 使用 键-值  {key:value}\n",
    "- 键唯一, 值无要求"
   ]
  },
  {
   "cell_type": "code",
   "execution_count": 34,
   "metadata": {},
   "outputs": [
    {
     "name": "stdout",
     "output_type": "stream",
     "text": [
      "Mark\n",
      "Not Fuond\n"
     ]
    }
   ],
   "source": [
    "stu = {'name':'Mark', 'age':42, 'friend':'Fabienne'}\n",
    "\n",
    "# print(stu['phone'])  # IndentationError: unexpected indent\n",
    "print(stu.get('name'))\n",
    "print(stu.get('phone', 'Not Fuond'))"
   ]
  },
  {
   "cell_type": "markdown",
   "metadata": {},
   "source": [
    "- 添加/修改 字典的值"
   ]
  },
  {
   "cell_type": "code",
   "execution_count": 32,
   "metadata": {},
   "outputs": [
    {
     "name": "stdout",
     "output_type": "stream",
     "text": [
      "{'name': 'John', 'age': 42, 'friend': 'Fabienne', 'phone': 'fruit'}\n"
     ]
    }
   ],
   "source": [
    "stu = {'name':'Mark', 'age':42, 'friend':'Fabienne'}\n",
    "\n",
    "stu['phone'] = 'fruit'\n",
    "stu['name'] = 'John'\n",
    "\n",
    "print(stu)"
   ]
  },
  {
   "cell_type": "markdown",
   "metadata": {},
   "source": [
    "- 获取字典中指定键的值\n",
    "- dict.get(key, default_value)"
   ]
  },
  {
   "cell_type": "code",
   "execution_count": 33,
   "metadata": {},
   "outputs": [
    {
     "name": "stdout",
     "output_type": "stream",
     "text": [
      "Not Fuond\n",
      "{'name': 'Mark', 'age': 42, 'friend': 'Fabienne'}\n"
     ]
    }
   ],
   "source": [
    "stu = {'name':'Mark', 'age':42, 'friend':'Fabienne'}\n",
    "\n",
    "print(stu.get('phone', 'Not Fuond'))\n",
    "print(stu)"
   ]
  },
  {
   "cell_type": "markdown",
   "metadata": {},
   "source": [
    "- 删除键值对\n",
    "    - del()\n",
    "    - .pop()\n",
    "- 类比列表"
   ]
  },
  {
   "cell_type": "markdown",
   "metadata": {},
   "source": [
    "### 查看key / value"
   ]
  },
  {
   "cell_type": "markdown",
   "metadata": {},
   "source": [
    "- 只查看键\n",
    "- dict.keys()"
   ]
  },
  {
   "cell_type": "code",
   "execution_count": 36,
   "metadata": {},
   "outputs": [
    {
     "name": "stdout",
     "output_type": "stream",
     "text": [
      "dict_keys(['name', 'age', 'friend', 'phone'])\n",
      "name\n",
      "age\n",
      "friend\n",
      "phone\n"
     ]
    }
   ],
   "source": [
    "stu = {'name':'Mark', 'age':42, 'friend':'Fabienne'}\n",
    "\n",
    "print(stu.keys())\n",
    "\n",
    "for key in stu:\n",
    "    print(key)"
   ]
  },
  {
   "cell_type": "markdown",
   "metadata": {},
   "source": [
    "- 只查看值\n",
    "- dict.values()"
   ]
  },
  {
   "cell_type": "code",
   "execution_count": 37,
   "metadata": {},
   "outputs": [
    {
     "name": "stdout",
     "output_type": "stream",
     "text": [
      "dict_values(['John', 42, 'Fabienne', 'fruit'])\n",
      "name\n",
      "age\n",
      "friend\n",
      "phone\n",
      "name John\n",
      "age 42\n",
      "friend Fabienne\n",
      "phone fruit\n"
     ]
    }
   ],
   "source": [
    "stu = {'name':'Mark', 'age':42, 'friend':'Fabienne'}\n",
    "\n",
    "print(stu.values())\n",
    "\n",
    "for value in stu:  #  不行\n",
    "    print(value)\n"
   ]
  },
  {
   "cell_type": "markdown",
   "metadata": {},
   "source": [
    "- 查看键和值"
   ]
  },
  {
   "cell_type": "code",
   "execution_count": 34,
   "metadata": {},
   "outputs": [
    {
     "name": "stdout",
     "output_type": "stream",
     "text": [
      "name Mark\n",
      "age 42\n",
      "friend Fabienne\n"
     ]
    }
   ],
   "source": [
    "stu = {'name':'Mark', 'age':42, 'friend':'Fabienne'}\n",
    "\n",
    "for key, value in stu.items():\n",
    "    print(key, value)"
   ]
  },
  {
   "cell_type": "markdown",
   "metadata": {},
   "source": [
    "#### 补充 对比一下创建list dict set tuple"
   ]
  },
  {
   "cell_type": "code",
   "execution_count": 26,
   "metadata": {},
   "outputs": [
    {
     "name": "stdout",
     "output_type": "stream",
     "text": [
      "[] []\n"
     ]
    }
   ],
   "source": [
    "# 列表\n",
    "l1 = []\n",
    "l2 = list()\n",
    "\n",
    "print(l1, l2)"
   ]
  },
  {
   "cell_type": "code",
   "execution_count": 27,
   "metadata": {},
   "outputs": [
    {
     "name": "stdout",
     "output_type": "stream",
     "text": [
      "{} {}\n"
     ]
    }
   ],
   "source": [
    "# 字典\n",
    "d1 = {}\n",
    "d2 = dict()\n",
    "\n",
    "print(d1, d2)"
   ]
  },
  {
   "cell_type": "code",
   "execution_count": 28,
   "metadata": {},
   "outputs": [
    {
     "name": "stdout",
     "output_type": "stream",
     "text": [
      "{} set()\n"
     ]
    }
   ],
   "source": [
    "# 集合\n",
    "s1 = {}  # 这是一个字典\n",
    "s2 = set()\n",
    "\n",
    "print(s1, s2)"
   ]
  },
  {
   "cell_type": "code",
   "execution_count": 29,
   "metadata": {},
   "outputs": [
    {
     "name": "stdout",
     "output_type": "stream",
     "text": [
      "() ()\n"
     ]
    }
   ],
   "source": [
    "# 元组\n",
    "t1 = ()\n",
    "t2 = tuple()\n",
    "\n",
    "print(t1, t2)"
   ]
  },
  {
   "cell_type": "markdown",
   "metadata": {},
   "source": [
    "# 3."
   ]
  },
  {
   "cell_type": "markdown",
   "metadata": {},
   "source": [
    "### 分支/循环"
   ]
  },
  {
   "cell_type": "markdown",
   "metadata": {},
   "source": [
    "### if - elif - else"
   ]
  },
  {
   "cell_type": "code",
   "execution_count": 35,
   "metadata": {},
   "outputs": [
    {
     "name": "stdout",
     "output_type": "stream",
     "text": [
      "T rue!\n",
      "Google!\n"
     ]
    }
   ],
   "source": [
    "if True:\n",
    "    print('T rue!')\n",
    "if False:\n",
    "    print('F alse!')\n",
    "\n",
    "    \n",
    "g = 'google'\n",
    "flag = True\n",
    "\n",
    "if g == 'google' and flag:\n",
    "    \n",
    "    print('Google!')\n",
    "    \n",
    "elif g == 'game' or flag:  # 第2次 改flag 为 False\n",
    "        print('game!')\n",
    "else:\n",
    "    print('Not Google')\n",
    "    \n"
   ]
  },
  {
   "cell_type": "markdown",
   "metadata": {},
   "source": [
    "### 循环 - 迭代 - for / while循环"
   ]
  },
  {
   "cell_type": "markdown",
   "metadata": {},
   "source": [
    "- for 循环打印出所有元素"
   ]
  },
  {
   "cell_type": "code",
   "execution_count": 39,
   "metadata": {},
   "outputs": [
    {
     "name": "stdout",
     "output_type": "stream",
     "text": [
      "1\n",
      "2\n",
      "3\n",
      "4\n"
     ]
    }
   ],
   "source": [
    "nums = [1, 2, 3 ,4]\n",
    "\n",
    "for num in nums:\n",
    "    print(num)"
   ]
  },
  {
   "cell_type": "markdown",
   "metadata": {},
   "source": [
    "- 寻找值为3的元素, 找到之后就停止循环"
   ]
  },
  {
   "cell_type": "code",
   "execution_count": 40,
   "metadata": {},
   "outputs": [
    {
     "name": "stdout",
     "output_type": "stream",
     "text": [
      "1\n",
      "2\n",
      "Found!\n"
     ]
    }
   ],
   "source": [
    "## 改为：\n",
    "nums = [1, 2, 3 ,4]\n",
    "for num in nums:\n",
    "    if num == 3:\n",
    "        print('Found!')\n",
    "        break\n",
    "    print(num)"
   ]
  },
  {
   "cell_type": "markdown",
   "metadata": {},
   "source": [
    "- 嵌套使用"
   ]
  },
  {
   "cell_type": "code",
   "execution_count": 36,
   "metadata": {},
   "outputs": [
    {
     "name": "stdout",
     "output_type": "stream",
     "text": [
      "1 M\n",
      "1 a\n",
      "1 r\n",
      "1 k\n",
      "2 M\n",
      "2 a\n",
      "2 r\n",
      "2 k\n",
      "3 M\n",
      "3 a\n",
      "3 r\n",
      "3 k\n",
      "4 M\n",
      "4 a\n",
      "4 r\n",
      "4 k\n"
     ]
    }
   ],
   "source": [
    "# 改为：\n",
    "nums = [1, 2, 3 ,4]\n",
    "name = 'Mark'\n",
    "\n",
    "for num in nums:\n",
    "    for l in name:\n",
    "        print(num, l)"
   ]
  },
  {
   "cell_type": "markdown",
   "metadata": {},
   "source": [
    "- 循环一定次数\n",
    "- 一般用 for i in range(num):的形式"
   ]
  },
  {
   "cell_type": "code",
   "execution_count": 42,
   "metadata": {},
   "outputs": [
    {
     "name": "stdout",
     "output_type": "stream",
     "text": [
      "0\n",
      "1\n",
      "2\n",
      "3\n",
      "4\n"
     ]
    }
   ],
   "source": [
    "for i in range(5):\n",
    "    print(i)"
   ]
  },
  {
   "cell_type": "markdown",
   "metadata": {},
   "source": [
    "- range(a,b)的形式也可以"
   ]
  },
  {
   "cell_type": "code",
   "execution_count": 43,
   "metadata": {},
   "outputs": [
    {
     "name": "stdout",
     "output_type": "stream",
     "text": [
      "1\n",
      "2\n",
      "3\n",
      "4\n",
      "5\n",
      "6\n",
      "7\n",
      "8\n",
      "9\n",
      "10\n"
     ]
    }
   ],
   "source": [
    "## 改为：\n",
    "for i in range(1, 11):\n",
    "    print(i)"
   ]
  },
  {
   "cell_type": "markdown",
   "metadata": {},
   "source": [
    "- while 循环"
   ]
  },
  {
   "cell_type": "code",
   "execution_count": 37,
   "metadata": {},
   "outputs": [
    {
     "name": "stdout",
     "output_type": "stream",
     "text": [
      "1\n",
      "2\n",
      "3\n",
      "4\n",
      "5\n"
     ]
    }
   ],
   "source": [
    "x = 0\n",
    "\n",
    "while x < 5:\n",
    "    x += 1\n",
    "    print(x)"
   ]
  },
  {
   "cell_type": "code",
   "execution_count": 45,
   "metadata": {},
   "outputs": [
    {
     "name": "stdout",
     "output_type": "stream",
     "text": [
      "1\n",
      "2\n",
      "4\n",
      "5\n"
     ]
    }
   ],
   "source": [
    "## 改为\n",
    "\n",
    "x = 0\n",
    "while x < 5:\n",
    "    x += 1\n",
    "    \n",
    "    if x == 3:\n",
    "        continue\n",
    "    print(x)"
   ]
  },
  {
   "cell_type": "markdown",
   "metadata": {},
   "source": [
    "# 4."
   ]
  },
  {
   "cell_type": "markdown",
   "metadata": {},
   "source": [
    "### 函数定义\n",
    "- hello world"
   ]
  },
  {
   "cell_type": "markdown",
   "metadata": {},
   "source": [
    "- 先定义一个空函数hello,什么也不做, 分别打印出这个函数/打印函数执行的返回值"
   ]
  },
  {
   "cell_type": "code",
   "execution_count": 46,
   "metadata": {},
   "outputs": [
    {
     "name": "stdout",
     "output_type": "stream",
     "text": [
      "<function hello at 0x0000027EFE6B31E0>\n"
     ]
    }
   ],
   "source": [
    "def hello():\n",
    "    pass\n",
    "\n",
    "print(hello)"
   ]
  },
  {
   "cell_type": "code",
   "execution_count": 47,
   "metadata": {},
   "outputs": [
    {
     "name": "stdout",
     "output_type": "stream",
     "text": [
      "None\n"
     ]
    }
   ],
   "source": [
    "## 改为\n",
    "print(hello())"
   ]
  },
  {
   "cell_type": "markdown",
   "metadata": {},
   "source": [
    "- 让函数输出'Hello World'"
   ]
  },
  {
   "cell_type": "code",
   "execution_count": 48,
   "metadata": {},
   "outputs": [
    {
     "name": "stdout",
     "output_type": "stream",
     "text": [
      "Hello World\n",
      "Hello World\n"
     ]
    }
   ],
   "source": [
    "## 改为\n",
    "def hello():\n",
    "    print('Hello World')\n",
    "\n",
    "\n",
    "hello()\n",
    "hello()"
   ]
  },
  {
   "cell_type": "markdown",
   "metadata": {},
   "source": [
    "- 返回值\n",
    "- 传参 \n",
    "- & 默认值"
   ]
  },
  {
   "cell_type": "markdown",
   "metadata": {},
   "source": [
    "- 修改hello()为只是返回,并不在函数内输出语句"
   ]
  },
  {
   "cell_type": "code",
   "execution_count": 49,
   "metadata": {},
   "outputs": [
    {
     "name": "stdout",
     "output_type": "stream",
     "text": [
      "Hello World\n",
      "HELLO WORLD\n"
     ]
    }
   ],
   "source": [
    "# 改为\n",
    "def hello():\n",
    "    return 'Hello World'\n",
    "\n",
    "\n",
    "print(hello())\n",
    "print(hello().upper())"
   ]
  },
  {
   "cell_type": "markdown",
   "metadata": {},
   "source": [
    "- 修改为传参的函数,传入一个名字name,输出Hello name"
   ]
  },
  {
   "cell_type": "code",
   "execution_count": 50,
   "metadata": {},
   "outputs": [
    {
     "name": "stdout",
     "output_type": "stream",
     "text": [
      "Hello Mark\n"
     ]
    }
   ],
   "source": [
    "def hello(msg):\n",
    "    return 'Hello {}'.format(msg)\n",
    "\n",
    "\n",
    "print(hello('Mark'))"
   ]
  },
  {
   "cell_type": "markdown",
   "metadata": {},
   "source": [
    "- 将name默认值设为Mary"
   ]
  },
  {
   "cell_type": "code",
   "execution_count": 51,
   "metadata": {},
   "outputs": [
    {
     "name": "stdout",
     "output_type": "stream",
     "text": [
      "Hello Mary\n",
      "Hello Mark\n"
     ]
    }
   ],
   "source": [
    "def hello(msg='Mary'):\n",
    "    return 'Hello {}'.format(msg)\n",
    "\n",
    "\n",
    "print(hello())\n",
    "print(hello('Mark'))"
   ]
  },
  {
   "cell_type": "markdown",
   "metadata": {},
   "source": [
    "- 多个参数\n",
    "- 同时传入问候语'Hi'和名字'Mark'"
   ]
  },
  {
   "cell_type": "code",
   "execution_count": 38,
   "metadata": {},
   "outputs": [
    {
     "name": "stdout",
     "output_type": "stream",
     "text": [
      "Hi Mark\n"
     ]
    }
   ],
   "source": [
    "def hello(msg, name):\n",
    "    return '{} {}'.format(msg, name)\n",
    "\n",
    "\n",
    "print(hello('Hi', 'Mark'))"
   ]
  },
  {
   "cell_type": "markdown",
   "metadata": {},
   "source": [
    "###  更多参数。。。无法判断参数个数,位置\n",
    "- 使用 *args 表示多个普通参数\n",
    "- 使用 \\**kwargs 表示多个关键字参数"
   ]
  },
  {
   "cell_type": "code",
   "execution_count": 53,
   "metadata": {},
   "outputs": [
    {
     "name": "stdout",
     "output_type": "stream",
     "text": [
      "([1, 'a'], {'name': 'Mark', 'age': 42})\n",
      "{}\n",
      "(1, 'a')\n",
      "{'name': 'Mark', 'age': 42}\n"
     ]
    }
   ],
   "source": [
    "\n",
    "def hello(*args, **kwargs):\n",
    "    print(args)\n",
    "    print(kwargs)\n",
    "    \n",
    "    \n",
    "inf1 = [1, 'a']\n",
    "inf2 = {'name':'Mark', 'age':42}\n",
    "hello(inf1, inf2)\n",
    "\n",
    "hello(*inf1, **inf2)"
   ]
  },
  {
   "cell_type": "code",
   "execution_count": 54,
   "metadata": {},
   "outputs": [],
   "source": [
    "#############################################################################"
   ]
  },
  {
   "cell_type": "code",
   "execution_count": null,
   "metadata": {},
   "outputs": [],
   "source": []
  },
  {
   "cell_type": "code",
   "execution_count": null,
   "metadata": {},
   "outputs": [],
   "source": []
  },
  {
   "cell_type": "code",
   "execution_count": null,
   "metadata": {},
   "outputs": [],
   "source": []
  },
  {
   "cell_type": "code",
   "execution_count": null,
   "metadata": {},
   "outputs": [],
   "source": []
  },
  {
   "cell_type": "code",
   "execution_count": null,
   "metadata": {},
   "outputs": [],
   "source": []
  },
  {
   "cell_type": "code",
   "execution_count": null,
   "metadata": {},
   "outputs": [],
   "source": []
  },
  {
   "cell_type": "code",
   "execution_count": null,
   "metadata": {},
   "outputs": [],
   "source": []
  },
  {
   "cell_type": "code",
   "execution_count": null,
   "metadata": {},
   "outputs": [],
   "source": []
  },
  {
   "cell_type": "code",
   "execution_count": null,
   "metadata": {},
   "outputs": [],
   "source": []
  },
  {
   "cell_type": "markdown",
   "metadata": {},
   "source": [
    "# 5."
   ]
  },
  {
   "cell_type": "markdown",
   "metadata": {},
   "source": [
    "### 导入模块 &  探索标准库(Standard Library)"
   ]
  },
  {
   "cell_type": "markdown",
   "metadata": {},
   "source": [
    "- 在文件同一目录下有一个my_module.py文件,内容如下:"
   ]
  },
  {
   "cell_type": "code",
   "execution_count": 55,
   "metadata": {},
   "outputs": [
    {
     "data": {
      "text/plain": [
       "'\\n\\n\\n\\ndef num_args(*args, start=0):\\n    for arg in args:\\n        print(start, arg)\\n        start += 1\\n        \\n        \\ntest = \"This is my_module\"\\n\\n\\n'"
      ]
     },
     "execution_count": 55,
     "metadata": {},
     "output_type": "execute_result"
    }
   ],
   "source": [
    "'''\n",
    "\n",
    "\n",
    "# 传入若干参数, 输出每个参数及其序号\n",
    "# 默认序号从0开始\n",
    "\n",
    "def num_args(*args, start=0):\n",
    "    for arg in args:\n",
    "        print(start, arg)\n",
    "        start += 1\n",
    "        \n",
    "        \n",
    "test = \"This is my_module\"\n",
    "\n",
    "\n",
    "'''"
   ]
  },
  {
   "cell_type": "markdown",
   "metadata": {},
   "source": [
    "- 导入我们自定义的模块,并使用里面的函数"
   ]
  },
  {
   "cell_type": "markdown",
   "metadata": {},
   "source": [
    "    - import my_module方式\n",
    "    - my_module.num_args(*inf)来调用模块中的函数时,应指明模块名"
   ]
  },
  {
   "cell_type": "code",
   "execution_count": 39,
   "metadata": {},
   "outputs": [
    {
     "name": "stdout",
     "output_type": "stream",
     "text": [
      "0 Mark\n",
      "1 name\n",
      "2 age\n"
     ]
    }
   ],
   "source": [
    "import my_module  \n",
    "\n",
    "inf = ['Mark', 'name', 'age']\n",
    "\n",
    "my_module.num_args(*inf)"
   ]
  },
  {
   "cell_type": "markdown",
   "metadata": {},
   "source": [
    "    - import my_module  as mm           # 导入并设置别名 mm\n",
    "    - 调用模块中的函数时,应指明模块名(别名) "
   ]
  },
  {
   "cell_type": "code",
   "execution_count": 40,
   "metadata": {},
   "outputs": [
    {
     "name": "stdout",
     "output_type": "stream",
     "text": [
      "0 Mark\n",
      "1 name\n",
      "2 age\n"
     ]
    }
   ],
   "source": [
    "## 改为\n",
    "import my_module  as mm           # 导入并设置别名 mm\n",
    "\n",
    "inf = ['Mark', 'name', 'age']\n",
    "\n",
    "mm.num_args(*inf)"
   ]
  },
  {
   "cell_type": "markdown",
   "metadata": {},
   "source": [
    "    - from my_module import num_args  #  仅导入 num_args()函数\n",
    "    - 调用模块中的函数时,直接使用函数名"
   ]
  },
  {
   "cell_type": "code",
   "execution_count": 41,
   "metadata": {},
   "outputs": [
    {
     "name": "stdout",
     "output_type": "stream",
     "text": [
      "0 Mark\n",
      "1 name\n",
      "2 age\n"
     ]
    }
   ],
   "source": [
    "## 改为\n",
    "from my_module import num_args  #  仅导入 num_args()函数\n",
    "\n",
    "inf = ['Mark', 'name', 'age']\n",
    "\n",
    "num_args(*inf)"
   ]
  },
  {
   "cell_type": "code",
   "execution_count": 42,
   "metadata": {},
   "outputs": [
    {
     "ename": "SyntaxError",
     "evalue": "invalid syntax (<ipython-input-42-6550840d19a0>, line 1)",
     "output_type": "error",
     "traceback": [
      "\u001b[1;36m  File \u001b[1;32m\"<ipython-input-42-6550840d19a0>\"\u001b[1;36m, line \u001b[1;32m1\u001b[0m\n\u001b[1;33m    - from my_module import num_args as na   # 导入并设置num_args别名 na\u001b[0m\n\u001b[1;37m         ^\u001b[0m\n\u001b[1;31mSyntaxError\u001b[0m\u001b[1;31m:\u001b[0m invalid syntax\n"
     ]
    }
   ],
   "source": [
    "    - from my_module import num_args as na   # 导入并设置num_args别名 na\n",
    "    - 调用模块中的函数时,使用函数别名na"
   ]
  },
  {
   "cell_type": "code",
   "execution_count": 43,
   "metadata": {},
   "outputs": [
    {
     "name": "stdout",
     "output_type": "stream",
     "text": [
      "0 Mark\n",
      "1 name\n",
      "2 age\n"
     ]
    }
   ],
   "source": [
    "## 改为\n",
    "from my_module import num_args as na   # 导入并设置num_args别名 na\n",
    "\n",
    "inf = ['Mark', 'name', 'age']\n",
    "\n",
    "na(*inf)"
   ]
  },
  {
   "cell_type": "markdown",
   "metadata": {},
   "source": [
    "    - from my_module import *             # 导入所有内容\n",
    "    - 直接使用函数名"
   ]
  },
  {
   "cell_type": "code",
   "execution_count": 44,
   "metadata": {},
   "outputs": [
    {
     "name": "stdout",
     "output_type": "stream",
     "text": [
      "0 Mark\n",
      "1 name\n",
      "2 age\n"
     ]
    }
   ],
   "source": [
    "## 改为\n",
    "from my_module import *             # 导入所有内容\n",
    "\n",
    "inf = ['Mark', 'name', 'age']\n",
    "num_args(*inf)"
   ]
  },
  {
   "cell_type": "markdown",
   "metadata": {},
   "source": [
    "- 导入函数及变量"
   ]
  },
  {
   "cell_type": "code",
   "execution_count": 48,
   "metadata": {},
   "outputs": [
    {
     "name": "stdout",
     "output_type": "stream",
     "text": [
      "This is my_module\n",
      "0 Mark\n",
      "1 name\n",
      "2 age\n"
     ]
    }
   ],
   "source": [
    "from my_module import num_args, test\n",
    "\n",
    "inf = ['Mark', 'name', 'age']\n",
    "\n",
    "print(test)\n",
    "num_args(*inf)"
   ]
  },
  {
   "cell_type": "markdown",
   "metadata": {},
   "source": [
    "### 导入模块\n",
    "- 同一目录下.py可以直接导入\n",
    "#### 1. import my_module\n",
    "#### 2. import my_module as mm  -----------------------设置别名\n",
    "#### 3. from my_module import num_args  ------------导入指定元素\n",
    "#### 4. from my_module import num_args as nm  ---导入指定元素并设置别名\n",
    "#### 5. from my_module import * ------------------------导入所有内容\n",
    "\n",
    "仅在可提高代码可读性的前提下允许使用2, 4设置别名的方式\n",
    "\n",
    "任何情况下**不建议**使用 5 中 * 导入所有内容的方式"
   ]
  },
  {
   "cell_type": "code",
   "execution_count": 47,
   "metadata": {},
   "outputs": [
    {
     "name": "stdout",
     "output_type": "stream",
     "text": [
      "This is my_module\n",
      "0 Mark\n",
      "1 name\n",
      "2 age\n"
     ]
    }
   ],
   "source": [
    "\n"
   ]
  },
  {
   "cell_type": "code",
   "execution_count": null,
   "metadata": {},
   "outputs": [],
   "source": []
  },
  {
   "cell_type": "code",
   "execution_count": null,
   "metadata": {},
   "outputs": [],
   "source": []
  },
  {
   "cell_type": "code",
   "execution_count": null,
   "metadata": {},
   "outputs": [],
   "source": []
  },
  {
   "cell_type": "code",
   "execution_count": null,
   "metadata": {},
   "outputs": [],
   "source": []
  },
  {
   "cell_type": "markdown",
   "metadata": {},
   "source": [
    "导入不是同一目录下的模块时，解释器会搜索的所有目录的列表，这个列表是什么？\n",
    "- sys.path 保存着目录信息"
   ]
  },
  {
   "cell_type": "code",
   "execution_count": 62,
   "metadata": {},
   "outputs": [
    {
     "name": "stdout",
     "output_type": "stream",
     "text": [
      "['', 'E:\\\\Program_Files\\\\Anaconda3\\\\python36.zip', 'E:\\\\Program_Files\\\\Anaconda3\\\\DLLs', 'E:\\\\Program_Files\\\\Anaconda3\\\\lib', 'E:\\\\Program_Files\\\\Anaconda3', 'E:\\\\Program_Files\\\\Anaconda3\\\\lib\\\\site-packages', 'E:\\\\Program_Files\\\\Anaconda3\\\\lib\\\\site-packages\\\\win32', 'E:\\\\Program_Files\\\\Anaconda3\\\\lib\\\\site-packages\\\\win32\\\\lib', 'E:\\\\Program_Files\\\\Anaconda3\\\\lib\\\\site-packages\\\\Pythonwin', 'E:\\\\Program_Files\\\\Anaconda3\\\\lib\\\\site-packages\\\\IPython\\\\extensions', 'C:\\\\Users\\\\MrLoding\\\\.ipython']\n"
     ]
    }
   ],
   "source": [
    "# 导入 sys模块\n",
    "import sys\n",
    "\n",
    "print(sys.path)"
   ]
  },
  {
   "cell_type": "markdown",
   "metadata": {},
   "source": [
    "#### 将自定义模块的路径添加进去--临时的\n",
    "- 使用sys.path.append(path)\n",
    "- 路径:'D:/MrLoding/GitDocuments/learnPython/course'"
   ]
  },
  {
   "cell_type": "code",
   "execution_count": 50,
   "metadata": {},
   "outputs": [
    {
     "name": "stdout",
     "output_type": "stream",
     "text": [
      "['', 'E:\\\\Program_Files\\\\Anaconda3\\\\python36.zip', 'E:\\\\Program_Files\\\\Anaconda3\\\\DLLs', 'E:\\\\Program_Files\\\\Anaconda3\\\\lib', 'E:\\\\Program_Files\\\\Anaconda3', 'E:\\\\Program_Files\\\\Anaconda3\\\\lib\\\\site-packages', 'E:\\\\Program_Files\\\\Anaconda3\\\\lib\\\\site-packages\\\\win32', 'E:\\\\Program_Files\\\\Anaconda3\\\\lib\\\\site-packages\\\\win32\\\\lib', 'E:\\\\Program_Files\\\\Anaconda3\\\\lib\\\\site-packages\\\\Pythonwin', 'E:\\\\Program_Files\\\\Anaconda3\\\\lib\\\\site-packages\\\\IPython\\\\extensions', 'C:\\\\Users\\\\MrLoding\\\\.ipython', 'D:/MrLoding/GitDocuments/learnPython/course']\n"
     ]
    }
   ],
   "source": [
    "import sys\n",
    "sys.path.append('D:/MrLoding/GitDocuments/learnPython/course')\n",
    "print(sys.path)"
   ]
  },
  {
   "cell_type": "markdown",
   "metadata": {},
   "source": [
    "### import random\n",
    "- Python中的random模块用于生成随机数。\n",
    "- 随机选择并返回序列中的一个元素:random.choice(seq)"
   ]
  },
  {
   "cell_type": "code",
   "execution_count": 66,
   "metadata": {},
   "outputs": [
    {
     "name": "stdout",
     "output_type": "stream",
     "text": [
      "Mark\n"
     ]
    }
   ],
   "source": [
    "import random\n",
    "\n",
    "\n",
    "inf = ['Mark', 'name', 'age']\n",
    "\n",
    "r_inf = random.choice(inf)\n",
    "print(r_inf)"
   ]
  },
  {
   "cell_type": "markdown",
   "metadata": {},
   "source": [
    "- Python中的 os 模块包含普遍的操作系统功能\n",
    "- dir()查看一下模块的# 所有属性和方法"
   ]
  },
  {
   "cell_type": "code",
   "execution_count": 52,
   "metadata": {},
   "outputs": [
    {
     "name": "stdout",
     "output_type": "stream",
     "text": [
      "['DirEntry', 'F_OK', 'MutableMapping', 'O_APPEND', 'O_BINARY', 'O_CREAT', 'O_EXCL', 'O_NOINHERIT', 'O_RANDOM', 'O_RDONLY', 'O_RDWR', 'O_SEQUENTIAL', 'O_SHORT_LIVED', 'O_TEMPORARY', 'O_TEXT', 'O_TRUNC', 'O_WRONLY', 'P_DETACH', 'P_NOWAIT', 'P_NOWAITO', 'P_OVERLAY', 'P_WAIT', 'PathLike', 'R_OK', 'SEEK_CUR', 'SEEK_END', 'SEEK_SET', 'TMP_MAX', 'W_OK', 'X_OK', '_Environ', '__all__', '__builtins__', '__cached__', '__doc__', '__file__', '__loader__', '__name__', '__package__', '__spec__', '_execvpe', '_exists', '_exit', '_fspath', '_get_exports_list', '_putenv', '_unsetenv', '_wrap_close', 'abc', 'abort', 'access', 'altsep', 'chdir', 'chmod', 'close', 'closerange', 'cpu_count', 'curdir', 'defpath', 'device_encoding', 'devnull', 'dup', 'dup2', 'environ', 'errno', 'error', 'execl', 'execle', 'execlp', 'execlpe', 'execv', 'execve', 'execvp', 'execvpe', 'extsep', 'fdopen', 'fsdecode', 'fsencode', 'fspath', 'fstat', 'fsync', 'ftruncate', 'get_exec_path', 'get_handle_inheritable', 'get_inheritable', 'get_terminal_size', 'getcwd', 'getcwdb', 'getenv', 'getlogin', 'getpid', 'getppid', 'isatty', 'kill', 'linesep', 'link', 'listdir', 'lseek', 'lstat', 'makedirs', 'mkdir', 'name', 'open', 'pardir', 'path', 'pathsep', 'pipe', 'popen', 'putenv', 'read', 'readlink', 'remove', 'removedirs', 'rename', 'renames', 'replace', 'rmdir', 'scandir', 'sep', 'set_handle_inheritable', 'set_inheritable', 'spawnl', 'spawnle', 'spawnv', 'spawnve', 'st', 'startfile', 'stat', 'stat_float_times', 'stat_result', 'statvfs_result', 'strerror', 'supports_bytes_environ', 'supports_dir_fd', 'supports_effective_ids', 'supports_fd', 'supports_follow_symlinks', 'symlink', 'sys', 'system', 'terminal_size', 'times', 'times_result', 'truncate', 'umask', 'uname_result', 'unlink', 'urandom', 'utime', 'waitpid', 'walk', 'write']\n"
     ]
    }
   ],
   "source": [
    "import os\n",
    "\n",
    "# 所有属性和方法\n",
    "print(dir(os))"
   ]
  },
  {
   "cell_type": "markdown",
   "metadata": {},
   "source": [
    "#### 查看os.py模块文件储存目录 \n",
    "\n"
   ]
  },
  {
   "cell_type": "code",
   "execution_count": 60,
   "metadata": {},
   "outputs": [
    {
     "name": "stdout",
     "output_type": "stream",
     "text": [
      "E:\\Program_Files\\Anaconda3\\lib\\os.py\n"
     ]
    }
   ],
   "source": [
    "print(os.__file__)"
   ]
  },
  {
   "cell_type": "markdown",
   "metadata": {},
   "source": [
    "- os.getcwd()查看当前工作目录 current work directory"
   ]
  },
  {
   "cell_type": "code",
   "execution_count": 55,
   "metadata": {},
   "outputs": [
    {
     "name": "stdout",
     "output_type": "stream",
     "text": [
      "D:\\MrLoding\\GitDocuments\\learnPython\\course\n"
     ]
    }
   ],
   "source": [
    "# 查看当前工作目录 current work directory\n",
    "import os\n",
    "\n",
    "print(os.getcwd())"
   ]
  },
  {
   "cell_type": "markdown",
   "metadata": {},
   "source": [
    "- os.chdir# 更改当前工作目录 change directory\n",
    "- 改为'D:/MrLoding/GitDocuments/learnPython/course/tmp'"
   ]
  },
  {
   "cell_type": "code",
   "execution_count": 61,
   "metadata": {},
   "outputs": [
    {
     "name": "stdout",
     "output_type": "stream",
     "text": [
      "D:\\MrLoding\\GitDocuments\\learnPython\\course\\tmp\n"
     ]
    }
   ],
   "source": [
    "# 更改当前工作目录 change directory\n",
    "\n",
    "os.chdir('D:/MrLoding/GitDocuments/learnPython/course/tmp')\n",
    "print(os.getcwd())"
   ]
  },
  {
   "cell_type": "markdown",
   "metadata": {},
   "source": [
    "- 列出当前工作目录所有文件和文件夹  -- 不递归子目录"
   ]
  },
  {
   "cell_type": "code",
   "execution_count": 62,
   "metadata": {},
   "outputs": [
    {
     "name": "stdout",
     "output_type": "stream",
     "text": [
      "['rn_test.txt', 'tmp_csv', 'tmp_img', 'tmp_txt']\n"
     ]
    }
   ],
   "source": [
    "# 列出当前工作目录所有文件和文件夹  -- 不递归子目录\n",
    "print(os.listdir())"
   ]
  },
  {
   "cell_type": "markdown",
   "metadata": {},
   "source": [
    "- 创建目录\n",
    "- os.mkdir() 在当前目录下创建一级目录\n",
    "- os.makedirs() 在当前目录递归下创建多级目录\n",
    "- 当前目录下创建os_demo1文件夹\n",
    "- 当前目录下创建os_demo2/demo文件夹"
   ]
  },
  {
   "cell_type": "code",
   "execution_count": 63,
   "metadata": {},
   "outputs": [
    {
     "name": "stdout",
     "output_type": "stream",
     "text": [
      "D:\\MrLoding\\GitDocuments\\learnPython\\course\\tmp\n"
     ]
    }
   ],
   "source": [
    "# 创建目录\n",
    "print(os.getcwd())\n",
    "os.mkdir('./os_demo1')           # 在当前目录下创建一级目录\n",
    "os.makedirs('./os_demo2/demo')   # 在当前目录递归下创建多级目录"
   ]
  },
  {
   "cell_type": "markdown",
   "metadata": {},
   "source": [
    "- 删除刚刚创建的目录\n",
    "- os.rmdir删除指定路径的空目录\n",
    "- os.removedirs递归删除空目录"
   ]
  },
  {
   "cell_type": "code",
   "execution_count": 72,
   "metadata": {},
   "outputs": [
    {
     "name": "stdout",
     "output_type": "stream",
     "text": [
      "D:\\MrLoding\\GitDocuments\\learnPython\\course\\tmp\n"
     ]
    }
   ],
   "source": [
    "# 删除目录\n",
    "print(os.getcwd())\n",
    "os.rmdir('./os_demo1')               # 删除指定路径的空目录\n",
    "os.removedirs('./os_demo2/demo')   # 递归删除空目录"
   ]
  },
  {
   "cell_type": "markdown",
   "metadata": {},
   "source": [
    "- 重命名文件/目录         \n",
    "- 别忘了安排文件,当文件已存在时，无法创建该文件"
   ]
  },
  {
   "cell_type": "code",
   "execution_count": 66,
   "metadata": {},
   "outputs": [],
   "source": [
    "# 重命名文件/目录         # 别忘了准备文件,当文件已存在时，无法创建该文件\n",
    "os.rename('rn_test.txt', 'rn_demo.txt')"
   ]
  },
  {
   "cell_type": "markdown",
   "metadata": {},
   "source": [
    "- os.stat(file_name) # 查看文件'rn_demo.txt'信息"
   ]
  },
  {
   "cell_type": "code",
   "execution_count": 67,
   "metadata": {},
   "outputs": [
    {
     "name": "stdout",
     "output_type": "stream",
     "text": [
      "os.stat_result(st_mode=33206, st_ino=4503599627498055, st_dev=1886866759, st_nlink=1, st_uid=0, st_gid=0, st_size=0, st_atime=1536038641, st_mtime=1535888607, st_ctime=1536038641)\n",
      "0\n"
     ]
    }
   ],
   "source": [
    "# 查看文件信息\n",
    "print(os.stat('rn_demo.txt'))  \n",
    "\n",
    "''' \n",
    "常用: \n",
    "    st_size 文件大小\n",
    "    st_mtime 修改日期(modification date) 是个时间戳\n",
    "    转化为实际日期\n",
    "\n",
    "'''\n",
    "\n",
    "print(os.stat('rn_demo.txt').st_size)\n",
    "\n"
   ]
  },
  {
   "cell_type": "markdown",
   "metadata": {},
   "source": [
    "-  时间戳转化为实际日期datetime.fromtimestamp(mt)"
   ]
  },
  {
   "cell_type": "code",
   "execution_count": null,
   "metadata": {},
   "outputs": [],
   "source": [
    "# 转化为实际日期\n",
    "\n",
    "from datetime import datetime\n",
    "\n",
    "mtime = os.stat('rn_demo.txt').st_mtime\n",
    "print(datetime.fromtimestamp(mtime))"
   ]
  },
  {
   "cell_type": "markdown",
   "metadata": {},
   "source": [
    "- os.walk(my_cwd):# 遍历目录 (递归)查看所有文件/文件夹\n",
    "- 可迭代序列的每组有三个信息:dir_path, dir_name, file_name"
   ]
  },
  {
   "cell_type": "code",
   "execution_count": 75,
   "metadata": {},
   "outputs": [
    {
     "name": "stdout",
     "output_type": "stream",
     "text": [
      "当前目录: D:/MrLoding/GitDocuments/learnPython/course/tmp\n",
      "文件夹名: ['tmp_csv', 'tmp_img', 'tmp_txt']\n",
      "文件名: ['rn_demo.txt']\n",
      "\n",
      "当前目录: D:/MrLoding/GitDocuments/learnPython/course/tmp\\tmp_csv\n",
      "文件夹名: []\n",
      "文件名: ['names.csv', 'new_DictW_names.csv', 'new_names.csv']\n",
      "\n",
      "当前目录: D:/MrLoding/GitDocuments/learnPython/course/tmp\\tmp_img\n",
      "文件夹名: []\n",
      "文件名: ['python-logo.png', 'python-logo_copy.png']\n",
      "\n",
      "当前目录: D:/MrLoding/GitDocuments/learnPython/course/tmp\\tmp_txt\n",
      "文件夹名: []\n",
      "文件名: ['rwfile.txt', 'test.txt', 'test2.txt', 'test_copy.txt']\n",
      "\n"
     ]
    }
   ],
   "source": [
    "# 遍历目录 查看所有文件/文件夹\n",
    "my_cwd = 'D:/MrLoding/GitDocuments/learnPython/course/tmp'\n",
    "for dir_path, dir_name, file_name in os.walk(my_cwd):\n",
    "    print('当前目录:', dir_path)\n",
    "    print('文件夹名:', dir_name)\n",
    "    print('文件名:', file_name)\n",
    "    print()"
   ]
  },
  {
   "cell_type": "markdown",
   "metadata": {},
   "source": [
    "- 获取所有环境变量\n",
    "- os.environ储存了所有环境变量"
   ]
  },
  {
   "cell_type": "code",
   "execution_count": 76,
   "metadata": {},
   "outputs": [
    {
     "name": "stdout",
     "output_type": "stream",
     "text": [
      "environ({'ADSK_3DSMAX_X64_2017': 'D:\\\\Program Files\\\\Autodesk\\\\3ds Max 2017\\\\', 'ADSK_CLM_WPAD_PROXY_CHECK': 'FALSE', 'ALLUSERSPROFILE': 'C:\\\\ProgramData', 'APPDATA': 'C:\\\\Users\\\\MrLoding\\\\AppData\\\\Roaming', 'COMMONPROGRAMFILES': 'C:\\\\Program Files\\\\Common Files', 'COMMONPROGRAMFILES(X86)': 'C:\\\\Program Files (x86)\\\\Common Files', 'COMMONPROGRAMW6432': 'C:\\\\Program Files\\\\Common Files', 'COMPUTERNAME': 'DESKTOP-I0Q6MK2', 'COMSPEC': 'C:\\\\WINDOWS\\\\system32\\\\cmd.exe', 'DRIVERDATA': 'C:\\\\Windows\\\\System32\\\\Drivers\\\\DriverData', 'FSHARPINSTALLDIR': 'C:\\\\Program Files (x86)\\\\Microsoft SDKs\\\\F#\\\\4.1\\\\Framework\\\\v4.0\\\\', 'HOMEDRIVE': 'C:', 'HOMEPATH': '\\\\Users\\\\MrLoding', 'INTEL_DEV_REDIST': 'C:\\\\Program Files (x86)\\\\Common Files\\\\Intel\\\\Shared Libraries\\\\', 'JAVA_HOME': 'E:\\\\Program Files\\\\Java\\\\jdk-10', 'LOCALAPPDATA': 'C:\\\\Users\\\\MrLoding\\\\AppData\\\\Local', 'LOGONSERVER': '\\\\\\\\DESKTOP-I0Q6MK2', 'MIC_LD_LIBRARY_PATH': 'C:\\\\Program Files (x86)\\\\Common Files\\\\Intel\\\\Shared Libraries\\\\compiler\\\\lib\\\\mic', 'NUMBER_OF_PROCESSORS': '8', 'ONEDRIVE': 'C:\\\\Users\\\\MrLoding\\\\OneDrive', 'OS': 'Windows_NT', 'PATH': 'E:\\\\Program_Files\\\\Anaconda3;E:\\\\Program_Files\\\\Anaconda3\\\\Scripts;E:\\\\Program_Files\\\\Anaconda3\\\\Library\\\\mingw-w64\\\\bin;E:\\\\Program_Files\\\\Anaconda3\\\\Library\\\\usr\\\\bin;E:\\\\Program_Files\\\\Anaconda3\\\\Library\\\\bin;E:\\\\Program_Files\\\\platform_tools;\"E:\\\\Program Files\\\\Java\\\\jdk-10\\\\bin;\";C:\\\\ProgramData\\\\Oracle\\\\Java\\\\javapath;C:\\\\Program Files (x86)\\\\Common Files\\\\Oracle\\\\Java\\\\javapath;C:\\\\Program Files (x86)\\\\Common Files\\\\Intel\\\\Shared Libraries\\\\redist\\\\intel64\\\\compiler;C:\\\\Program Files (x86)\\\\Intel\\\\iCLS Client\\\\;C:\\\\Program Files\\\\Intel\\\\iCLS Client\\\\;C:\\\\Windows;C:\\\\Windows\\\\system32;C:\\\\Windows\\\\System32\\\\Wbem;E:\\\\Program Files\\\\Java\\\\jdk-9.0.4\\\\bin;C:\\\\Windows\\\\System32\\\\WindowsPowerShell\\\\v1.0\\\\;C:\\\\Program Files (x86)\\\\NVIDIA Corporation\\\\PhysX\\\\Common;C:\\\\Program Files (x86)\\\\Intel\\\\Intel(R) Management Engine Components\\\\DAL;C:\\\\Program Files\\\\Intel\\\\Intel(R) Management Engine Components\\\\DAL;C:\\\\Program Files (x86)\\\\Intel\\\\Intel(R) Management Engine Components\\\\IPT;C:\\\\Program Files\\\\Intel\\\\Intel(R) Management Engine Components\\\\IPT;C:\\\\Program Files\\\\Intel\\\\WiFi\\\\bin\\\\;C:\\\\Program Files\\\\Common Files\\\\Intel\\\\WirelessCommon\\\\;C:\\\\Program Files (x86)\\\\GtkSharp\\\\2.12\\\\bin;C:\\\\WINDOWS\\\\system32;C:\\\\WINDOWS;C:\\\\WINDOWS\\\\System32\\\\Wbem;C:\\\\WINDOWS\\\\System32\\\\WindowsPowerShell\\\\v1.0\\\\;C:\\\\Program Files\\\\dotnet\\\\;C:\\\\Program Files\\\\Microsoft SQL Server\\\\130\\\\Tools\\\\Binn\\\\;C:\\\\WINDOWS\\\\System32\\\\OpenSSH\\\\;D:\\\\Program Files\\\\Git\\\\cmd;D:\\\\Program Files\\\\Git\\\\bin;C:\\\\Program Files (x86)\\\\Autodesk\\\\Backburner\\\\;C:\\\\Program Files\\\\Common Files\\\\Autodesk Shared\\\\;E:\\\\Program_Files\\\\platform_tools;C:\\\\AppServ\\\\Apache24\\\\bin;C:\\\\AppServ\\\\php5;C:\\\\AppServ\\\\MySQL\\\\bin;D:\\\\Program Files\\\\texlive\\\\2018\\\\bin\\\\win32;C:\\\\Users\\\\MrLoding\\\\AppData\\\\Local\\\\Microsoft\\\\WindowsApps;', 'PATHEXT': '.COM;.EXE;.BAT;.CMD;.VBS;.VBE;.JS;.JSE;.WSF;.WSH;.MSC;.CPL', 'PROCESSOR_ARCHITECTURE': 'AMD64', 'PROCESSOR_IDENTIFIER': 'Intel64 Family 6 Model 158 Stepping 9, GenuineIntel', 'PROCESSOR_LEVEL': '6', 'PROCESSOR_REVISION': '9e09', 'PROGRAMDATA': 'C:\\\\ProgramData', 'PROGRAMFILES': 'C:\\\\Program Files', 'PROGRAMFILES(X86)': 'C:\\\\Program Files (x86)', 'PROGRAMW6432': 'C:\\\\Program Files', 'PSMODULEPATH': 'D:\\\\MrLoding\\\\Documents\\\\Documents\\\\WindowsPowerShell\\\\Modules;C:\\\\Program Files\\\\WindowsPowerShell\\\\Modules;C:\\\\WINDOWS\\\\system32\\\\WindowsPowerShell\\\\v1.0\\\\Modules', 'PUBLIC': 'C:\\\\Users\\\\Public', 'SESSIONNAME': 'Console', 'SYSTEMDRIVE': 'C:', 'SYSTEMROOT': 'C:\\\\WINDOWS', 'TEMP': 'C:\\\\Users\\\\MrLoding\\\\AppData\\\\Local\\\\Temp', 'TMP': 'C:\\\\Users\\\\MrLoding\\\\AppData\\\\Local\\\\Temp', 'USERDOMAIN': 'DESKTOP-I0Q6MK2', 'USERDOMAIN_ROAMINGPROFILE': 'DESKTOP-I0Q6MK2', 'USERNAME': 'MrLoding', 'USERPROFILE': 'C:\\\\Users\\\\MrLoding', 'WINDIR': 'C:\\\\WINDOWS', 'JPY_INTERRUPT_EVENT': '2308', 'IPY_INTERRUPT_EVENT': '2308', 'JPY_PARENT_PID': '2880', 'TERM': 'xterm-color', 'CLICOLOR': '1', 'PAGER': 'cat', 'GIT_PAGER': 'cat', 'MPLBACKEND': 'module://ipykernel.pylab.backend_inline'})\n"
     ]
    }
   ],
   "source": [
    "# 获取环境变量\n",
    "\n",
    "# 获取所有环境变量\n",
    "print(os.environ)"
   ]
  },
  {
   "cell_type": "markdown",
   "metadata": {},
   "source": [
    "- 获取指定环境变量\n",
    "- 使用os.environ.get()方法,传入一个环境变量名,如:'JAVA_HOME'"
   ]
  },
  {
   "cell_type": "code",
   "execution_count": 77,
   "metadata": {},
   "outputs": [
    {
     "name": "stdout",
     "output_type": "stream",
     "text": [
      "E:\\Program Files\\Java\\jdk-10\n"
     ]
    }
   ],
   "source": [
    "print(os.environ.get('JAVA_HOME'))"
   ]
  },
  {
   "cell_type": "markdown",
   "metadata": {},
   "source": [
    "- 创建文件\n",
    "    - 我们先直接将得到的JAVA_HOME变量值与文件名('test.txt')连接\n",
    "    - 输出结果"
   ]
  },
  {
   "cell_type": "code",
   "execution_count": 78,
   "metadata": {},
   "outputs": [
    {
     "name": "stdout",
     "output_type": "stream",
     "text": [
      "E:\\Program Files\\Java\\jdk-10test.txt\n"
     ]
    }
   ],
   "source": [
    "file_path = os.environ.get('JAVA_HOME') + 'test.txt'\n",
    "\n",
    "print(file_path)   # 文件目录出现问题"
   ]
  },
  {
   "cell_type": "markdown",
   "metadata": {},
   "source": [
    "- 使用os.path.join()连接两个目录(目录和文件名)"
   ]
  },
  {
   "cell_type": "code",
   "execution_count": 79,
   "metadata": {},
   "outputs": [],
   "source": [
    "file_path = os.path.join(os.environ.get('JAVA_HOME'), 'test.txt')\n",
    "\n",
    "with open(file_path, 'w') as f:\n",
    "    pass"
   ]
  },
  {
   "cell_type": "markdown",
   "metadata": {},
   "source": [
    "1. 抓取/提取 文件全名---os.path.basename(file_path)\n",
    "2. 抓取/提取 文件路径---os.path.dirname(file_path)\n",
    "3. 分离 文件路径 & 文件全名---os.path.split(file_path)\n",
    "4. 分离 文件路经+文件名(file root) & 文件扩展名(extension)---os.path.splitext()"
   ]
  },
  {
   "cell_type": "code",
   "execution_count": 80,
   "metadata": {},
   "outputs": [
    {
     "name": "stdout",
     "output_type": "stream",
     "text": [
      "test.txt\n",
      "txt.log\n"
     ]
    }
   ],
   "source": [
    "print(os.path.basename(file_path))\n",
    "print(os.path.basename('aasf/asda/cxz/txt.log'))  # 路径名不需要为真"
   ]
  },
  {
   "cell_type": "code",
   "execution_count": 81,
   "metadata": {},
   "outputs": [
    {
     "name": "stdout",
     "output_type": "stream",
     "text": [
      "E:\\Program Files\\Java\\jdk-10\n",
      "aasf/asda/cxz\n"
     ]
    }
   ],
   "source": [
    "print(os.path.dirname(file_path))\n",
    "print(os.path.dirname('aasf/asda/cxz/txt.log'))  # 路径名不需要为真"
   ]
  },
  {
   "cell_type": "code",
   "execution_count": 82,
   "metadata": {},
   "outputs": [
    {
     "name": "stdout",
     "output_type": "stream",
     "text": [
      "('aasf/asda/cxz', 'txt.log')\n"
     ]
    }
   ],
   "source": [
    "print(os.path.split('aasf/asda/cxz/txt.log'))   # 路径名不需要为真"
   ]
  },
  {
   "cell_type": "code",
   "execution_count": 83,
   "metadata": {},
   "outputs": [
    {
     "name": "stdout",
     "output_type": "stream",
     "text": [
      "('aasf/asda/cxz/txt', '.log')\n"
     ]
    }
   ],
   "source": [
    "print(os.path.splitext('aasf/asda/cxz/txt.log'))   # 路径名不需要为真"
   ]
  },
  {
   "cell_type": "markdown",
   "metadata": {},
   "source": [
    "- 检测路径是否存在---os.path.exists(file_path)\n",
    "- 判断是文件路径 or 文件名\n",
    "    - os.path.isdir()\n",
    "    - os.path.isfile()"
   ]
  },
  {
   "cell_type": "code",
   "execution_count": 84,
   "metadata": {},
   "outputs": [
    {
     "name": "stdout",
     "output_type": "stream",
     "text": [
      "True\n",
      "False\n"
     ]
    }
   ],
   "source": [
    "print(os.path.exists(file_path))\n",
    "print(os.path.exists('aasf/asda/cxz/txt.log')) "
   ]
  },
  {
   "cell_type": "code",
   "execution_count": 85,
   "metadata": {},
   "outputs": [
    {
     "name": "stdout",
     "output_type": "stream",
     "text": [
      "False\n",
      "True\n"
     ]
    }
   ],
   "source": [
    "print(os.path.isdir('aasf/asda/cxz/'))\n",
    "print(os.path.isdir(os.environ.get('JAVA_HOME')))"
   ]
  },
  {
   "cell_type": "code",
   "execution_count": 86,
   "metadata": {},
   "outputs": [
    {
     "name": "stdout",
     "output_type": "stream",
     "text": [
      "False\n",
      "True\n"
     ]
    }
   ],
   "source": [
    "print(os.path.isfile('aasf/asda/cxz/txt.log'))\n",
    "print(os.path.isfile(file_path))"
   ]
  },
  {
   "cell_type": "code",
   "execution_count": null,
   "metadata": {},
   "outputs": [],
   "source": []
  },
  {
   "cell_type": "code",
   "execution_count": null,
   "metadata": {},
   "outputs": [],
   "source": []
  },
  {
   "cell_type": "markdown",
   "metadata": {},
   "source": [
    "# 6."
   ]
  },
  {
   "cell_type": "markdown",
   "metadata": {},
   "source": [
    "### 文件读写"
   ]
  },
  {
   "cell_type": "markdown",
   "metadata": {},
   "source": [
    "- 打开文件"
   ]
  },
  {
   "cell_type": "markdown",
   "metadata": {},
   "source": [
    "#### 补充 打开文件方式"
   ]
  },
  {
   "cell_type": "code",
   "execution_count": 87,
   "metadata": {},
   "outputs": [],
   "source": [
    "# open a file \n",
    "# r  ->  read\n",
    "# r+ ->  read & write\n",
    "# rb ->  read(bytes)\n",
    "# w  ->  write\n",
    "# w+ ->  read & write\n",
    "# wb ->  write(bytes)\n",
    "# a  ->  add (read only)\n",
    "# a+ ->  add (read & write)\n",
    "# t  ->  text mode (default)\n",
    "# rt ->  read by text-mode\n",
    "# wt ->  write by text-mode\n",
    "# \n",
    "# in Python 3 , universal newline  (the translating between '\\n' and platform-specific newline conventions\n",
    "# so you don't have to care about them) \n",
    "# is available for text-mode files on any platform\n",
    "# for byte-mode, \n",
    "#  Windows : '\\r\\n'\n",
    "#  Linux/Unix : '\\n' \n",
    "#  Mac OS : '\\r'"
   ]
  },
  {
   "cell_type": "code",
   "execution_count": 88,
   "metadata": {},
   "outputs": [
    {
     "name": "stdout",
     "output_type": "stream",
     "text": [
      "D:\\MrLoding\\GitDocuments\\learnPython\\course\\tmp\n",
      "./tmp_txt/rwfile.txt\n",
      "r\n"
     ]
    }
   ],
   "source": [
    "# ./tmp/tmp_txt/目录下有一个rwfile.txt文件\n",
    "print(os.getcwd())\n",
    "\n",
    "f = open('./tmp_txt/rwfile.txt', 'r')\n",
    "print(f.name)   # 文件名\n",
    "print(f.mode)   # 文件打开方式\n",
    "f.close()       # 关闭文件, 否则文件将一直被占用"
   ]
  },
  {
   "cell_type": "markdown",
   "metadata": {},
   "source": [
    "### 上下文管理器"
   ]
  },
  {
   "cell_type": "code",
   "execution_count": 70,
   "metadata": {},
   "outputs": [],
   "source": [
    "\n",
    "'''\n",
    "这样就安全了?\n",
    "自动关闭文件\n",
    "\n",
    "如果发生异常\n",
    "with ... as...语句\n",
    "可以自动捕捉异常并处理(一部分)异常\n",
    "\n",
    "'''\n",
    "\n",
    "# 打开文件,什么也不做./tmp_txt/rwfile.txt\n",
    "with open('./tmp_txt/rwfile.txt', 'r') as f:\n",
    "    pass\n",
    "\n"
   ]
  },
  {
   "cell_type": "markdown",
   "metadata": {},
   "source": [
    "-  文件将被自动关闭\n",
    "-  但我们还是可以得到文件对象的一些属性"
   ]
  },
  {
   "cell_type": "code",
   "execution_count": 71,
   "metadata": {},
   "outputs": [
    {
     "name": "stdout",
     "output_type": "stream",
     "text": [
      "r\n",
      "True\n"
     ]
    }
   ],
   "source": [
    "print(f.mode)\n",
    "print(f.closed)  # 检测是否关闭"
   ]
  },
  {
   "cell_type": "markdown",
   "metadata": {},
   "source": [
    "#### 读文件\n",
    "- f.read()返回文件f的所有内容"
   ]
  },
  {
   "cell_type": "code",
   "execution_count": 90,
   "metadata": {},
   "outputs": [
    {
     "name": "stdout",
     "output_type": "stream",
     "text": [
      "1)这是一个测试文件!\n",
      "2)具有多条数据…\n",
      "3)第三行\n",
      "4)第四行\n",
      "5) Fifth line\n",
      "6) Sixth line\n",
      "7) Seventh line\n",
      "8) Eighth line\n",
      "9) Ninth line\n",
      "10)Tenth line\n"
     ]
    }
   ],
   "source": [
    "# open(file, mode='r', buffering=-1, \n",
    "# encoding=None, errors=None, newline=None, \n",
    "# closefd=True, opener=None)\n",
    "\n",
    "#file = open(path, encoding='utf-8') # gbk中文报错\n",
    "\n",
    "with open('./tmp_txt/test.txt', 'r', encoding='utf-8') as f:   \n",
    "\n",
    "    f_contents = f.read()    # maybe memory warning\n",
    "    print(f_contents)"
   ]
  },
  {
   "cell_type": "markdown",
   "metadata": {},
   "source": [
    "- 设置每次读入文件字符数\n",
    "- f.read(100)限制为读入100字符"
   ]
  },
  {
   "cell_type": "code",
   "execution_count": 72,
   "metadata": {},
   "outputs": [
    {
     "name": "stdout",
     "output_type": "stream",
     "text": [
      "# 读入前 80 字符\n",
      "1)这是一个测试文件!\n",
      "2)具有多条数据…\n",
      "3)第三行\n",
      "4)第四行\n",
      "5) Fifth line\n",
      "6) Sixth line\n",
      "7) Seventh line\n",
      "8) Eighth line\n",
      "9) Nint\n",
      "# 再读入 80 字符\n",
      "h line\n",
      "10)Tenth line\n"
     ]
    }
   ],
   "source": [
    "with open('./tmp_txt/test.txt', 'r', encoding='utf-8') as f:   \n",
    "    print(\"# 读入前 80 字符\")\n",
    "    f_contents = f.read(100)   # read the first 100 characters\n",
    "    print(f_contents)\n",
    "    \n",
    "    print(\"# 再读入 80 字符\")\n",
    "    f_contents = f.read()    # maybe memory warning\n",
    "    print(f_contents)"
   ]
  },
  {
   "cell_type": "markdown",
   "metadata": {},
   "source": [
    "- 改为读入10字符 用'#'号隔开  换行符也占一个字符"
   ]
  },
  {
   "cell_type": "code",
   "execution_count": 92,
   "metadata": {},
   "outputs": [
    {
     "name": "stdout",
     "output_type": "stream",
     "text": [
      "1)这是一个测试文件*!\n",
      "2)具有多条数据*…\n",
      "3)第三行\n",
      "4)*第四行\n",
      "5) Fif*th line\n",
      "6)* Sixth lin*e\n",
      "7) Seven*th line\n",
      "8)* Eighth li*ne\n",
      "9) Nint*h line\n",
      "10)*Tenth line*"
     ]
    }
   ],
   "source": [
    "# 改为读入10字符 用'#'号隔开  换行符也占一个字符\n",
    "with open('./tmp_txt/test.txt', 'r', encoding='utf-8') as f:\n",
    "    size_to_read = 10\n",
    "    \n",
    "    f_contents = f.read(size_to_read)\n",
    "    while len(f_contents) > 0:\n",
    "        print(f_contents, end='*')\n",
    "        f_contents = f.read(size_to_read)"
   ]
  },
  {
   "cell_type": "markdown",
   "metadata": {},
   "source": [
    "### 按行读入\n",
    "- 返回每行内容组成的list列表\n",
    "- f.readlines()返回由文件所有行组成的一个列表"
   ]
  },
  {
   "cell_type": "code",
   "execution_count": 93,
   "metadata": {},
   "outputs": [
    {
     "name": "stdout",
     "output_type": "stream",
     "text": [
      "['1)这是一个测试文件!\\n', '2)具有多条数据…\\n', '3)第三行\\n', '4)第四行\\n', '5) Fifth line\\n', '6) Sixth line\\n', '7) Seventh line\\n', '8) Eighth line\\n', '9) Ninth line\\n', '10)Tenth line']\n"
     ]
    }
   ],
   "source": [
    "with open('./tmp_txt/test.txt', 'r', encoding='utf-8') as f:\n",
    "    f_contents = f.readlines()  # maybe memory warning\n",
    "    \n",
    "    print(f_contents)"
   ]
  },
  {
   "cell_type": "code",
   "execution_count": 94,
   "metadata": {},
   "outputs": [
    {
     "name": "stdout",
     "output_type": "stream",
     "text": [
      "1)这是一个测试文件!\n",
      "\n",
      "2)具有多条数据…\n",
      "\n",
      "3)第三行\n",
      "\n",
      "4)第四行\n",
      "\n",
      "5) Fifth line\n",
      "\n",
      "6) Sixth line\n",
      "\n",
      "7) Seventh line\n",
      "\n",
      "8) Eighth line\n",
      "\n",
      "9) Ninth line\n",
      "\n",
      "10)Tenth line\n"
     ]
    }
   ],
   "source": [
    "# 改为:for一行一行输出\n",
    "with open('./tmp_txt/test.txt', 'r', encoding='utf-8') as f:\n",
    "    for line in f:\n",
    "        print(line)"
   ]
  },
  {
   "cell_type": "markdown",
   "metadata": {},
   "source": [
    "### seek()\n",
    "- 移动文件读取指针到指定位置。\n",
    "- 如 f.seek(0)移动到开头"
   ]
  },
  {
   "cell_type": "code",
   "execution_count": 95,
   "metadata": {},
   "outputs": [
    {
     "name": "stdout",
     "output_type": "stream",
     "text": [
      "1)这是一个测试文件***1)这是一个测试文件****"
     ]
    }
   ],
   "source": [
    "with open('./tmp_txt/test.txt', 'r', encoding='utf-8') as f:\n",
    "    size_to_read = 10  # 每次读入字符数\n",
    "    \n",
    "    f_contents = f.read(size_to_read)  # 读入10字符\n",
    "    print(f_contents, end='***')\n",
    "    \n",
    "    f.seek(0)  # 文件指针指向文件起始位置\n",
    "    \n",
    "    f_contents = f.read(size_to_read)\n",
    "    print(f_contents, end='****')  # 读入10字符"
   ]
  },
  {
   "cell_type": "markdown",
   "metadata": {},
   "source": [
    "### 写文件\n",
    "- w \n",
    "- r+\n",
    "- wb"
   ]
  },
  {
   "cell_type": "markdown",
   "metadata": {},
   "source": [
    "- 打开./tmp_txt/test2.txt文件\n",
    "- 写入一些内容\n",
    "- 文件指针置为文件起始位置\n",
    "- 再写入一些内容\n",
    "- 查看文件"
   ]
  },
  {
   "cell_type": "code",
   "execution_count": 96,
   "metadata": {},
   "outputs": [],
   "source": [
    "with open('./tmp_txt/test2.txt', 'w') as f:\n",
    "    f.write('Test')\n",
    "    f.seek(0)\n",
    "    f.write('ABCDE')  # 覆盖了'Test'"
   ]
  },
  {
   "cell_type": "markdown",
   "metadata": {},
   "source": [
    "#### 文件拷贝\n",
    "- 同时打开两个文件\n",
    "- 按字符\n",
    "- 按字节(bytes)"
   ]
  },
  {
   "cell_type": "code",
   "execution_count": 97,
   "metadata": {},
   "outputs": [],
   "source": [
    "with open('./tmp_txt/test.txt', 'r', encoding='utf-8') as rf:\n",
    "    with open('./tmp_txt/test_copy.txt', 'w', encoding='utf-8') as wf:\n",
    "        for line in rf:\n",
    "            wf.write(line)"
   ]
  },
  {
   "cell_type": "code",
   "execution_count": 98,
   "metadata": {},
   "outputs": [],
   "source": [
    "'''\n",
    "# 会崩\n",
    "with open('./tmp_img/python-logo.png', 'r') as rf:\n",
    "    with open('./tmp_img/python-logo_copy.png', 'w') as wf:\n",
    "        for line in rf:\n",
    "            wf.write(line)\n",
    "\n",
    "\n",
    "'''\n",
    "\n",
    "# 改为 按 字节 读写\n",
    "with open('./tmp_img/python-logo.png', 'rb') as rf:\n",
    "    with open('./tmp_img/python-logo_copy.png', 'wb') as wf:\n",
    "        for line in rf:\n",
    "            wf.write(line)"
   ]
  },
  {
   "cell_type": "markdown",
   "metadata": {},
   "source": [
    "### 设置每次读入字节数\n",
    "- 要读写的文件很大, 一次读入可能会内存超限"
   ]
  },
  {
   "cell_type": "code",
   "execution_count": 101,
   "metadata": {},
   "outputs": [
    {
     "name": "stdout",
     "output_type": "stream",
     "text": [
      "ok\n"
     ]
    }
   ],
   "source": [
    "with open('./tmp_img/python-logo.png', 'rb') as rf:\n",
    "    with open('./tmp_img/python-logo_copy.png', 'wb') as wf:\n",
    "        size = 4096\n",
    "        rf_c = rf.read(size)\n",
    "        while len(rf_c) > 0:\n",
    "            wf.write(rf_c)\n",
    "            rf_c = rf.read(size)\n",
    "print(\"ok\")"
   ]
  },
  {
   "cell_type": "markdown",
   "metadata": {},
   "source": [
    "### 读写CSV文件"
   ]
  },
  {
   "cell_type": "markdown",
   "metadata": {},
   "source": [
    "- 使用csv 模块\n",
    "- 使用csv.reader(csv_file)函数读文件:返回由文件各行组成的一个列表"
   ]
  },
  {
   "cell_type": "code",
   "execution_count": 74,
   "metadata": {},
   "outputs": [
    {
     "name": "stdout",
     "output_type": "stream",
     "text": [
      "['firstname', 'lastname', 'email']\n",
      "['John', 'Doe', 'john-doe@bogusemail.com']\n",
      "['Mary', 'Smith-robinson', 'maryjacobsc@bogusemail.com']\n",
      "['Dave', 'Smith', 'davesmith@bogusemail.com']\n",
      "['Jane', 'Stuart', 'janestuart@bogusemail.com']\n",
      "['Tom', 'Wright', 'tomwright@bogusemail.com']\n",
      "['Steve', 'Robinson', 'steverobinson@bogusemail.com']\n",
      "['Nicole', 'Jacobs', 'nicolejaco@bogusemail.com']\n",
      "['Jane', 'Wright', 'janewrighta@bogusemail.com']\n",
      "['Jane', 'Doe', 'ianedoea@bogusemail.com']\n",
      "['Kurt', 'Wright', 'kurtwright@bogusemail.com']\n",
      "['Kurt', 'Robinson', 'kurrobinson@bogusemail.com']\n",
      "['Jane', 'Jenkins', 'janejenkins@bogusemail.com']\n",
      "['Neil', 'Robinson', 'neiLrobinson@bogusemail.com']\n",
      "['Tom', 'Patterson', 'tompattersone@bogusemail.com']\n",
      "['Sam', 'Jenkins', 'samjenkins@bogusemail.com']\n",
      "['Steve', 'Stuart', 'stevestuart@bogusemail.com']\n",
      "['Maggie', 'Patterson', 'maggiepattersone@bogusemail.com']\n",
      "['Maggie', 'Stuart', 'maggiestuarte@bogusemail.com']\n",
      "['Jane', 'Doe', 'janedoeg@bogusemaiL.com']\n",
      "['Steve', 'Patterson', 'stevepatterson@bogusemail.com']\n",
      "['Dave', 'Smith', 'davesmithe@bogusemail.com']\n",
      "['urt', 'Jefferson', 'kurtjeffs@email.com']\n",
      "['Sam', 'WiLks', 'samwilkse@bogusemail.com']\n"
     ]
    }
   ],
   "source": [
    "import csv\n",
    "\n",
    "with open('./tmp_csv/names.csv', 'r') as csv_file:\n",
    "    csv_reader = csv.reader(csv_file)  # 一般方式\n",
    "    \n",
    "    for line in csv_reader:\n",
    "        print(line)"
   ]
  },
  {
   "cell_type": "markdown",
   "metadata": {},
   "source": [
    "- 使用next(csv_reader)跳过第一行\n",
    "- 对于csv_reader中的每一行line, 只输出邮箱项line[2]"
   ]
  },
  {
   "cell_type": "code",
   "execution_count": 75,
   "metadata": {},
   "outputs": [
    {
     "name": "stdout",
     "output_type": "stream",
     "text": [
      "john-doe@bogusemail.com\n",
      "maryjacobsc@bogusemail.com\n",
      "davesmith@bogusemail.com\n",
      "janestuart@bogusemail.com\n",
      "tomwright@bogusemail.com\n",
      "steverobinson@bogusemail.com\n",
      "nicolejaco@bogusemail.com\n",
      "janewrighta@bogusemail.com\n",
      "ianedoea@bogusemail.com\n",
      "kurtwright@bogusemail.com\n",
      "kurrobinson@bogusemail.com\n",
      "janejenkins@bogusemail.com\n",
      "neiLrobinson@bogusemail.com\n",
      "tompattersone@bogusemail.com\n",
      "samjenkins@bogusemail.com\n",
      "stevestuart@bogusemail.com\n",
      "maggiepattersone@bogusemail.com\n",
      "maggiestuarte@bogusemail.com\n",
      "janedoeg@bogusemaiL.com\n",
      "stevepatterson@bogusemail.com\n",
      "davesmithe@bogusemail.com\n",
      "kurtjeffs@email.com\n",
      "samwilkse@bogusemail.com\n"
     ]
    }
   ],
   "source": [
    "# 改为\n",
    "with open('./tmp_csv/names.csv', 'r') as csv_file:\n",
    "    csv_reader = csv.reader(csv_file)\n",
    "    # 跳过第一行\n",
    "    next(csv_reader)\n",
    "\n",
    "    for line in csv_reader:\n",
    "        print(line[2])  # 只输出邮箱"
   ]
  },
  {
   "cell_type": "markdown",
   "metadata": {},
   "source": [
    "### .................拷贝CSV文件,并以'Tab'作为分隔符"
   ]
  },
  {
   "cell_type": "code",
   "execution_count": 122,
   "metadata": {},
   "outputs": [],
   "source": [
    "# Using Ubuntu 18.04 Python 3.6\n",
    "import csv\n",
    "\n",
    "with open('./tmp_csv/names.csv', 'r') as csv_file:\n",
    "    csv_reader = csv.reader(csv_file)  # regular reader\n",
    "    \n",
    "    with open('./tmp_csv/new_names.csv', 'w') as new_file:\n",
    "\n",
    "    \n",
    "        csv_writer = csv.writer(new_file, delimiter='*')  # Extra '\\n' at the end of each row on Windows.\n",
    "        \n",
    "        for line in csv_reader:\n",
    "            csv_writer.writerow(line)"
   ]
  },
  {
   "cell_type": "markdown",
   "metadata": {},
   "source": [
    "#### ....................读入, 以'Tab'为分隔符"
   ]
  },
  {
   "cell_type": "code",
   "execution_count": 123,
   "metadata": {},
   "outputs": [
    {
     "name": "stdout",
     "output_type": "stream",
     "text": [
      "['firstname*lastname*email']\n",
      "[]\n",
      "['John*Doe*john-doe@bogusemail.com']\n",
      "[]\n",
      "['Mary*Smith-robinson*maryjacobsc@bogusemail.com']\n",
      "[]\n",
      "['Dave*Smith*davesmith@bogusemail.com']\n",
      "[]\n",
      "['Jane*Stuart*janestuart@bogusemail.com']\n",
      "[]\n",
      "['Tom*Wright*tomwright@bogusemail.com']\n",
      "[]\n",
      "['Steve*Robinson*steverobinson@bogusemail.com']\n",
      "[]\n",
      "['Nicole*Jacobs*nicolejaco@bogusemail.com']\n",
      "[]\n",
      "['Jane*Wright*janewrighta@bogusemail.com']\n",
      "[]\n",
      "['Jane*Doe*ianedoea@bogusemail.com']\n",
      "[]\n",
      "['Kurt*Wright*kurtwright@bogusemail.com']\n",
      "[]\n",
      "['Kurt*Robinson*kurrobinson@bogusemail.com']\n",
      "[]\n",
      "['Jane*Jenkins*janejenkins@bogusemail.com']\n",
      "[]\n",
      "['Neil*Robinson*neiLrobinson@bogusemail.com']\n",
      "[]\n",
      "['Tom*Patterson*tompattersone@bogusemail.com']\n",
      "[]\n",
      "['Sam*Jenkins*samjenkins@bogusemail.com']\n",
      "[]\n",
      "['Steve*Stuart*stevestuart@bogusemail.com']\n",
      "[]\n",
      "['Maggie*Patterson*maggiepattersone@bogusemail.com']\n",
      "[]\n",
      "['Maggie*Stuart*maggiestuarte@bogusemail.com']\n",
      "[]\n",
      "['Jane*Doe*janedoeg@bogusemaiL.com']\n",
      "[]\n",
      "['Steve*Patterson*stevepatterson@bogusemail.com']\n",
      "[]\n",
      "['Dave*Smith*davesmithe@bogusemail.com']\n",
      "[]\n",
      "['urt*Jefferson*kurtjeffs@email.com']\n",
      "[]\n",
      "['Sam*WiLks*samwilkse@bogusemail.com']\n",
      "[]\n"
     ]
    }
   ],
   "source": [
    "import csv\n",
    "\n",
    "with open('./tmp_csv/new_names.csv', 'r') as csv_file:\n",
    "    csv_reader = csv.reader(csv_file, delimiter='\\t')  # regular reader\n",
    "    for line in csv_reader:\n",
    "        print(line)"
   ]
  },
  {
   "cell_type": "markdown",
   "metadata": {},
   "source": [
    "### 字典方式读写CSV文件"
   ]
  },
  {
   "cell_type": "markdown",
   "metadata": {},
   "source": [
    "- 使用csv.DictReader(csv_file),以字典方式读入文件\n",
    "- 直接打印出来看一下"
   ]
  },
  {
   "cell_type": "code",
   "execution_count": 76,
   "metadata": {},
   "outputs": [
    {
     "name": "stdout",
     "output_type": "stream",
     "text": [
      "OrderedDict([('firstname', 'John'), ('lastname', 'Doe'), ('email', 'john-doe@bogusemail.com')])\n",
      "OrderedDict([('firstname', 'Mary'), ('lastname', 'Smith-robinson'), ('email', 'maryjacobsc@bogusemail.com')])\n",
      "OrderedDict([('firstname', 'Dave'), ('lastname', 'Smith'), ('email', 'davesmith@bogusemail.com')])\n",
      "OrderedDict([('firstname', 'Jane'), ('lastname', 'Stuart'), ('email', 'janestuart@bogusemail.com')])\n",
      "OrderedDict([('firstname', 'Tom'), ('lastname', 'Wright'), ('email', 'tomwright@bogusemail.com')])\n",
      "OrderedDict([('firstname', 'Steve'), ('lastname', 'Robinson'), ('email', 'steverobinson@bogusemail.com')])\n",
      "OrderedDict([('firstname', 'Nicole'), ('lastname', 'Jacobs'), ('email', 'nicolejaco@bogusemail.com')])\n",
      "OrderedDict([('firstname', 'Jane'), ('lastname', 'Wright'), ('email', 'janewrighta@bogusemail.com')])\n",
      "OrderedDict([('firstname', 'Jane'), ('lastname', 'Doe'), ('email', 'ianedoea@bogusemail.com')])\n",
      "OrderedDict([('firstname', 'Kurt'), ('lastname', 'Wright'), ('email', 'kurtwright@bogusemail.com')])\n",
      "OrderedDict([('firstname', 'Kurt'), ('lastname', 'Robinson'), ('email', 'kurrobinson@bogusemail.com')])\n",
      "OrderedDict([('firstname', 'Jane'), ('lastname', 'Jenkins'), ('email', 'janejenkins@bogusemail.com')])\n",
      "OrderedDict([('firstname', 'Neil'), ('lastname', 'Robinson'), ('email', 'neiLrobinson@bogusemail.com')])\n",
      "OrderedDict([('firstname', 'Tom'), ('lastname', 'Patterson'), ('email', 'tompattersone@bogusemail.com')])\n",
      "OrderedDict([('firstname', 'Sam'), ('lastname', 'Jenkins'), ('email', 'samjenkins@bogusemail.com')])\n",
      "OrderedDict([('firstname', 'Steve'), ('lastname', 'Stuart'), ('email', 'stevestuart@bogusemail.com')])\n",
      "OrderedDict([('firstname', 'Maggie'), ('lastname', 'Patterson'), ('email', 'maggiepattersone@bogusemail.com')])\n",
      "OrderedDict([('firstname', 'Maggie'), ('lastname', 'Stuart'), ('email', 'maggiestuarte@bogusemail.com')])\n",
      "OrderedDict([('firstname', 'Jane'), ('lastname', 'Doe'), ('email', 'janedoeg@bogusemaiL.com')])\n",
      "OrderedDict([('firstname', 'Steve'), ('lastname', 'Patterson'), ('email', 'stevepatterson@bogusemail.com')])\n",
      "OrderedDict([('firstname', 'Dave'), ('lastname', 'Smith'), ('email', 'davesmithe@bogusemail.com')])\n",
      "OrderedDict([('firstname', 'urt'), ('lastname', 'Jefferson'), ('email', 'kurtjeffs@email.com')])\n",
      "OrderedDict([('firstname', 'Sam'), ('lastname', 'WiLks'), ('email', 'samwilkse@bogusemail.com')])\n"
     ]
    }
   ],
   "source": [
    "with open('./tmp_csv/names.csv', 'r') as csv_file:\n",
    "    \n",
    "    csv_reader = csv.DictReader(csv_file)  # dictionary reader \n",
    "    \n",
    "    for line in csv_reader:\n",
    "        print(line)"
   ]
  },
  {
   "cell_type": "markdown",
   "metadata": {},
   "source": [
    "- 对于csv_reader中的每一行line, 只输出邮箱项line['email']"
   ]
  },
  {
   "cell_type": "code",
   "execution_count": 77,
   "metadata": {},
   "outputs": [
    {
     "name": "stdout",
     "output_type": "stream",
     "text": [
      "john-doe@bogusemail.com\n",
      "maryjacobsc@bogusemail.com\n",
      "davesmith@bogusemail.com\n",
      "janestuart@bogusemail.com\n",
      "tomwright@bogusemail.com\n",
      "steverobinson@bogusemail.com\n",
      "nicolejaco@bogusemail.com\n",
      "janewrighta@bogusemail.com\n",
      "ianedoea@bogusemail.com\n",
      "kurtwright@bogusemail.com\n",
      "kurrobinson@bogusemail.com\n",
      "janejenkins@bogusemail.com\n",
      "neiLrobinson@bogusemail.com\n",
      "tompattersone@bogusemail.com\n",
      "samjenkins@bogusemail.com\n",
      "stevestuart@bogusemail.com\n",
      "maggiepattersone@bogusemail.com\n",
      "maggiestuarte@bogusemail.com\n",
      "janedoeg@bogusemaiL.com\n",
      "stevepatterson@bogusemail.com\n",
      "davesmithe@bogusemail.com\n",
      "kurtjeffs@email.com\n",
      "samwilkse@bogusemail.com\n"
     ]
    }
   ],
   "source": [
    "with open('./tmp_csv/names.csv', 'r') as csv_file:\n",
    "    csv_reader = csv.DictReader(csv_file)  # dictionary reader\n",
    "    for line in csv_reader:\n",
    "        print(line['email'])"
   ]
  },
  {
   "cell_type": "markdown",
   "metadata": {},
   "source": [
    "- ..............................字典方式读写"
   ]
  },
  {
   "cell_type": "code",
   "execution_count": 120,
   "metadata": {},
   "outputs": [],
   "source": [
    "\n",
    "# Using Ubuntu 18.04 Python 3.6\n",
    "import csv\n",
    "\n",
    "with open('./tmp_csv/names.csv', 'r') as csv_file:\n",
    "    csv_reader = csv.DictReader(csv_file)  # dictionary reader\n",
    "    \n",
    "    with open('./tmp_csv/new_DictW_names.csv', 'w') as new_DictW_file:\n",
    "        fieldnames = ['firstname', 'lastname']  # a list of field names，we won't the email\n",
    "        \n",
    "        csv_writer = csv.DictWriter(new_DictW_file, fieldnames=fieldnames, delimiter='\\t')\n",
    "        \n",
    "        csv_writer.writeheader()  # write out those field names as the first line\n",
    "        \n",
    "        for line in csv_reader:\n",
    "            del line['email']    # don't forget to delete email key & value\n",
    "            csv_writer.writerow(line)  "
   ]
  },
  {
   "cell_type": "code",
   "execution_count": null,
   "metadata": {},
   "outputs": [],
   "source": []
  },
  {
   "cell_type": "code",
   "execution_count": null,
   "metadata": {},
   "outputs": [],
   "source": []
  },
  {
   "cell_type": "markdown",
   "metadata": {},
   "source": [
    "# 7."
   ]
  },
  {
   "cell_type": "markdown",
   "metadata": {},
   "source": [
    "### 使用 日期/时间/日期时间(Date/Time/Datetime)"
   ]
  },
  {
   "cell_type": "markdown",
   "metadata": {},
   "source": [
    "- datetime.date(y, m, d) 创建日期"
   ]
  },
  {
   "cell_type": "code",
   "execution_count": 130,
   "metadata": {},
   "outputs": [
    {
     "name": "stdout",
     "output_type": "stream",
     "text": [
      "1018-05-12\n"
     ]
    }
   ],
   "source": [
    "import datetime\n",
    "\n",
    "d = datetime.date(1018, 5, 12)  # 写成 05 则会出错\n",
    "print(d)"
   ]
  },
  {
   "cell_type": "markdown",
   "metadata": {},
   "source": [
    "- 使用datetime.date.today()获取当前日期"
   ]
  },
  {
   "cell_type": "code",
   "execution_count": 131,
   "metadata": {},
   "outputs": [
    {
     "name": "stdout",
     "output_type": "stream",
     "text": [
      "2018-09-04\n",
      "2018\n"
     ]
    }
   ],
   "source": [
    "tday = datetime.date.today()\n",
    "print(tday)\n",
    "print(tday.year)"
   ]
  },
  {
   "cell_type": "markdown",
   "metadata": {},
   "source": [
    "- 查询是一周中的第几天\n",
    "\n",
    "##### .weekday () 从零开始\n",
    "    - Monday is 0\n",
    "    - Tuesday is 1\n",
    "    - ...\n",
    "    - Sunday is 6\n",
    "    \n",
    "##### .isoweekday ()从一开始\n",
    "    - Monday is 1\n",
    "    - Tuesday is 2\n",
    "    - ...\n",
    "    - Sunday is 7"
   ]
  },
  {
   "cell_type": "code",
   "execution_count": 132,
   "metadata": {},
   "outputs": [
    {
     "name": "stdout",
     "output_type": "stream",
     "text": [
      "1\n",
      "2\n"
     ]
    }
   ],
   "source": [
    "print(tday.weekday())\n",
    "print(tday.isoweekday())"
   ]
  },
  {
   "cell_type": "markdown",
   "metadata": {},
   "source": [
    "### timedelta"
   ]
  },
  {
   "cell_type": "markdown",
   "metadata": {},
   "source": [
    "- datetime.timedelta(days=0, seconds=0, microseconds=0, milliseconds=0, minutes=0, hours=0, weeks=0)\n",
    "- 表示时间间隔，即两个时间点之间的长度。\n",
    "- timedelta 可以与时间直接做加减运算\n",
    "- "
   ]
  },
  {
   "cell_type": "code",
   "execution_count": 133,
   "metadata": {},
   "outputs": [
    {
     "name": "stdout",
     "output_type": "stream",
     "text": [
      "2018-09-11\n",
      "2018-08-28\n"
     ]
    }
   ],
   "source": [
    "tdelta = datetime.timedelta(days=7)\n",
    "print(tday + tdelta)\n",
    "print(tday - tdelta)"
   ]
  },
  {
   "cell_type": "markdown",
   "metadata": {},
   "source": [
    "- 时间相减可以得到timedelta时间间隔"
   ]
  },
  {
   "cell_type": "code",
   "execution_count": 136,
   "metadata": {},
   "outputs": [
    {
     "name": "stdout",
     "output_type": "stream",
     "text": [
      "20 days, 0:00:00\n",
      "20\n",
      "1728000.0\n"
     ]
    }
   ],
   "source": [
    "baby = datetime.date(2018, 9, 24)\n",
    "till_baby = baby - datetime.date.today()\n",
    "\n",
    "print(till_baby)\n",
    "print(till_baby.days)\n",
    "print(till_baby.total_seconds())"
   ]
  },
  {
   "cell_type": "markdown",
   "metadata": {},
   "source": [
    "- datetime.time(hour, minute, second, microsecond) 创建时间"
   ]
  },
  {
   "cell_type": "code",
   "execution_count": 139,
   "metadata": {},
   "outputs": [
    {
     "name": "stdout",
     "output_type": "stream",
     "text": [
      "09:30:04.000023\n",
      "9\n"
     ]
    }
   ],
   "source": [
    "t = datetime.time(9, 30, 4, 23)\n",
    "print(t)\n",
    "print(t.hour)"
   ]
  },
  {
   "cell_type": "markdown",
   "metadata": {},
   "source": [
    "- datetime.datetime() 创建时间日期"
   ]
  },
  {
   "cell_type": "code",
   "execution_count": 141,
   "metadata": {},
   "outputs": [
    {
     "name": "stdout",
     "output_type": "stream",
     "text": [
      "2018-07-26 12:30:45.100000\n",
      "12:30:45.100000\n",
      "2018\n"
     ]
    }
   ],
   "source": [
    "dt = datetime.datetime(2018, 7, 26, 12, 30, 45, 100000)\n",
    "print(dt)\n",
    "print(dt.time())\n",
    "print(dt.year)"
   ]
  },
  {
   "cell_type": "markdown",
   "metadata": {},
   "source": [
    "- 世界标准时间\n",
    "- 使用datetime.datetime.utcnow()获取世界时"
   ]
  },
  {
   "cell_type": "code",
   "execution_count": 143,
   "metadata": {},
   "outputs": [
    {
     "name": "stdout",
     "output_type": "stream",
     "text": [
      "2018-09-04 16:37:24.869746\n",
      "2018-09-04 08:37:24.869746\n"
     ]
    }
   ],
   "source": [
    "# 我们本地时间 = 世界标准时间 + 8小时\n",
    "\n",
    "dt_now = datetime.datetime.now()\n",
    "dt_utcnow = datetime.datetime.utcnow()\n",
    "\n",
    "print(dt_now)\n",
    "print(dt_utcnow)"
   ]
  },
  {
   "cell_type": "markdown",
   "metadata": {},
   "source": [
    "- 使用pytz处理时区问题 (python time zone)\n",
    "- 创建时间时 加上tzinfo=pytz.UTC参数可以指定为世界标准时间\n",
    "- datetime.datetime.now()也可以使用tzinfo参数"
   ]
  },
  {
   "cell_type": "code",
   "execution_count": 79,
   "metadata": {},
   "outputs": [
    {
     "name": "stdout",
     "output_type": "stream",
     "text": [
      "UTC\n",
      "2018-07-26 12:30:45+00:00\n",
      "2018-09-06 10:57:05.089430+00:00\n",
      "2018-09-06 10:57:05.089430+00:00\n"
     ]
    }
   ],
   "source": [
    "import pytz\n",
    "import datetime\n",
    "print(pytz.UTC)\n",
    "\n",
    "\n",
    "dt = datetime.datetime(2018, 7, 26, 12, 30, 45, tzinfo=pytz.UTC)\n",
    "print(dt)\n",
    "\n",
    "dt_now = datetime.datetime.now(tz=pytz.UTC)\n",
    "dt_utcnow = datetime.datetime.utcnow().replace(tzinfo=pytz.UTC)\n",
    "\n",
    "print(dt_now)\n",
    "print(dt_utcnow)"
   ]
  },
  {
   "cell_type": "markdown",
   "metadata": {},
   "source": [
    "- 将UTC时间转换为不同的时区时间\n",
    "- 使用datetime.datetime.utcnow().replace(tzinfo=pytz.UTC)获取世界标准时\n",
    "- 然后使用.astimezone(pytz.timezone('Asia/Hong_Kong'))转换为香港当地时间"
   ]
  },
  {
   "cell_type": "code",
   "execution_count": 145,
   "metadata": {},
   "outputs": [
    {
     "name": "stdout",
     "output_type": "stream",
     "text": [
      "2018-09-04 16:42:21.116824+08:00\n"
     ]
    }
   ],
   "source": [
    "dt_utcnow = datetime.datetime.utcnow().replace(tzinfo=pytz.UTC)\n",
    "dt_hk = dt_utcnow.astimezone(pytz.timezone('Asia/Hong_Kong'))\n",
    "print(dt_hk)"
   ]
  },
  {
   "cell_type": "markdown",
   "metadata": {},
   "source": [
    "##### UTC list of time zones\n",
    "- 中国境内所有可用时区\n",
    "- 没有北京\n",
    "\n",
    "|亚洲|TZ|StandardTime|\n",
    "|:-------------|:-----------------------|:-----------:|\n",
    "| 中国(重庆)     | Asia/Chongqing         | UTC + 8：00 |\n",
    "| 中国(香港)     | Asia/Hong_Kong         | UTC + 8：00 |\n",
    "| 中国(澳门)     | Asia/Macau(Asia/Macao) | UTC + 8：00 |\n",
    "| 中国(上海)     | Asia/Shanghai          | UTC + 8：00 |\n",
    "| 中国(台北)     | Asia/Taipei            | UTC + 8：00 |\n",
    "| 中国(乌鲁木齐) | Asia/Urumqi            | UTC + 6：00 |"
   ]
  },
  {
   "cell_type": "markdown",
   "metadata": {},
   "source": [
    "- 查看所有可用时区"
   ]
  },
  {
   "cell_type": "code",
   "execution_count": 146,
   "metadata": {},
   "outputs": [
    {
     "name": "stdout",
     "output_type": "stream",
     "text": [
      "Africa/Abidjan\n",
      "Africa/Accra\n",
      "Africa/Addis_Ababa\n",
      "Africa/Algiers\n",
      "Africa/Asmara\n",
      "Africa/Asmera\n",
      "Africa/Bamako\n",
      "Africa/Bangui\n",
      "Africa/Banjul\n",
      "Africa/Bissau\n",
      "Africa/Blantyre\n",
      "Africa/Brazzaville\n",
      "Africa/Bujumbura\n",
      "Africa/Cairo\n",
      "Africa/Casablanca\n",
      "Africa/Ceuta\n",
      "Africa/Conakry\n",
      "Africa/Dakar\n",
      "Africa/Dar_es_Salaam\n",
      "Africa/Djibouti\n",
      "Africa/Douala\n",
      "Africa/El_Aaiun\n",
      "Africa/Freetown\n",
      "Africa/Gaborone\n",
      "Africa/Harare\n",
      "Africa/Johannesburg\n",
      "Africa/Juba\n",
      "Africa/Kampala\n",
      "Africa/Khartoum\n",
      "Africa/Kigali\n",
      "Africa/Kinshasa\n",
      "Africa/Lagos\n",
      "Africa/Libreville\n",
      "Africa/Lome\n",
      "Africa/Luanda\n",
      "Africa/Lubumbashi\n",
      "Africa/Lusaka\n",
      "Africa/Malabo\n",
      "Africa/Maputo\n",
      "Africa/Maseru\n",
      "Africa/Mbabane\n",
      "Africa/Mogadishu\n",
      "Africa/Monrovia\n",
      "Africa/Nairobi\n",
      "Africa/Ndjamena\n",
      "Africa/Niamey\n",
      "Africa/Nouakchott\n",
      "Africa/Ouagadougou\n",
      "Africa/Porto-Novo\n",
      "Africa/Sao_Tome\n",
      "Africa/Timbuktu\n",
      "Africa/Tripoli\n",
      "Africa/Tunis\n",
      "Africa/Windhoek\n",
      "America/Adak\n",
      "America/Anchorage\n",
      "America/Anguilla\n",
      "America/Antigua\n",
      "America/Araguaina\n",
      "America/Argentina/Buenos_Aires\n",
      "America/Argentina/Catamarca\n",
      "America/Argentina/ComodRivadavia\n",
      "America/Argentina/Cordoba\n",
      "America/Argentina/Jujuy\n",
      "America/Argentina/La_Rioja\n",
      "America/Argentina/Mendoza\n",
      "America/Argentina/Rio_Gallegos\n",
      "America/Argentina/Salta\n",
      "America/Argentina/San_Juan\n",
      "America/Argentina/San_Luis\n",
      "America/Argentina/Tucuman\n",
      "America/Argentina/Ushuaia\n",
      "America/Aruba\n",
      "America/Asuncion\n",
      "America/Atikokan\n",
      "America/Atka\n",
      "America/Bahia\n",
      "America/Bahia_Banderas\n",
      "America/Barbados\n",
      "America/Belem\n",
      "America/Belize\n",
      "America/Blanc-Sablon\n",
      "America/Boa_Vista\n",
      "America/Bogota\n",
      "America/Boise\n",
      "America/Buenos_Aires\n",
      "America/Cambridge_Bay\n",
      "America/Campo_Grande\n",
      "America/Cancun\n",
      "America/Caracas\n",
      "America/Catamarca\n",
      "America/Cayenne\n",
      "America/Cayman\n",
      "America/Chicago\n",
      "America/Chihuahua\n",
      "America/Coral_Harbour\n",
      "America/Cordoba\n",
      "America/Costa_Rica\n",
      "America/Creston\n",
      "America/Cuiaba\n",
      "America/Curacao\n",
      "America/Danmarkshavn\n",
      "America/Dawson\n",
      "America/Dawson_Creek\n",
      "America/Denver\n",
      "America/Detroit\n",
      "America/Dominica\n",
      "America/Edmonton\n",
      "America/Eirunepe\n",
      "America/El_Salvador\n",
      "America/Ensenada\n",
      "America/Fort_Nelson\n",
      "America/Fort_Wayne\n",
      "America/Fortaleza\n",
      "America/Glace_Bay\n",
      "America/Godthab\n",
      "America/Goose_Bay\n",
      "America/Grand_Turk\n",
      "America/Grenada\n",
      "America/Guadeloupe\n",
      "America/Guatemala\n",
      "America/Guayaquil\n",
      "America/Guyana\n",
      "America/Halifax\n",
      "America/Havana\n",
      "America/Hermosillo\n",
      "America/Indiana/Indianapolis\n",
      "America/Indiana/Knox\n",
      "America/Indiana/Marengo\n",
      "America/Indiana/Petersburg\n",
      "America/Indiana/Tell_City\n",
      "America/Indiana/Vevay\n",
      "America/Indiana/Vincennes\n",
      "America/Indiana/Winamac\n",
      "America/Indianapolis\n",
      "America/Inuvik\n",
      "America/Iqaluit\n",
      "America/Jamaica\n",
      "America/Jujuy\n",
      "America/Juneau\n",
      "America/Kentucky/Louisville\n",
      "America/Kentucky/Monticello\n",
      "America/Knox_IN\n",
      "America/Kralendijk\n",
      "America/La_Paz\n",
      "America/Lima\n",
      "America/Los_Angeles\n",
      "America/Louisville\n",
      "America/Lower_Princes\n",
      "America/Maceio\n",
      "America/Managua\n",
      "America/Manaus\n",
      "America/Marigot\n",
      "America/Martinique\n",
      "America/Matamoros\n",
      "America/Mazatlan\n",
      "America/Mendoza\n",
      "America/Menominee\n",
      "America/Merida\n",
      "America/Metlakatla\n",
      "America/Mexico_City\n",
      "America/Miquelon\n",
      "America/Moncton\n",
      "America/Monterrey\n",
      "America/Montevideo\n",
      "America/Montreal\n",
      "America/Montserrat\n",
      "America/Nassau\n",
      "America/New_York\n",
      "America/Nipigon\n",
      "America/Nome\n",
      "America/Noronha\n",
      "America/North_Dakota/Beulah\n",
      "America/North_Dakota/Center\n",
      "America/North_Dakota/New_Salem\n",
      "America/Ojinaga\n",
      "America/Panama\n",
      "America/Pangnirtung\n",
      "America/Paramaribo\n",
      "America/Phoenix\n",
      "America/Port-au-Prince\n",
      "America/Port_of_Spain\n",
      "America/Porto_Acre\n",
      "America/Porto_Velho\n",
      "America/Puerto_Rico\n",
      "America/Punta_Arenas\n",
      "America/Rainy_River\n",
      "America/Rankin_Inlet\n",
      "America/Recife\n",
      "America/Regina\n",
      "America/Resolute\n",
      "America/Rio_Branco\n",
      "America/Rosario\n",
      "America/Santa_Isabel\n",
      "America/Santarem\n",
      "America/Santiago\n",
      "America/Santo_Domingo\n",
      "America/Sao_Paulo\n",
      "America/Scoresbysund\n",
      "America/Shiprock\n",
      "America/Sitka\n",
      "America/St_Barthelemy\n",
      "America/St_Johns\n",
      "America/St_Kitts\n",
      "America/St_Lucia\n",
      "America/St_Thomas\n",
      "America/St_Vincent\n",
      "America/Swift_Current\n",
      "America/Tegucigalpa\n",
      "America/Thule\n",
      "America/Thunder_Bay\n",
      "America/Tijuana\n",
      "America/Toronto\n",
      "America/Tortola\n",
      "America/Vancouver\n",
      "America/Virgin\n",
      "America/Whitehorse\n",
      "America/Winnipeg\n",
      "America/Yakutat\n",
      "America/Yellowknife\n",
      "Antarctica/Casey\n",
      "Antarctica/Davis\n",
      "Antarctica/DumontDUrville\n",
      "Antarctica/Macquarie\n",
      "Antarctica/Mawson\n",
      "Antarctica/McMurdo\n",
      "Antarctica/Palmer\n",
      "Antarctica/Rothera\n",
      "Antarctica/South_Pole\n",
      "Antarctica/Syowa\n",
      "Antarctica/Troll\n",
      "Antarctica/Vostok\n",
      "Arctic/Longyearbyen\n",
      "Asia/Aden\n",
      "Asia/Almaty\n",
      "Asia/Amman\n",
      "Asia/Anadyr\n",
      "Asia/Aqtau\n",
      "Asia/Aqtobe\n",
      "Asia/Ashgabat\n",
      "Asia/Ashkhabad\n",
      "Asia/Atyrau\n",
      "Asia/Baghdad\n",
      "Asia/Bahrain\n",
      "Asia/Baku\n",
      "Asia/Bangkok\n",
      "Asia/Barnaul\n",
      "Asia/Beirut\n",
      "Asia/Bishkek\n",
      "Asia/Brunei\n",
      "Asia/Calcutta\n",
      "Asia/Chita\n",
      "Asia/Choibalsan\n",
      "Asia/Chongqing\n",
      "Asia/Chungking\n",
      "Asia/Colombo\n",
      "Asia/Dacca\n",
      "Asia/Damascus\n",
      "Asia/Dhaka\n",
      "Asia/Dili\n",
      "Asia/Dubai\n",
      "Asia/Dushanbe\n",
      "Asia/Famagusta\n",
      "Asia/Gaza\n",
      "Asia/Harbin\n",
      "Asia/Hebron\n",
      "Asia/Ho_Chi_Minh\n",
      "Asia/Hong_Kong\n",
      "Asia/Hovd\n",
      "Asia/Irkutsk\n",
      "Asia/Istanbul\n",
      "Asia/Jakarta\n",
      "Asia/Jayapura\n",
      "Asia/Jerusalem\n",
      "Asia/Kabul\n",
      "Asia/Kamchatka\n",
      "Asia/Karachi\n",
      "Asia/Kashgar\n",
      "Asia/Kathmandu\n",
      "Asia/Katmandu\n",
      "Asia/Khandyga\n",
      "Asia/Kolkata\n",
      "Asia/Krasnoyarsk\n",
      "Asia/Kuala_Lumpur\n",
      "Asia/Kuching\n",
      "Asia/Kuwait\n",
      "Asia/Macao\n",
      "Asia/Macau\n",
      "Asia/Magadan\n",
      "Asia/Makassar\n",
      "Asia/Manila\n",
      "Asia/Muscat\n",
      "Asia/Nicosia\n",
      "Asia/Novokuznetsk\n",
      "Asia/Novosibirsk\n",
      "Asia/Omsk\n",
      "Asia/Oral\n",
      "Asia/Phnom_Penh\n",
      "Asia/Pontianak\n",
      "Asia/Pyongyang\n",
      "Asia/Qatar\n",
      "Asia/Qyzylorda\n",
      "Asia/Rangoon\n",
      "Asia/Riyadh\n",
      "Asia/Saigon\n",
      "Asia/Sakhalin\n",
      "Asia/Samarkand\n",
      "Asia/Seoul\n",
      "Asia/Shanghai\n",
      "Asia/Singapore\n",
      "Asia/Srednekolymsk\n",
      "Asia/Taipei\n",
      "Asia/Tashkent\n",
      "Asia/Tbilisi\n",
      "Asia/Tehran\n",
      "Asia/Tel_Aviv\n",
      "Asia/Thimbu\n",
      "Asia/Thimphu\n",
      "Asia/Tokyo\n",
      "Asia/Tomsk\n",
      "Asia/Ujung_Pandang\n",
      "Asia/Ulaanbaatar\n",
      "Asia/Ulan_Bator\n",
      "Asia/Urumqi\n",
      "Asia/Ust-Nera\n",
      "Asia/Vientiane\n",
      "Asia/Vladivostok\n",
      "Asia/Yakutsk\n",
      "Asia/Yangon\n",
      "Asia/Yekaterinburg\n",
      "Asia/Yerevan\n",
      "Atlantic/Azores\n",
      "Atlantic/Bermuda\n",
      "Atlantic/Canary\n",
      "Atlantic/Cape_Verde\n",
      "Atlantic/Faeroe\n",
      "Atlantic/Faroe\n",
      "Atlantic/Jan_Mayen\n",
      "Atlantic/Madeira\n",
      "Atlantic/Reykjavik\n",
      "Atlantic/South_Georgia\n",
      "Atlantic/St_Helena\n",
      "Atlantic/Stanley\n",
      "Australia/ACT\n",
      "Australia/Adelaide\n",
      "Australia/Brisbane\n",
      "Australia/Broken_Hill\n",
      "Australia/Canberra\n",
      "Australia/Currie\n",
      "Australia/Darwin\n",
      "Australia/Eucla\n",
      "Australia/Hobart\n",
      "Australia/LHI\n",
      "Australia/Lindeman\n",
      "Australia/Lord_Howe\n",
      "Australia/Melbourne\n",
      "Australia/NSW\n",
      "Australia/North\n",
      "Australia/Perth\n",
      "Australia/Queensland\n",
      "Australia/South\n",
      "Australia/Sydney\n",
      "Australia/Tasmania\n",
      "Australia/Victoria\n",
      "Australia/West\n",
      "Australia/Yancowinna\n",
      "Brazil/Acre\n",
      "Brazil/DeNoronha\n",
      "Brazil/East\n",
      "Brazil/West\n",
      "CET\n",
      "CST6CDT\n",
      "Canada/Atlantic\n",
      "Canada/Central\n",
      "Canada/Eastern\n",
      "Canada/Mountain\n",
      "Canada/Newfoundland\n",
      "Canada/Pacific\n",
      "Canada/Saskatchewan\n",
      "Canada/Yukon\n",
      "Chile/Continental\n",
      "Chile/EasterIsland\n",
      "Cuba\n",
      "EET\n",
      "EST\n",
      "EST5EDT\n",
      "Egypt\n",
      "Eire\n",
      "Etc/GMT\n",
      "Etc/GMT+0\n",
      "Etc/GMT+1\n",
      "Etc/GMT+10\n",
      "Etc/GMT+11\n",
      "Etc/GMT+12\n",
      "Etc/GMT+2\n",
      "Etc/GMT+3\n",
      "Etc/GMT+4\n",
      "Etc/GMT+5\n",
      "Etc/GMT+6\n",
      "Etc/GMT+7\n",
      "Etc/GMT+8\n",
      "Etc/GMT+9\n",
      "Etc/GMT-0\n",
      "Etc/GMT-1\n",
      "Etc/GMT-10\n",
      "Etc/GMT-11\n",
      "Etc/GMT-12\n",
      "Etc/GMT-13\n",
      "Etc/GMT-14\n",
      "Etc/GMT-2\n",
      "Etc/GMT-3\n",
      "Etc/GMT-4\n",
      "Etc/GMT-5\n",
      "Etc/GMT-6\n",
      "Etc/GMT-7\n",
      "Etc/GMT-8\n",
      "Etc/GMT-9\n",
      "Etc/GMT0\n",
      "Etc/Greenwich\n",
      "Etc/UCT\n",
      "Etc/UTC\n",
      "Etc/Universal\n",
      "Etc/Zulu\n",
      "Europe/Amsterdam\n",
      "Europe/Andorra\n",
      "Europe/Astrakhan\n",
      "Europe/Athens\n",
      "Europe/Belfast\n",
      "Europe/Belgrade\n",
      "Europe/Berlin\n",
      "Europe/Bratislava\n",
      "Europe/Brussels\n",
      "Europe/Bucharest\n",
      "Europe/Budapest\n",
      "Europe/Busingen\n",
      "Europe/Chisinau\n",
      "Europe/Copenhagen\n",
      "Europe/Dublin\n",
      "Europe/Gibraltar\n",
      "Europe/Guernsey\n",
      "Europe/Helsinki\n",
      "Europe/Isle_of_Man\n",
      "Europe/Istanbul\n",
      "Europe/Jersey\n",
      "Europe/Kaliningrad\n",
      "Europe/Kiev\n",
      "Europe/Kirov\n",
      "Europe/Lisbon\n",
      "Europe/Ljubljana\n",
      "Europe/London\n",
      "Europe/Luxembourg\n",
      "Europe/Madrid\n",
      "Europe/Malta\n",
      "Europe/Mariehamn\n",
      "Europe/Minsk\n",
      "Europe/Monaco\n",
      "Europe/Moscow\n",
      "Europe/Nicosia\n",
      "Europe/Oslo\n",
      "Europe/Paris\n",
      "Europe/Podgorica\n",
      "Europe/Prague\n",
      "Europe/Riga\n",
      "Europe/Rome\n",
      "Europe/Samara\n",
      "Europe/San_Marino\n",
      "Europe/Sarajevo\n",
      "Europe/Saratov\n",
      "Europe/Simferopol\n",
      "Europe/Skopje\n",
      "Europe/Sofia\n",
      "Europe/Stockholm\n",
      "Europe/Tallinn\n",
      "Europe/Tirane\n",
      "Europe/Tiraspol\n",
      "Europe/Ulyanovsk\n",
      "Europe/Uzhgorod\n",
      "Europe/Vaduz\n",
      "Europe/Vatican\n",
      "Europe/Vienna\n",
      "Europe/Vilnius\n",
      "Europe/Volgograd\n",
      "Europe/Warsaw\n",
      "Europe/Zagreb\n",
      "Europe/Zaporozhye\n",
      "Europe/Zurich\n",
      "GB\n",
      "GB-Eire\n",
      "GMT\n",
      "GMT+0\n",
      "GMT-0\n",
      "GMT0\n",
      "Greenwich\n",
      "HST\n",
      "Hongkong\n",
      "Iceland\n",
      "Indian/Antananarivo\n",
      "Indian/Chagos\n",
      "Indian/Christmas\n",
      "Indian/Cocos\n",
      "Indian/Comoro\n",
      "Indian/Kerguelen\n",
      "Indian/Mahe\n",
      "Indian/Maldives\n",
      "Indian/Mauritius\n",
      "Indian/Mayotte\n",
      "Indian/Reunion\n",
      "Iran\n",
      "Israel\n",
      "Jamaica\n",
      "Japan\n",
      "Kwajalein\n",
      "Libya\n",
      "MET\n",
      "MST\n",
      "MST7MDT\n",
      "Mexico/BajaNorte\n",
      "Mexico/BajaSur\n",
      "Mexico/General\n",
      "NZ\n",
      "NZ-CHAT\n",
      "Navajo\n",
      "PRC\n",
      "PST8PDT\n",
      "Pacific/Apia\n",
      "Pacific/Auckland\n",
      "Pacific/Bougainville\n",
      "Pacific/Chatham\n",
      "Pacific/Chuuk\n",
      "Pacific/Easter\n",
      "Pacific/Efate\n",
      "Pacific/Enderbury\n",
      "Pacific/Fakaofo\n",
      "Pacific/Fiji\n",
      "Pacific/Funafuti\n",
      "Pacific/Galapagos\n",
      "Pacific/Gambier\n",
      "Pacific/Guadalcanal\n",
      "Pacific/Guam\n",
      "Pacific/Honolulu\n",
      "Pacific/Johnston\n",
      "Pacific/Kiritimati\n",
      "Pacific/Kosrae\n",
      "Pacific/Kwajalein\n",
      "Pacific/Majuro\n",
      "Pacific/Marquesas\n",
      "Pacific/Midway\n",
      "Pacific/Nauru\n",
      "Pacific/Niue\n",
      "Pacific/Norfolk\n",
      "Pacific/Noumea\n",
      "Pacific/Pago_Pago\n",
      "Pacific/Palau\n",
      "Pacific/Pitcairn\n",
      "Pacific/Pohnpei\n",
      "Pacific/Ponape\n",
      "Pacific/Port_Moresby\n",
      "Pacific/Rarotonga\n",
      "Pacific/Saipan\n",
      "Pacific/Samoa\n",
      "Pacific/Tahiti\n",
      "Pacific/Tarawa\n",
      "Pacific/Tongatapu\n",
      "Pacific/Truk\n",
      "Pacific/Wake\n",
      "Pacific/Wallis\n",
      "Pacific/Yap\n",
      "Poland\n",
      "Portugal\n",
      "ROC\n",
      "ROK\n",
      "Singapore\n",
      "Turkey\n",
      "UCT\n",
      "US/Alaska\n",
      "US/Aleutian\n",
      "US/Arizona\n",
      "US/Central\n",
      "US/East-Indiana\n",
      "US/Eastern\n",
      "US/Hawaii\n",
      "US/Indiana-Starke\n",
      "US/Michigan\n",
      "US/Mountain\n",
      "US/Pacific\n",
      "US/Samoa\n",
      "UTC\n",
      "Universal\n",
      "W-SU\n",
      "WET\n",
      "Zulu\n"
     ]
    }
   ],
   "source": [
    "for tz in pytz.all_timezones:\n",
    "    print(tz)"
   ]
  },
  {
   "cell_type": "markdown",
   "metadata": {},
   "source": [
    "- ..................将本地时间转换为不同的时区"
   ]
  },
  {
   "cell_type": "code",
   "execution_count": 83,
   "metadata": {},
   "outputs": [],
   "source": [
    "# on Windows10 Python3.5.5\n",
    "dt_mtn = datetime.datetime.now()\n",
    "print(dt_mtn)\n",
    "\n",
    "dt_hk = dt_mtn.astimezone(pytz.timezone('Asia/Hong_Kong'))  # Error！\n",
    "# ValueError: astimezone() cannot be applied to a naive datetime\n",
    "print(dt_hk)"
   ]
  },
  {
   "cell_type": "code",
   "execution_count": null,
   "metadata": {},
   "outputs": [],
   "source": []
  },
  {
   "cell_type": "code",
   "execution_count": 81,
   "metadata": {},
   "outputs": [
    {
     "name": "stdout",
     "output_type": "stream",
     "text": [
      "2018-09-06 19:04:16.659322\n",
      "2018-09-06 19:04:16.659322+08:00\n"
     ]
    }
   ],
   "source": [
    "# on Windows10 Python3.5.5\n",
    "dt_mtn = datetime.datetime.now()\n",
    "print(dt_mtn)\n",
    "\n",
    "hk_tz = pytz.timezone('Asia/Hong_Kong')\n",
    "\n",
    "dt_mtn = hk_tz.localize(dt_mtn)  # 将当地时间转化为所在时区时间\n",
    "\n",
    "dt_hk = dt_mtn.astimezone(pytz.timezone('Asia/Hong_Kong'))  # No Error！ 解决方案\n",
    "print(dt_hk)"
   ]
  },
  {
   "cell_type": "code",
   "execution_count": null,
   "metadata": {},
   "outputs": [],
   "source": []
  },
  {
   "cell_type": "code",
   "execution_count": 82,
   "metadata": {},
   "outputs": [
    {
     "name": "stdout",
     "output_type": "stream",
     "text": [
      "2018-09-06 19:04:18.436190\n",
      "2018-09-06 19:04:18.436190+08:00\n"
     ]
    }
   ],
   "source": [
    "# on Windows10 Python3.6.6\n",
    "dt_mtn = datetime.datetime.now()\n",
    "print(dt_mtn)\n",
    "\n",
    "dt_hk = dt_mtn.astimezone(pytz.timezone('Asia/Hong_Kong'))  # No Error！\n",
    "print(dt_hk)"
   ]
  },
  {
   "cell_type": "code",
   "execution_count": null,
   "metadata": {},
   "outputs": [],
   "source": []
  },
  {
   "cell_type": "code",
   "execution_count": null,
   "metadata": {},
   "outputs": [],
   "source": []
  },
  {
   "cell_type": "markdown",
   "metadata": {},
   "source": [
    "### 我们可以用不同方式显示日期时间\n",
    "######   strftime() :  Datetime --> String\n",
    "\n",
    "\n",
    "        返回ISO 格式:\n",
    "            .isoformat()\n",
    "        返回自定义格式化字符串:  \n",
    "            strftime(format_str)\n",
    "            \n",
    "        %B 本地完整的月份名称\n",
    "        %d 月内中的一天（0-31）\n",
    "        %Y 四位数的年份表示（000-9999）\n",
    "\n",
    "######  strptime() : String -->  Datetime\n",
    "        \n",
    "        datetime.datetime.strptime(datetime_str, format_str)\n",
    "        返回一个时间日期"
   ]
  },
  {
   "cell_type": "code",
   "execution_count": 87,
   "metadata": {},
   "outputs": [
    {
     "name": "stdout",
     "output_type": "stream",
     "text": [
      "2018-09-06T19:06:16.785930+08:00\n",
      "September 06, 2018\n"
     ]
    }
   ],
   "source": [
    "dt_mtn = datetime.datetime.now(tz=pytz.timezone('Asia/Hong_Kong'))\n",
    "\n",
    "\n",
    "print(dt_mtn.isoformat())  # 返回ISO 格式\n",
    "print(dt_mtn.strftime('%B %d, %Y'))  # 返回自定义格式化字符串"
   ]
  },
  {
   "cell_type": "markdown",
   "metadata": {},
   "source": [
    " - String --> Datetime"
   ]
  },
  {
   "cell_type": "code",
   "execution_count": 150,
   "metadata": {},
   "outputs": [
    {
     "name": "stdout",
     "output_type": "stream",
     "text": [
      "2018-09-04 00:00:00\n"
     ]
    }
   ],
   "source": [
    "dt_str = 'September 04, 2018'\n",
    "dt = datetime.datetime.strptime(dt_str, '%B %d, %Y')\n",
    "print(dt)"
   ]
  },
  {
   "cell_type": "code",
   "execution_count": null,
   "metadata": {},
   "outputs": [],
   "source": []
  },
  {
   "cell_type": "code",
   "execution_count": null,
   "metadata": {},
   "outputs": [],
   "source": []
  },
  {
   "cell_type": "markdown",
   "metadata": {},
   "source": []
  },
  {
   "cell_type": "code",
   "execution_count": null,
   "metadata": {},
   "outputs": [],
   "source": []
  },
  {
   "cell_type": "code",
   "execution_count": null,
   "metadata": {},
   "outputs": [],
   "source": []
  },
  {
   "cell_type": "code",
   "execution_count": null,
   "metadata": {},
   "outputs": [],
   "source": []
  },
  {
   "cell_type": "code",
   "execution_count": null,
   "metadata": {},
   "outputs": [],
   "source": []
  },
  {
   "cell_type": "code",
   "execution_count": null,
   "metadata": {},
   "outputs": [],
   "source": []
  },
  {
   "cell_type": "code",
   "execution_count": null,
   "metadata": {},
   "outputs": [],
   "source": []
  },
  {
   "cell_type": "code",
   "execution_count": null,
   "metadata": {},
   "outputs": [],
   "source": []
  },
  {
   "cell_type": "code",
   "execution_count": null,
   "metadata": {},
   "outputs": [],
   "source": []
  },
  {
   "cell_type": "code",
   "execution_count": null,
   "metadata": {},
   "outputs": [],
   "source": []
  },
  {
   "cell_type": "code",
   "execution_count": null,
   "metadata": {},
   "outputs": [],
   "source": []
  },
  {
   "cell_type": "code",
   "execution_count": null,
   "metadata": {},
   "outputs": [],
   "source": []
  },
  {
   "cell_type": "code",
   "execution_count": null,
   "metadata": {},
   "outputs": [],
   "source": []
  },
  {
   "cell_type": "code",
   "execution_count": null,
   "metadata": {},
   "outputs": [],
   "source": []
  },
  {
   "cell_type": "code",
   "execution_count": null,
   "metadata": {},
   "outputs": [],
   "source": []
  },
  {
   "cell_type": "code",
   "execution_count": null,
   "metadata": {},
   "outputs": [],
   "source": []
  },
  {
   "cell_type": "code",
   "execution_count": null,
   "metadata": {},
   "outputs": [],
   "source": []
  },
  {
   "cell_type": "code",
   "execution_count": null,
   "metadata": {},
   "outputs": [],
   "source": []
  },
  {
   "cell_type": "code",
   "execution_count": null,
   "metadata": {},
   "outputs": [],
   "source": []
  },
  {
   "cell_type": "code",
   "execution_count": null,
   "metadata": {},
   "outputs": [],
   "source": []
  },
  {
   "cell_type": "code",
   "execution_count": null,
   "metadata": {},
   "outputs": [],
   "source": []
  },
  {
   "cell_type": "code",
   "execution_count": null,
   "metadata": {},
   "outputs": [],
   "source": []
  },
  {
   "cell_type": "code",
   "execution_count": null,
   "metadata": {},
   "outputs": [],
   "source": []
  },
  {
   "cell_type": "code",
   "execution_count": null,
   "metadata": {},
   "outputs": [],
   "source": []
  },
  {
   "cell_type": "code",
   "execution_count": null,
   "metadata": {},
   "outputs": [],
   "source": []
  },
  {
   "cell_type": "code",
   "execution_count": null,
   "metadata": {},
   "outputs": [],
   "source": []
  },
  {
   "cell_type": "code",
   "execution_count": null,
   "metadata": {},
   "outputs": [],
   "source": []
  },
  {
   "cell_type": "code",
   "execution_count": null,
   "metadata": {},
   "outputs": [],
   "source": []
  }
 ],
 "metadata": {
  "kernelspec": {
   "display_name": "Python 3",
   "language": "python",
   "name": "python3"
  },
  "language_info": {
   "codemirror_mode": {
    "name": "ipython",
    "version": 3
   },
   "file_extension": ".py",
   "mimetype": "text/x-python",
   "name": "python",
   "nbconvert_exporter": "python",
   "pygments_lexer": "ipython3",
   "version": "3.6.6"
  }
 },
 "nbformat": 4,
 "nbformat_minor": 2
}
