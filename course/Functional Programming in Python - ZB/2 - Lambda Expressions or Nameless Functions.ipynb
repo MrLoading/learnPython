{
 "cells": [
  {
   "cell_type": "markdown",
   "metadata": {},
   "source": [
    "### 1. 语句和表达式的区别\n",
    "### 2. 没有语句的lambda函数\n",
    "### 3. 探索 'and' 和 'or' 真正的工作方式\n",
    "### 4. Stated 'if' expressions- conditional branching without statements\n",
    " - if 表达式是状态无关的"
   ]
  },
  {
   "cell_type": "markdown",
   "metadata": {},
   "source": [
    "## 1."
   ]
  },
  {
   "cell_type": "markdown",
   "metadata": {},
   "source": [
    "### 语句和表达式的区别\n",
    "- 可执行\n",
    "- 产生一个值"
   ]
  },
  {
   "cell_type": "markdown",
   "metadata": {},
   "source": [
    "### ①语句\n",
    "### 变量声明\n",
    "### 赋值\n",
    "- 过程式编程严重依赖于赋值，这些赋值操作都是语句。 "
   ]
  },
  {
   "cell_type": "code",
   "execution_count": 1,
   "metadata": {},
   "outputs": [],
   "source": [
    "x = 0\n",
    "x += 1"
   ]
  },
  {
   "cell_type": "markdown",
   "metadata": {},
   "source": [
    "### 条件分支 (if, elif, else)\n",
    "在过程式编程中，分支通常使用“If”语句以及相关的“elif”和“else”语句来实现"
   ]
  },
  {
   "cell_type": "code",
   "execution_count": 2,
   "metadata": {},
   "outputs": [],
   "source": [
    "if False:\n",
    "    pass\n",
    "elif True:\n",
    "    pass\n",
    "else:\n",
    "    pass"
   ]
  },
  {
   "cell_type": "markdown",
   "metadata": {},
   "source": [
    "### 函数 / 生成器 / 类定义\n",
    "\n",
    "在过程编程中，使用def和Class语句定义函数和类。"
   ]
  },
  {
   "cell_type": "code",
   "execution_count": 3,
   "metadata": {},
   "outputs": [],
   "source": [
    "\n",
    "def my_function(x):\n",
    "    return x*2\n",
    "\n",
    "\n",
    "def my_generator(x):  # generator function\n",
    "    yield x*2   # 代码的暂停（挂起）\n",
    "    \n",
    "    \n",
    "    \n",
    "for x in range(2):\n",
    "    print(x*2)  # ...\n",
    "\n",
    "\n",
    "class MyClass:\n",
    "    pass\n",
    "\n"
   ]
  },
  {
   "cell_type": "markdown",
   "metadata": {},
   "source": [
    "### ②表达式\n",
    "\n",
    "表达式是最终产生值的东西，可以打印出来,可以赋给变量。"
   ]
  },
  {
   "cell_type": "code",
   "execution_count": 4,
   "metadata": {},
   "outputs": [],
   "source": [
    "# print(2 * 10)\n",
    "# print('a')\n",
    "# print([x*2 for x in range(2)])"
   ]
  },
  {
   "cell_type": "markdown",
   "metadata": {},
   "source": [
    "## 2."
   ]
  },
  {
   "cell_type": "markdown",
   "metadata": {},
   "source": [
    "### Lambda 表达式\n",
    "- Lambda函数是Python对λ演算的实现\n",
    "- 表达式，而不是语句（与def不同）\n",
    "- 一般没有名字"
   ]
  },
  {
   "cell_type": "markdown",
   "metadata": {},
   "source": [
    "#### 一个简单的过程编程例子\n",
    "\n",
    "在过程编程中，函数使用def语句定义"
   ]
  },
  {
   "cell_type": "code",
   "execution_count": 5,
   "metadata": {},
   "outputs": [],
   "source": [
    "from math import sqrt\n",
    "# 计算三角形的斜边长(毕达哥拉斯定理pythagoras)\n",
    "\n",
    "def p_pythagoras(x, y):\n",
    "    \n",
    "    return sqrt(x**2 + y**2)\n",
    "\n",
    "# p_pythagoras(1, 1)"
   ]
  },
  {
   "cell_type": "markdown",
   "metadata": {},
   "source": [
    "#### 一个简单的 Lambda 函数\n",
    "\n",
    "在函数式编程中，我们可以用Lambda表达式达到相同的目的"
   ]
  },
  {
   "cell_type": "code",
   "execution_count": 12,
   "metadata": {},
   "outputs": [],
   "source": [
    "\n",
    "\n",
    "\n",
    "\n",
    "# l_pythagoras(1, 1)"
   ]
  },
  {
   "cell_type": "markdown",
   "metadata": {},
   "source": [
    "#### 递归需要一个名字\n",
    "使用Lambda表达式创建的函数可以是无名的。\n",
    "\n",
    "但是对于一个自我调用的递归函数。它需要一个名字。在这种情况下，def语句可能更直观"
   ]
  },
  {
   "cell_type": "code",
   "execution_count": 7,
   "metadata": {},
   "outputs": [
    {
     "data": {
      "text/plain": [
       "6"
      ]
     },
     "execution_count": 7,
     "metadata": {},
     "output_type": "execute_result"
    }
   ],
   "source": [
    "def f_factorial(n):\n",
    "    \n",
    "    return 1 if n== 0 else n*f_factorial(n-1)\n",
    "\n",
    "f_factorial(3)"
   ]
  },
  {
   "cell_type": "markdown",
   "metadata": {},
   "source": [
    "Lambda 函数也可以做到"
   ]
  },
  {
   "cell_type": "code",
   "execution_count": 16,
   "metadata": {},
   "outputs": [],
   "source": [
    "\n",
    "\n",
    "\n",
    "\n",
    "# l_factorial(3)"
   ]
  },
  {
   "cell_type": "markdown",
   "metadata": {},
   "source": [
    "#### 什么时候 lambda 表达式十分方便\n",
    "\n",
    "如果您需要一个简短的函数，Lambda表达式非常方便，例如作为参数传递给map（）或filter（）"
   ]
  },
  {
   "cell_type": "code",
   "execution_count": 19,
   "metadata": {},
   "outputs": [],
   "source": [
    "l = [0, 1, 2, 3, 4]\n",
    "# 用map() 采用lambda表达式方式使所有元素乘2 重新组成列表\n",
    "\n",
    "\n",
    "\n",
    "\n"
   ]
  },
  {
   "cell_type": "markdown",
   "metadata": {},
   "source": [
    "## 3."
   ]
  },
  {
   "cell_type": "markdown",
   "metadata": {},
   "source": [
    "###  'and' 和 'or'\n",
    "- 'and' 和 'or' 真正的工作方式\n",
    "- 用 'and' 和 'or' 实现流控制\n",
    "- 什么时候不用 'and' 和 'or'"
   ]
  },
  {
   "cell_type": "markdown",
   "metadata": {},
   "source": [
    "#### 'and'\n",
    "1. 返回 **第一个** 判断为 **假** 的值 ,后面的值不做判断\n",
    "\n",
    "'1' and <font color=#FFCC33> False </font> ~~and '1' and  False~~\n",
    "\n",
    "2. 当所有值均为真时 , 返回 **最后一个值** \n",
    "\n",
    "'a' and True and 'b' and <font color=#FFCC33> 'c'</font>"
   ]
  },
  {
   "cell_type": "markdown",
   "metadata": {},
   "source": [
    "#### 'or'\n",
    "1. 返回 **第一个** 判断为 **真**的值,后面的值不做判断\n",
    "\n",
    "'' or <font color=#FFCC33> 'a' </font> ~~or '' or  'b'~~\n",
    "\n",
    "2. 当所有值均为假时 , 返回**最后一个值** \n",
    "\n",
    "() or {} or <font color=#FFCC33> []</font>"
   ]
  },
  {
   "cell_type": "markdown",
   "metadata": {},
   "source": [
    "\n",
    "- 实现流控制之前, 如何 控制'and ' 和 'or '\n",
    "\n",
    "使用 if 条件判断即可\n",
    "\n",
    "- 小心 , 你的代码可能非常难懂\n"
   ]
  },
  {
   "cell_type": "markdown",
   "metadata": {},
   "source": [
    "####  'and' 和 'or' 如何真正的工作方式?\n",
    "- 让我们考虑下文的代码实现"
   ]
  },
  {
   "cell_type": "code",
   "execution_count": 24,
   "metadata": {},
   "outputs": [],
   "source": [
    "def my_and(*values):\n",
    "    \n",
    "    '''An Implementation of and, which accepts a List of argument\n",
    "    and returns the first argument that is False or the last\n",
    "    argument if all arguments are True'''\n",
    "    \n",
    "    for value in values:\n",
    "        if not value:\n",
    "            return value\n",
    "    return value\n",
    "\n",
    "\n",
    "def my_or(*values):\n",
    "    \n",
    "    '''An implementation of 'or', which accepts a List of arguments \n",
    "    and returns the first argument that is True or the Last argument\n",
    "    if all arguments are False'''\n",
    "    \n",
    "    for value in values:\n",
    "        if value:\n",
    "            return value\n",
    "    return value"
   ]
  },
  {
   "cell_type": "markdown",
   "metadata": {},
   "source": [
    "让我们测试一下  'my_and( )'  and  'my_or( )'   是否真的像  'and'  and  'or' ."
   ]
  },
  {
   "cell_type": "code",
   "execution_count": 27,
   "metadata": {},
   "outputs": [],
   "source": [
    "# print(my_or('', 'a', []))\n",
    "# print('' or 'a' or [])\n",
    "# print(my_or('', 'a', []) == ('' or 'a' or []))"
   ]
  },
  {
   "cell_type": "code",
   "execution_count": 3,
   "metadata": {},
   "outputs": [],
   "source": [
    "# print(my_and('a', 'b', 'c'))\n",
    "# print('a' and 'b' and 'c')\n",
    "# print(my_and('a', 'b', 'c') == ('a' and 'b' and 'b'))"
   ]
  },
  {
   "cell_type": "markdown",
   "metadata": {},
   "source": [
    "#### 流控制\n",
    "但'and'和'or'有另一个重要的属性，我们先的自定义动物判断函数没有实现; 并非所有参数都被评估！\n",
    "这使得可以使用'和'和'或'作为流量控制工具"
   ]
  },
  {
   "cell_type": "code",
   "execution_count": 29,
   "metadata": {},
   "outputs": [],
   "source": [
    "# 我们仅限于脊椎动物，即便如此，这在生物学上也不准确！\n",
    "ANIMALS = '哺乳动物', '爬行动物', '两栖动物', '鸟'\n",
    "EGG_LAYING_ANIMALS = '爬行动物', '两栖动物', '鸟'\n",
    "\n",
    "\n",
    "is_animal = \n",
    "\n",
    "animal_lays_eggs = \n",
    "\n",
    "lays_eggs =  \n",
    "\n",
    "\n",
    "\n",
    "# print(lays_eggs('哺乳动物'))\n",
    "# print(lays_eggs('爬行动物'))"
   ]
  },
  {
   "cell_type": "markdown",
   "metadata": {},
   "source": [
    "## 4."
   ]
  },
  {
   "cell_type": "markdown",
   "metadata": {},
   "source": [
    "### 'if' 表达式\n",
    "- 条件分支\n",
    "-  'if' 表达式\n",
    "    - if' 语句不能用在lambda表达式中\n",
    "    - 但 'if' 表达式可以"
   ]
  },
  {
   "cell_type": "markdown",
   "metadata": {},
   "source": [
    "#### 条件分支: 过程式编程方法\n",
    "考虑一个简单函数，它将成绩（8）转换为成绩描述（好）"
   ]
  },
  {
   "cell_type": "code",
   "execution_count": 14,
   "metadata": {},
   "outputs": [
    {
     "data": {
      "text/plain": [
       "'good'"
      ]
     },
     "execution_count": 14,
     "metadata": {},
     "output_type": "execute_result"
    }
   ],
   "source": [
    "def p_grade_description(gp):\n",
    "    \n",
    "    '''Dutch grades range between 0 and 10'''\n",
    "    \n",
    "    if gp >7:\n",
    "        return 'good'\n",
    "    elif gp >5:\n",
    "        return 'sufficient'\n",
    "    return 'insufficient'\n",
    "\n",
    "# p_grade_description(8)"
   ]
  },
  {
   "cell_type": "markdown",
   "metadata": {},
   "source": [
    "#### 条件分支: 函数式编程方法\n",
    "\n",
    "使用'if'表达式实现"
   ]
  },
  {
   "cell_type": "code",
   "execution_count": 35,
   "metadata": {},
   "outputs": [
    {
     "data": {
      "text/plain": [
       "'good'"
      ]
     },
     "execution_count": 35,
     "metadata": {},
     "output_type": "execute_result"
    }
   ],
   "source": []
  },
  {
   "cell_type": "markdown",
   "metadata": {},
   "source": [
    "### 考虑代码可读性\n",
    "你可以将'if'表达式放在过程式编程中 , 实现简洁可读的代码"
   ]
  },
  {
   "cell_type": "code",
   "execution_count": 36,
   "metadata": {},
   "outputs": [],
   "source": [
    "gender_code = 1\n",
    "gender = 'female' if gender_code else 'male'\n",
    "\n",
    "# print(gender)"
   ]
  },
  {
   "cell_type": "code",
   "execution_count": null,
   "metadata": {},
   "outputs": [],
   "source": []
  }
 ],
 "metadata": {
  "kernelspec": {
   "display_name": "Python 3",
   "language": "python",
   "name": "python3"
  },
  "language_info": {
   "codemirror_mode": {
    "name": "ipython",
    "version": 3
   },
   "file_extension": ".py",
   "mimetype": "text/x-python",
   "name": "python",
   "nbconvert_exporter": "python",
   "pygments_lexer": "ipython3",
   "version": "3.6.5"
  }
 },
 "nbformat": 4,
 "nbformat_minor": 2
}
