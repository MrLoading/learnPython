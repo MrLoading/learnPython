{
 "cells": [
  {
   "cell_type": "markdown",
   "metadata": {},
   "source": [
    "\n",
    "### 1. 函数作为返回值\n",
    "### 2. 运算符模块 (operator module)\n",
    "### 3. 装饰器\n",
    "### 4. 带参数的装饰器"
   ]
  },
  {
   "cell_type": "markdown",
   "metadata": {},
   "source": [
    "## 1."
   ]
  },
  {
   "cell_type": "markdown",
   "metadata": {},
   "source": [
    "### 函数作为返回值"
   ]
  },
  {
   "cell_type": "markdown",
   "metadata": {},
   "source": [
    "#### 让我们从我们的阶乘函数开始"
   ]
  },
  {
   "cell_type": "code",
   "execution_count": 2,
   "metadata": {},
   "outputs": [],
   "source": [
    "l_factorial = lambda n:1 if n == 0 else n*l_factorial(n-1)"
   ]
  },
  {
   "cell_type": "markdown",
   "metadata": {},
   "source": [
    "#### 耗时\n",
    "#### 过程式编程 , 一行一行执行\n",
    "递归是一种耗时的操作。 让我们看看需要多长时间"
   ]
  },
  {
   "cell_type": "code",
   "execution_count": 8,
   "metadata": {},
   "outputs": [
    {
     "name": "stdout",
     "output_type": "stream",
     "text": [
      "Took 0.00000000 s\n"
     ]
    }
   ],
   "source": [
    "import time\n",
    "\n",
    "t0 = time.time()\n",
    "l_factorial(900)\n",
    "t1 = time.time()\n",
    "\n",
    "print('Took %.8f s'%(t1-t0))"
   ]
  },
  {
   "cell_type": "markdown",
   "metadata": {},
   "source": [
    "#### 函数式编程, 使用封装函数\n",
    "更好的方法是编写一个封装函数，对每个传递给它的函数进行计时！"
   ]
  },
  {
   "cell_type": "code",
   "execution_count": 36,
   "metadata": {},
   "outputs": [
    {
     "name": "stdout",
     "output_type": "stream",
     "text": [
      "Took 0.01544738 s\n"
     ]
    }
   ],
   "source": [
    "def timer(func, arg):\n",
    "\n",
    "    t0 = time.time()\n",
    "    func(arg)\n",
    "    t1 = time.time()\n",
    "    return t1-t0\n",
    "\n",
    "# print('Took %.8f s'%timer(l_factorial, 900))"
   ]
  },
  {
   "cell_type": "markdown",
   "metadata": {},
   "source": [
    "#### 纯正的函数式编程 , 使用 lambda 封装函数\n",
    "\n",
    "我们甚至可以将timer（）转换为lambda函数，尽管这样做需要非常函数式的思维方式"
   ]
  },
  {
   "cell_type": "code",
   "execution_count": 43,
   "metadata": {},
   "outputs": [
    {
     "name": "stdout",
     "output_type": "stream",
     "text": [
      "Took 0.00000000 s\n"
     ]
    }
   ],
   "source": [
    "l_timestamp = \n",
    "\n",
    "l_diff = \n",
    "\n",
    "l_timer = \n",
    "\n",
    "\n",
    "\n",
    "print('Took %.8f s'%l_timer(l_factorial, 900))"
   ]
  },
  {
   "cell_type": "markdown",
   "metadata": {},
   "source": [
    "#### 烘焙(羊角面包)的四步\n",
    "- 我们只需要四步"
   ]
  },
  {
   "cell_type": "code",
   "execution_count": 8,
   "metadata": {},
   "outputs": [],
   "source": [
    "preheat_oven = lambda: print('预热烤炉')\n",
    "put_croissants_in = lambda: print('放入面包')\n",
    "wait_five_minutes = lambda: print('等待五分钟')\n",
    "take_croissants_out = lambda: print('取出面包(并吃掉!)')"
   ]
  },
  {
   "cell_type": "markdown",
   "metadata": {},
   "source": [
    "#### 将所有步骤封装为一个启动函数\n",
    "- 或者我们可以创建一个启动函数(peform_recipe( )直接完成所有步骤,但这没什么用.\n",
    "- 我们需要一个启动函数, 他将执行传入其中的任意多个函数"
   ]
  },
  {
   "cell_type": "code",
   "execution_count": 9,
   "metadata": {},
   "outputs": [
    {
     "name": "stdout",
     "output_type": "stream",
     "text": [
      "预热烤炉\n",
      "放入面包\n",
      "等待五分钟\n",
      "取出面包(并吃掉!)\n"
     ]
    }
   ],
   "source": [
    "def perform_steps(*functions):\n",
    "    pass\n",
    "    \n",
    "    \n",
    "    \n",
    "    \n"
   ]
  },
  {
   "cell_type": "markdown",
   "metadata": {},
   "source": [
    "### 将所有方法包装到一个函数中(Wrapping all steps into a single recipe)\n",
    "- 闭包"
   ]
  },
  {
   "cell_type": "code",
   "execution_count": 10,
   "metadata": {},
   "outputs": [
    {
     "name": "stdout",
     "output_type": "stream",
     "text": [
      "预热烤炉\n",
      "放入面包\n",
      "等待五分钟\n",
      "取出面包(并吃掉!)\n"
     ]
    }
   ],
   "source": [
    "def perform_steps(*functions):\n",
    "    def inner():\n",
    "        for func in functions:\n",
    "            func()\n",
    "            \n",
    "    return inner\n",
    "\n",
    "\n",
    "    \n"
   ]
  },
  {
   "cell_type": "markdown",
   "metadata": {},
   "source": [
    "## 2."
   ]
  },
  {
   "cell_type": "markdown",
   "metadata": {},
   "source": [
    "### operator 运算符模块"
   ]
  },
  {
   "cell_type": "code",
   "execution_count": 50,
   "metadata": {},
   "outputs": [],
   "source": [
    "l_factorial = lambda n:1 if n == 0 else n*l_factorial(n-1)"
   ]
  },
  {
   "cell_type": "markdown",
   "metadata": {},
   "source": [
    "#### 链接函数 , 组合返回值\n",
    "- 假设我们想要使用不同的参数多次调用此函数，并使用返回值执行某些操作。 \n",
    "    - 比如把两个数分别求阶乘再把得数相乘\n",
    "- 我们怎么能这样做？\n",
    "- 我们可以用一般过程式编程的方法"
   ]
  },
  {
   "cell_type": "code",
   "execution_count": 51,
   "metadata": {},
   "outputs": [],
   "source": [
    "def chain_mul(*what):\n",
    "    \n",
    "    '''Takes a List of (function, argument )tuples. Calls each\n",
    "    function with its argument, multiplies up the return values\n",
    "    (starting at 1) and returns the total'''\n",
    "    total = 1\n",
    "    for (func, arg) in what:\n",
    "        total *= func(arg)\n",
    "    return total\n",
    "\n",
    "chain_mul((l_factorial, 2), (l_factorial, 3))    "
   ]
  },
  {
   "cell_type": "markdown",
   "metadata": {},
   "source": [
    "#### Operators 就像普通的函数\n",
    "- 上面的函数不是很通用：它只能有多个值，不能乘以或减去它们。 理想情况下，我们也会将操作符传递给函数\n",
    "- 但是*(乘号)不是我们可以直接传入的对象！ 幸运的是，Pythons内置**operator模块**为所有运算符提供常规功能\n",
    "- 实现真正除法(实现真正除法)"
   ]
  },
  {
   "cell_type": "code",
   "execution_count": 4,
   "metadata": {},
   "outputs": [],
   "source": [
    "import operator"
   ]
  },
  {
   "cell_type": "code",
   "execution_count": 3,
   "metadata": {},
   "outputs": [],
   "source": [
    "def chain(how, *what):\n",
    "    pass\n",
    "\n",
    "\n",
    "\n",
    "\n",
    "\n",
    "\n",
    "\n",
    "# print(chain(operator.truediv, (l_factorial, 2), (l_factorial, 3))  )"
   ]
  },
  {
   "cell_type": "markdown",
   "metadata": {},
   "source": [
    "## 3."
   ]
  },
  {
   "cell_type": "markdown",
   "metadata": {},
   "source": [
    "### 装饰器\n",
    "- A decorator is a function that takes a function object as an argument, and returns a function object as a return value."
   ]
  },
  {
   "cell_type": "code",
   "execution_count": 54,
   "metadata": {},
   "outputs": [
    {
     "data": {
      "text/plain": [
       "0.0"
      ]
     },
     "execution_count": 54,
     "metadata": {},
     "output_type": "execute_result"
    }
   ],
   "source": [
    "import time\n",
    "\n",
    "factorial = lambda n:1 if n == 0 else n*factorial(n-1)\n",
    "\n",
    "def timer(func):\n",
    "\n",
    "    def inner(arg):\n",
    "        \n",
    "        t0 = time.time()\n",
    "        func(arg)\n",
    "        t1 = time.time()\n",
    "        return t1-t0\n",
    "    \n",
    "    return inner\n",
    "\n",
    "\n",
    "# timed_factorail = timer(factorial)\n",
    "# timed_factorail(900)"
   ]
  },
  {
   "cell_type": "markdown",
   "metadata": {},
   "source": [
    "- 我们上面定义的计时器功能是一个装饰器。 我们可以使用 @ 语法直接将装饰器应用于函数"
   ]
  },
  {
   "cell_type": "code",
   "execution_count": 15,
   "metadata": {},
   "outputs": [
    {
     "name": "stdout",
     "output_type": "stream",
     "text": [
      "0.0009996891021728516\n"
     ]
    }
   ],
   "source": []
  },
  {
   "cell_type": "markdown",
   "metadata": {},
   "source": [
    "## 4.\n",
    "### 带参数的装饰器"
   ]
  },
  {
   "cell_type": "markdown",
   "metadata": {},
   "source": [
    "- 如果我们想要指定时间单位怎么办?\n",
    "- 如果我们想要指定时间单位（秒或毫秒），我们需要将时间单位作为为装饰器的参数传进函数。\n",
    "- 我们可以做到这一点，但它需要另一层的嵌套"
   ]
  },
  {
   "cell_type": "code",
   "execution_count": 16,
   "metadata": {},
   "outputs": [
    {
     "name": "stdout",
     "output_type": "stream",
     "text": [
      "0.0\n",
      "0.9908676147460938\n"
     ]
    }
   ],
   "source": [
    "import time\n",
    "\n",
    "factorial = lambda n:1 if n == 0 else n*factorial(n-1)\n",
    "\n",
    "def timer_with_arguments(units='s'):\n",
    "    \n",
    "    def timer(func):\n",
    "\n",
    "        def inner(arg):\n",
    "\n",
    "            t0 = time.time()\n",
    "            func(arg)\n",
    "            t1 = time.time()\n",
    "            diff = t1-t0\n",
    "            if units == 'ms':\n",
    "                diff *= 1000\n",
    "            return diff\n",
    "\n",
    "        return inner\n",
    "    \n",
    "    return timer\n",
    "\n",
    "\n",
    "\n",
    "\n",
    "\n",
    "# timed_factorial = timer(factorial)\n",
    "# print(timed_factorial(900))\n",
    "# timed_factorial = timer_with_arguments(units='ms')(factorial)\n",
    "# print(timed_factorial(1000))"
   ]
  },
  {
   "cell_type": "markdown",
   "metadata": {},
   "source": [
    "#### 上面是一个带参数的装饰器\n",
    "- Again, 使用 @ 语句, 这使代码十分整洁!"
   ]
  },
  {
   "cell_type": "code",
   "execution_count": 17,
   "metadata": {},
   "outputs": [
    {
     "data": {
      "text/plain": [
       "0.0009965896606445312"
      ]
     },
     "execution_count": 17,
     "metadata": {},
     "output_type": "execute_result"
    }
   ],
   "source": []
  },
  {
   "cell_type": "code",
   "execution_count": null,
   "metadata": {},
   "outputs": [],
   "source": []
  },
  {
   "cell_type": "code",
   "execution_count": null,
   "metadata": {},
   "outputs": [],
   "source": []
  }
 ],
 "metadata": {
  "kernelspec": {
   "display_name": "Python 3",
   "language": "python",
   "name": "python3"
  },
  "language_info": {
   "codemirror_mode": {
    "name": "ipython",
    "version": 3
   },
   "file_extension": ".py",
   "mimetype": "text/x-python",
   "name": "python",
   "nbconvert_exporter": "python",
   "pygments_lexer": "ipython3",
   "version": "3.6.5"
  }
 },
 "nbformat": 4,
 "nbformat_minor": 2
}
