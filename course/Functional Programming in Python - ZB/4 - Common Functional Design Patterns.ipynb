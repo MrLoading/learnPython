{
 "cells": [
  {
   "cell_type": "markdown",
   "metadata": {},
   "source": [
    "### 0.闭包(Closures )\n",
    "### 1.柯里化（Currying）\n",
    "### 2. Monads\n",
    "### 3. 记忆化(Memoization)"
   ]
  },
  {
   "cell_type": "markdown",
   "metadata": {},
   "source": [
    "# 0."
   ]
  },
  {
   "cell_type": "markdown",
   "metadata": {},
   "source": [
    "### Closures 闭包\n",
    "###  First-Class Functions 第一类函数\n",
    "- 是什么?\n",
    "- 怎么用?"
   ]
  },
  {
   "cell_type": "markdown",
   "metadata": {},
   "source": [
    "- wiki\n",
    "- 闭包???\n",
    "- 在编程语言中，闭包是一种在具有**第一类函数(first-class functions)** 的语言中实现词法范围的 名称绑定的技术。在操作上，闭包是将函数与环境一起存储的记录.\n",
    "    \n",
    "    \n",
    "    \n",
    "- 环境是一个映射，它将函数的每个自由变量（本地使用的变量，但在封闭范围中定义）与值或引用相关联创建闭包时绑定名称的名称。\n",
    "- 闭包 - 与普通函数不同 - 允许函数通过闭包的值或引用的副本访问那些捕获的变量，即使函数在其作用域之外调用也是如此\n",
    "\n",
    "\n",
    "- 第一类函数???\n",
    "    - 编程语言它把funtion作为**一等公民 (first-class citizens)**,则编程语言有first-class functions.\n",
    "    \n",
    "    \n",
    "- 一等公民?????\n",
    "    - 你可以像对待任何其他数据类型一样对待它们——把它们存在数组里，当作参数传递，赋值给变量...等等."
   ]
  },
  {
   "cell_type": "markdown",
   "metadata": {},
   "source": [
    "- 关键词:**传值，返回，分配给变量**。\n",
    "- 在Python中我们可以像处理其他对象(int str float等)一样处理函数,使用函数做参数,返回值/将函数赋给变量等"
   ]
  },
  {
   "cell_type": "markdown",
   "metadata": {},
   "source": [
    "- 先看第一类函数\n",
    "- 一段代码"
   ]
  },
  {
   "cell_type": "code",
   "execution_count": 9,
   "metadata": {},
   "outputs": [],
   "source": [
    "# 求平方\n",
    "def square(x):\n",
    "    return x * x\n",
    "# 求立方\n",
    "def cube(x):\n",
    "    return x * x * x\n",
    "\n",
    "\n",
    "def my_map(func, arg_list):\n",
    "    result = []\n",
    "    \n",
    "    for i in arg_list:\n",
    "        result.append(func(i))\n",
    "    return result\n",
    "\n",
    "\n",
    "\n",
    "ls = [1, 2, 3, 4]\n",
    "\n",
    "\n",
    "# print(my_map(square, ls))\n",
    "# print(my_map(cube, ls))"
   ]
  },
  {
   "cell_type": "markdown",
   "metadata": {},
   "source": [
    "- 我们将square()和cube()两个函数分别作为参数传入了my_map()函数中,并进行了一些操作\n",
    "- 说明Python是支持将函数作为一般对象操作的语言  即(把funtion作为一等公民 (first-class citizens))\n",
    "\n",
    "\n",
    "- 闭包概念太抽象了, 先看一段代码"
   ]
  },
  {
   "cell_type": "code",
   "execution_count": 10,
   "metadata": {},
   "outputs": [],
   "source": [
    "def outer():\n",
    "    msg = 'Hi'\n",
    "    \n",
    "    def inner():\n",
    "        print(msg)\n",
    "        \n",
    "    return inner()\n",
    "\n",
    "\n",
    "# outer()"
   ]
  },
  {
   "cell_type": "markdown",
   "metadata": {},
   "source": [
    "- 只是输出了inner()的执行结果\n",
    "- 我们试着把代码稍作修改 去掉inner的括号"
   ]
  },
  {
   "cell_type": "code",
   "execution_count": 11,
   "metadata": {},
   "outputs": [],
   "source": [
    "def outer():\n",
    "    msg = 'Hi'\n",
    "    \n",
    "    def inner():\n",
    "        print(msg)\n",
    "        \n",
    "    return inner\n",
    "\n",
    "\n",
    "# outer()"
   ]
  },
  {
   "cell_type": "markdown",
   "metadata": {},
   "source": [
    "- 什么也没有发生\n",
    "- 我们将返回值赋值给变量,并打印出来"
   ]
  },
  {
   "cell_type": "code",
   "execution_count": 12,
   "metadata": {},
   "outputs": [],
   "source": [
    "def outer():\n",
    "    msg = 'Hi'\n",
    "    \n",
    "    def inner():\n",
    "        print(msg)\n",
    "        \n",
    "    return inner\n",
    "\n",
    "\n",
    "# func = outer()\n",
    "# print(func)"
   ]
  },
  {
   "cell_type": "markdown",
   "metadata": {},
   "source": [
    "- 发现func变量成了一个函数\n",
    "- 执行以下func"
   ]
  },
  {
   "cell_type": "code",
   "execution_count": 7,
   "metadata": {},
   "outputs": [
    {
     "name": "stdout",
     "output_type": "stream",
     "text": [
      "Hi\n",
      "Hi\n"
     ]
    }
   ],
   "source": [
    "func()\n",
    "func()"
   ]
  },
  {
   "cell_type": "markdown",
   "metadata": {},
   "source": [
    "- outer() 将inner()函数作为对象返回,并赋值给了func\n",
    "- 这时候的func函数就是outer()中的inner()函数\n",
    "- 虽然outer()已经执行完成了,但返回的inner()函数依旧可以访问outer()中的局部变量msg\n",
    "    - inner()函数在msg作用域之外调用outer()中的msg\n",
    "- 即inner()函数与inner()函数执行的环境在outer()函数结束后依然被一起存储着"
   ]
  },
  {
   "cell_type": "markdown",
   "metadata": {},
   "source": [
    "天生支持闭包的语言通常采用garbage collection的方式管理内存，因为gc机制保证了变量只有不再被引用时才会由系统销毁并回收其内存空间。"
   ]
  },
  {
   "cell_type": "markdown",
   "metadata": {},
   "source": [
    "\n",
    "- 我们试着继续把代码稍作修改 \n",
    "- 改为outer(msg)和inner(inf)两个需要传参的函数"
   ]
  },
  {
   "cell_type": "code",
   "execution_count": 8,
   "metadata": {},
   "outputs": [
    {
     "name": "stdout",
     "output_type": "stream",
     "text": [
      "Hi\n",
      "Hi Mark\n",
      "Hi Mark\n",
      "Hi Mark\n"
     ]
    }
   ],
   "source": [
    "def outer(msg):\n",
    "    outer_msg = msg\n",
    "    print(outer_msg)\n",
    "    \n",
    "    def inner(inf):\n",
    "        print(outer_msg, inf)\n",
    "        \n",
    "    return inner\n",
    "\n",
    "\n",
    "func = outer('Hi')\n",
    "\n",
    "func('Mark')\n",
    "func('Mark')\n",
    "func('Mark')"
   ]
  },
  {
   "cell_type": "markdown",
   "metadata": {},
   "source": [
    "- 我们可以改变outer(msg)传入的参数值\n",
    "- 看一下相应返回的函数会不会受影响"
   ]
  },
  {
   "cell_type": "markdown",
   "metadata": {},
   "source": [
    "- 再次说明:闭包是将函数与环境一起存储的记录."
   ]
  },
  {
   "cell_type": "markdown",
   "metadata": {},
   "source": [
    "## 1."
   ]
  },
  {
   "cell_type": "markdown",
   "metadata": {},
   "source": [
    "#### 一个简单的函数\n",
    "\n",
    "大多数函数，即使是简单函数，都需要多个参数"
   ]
  },
  {
   "cell_type": "code",
   "execution_count": 1,
   "metadata": {},
   "outputs": [
    {
     "name": "stdout",
     "output_type": "stream",
     "text": [
      "1110\n"
     ]
    }
   ],
   "source": [
    "def add(a, b, c):\n",
    "    \n",
    "    return a + b + c\n",
    "\n",
    "print(add(10,100, 1000))"
   ]
  },
  {
   "cell_type": "markdown",
   "metadata": {
    "slideshow": {
     "slide_type": "-"
    }
   },
   "source": [
    "### 绑定函数参数\n",
    "\n",
    "\n",
    "- 我们可以将参数绑定到一个函数，这样我们最终得到一个函数，它接受的参数个数少于原始函数。 这是通过functools.partial（）完成的"
   ]
  },
  {
   "cell_type": "code",
   "execution_count": 16,
   "metadata": {},
   "outputs": [],
   "source": [
    "from functools import partial\n",
    "\n",
    "def add(a, b, c):\n",
    "    \n",
    "    return a + b + c\n",
    "\n",
    "# add_10 = partial(add, 10)\n",
    "# add_10_100 = partial(add_10, 100)\n",
    "# print(add_10_100(1000))"
   ]
  },
  {
   "cell_type": "markdown",
   "metadata": {},
   "source": [
    "### 柯里化（Currying）\n",
    "\n",
    "- Currying是一种特定的参数绑定，我们在其中创建一系列函数，每个函数只接受一个参数。\n",
    "           \n",
    "           - ps:curry 的概念很简单：只传递给函数一部分参数来调用它，让它返回一个函数去处理剩下的参数。\n",
    "           \n",
    "- 在Python中，您可以使用装饰器优雅地实现它"
   ]
  },
  {
   "cell_type": "code",
   "execution_count": 15,
   "metadata": {},
   "outputs": [],
   "source": [
    "from inspect import signature\n",
    "\n",
    "def curry(fnc):\n",
    "    \n",
    "    def inner(arg):\n",
    "        \n",
    "        if len(signature(fnc).parameters) == 1:\n",
    "            return fnc(arg)\n",
    "        return curry(partial(fnc, arg))\n",
    "    \n",
    "    return inner\n",
    "\n",
    "@curry\n",
    "def add(a, b, c):\n",
    "    \n",
    "    return a + b + c\n",
    "\n",
    "# add_10 = add(10)\n",
    "# print(add_10)\n",
    "# add_10_100 = add_10(100)\n",
    "# print(add_10_100(1000))\n",
    "# print(add_10_100)"
   ]
  },
  {
   "cell_type": "markdown",
   "metadata": {},
   "source": [
    "## 2."
   ]
  },
  {
   "cell_type": "markdown",
   "metadata": {},
   "source": [
    "### Monads"
   ]
  },
  {
   "cell_type": "markdown",
   "metadata": {},
   "source": [
    "- nan -- (not a number)\n",
    "    - 是一个特殊的数值任何关于** nan **的操作都会返回** nan **\n",
    "    - **nan** × 1 = **nan**\n",
    "    - **nan** 重载/覆盖(overrides)了运算符(operations重载)\n",
    "- Maybe  -- (Just or Nothing)\n",
    "    - The **Maybe monad** is like **nan**\n",
    "    - 它有两种值\n",
    "        - Normal values ( Just)\n",
    "        - Invalid values ( Nothing)\n",
    "    - 应用于Nothiny的函数都返回Nothing\n",
    "- List  -- [1, 2, 3]\n",
    "    - The **List monad** defines a series of values\n",
    "    - 应用于List monad的任何函数都应用于每个元素\n",
    "    - 返回值是一个新的 List monad"
   ]
  },
  {
   "cell_type": "markdown",
   "metadata": {},
   "source": [
    "让我们看一个驼峰命名转化函数 camelcase(), 它将 \" a_string_Like_this\" 转化为 \"AStringLikeThis\""
   ]
  },
  {
   "cell_type": "code",
   "execution_count": 17,
   "metadata": {},
   "outputs": [],
   "source": [
    "def camelcase(s):\n",
    "    \n",
    "    return ''.join([w.capitalize() for w in s.split('_')])\n",
    "\n",
    "# print(camelcase('some_function'))"
   ]
  },
  {
   "cell_type": "markdown",
   "metadata": {},
   "source": [
    "### The Maybe monad\n",
    "Maybe monad包含两种数据, 通常被称为 'Just' 和 'Nothing'. 他们的运行结果很简单:\n",
    "- 当函数绑定到Just值时，将简单地执行该函数，并将结果存储在新的Just值中\n",
    "- 当函数绑定到Nothing值时，将绕过该函数并立即返回Nothing。\n",
    "- 此外，当函数生成错误时，它返回Nothing值\n",
    "看看这与nan行为有多相似？"
   ]
  },
  {
   "cell_type": "code",
   "execution_count": 5,
   "metadata": {},
   "outputs": [
    {
     "name": "stdout",
     "output_type": "stream",
     "text": [
      "SomeFunction\n",
      "Nothing\n",
      "Nothing\n"
     ]
    }
   ],
   "source": [
    "class Just:\n",
    "    \n",
    "    def __init__(self, value):\n",
    "        \n",
    "        self._value = value\n",
    "        \n",
    "    def bind(self, fnc):\n",
    "        \n",
    "        try:\n",
    "            return Just(fnc(self._value))\n",
    "        except:\n",
    "            return Nothing()\n",
    "    def __repr__(self):\n",
    "        \n",
    "        return self._value\n",
    "\n",
    "\n",
    "class Nothing:\n",
    "    \n",
    "    def bind(self, fnc):\n",
    "        \n",
    "        return Nothing()\n",
    "    \n",
    "    def __repr__(self):\n",
    "        \n",
    "        return 'Nothing'\n",
    "\n",
    "\n",
    "print(Just('some_function').bind(camelcase))\n",
    "print(Nothing().bind(camelcase))\n",
    "print(Just(10).bind(camelcase))"
   ]
  },
  {
   "cell_type": "markdown",
   "metadata": {},
   "source": [
    "### The List monad\n",
    "List monad存储值列表。 当它绑定到一个函数时，每个值分别传递给函数，结果存储为另一个List"
   ]
  },
  {
   "cell_type": "code",
   "execution_count": 6,
   "metadata": {},
   "outputs": [
    {
     "data": {
      "text/plain": [
       "['SomeText', 'MoreTexxxxxxxxxxxt']"
      ]
     },
     "execution_count": 6,
     "metadata": {},
     "output_type": "execute_result"
    }
   ],
   "source": [
    "class List:\n",
    "    \n",
    "    def __init__(self, values):\n",
    "        \n",
    "        self._values = values\n",
    "    \n",
    "    def bind(self, fnc):\n",
    "        \n",
    "        return List([fnc(value) for value in self._values])\n",
    "    \n",
    "    def __repr__(self):\n",
    "        \n",
    "        return str(self._values)\n",
    "    \n",
    "    \n",
    "List(['some_text', 'more_texxxxxxxxxxxt']).bind(camelcase)"
   ]
  },
  {
   "cell_type": "markdown",
   "metadata": {},
   "source": [
    "## 3."
   ]
  },
  {
   "cell_type": "markdown",
   "metadata": {},
   "source": [
    "### 记忆化(Memoization  --  Remember me!)\n",
    "- 返回值仅取决于参数\n",
    "- 确定某一初始条件下的返回值后\n",
    "- 永远不需要再次调用函数计算该条件下的返回值\n",
    "- 那是记忆！"
   ]
  },
  {
   "cell_type": "markdown",
   "metadata": {},
   "source": [
    "#### 一个昂贵的函数 ( 时间/空间消耗巨大 )\n",
    "- 让我们考虑一个可能需要很长时间才能执行的函数"
   ]
  },
  {
   "cell_type": "code",
   "execution_count": 7,
   "metadata": {},
   "outputs": [
    {
     "name": "stdout",
     "output_type": "stream",
     "text": [
      "999983\n",
      "Took 2.3097803592681885 s\n",
      "999983\n",
      "Took 2.247957468032837 s\n",
      "99991\n",
      "Took 0.08611798286437988 s\n",
      "99991\n",
      "Took 0.08596563339233398 s\n"
     ]
    }
   ],
   "source": [
    "import time\n",
    "\n",
    "def prime(n):\n",
    "    \n",
    "    for i in range(n, 0, -1):\n",
    "        if all([i // x != i / x for x in range(i-1, 1, -1)]):\n",
    "            print(i)\n",
    "            return i\n",
    "\n",
    "def timer(func, arg):\n",
    "    \n",
    "    t0 = time.time()\n",
    "    func(arg)\n",
    "    t1 = time.time()\n",
    "    \n",
    "    return  t1-t0\n",
    "\n",
    "print('Took {} s'.format(timer(prime, 1000000)))\n",
    "print('Took {} s'.format(timer(prime, 1000000)))\n",
    "print('Took {} s'.format(timer(prime, 99999)))\n",
    "print('Took {} s'.format(timer(prime, 99999)))"
   ]
  },
  {
   "cell_type": "markdown",
   "metadata": {},
   "source": [
    "#### 缓存技术 ( Caching )\n",
    "- 我们可以通过将结果存储在缓存中来加速函数调用"
   ]
  },
  {
   "cell_type": "code",
   "execution_count": 8,
   "metadata": {},
   "outputs": [
    {
     "name": "stdout",
     "output_type": "stream",
     "text": [
      "Took 2.316235065460205 s\n",
      "Took 0.0 s\n",
      "Took 0.09000563621520996 s\n",
      "Took 0.0 s\n"
     ]
    }
   ],
   "source": [
    "cache = {}\n",
    "\n",
    "def cache_prime(n):\n",
    "    pass\n",
    "        \n",
    "        \n",
    "# print('Took {} s'.format(timer(cache_prime, 1000000)))\n",
    "# print('Took {} s'.format(timer(cache_prime, 1000000)))\n",
    "# print('Took {} s'.format(timer(cache_prime, 99999)))\n",
    "# print('Took {} s'.format(timer(cache_prime, 99999)))"
   ]
  },
  {
   "cell_type": "markdown",
   "metadata": {},
   "source": [
    "####  记忆化 ( Memoization )\n",
    "- Memoization是一种缓存，其中存储特定参数的返回值。 因此，上面的实现是memoization的一个例子。 使用装饰器可以更优雅地实现它！"
   ]
  },
  {
   "cell_type": "code",
   "execution_count": 9,
   "metadata": {},
   "outputs": [
    {
     "name": "stdout",
     "output_type": "stream",
     "text": [
      "Took 3.175510883331299 s\n",
      "Took 0.0 s\n",
      "Took 0.10671639442443848 s\n",
      "Took 0.0 s\n"
     ]
    }
   ],
   "source": [
    "def memoize(fnc):\n",
    "    \n",
    "    cache = {}\n",
    "    \n",
    "    def inner(*args):\n",
    "        \n",
    "        if args in cache:\n",
    "            return cache[args]\n",
    "        cache[args] = fnc(*args)\n",
    "        return cache[args]\n",
    "    \n",
    "    return inner\n",
    "\n",
    "\n",
    "@memoize\n",
    "def memoized_prime(n):\n",
    "\n",
    "    for i in range(n, 0, -1):\n",
    "        if all([i // x != i / x for x in range(i-1, 1, -1)]):\n",
    "            return i\n",
    "\n",
    "        \n",
    "print('Took {} s'.format(timer(memoized_prime, 1000000)))\n",
    "print('Took {} s'.format(timer(memoized_prime, 1000000)))\n",
    "print('Took {} s'.format(timer(memoized_prime, 99999)))\n",
    "print('Took {} s'.format(timer(memoized_prime, 99999)))    "
   ]
  },
  {
   "cell_type": "code",
   "execution_count": null,
   "metadata": {},
   "outputs": [],
   "source": []
  }
 ],
 "metadata": {
  "kernelspec": {
   "display_name": "Python 3",
   "language": "python",
   "name": "python3"
  },
  "language_info": {
   "codemirror_mode": {
    "name": "ipython",
    "version": 3
   },
   "file_extension": ".py",
   "mimetype": "text/x-python",
   "name": "python",
   "nbconvert_exporter": "python",
   "pygments_lexer": "ipython3",
   "version": "3.6.5"
  }
 },
 "nbformat": 4,
 "nbformat_minor": 2
}
