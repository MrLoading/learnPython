{
 "cells": [
  {
   "cell_type": "markdown",
   "metadata": {},
   "source": [
    "### 1. 解释了如何在Lambda表达式中捕获异常\n",
    "### 2. 使用类似Maybe的装饰器处理Lambda表达式中的错误\n",
    "### 3. 习题课 - - - 看过一个依赖于我们学到的许多技术的交互式计算器"
   ]
  },
  {
   "cell_type": "markdown",
   "metadata": {},
   "source": [
    "## 1."
   ]
  },
  {
   "cell_type": "markdown",
   "metadata": {},
   "source": [
    "### Exceptions\n",
    "- 在Python中，每当发生错误，异常对象被“抛出(raise)”时,需要处理异常. 这导致代码中止，直到在try：... except：...语句中捕获异常"
   ]
  },
  {
   "cell_type": "code",
   "execution_count": 1,
   "metadata": {},
   "outputs": [
    {
     "name": "stdout",
     "output_type": "stream",
     "text": [
      "5\n",
      "None\n"
     ]
    }
   ],
   "source": [
    "def add_str(s):\n",
    "    \n",
    "    try:\n",
    "        return sum([int(i) for i in s.split('+')])\n",
    "    except AttributeError:\n",
    "        return None\n",
    "    \n",
    "print(add_str('2+3'))\n",
    "print(add_str(2+3))"
   ]
  },
  {
   "cell_type": "markdown",
   "metadata": {},
   "source": [
    "### 来自 \"语句\" 的诅咒\n",
    "- 但是try是一个语句，因此你不能在Lambda表达式中使用它！\n",
    "- 与大多数其他语句不同，Python不提供替代try语句的表达式。"
   ]
  },
  {
   "cell_type": "code",
   "execution_count": 2,
   "metadata": {},
   "outputs": [
    {
     "name": "stdout",
     "output_type": "stream",
     "text": [
      "7\n"
     ]
    }
   ],
   "source": [
    "l_add_str = lambda s: sum([int(i) for i in s.split(\"+\")])\n",
    "\n",
    "print(l_add_str('2+5'))\n",
    "# print(l_add_str(2+5))  # AttributeError: 'int' object has no attribute 'split'"
   ]
  },
  {
   "cell_type": "markdown",
   "metadata": {},
   "source": [
    "## 2."
   ]
  },
  {
   "cell_type": "markdown",
   "metadata": {},
   "source": [
    "### 一个类似 \" Maybe \"  的装饰器\n",
    "- 直接使用\" Maybe monad \" 并不是纯正的python风格 (Pythonic). 我们可以使用装饰器做类似的事情。"
   ]
  },
  {
   "cell_type": "code",
   "execution_count": 3,
   "metadata": {},
   "outputs": [
    {
     "name": "stdout",
     "output_type": "stream",
     "text": [
      "'int' object has no attribute 'split'\n"
     ]
    }
   ],
   "source": [
    "def maybe(fnc):\n",
    "    \n",
    "    def inner (*args):\n",
    "        for arg in args:\n",
    "            if isinstance(arg, Exception):\n",
    "                return arg\n",
    "        try:\n",
    "            return fnc(*args)\n",
    "        except Exception as e:\n",
    "            return e\n",
    "        \n",
    "    return inner\n",
    "\n",
    "safe_add_str = maybe(lambda s: sum([int(i) for i in s.split(\"+\")]))\n",
    "print(safe_add_str(1+2))"
   ]
  },
  {
   "cell_type": "markdown",
   "metadata": {},
   "source": [
    "## 3."
   ]
  },
  {
   "cell_type": "markdown",
   "metadata": {},
   "source": [
    "### 习题课 - - - Our functional calculator... so far\n",
    "This is the calculator that we implemented in the first section. But it suffers from a few drawbacks:\n",
    "- No input validation\n",
    "- No looping"
   ]
  },
  {
   "cell_type": "code",
   "execution_count": 4,
   "metadata": {},
   "outputs": [
    {
     "name": "stdout",
     "output_type": "stream",
     "text": [
      "Enter an integer:1\n",
      "Enter an operator('+', '-', '*', '/')+\n",
      "Enter an integer:1\n",
      "The result is :  2\n"
     ]
    }
   ],
   "source": [
    "OPERATORS = '+', '-', '*', '/'\n",
    "\n",
    "def f_get_number():\n",
    "    return int(input('Enter an integer:'))\n",
    "\n",
    "\n",
    "def f_get_oparetor():\n",
    "    return input(\"Enter an operator('+', '-', '*', '/')\")\n",
    "\n",
    "\n",
    "def f_calculate(number1, operator, number2):\n",
    "    return number1+number2 if operator == '+' \\\n",
    "        else number1-number2 if operator == '-' \\\n",
    "        else number1*number2 if operator == '*'\\\n",
    "        else number1/number2 if operator == '/'\\\n",
    "        else None\n",
    "    \n",
    "\n",
    "def f_mian():\n",
    "    return f_calculate(\n",
    "    f_get_number(),\n",
    "    f_get_oparetor(),\n",
    "    f_get_number(),\n",
    "    )\n",
    " \n",
    "print('The result is : ', f_mian())"
   ]
  },
  {
   "cell_type": "markdown",
   "metadata": {},
   "source": [
    "### Lets get to work!\n",
    "Our toolkit contains:\n",
    "- Lambda expressions\n",
    "- Decorators\n",
    "- Higher-order functions"
   ]
  },
  {
   "cell_type": "code",
   "execution_count": null,
   "metadata": {},
   "outputs": [
    {
     "name": "stdout",
     "output_type": "stream",
     "text": [
      "Enter an integer:-\n",
      "Enter an integer:1\n",
      "Enter an operator('+', '-', '*', '/')+-*/\n",
      "Enter an operator('+', '-', '*', '/')+\n",
      "Enter an integer:1\n",
      "2\n"
     ]
    }
   ],
   "source": [
    "OPERATORS = '+', '-', '*', '/'\n",
    "\n",
    "\n",
    "def maybe(fnc):\n",
    "    def inner(*args):\n",
    "        for arg in args:\n",
    "            if isinstance(arg, Exception):\n",
    "                return arg\n",
    "        try:\n",
    "            return fnc(*args)\n",
    "        except Exception as e:\n",
    "            return e\n",
    "\n",
    "    return inner\n",
    "\n",
    "\n",
    "def repeat(fnc, until):\n",
    "    def inner(*args):\n",
    "\n",
    "        while True:\n",
    "            result = fnc(*args)\n",
    "            if until(result):\n",
    "                return result\n",
    "\n",
    "    return inner\n",
    "\n",
    "\n",
    "is_int = lambda i: isinstance(i, int)\n",
    "get_number = lambda: int(input('Enter an integer:'))\n",
    "safe_get_number = repeat(maybe(get_number), until=is_int)\n",
    "\n",
    "is_operator = lambda o: o in OPERATORS\n",
    "get_operator = lambda: input(\"Enter an operator('+', '-', '*', '/')\")\n",
    "safe_get_operator = repeat(get_operator, until=is_operator)\n",
    "\n",
    "calculate = lambda number1, operator, number2: \\\n",
    "    number1 + number2 if operator == '+' \\\n",
    "        else number1 - number2 if operator == '-' \\\n",
    "        else number1 * number2 if operator == '*' \\\n",
    "        else number1 / number2 if operator == '/' \\\n",
    "        else None\n",
    "\n",
    "main = lambda: calculate(\n",
    "    safe_get_number(),\n",
    "    safe_get_operator(),\n",
    "    safe_get_number(),\n",
    ")\n",
    "\n",
    "forever = lambda retval: False\n",
    "main_loop = repeat(lambda: print(main()), until=forever)\n",
    "\n",
    "main_loop()"
   ]
  },
  {
   "cell_type": "code",
   "execution_count": null,
   "metadata": {},
   "outputs": [],
   "source": []
  }
 ],
 "metadata": {
  "kernelspec": {
   "display_name": "Python 3",
   "language": "python",
   "name": "python3"
  },
  "language_info": {
   "codemirror_mode": {
    "name": "ipython",
    "version": 3
   },
   "file_extension": ".py",
   "mimetype": "text/x-python",
   "name": "python",
   "nbconvert_exporter": "python",
   "pygments_lexer": "ipython3",
   "version": "3.6.5"
  }
 },
 "nbformat": 4,
 "nbformat_minor": 2
}
