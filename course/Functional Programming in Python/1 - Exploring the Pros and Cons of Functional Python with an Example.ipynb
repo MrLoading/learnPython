{
 "cells": [
  {
   "cell_type": "markdown",
   "metadata": {},
   "source": [
    "### 1. 函数式程序设计及其 优/劣势\n",
    "\n",
    "\n",
    "### 2. 理解状态无关性(无状态性)、函数副作用和函数的引用透明性\n",
    "\n",
    "### 3.  探索可证明性\n",
    "\n",
    "### 4.  讨论复杂性和深层递归，(这与人类思维冲突)"
   ]
  },
  {
   "cell_type": "markdown",
   "metadata": {},
   "source": [
    "## 1."
   ]
  },
  {
   "cell_type": "markdown",
   "metadata": {},
   "source": [
    "### 过程式编程(Procedural Programing)\n",
    "- 逐行逐行\n",
    "- 大量使用语句（for循环，if else...）\n",
    "- 大量使用表达式\n",
    "- 长函数\n",
    "\n",
    "\n",
    "### 函数式编程(Funtional Programing)\n",
    "- 很少使用语句（没有for循环…）\n",
    "- 大量使用表达式\n",
    "- 单行函数\n"
   ]
  },
  {
   "cell_type": "markdown",
   "metadata": {},
   "source": [
    "#### 一个过程式编程例子\n",
    "- 函数通常由多个语句组成。\n",
    "\n",
    "- 赋值\n",
    "\n",
    "- if 语句\n",
    "\n",
    "- while 循环\n",
    "\n",
    "- etc..."
   ]
  },
  {
   "cell_type": "code",
   "execution_count": 1,
   "metadata": {},
   "outputs": [
    {
     "name": "stdout",
     "output_type": "stream",
     "text": [
      "Wellcome to the barely function calculator!\n",
      "Enter an integer:1\n",
      "Enter an operator('+', '-', '*', '/')+\n",
      "Enter an integer:2\n",
      "The result is : 3\n"
     ]
    },
    {
     "data": {
      "text/plain": [
       "3"
      ]
     },
     "execution_count": 1,
     "metadata": {},
     "output_type": "execute_result"
    }
   ],
   "source": [
    "OPERATORS = '+', '-', '*', '/'\n",
    "\n",
    "def p_mian():\n",
    "    \n",
    "    print(\"Wellcome to the barely function calculator!\")\n",
    "    number1 = p_get_number()\n",
    "    operator = p_get_operator()\n",
    "    number2 = p_get_number()\n",
    "    result = p_calculate(number1, operator, number2)\n",
    "    print('The result is : {}'.format(result))\n",
    "    return result\n",
    "\n",
    "def p_get_number():\n",
    "    while True:\n",
    "        s = input('Enter an integer:')\n",
    "        try:\n",
    "            return int(s)\n",
    "        except Valueerror:\n",
    "            print('That is not an integer!')\n",
    "\n",
    "def p_get_operator():\n",
    "    while True:\n",
    "        s = input(\"Enter an operator('+', '-', '*', '/')\")\n",
    "        if s in OPERATORS:\n",
    "            return s\n",
    "        print('That is not an operator!')\n",
    "\n",
    "def p_calculate(number1, operator, number2):\n",
    "    if operator == '+':\n",
    "        return number1 + number2\n",
    "    if operator == '-':\n",
    "        return number1 - number2\n",
    "    if operator == '*':\n",
    "        return number1 * number2\n",
    "    if operator == '/':\n",
    "        return number1 / number2\n",
    "    return 'Invalid operator!'\n",
    "\n",
    "p_mian()\n"
   ]
  },
  {
   "cell_type": "markdown",
   "metadata": {},
   "source": [
    "#### 一个函数式编程例子\n",
    "\n",
    "- 函数仅由一个表达式组成\n",
    "\n",
    "- 我们如何验证输入合法性？（这是稍后我们将学习的许多事情之一)"
   ]
  },
  {
   "cell_type": "code",
   "execution_count": 2,
   "metadata": {},
   "outputs": [
    {
     "name": "stdout",
     "output_type": "stream",
     "text": [
      "Enter an integer:1\n",
      "Enter an operator('+', '-', '*', '/')*\n",
      "Enter an integer:9\n",
      "The result is :  9\n"
     ]
    }
   ],
   "source": [
    "OPERATORS = '+', '-', '*', '/'\n",
    "\n",
    "def f_get_number():\n",
    "    return int(input('Enter an integer:'))\n",
    "\n",
    "\n",
    "def f_get_operator():\n",
    "    return input(\"Enter an operator('+', '-', '*', '/')\")\n",
    "\n",
    "\n",
    "def f_calculate(number1, operator, number2):\n",
    "    return number1+number2 if operator == '+' \\\n",
    "        else number1-number2 if operator == '-' \\\n",
    "        else number1*number2 if operator == '*'\\\n",
    "        else number1/number2 if operator == '/'\\\n",
    "        else None\n",
    "    \n",
    "\n",
    "def f_mian():\n",
    "    return f_calculate(\n",
    "    f_get_number(),\n",
    "    f_get_operator(),\n",
    "    f_get_number(),\n",
    "    )\n",
    " \n",
    "print('The result is : ', f_mian())"
   ]
  },
  {
   "cell_type": "markdown",
   "metadata": {},
   "source": [
    "## 2."
   ]
  },
  {
   "cell_type": "markdown",
   "metadata": {},
   "source": [
    "### 状态相关和状态无关(State and statelessness)\n",
    "- 状态相关(State)\n",
    "    - 函数不是在一片空白中孤立存在和执行\n",
    "    - 有全局变量\n",
    "    - 具有属性的对象(Objects with properties)\n",
    "    - 他们都是状态相关的(state)\n",
    "    - 可以影响函数运行结果/方式\n",
    "- 状态无关(statelessness)\n",
    "    - 始终返回相同的结果/特定的结果\n",
    "    - 传入函数的参数始终相同\n",
    "    - 与整个项目/程序/系统的运行状态无关\n",
    "    - 函数执行全过程及结果完全可预测\n",
    "- wiki\n",
    "    - 在信息技术和计算机科学中 ，如果程序被设计为记住先前事件或用户交互，则程序被描述为有状态的; 记住的信息称为系统状态 。\n",
    "\n",
    "    - 系统可以占用的状态集称为其状态空间 。 在离散系统中 ，状态空间是可数的并且通常是有限的 ，系统的内部行为或与其环境的交互由单独发生的个体动作或事件组成，例如接受输入或产生输出，这可能会也可能不会导致系统改变它的状态。 这种系统的示例是数字逻辑电路和组件 ， 计算机程序和计算机 。 任何时候数字电路或计算机程序的输出完全取决于其当前输入和状态。\n",
    "    \n",
    "### 副作用(Side effects)\n",
    "\n",
    "- 带有副作用的函数\n",
    "\n",
    "    - 不改变系统状态\n",
    "    \n",
    "- 不带有副作用的函数\n",
    "\n",
    "    - 不改变系统状态\n",
    "    - 相似但不同与无状态(statelessness)\n",
    "    \n",
    "- wiki\n",
    "    - 在计算机科学中 ，如果**函数或表达式修改其局部环境之外的某些状态，则称其具有副作用**，也就是说除了返回值之外还具有与外部世界的可观察的交互。 特定函数的示例副作用可能包括**修改非局部变量** ，**修改静态局部变量** ，**修改引用传递的可变参数**，**执行I / O或调用其他副作用函数**。在存在副作用的情况下，程序的行为可能取决于历史; 也就是说，评估的顺序很重要。 理解和调试具有副作用的函数需要了解有关上下文及其可能的历史。\n",
    "\n",
    "    - 副作用是程序与外部世界（人，文件系统，网络上的其他计算机）交互的最常见方式。 使用副作用的程度取决于编程范例。 命令式编程因其频繁使用副作用而闻名。\n",
    "\n",
    "    - 在函数式编程中 ，很少使用副作用。 缺乏副作用使得更容易对程序进行正式验证。\n",
    "    \n",
    "### 引用透明度/参考透明度(Referential transparency)\n",
    "\n",
    "- 允许**并行**执行\n",
    "\n",
    "- 函数功能可以单独测试\n",
    "\n",
    "- wiki\n",
    "    - 参考透明度和参考不透明度是计算机程序部分的属性。 如果表达式可以替换为其相应的值而不更改程序的行为，则该表达式称为引用透明。这要求**表达式是纯粹的** ，也就是说相同输入的表达式值必须相同，并且其评估必须没有副作用 。 不是引用透明的表达式称为引用不透明。\n",
    "\n",
    "    - 在数学中 ，通过定义构成数学函数的内容，所有函数应用都是参考透明的 。 然而，在编程中并非总是如此，其中术语过程和方法用于避免误导内涵。 在函数式编程中，仅考虑引用透明函数。 一些编程语言提供了保证引用透明性的方法。 一些函数式编程语言强制所有函数的引用透明性。\n",
    "\n",
    "    - 引用透明性的重要性在于它允许程序员和编译器将程序行为推理为重写系统 。 这有助于证明正确性 ，简化算法 ，协助修改代码而不破坏代码，或通过**记忆化 ， 公共子表达式消除 ， 惰性求值或并行化**来优化代码。 "
   ]
  },
  {
   "cell_type": "markdown",
   "metadata": {},
   "source": [
    "### 状态无关的函数没有无副作用且总是产生相同的结果\n",
    "\n",
    "或者说: 他是参考透明/引用透明的\n",
    "\n",
    "#### 一个状态相关的例子\n",
    "\n",
    "使用全局变量是一个依赖于状态(states)并修改状态(states)的例子\n"
   ]
  },
  {
   "cell_type": "code",
   "execution_count": 3,
   "metadata": {},
   "outputs": [
    {
     "name": "stdout",
     "output_type": "stream",
     "text": [
      "[John]Hello world\n",
      "[Carlos]Foobar!\n"
     ]
    }
   ],
   "source": [
    "current_speaker = None\n",
    "\n",
    "def register(name):\n",
    "    global current_speaker\n",
    "    current_speaker = name\n",
    "\n",
    "\n",
    "def speak(text):   # stateful\n",
    "    \n",
    "    print('[{}]{}'.format(current_speaker, text))\n",
    "\n",
    "\n",
    "register('John')\n",
    "speak('Hello world')\n",
    "register('Carlos')\n",
    "speak('Foobar!')"
   ]
  },
  {
   "cell_type": "markdown",
   "metadata": {},
   "source": [
    "#### 对象也可以是状态相关的\n",
    "\n",
    "- 对象被定义了属性,states.因此它的方法(object functions)是状态相关的"
   ]
  },
  {
   "cell_type": "code",
   "execution_count": 4,
   "metadata": {},
   "outputs": [
    {
     "name": "stdout",
     "output_type": "stream",
     "text": [
      "[John]Hello world\n",
      "[Carlos]Hello Foobar\n"
     ]
    }
   ],
   "source": [
    "class Speaker():\n",
    "    def __init__(self, name):\n",
    "        self.name =name\n",
    "    \n",
    "    def speak(self, text):\n",
    "        print('[{}]{}'.format(self.name, text))\n",
    "\n",
    "john = Speaker('John')\n",
    "john.speak('Hello world')\n",
    "Carlos = Speaker('Carlos')\n",
    "Carlos.speak('Hello Foobar')"
   ]
  },
  {
   "cell_type": "markdown",
   "metadata": {},
   "source": [
    "### 无状态函数通常是不重要的(trivial) \n",
    "\n",
    "一个无状态函数仅仅依赖于:\n",
    "\n",
    "1. 出入函数的参数值\n",
    "2. 其他无状态函数的返回值\n",
    "\n",
    "通常是非常简单的函数. 但简单不一定就是坏事"
   ]
  },
  {
   "cell_type": "code",
   "execution_count": 5,
   "metadata": {},
   "outputs": [
    {
     "name": "stdout",
     "output_type": "stream",
     "text": [
      "[John] Hello world\n",
      "[Carlos] Foobar!\n"
     ]
    }
   ],
   "source": [
    "def speak(speaker, text):\n",
    "    \n",
    "    print('[{}] {}'.format(speaker, text))\n",
    "\n",
    "john = 'John'\n",
    "speak(john, 'Hello world')\n",
    "carlos = 'Carlos'\n",
    "speak(carlos, 'Foobar!')"
   ]
  },
  {
   "cell_type": "markdown",
   "metadata": {},
   "source": [
    "## 3."
   ]
  },
  {
   "cell_type": "markdown",
   "metadata": {},
   "source": [
    "### 单元测试\n",
    "\n",
    "- 基于案例的测试\n",
    "\n",
    "    - 用不同的输入内容测试函数\n",
    "    - 看他们运行结果是否正确\n",
    "    - 结果对错不可预测\n",
    "\n",
    "### 可证明性(Provability)\n",
    "\n",
    "- 数学的\n",
    "    - 引用透明/参考透明 允许形式上的 可证明\n",
    "    - 说的好听,做着难(Beautiful in theory,Difficult in practice.理论上很美，实践很难)\n",
    "\n",
    "\"证明程序正确是不切实际的和Python软件无关\""
   ]
  },
  {
   "cell_type": "markdown",
   "metadata": {},
   "source": [
    "#### Pro: 你可以(至少在理论上)证明你的代码是正确的\n",
    "函数式编程的特点是\n",
    "\n",
    "- 很短函数\n",
    "- 参考透明(根据参数值可预测返回值)\n",
    "\n",
    "理论上,这些属性使函数可以被证明是正确(错误)的\n",
    "\n",
    "理论证明建立在单元测试的基础上"
   ]
  },
  {
   "cell_type": "code",
   "execution_count": 6,
   "metadata": {},
   "outputs": [],
   "source": [
    "import itertools\n",
    "\n",
    "def smile(l):\n",
    "    '''Takes a list of integers. For each integer (i), create\n",
    "    a list of smileys of length i. Then flatten this list and \n",
    "    return the result'''\n",
    "    \n",
    "    return list(itertools.chain(*[['😊']*i for i in l]))\n",
    "\n",
    " # [1, 2] → [['😊']， ['😊'， '😊']] → [['😊'， '😊'， '😊']]\n",
    "    "
   ]
  },
  {
   "cell_type": "markdown",
   "metadata": {},
   "source": [
    "#### Unit testing\n",
    "\n",
    "如果我们想要测试如果 smile( ) 的正确性,我们可以设计一组测试用例。然后,对于每一个测试用例,验证输出的结果匹配我们的期望,这就是所谓的单元测试\n",
    "\n",
    "我们用简单的assert statements: 一些作为单元测试设计的库, 如 :nose 和 Pythons 内置的 **unittest**都类似"
   ]
  },
  {
   "cell_type": "code",
   "execution_count": 7,
   "metadata": {},
   "outputs": [
    {
     "name": "stdout",
     "output_type": "stream",
     "text": [
      "Start test\n",
      "Done\n"
     ]
    }
   ],
   "source": [
    "print('Start test')\n",
    "assert(smile([]) == [])\n",
    "assert(smile([0]) == [])\n",
    "assert(smile([1]) == ['😊'])\n",
    "assert(smile([1, 0, 2]) == ['😊', '😊', '😊'])\n",
    "print('Done')"
   ]
  },
  {
   "cell_type": "markdown",
   "metadata": {},
   "source": [
    "#### 可证明性(Provability)\n",
    "\n",
    "我们也可以深入函数内部,并试图理解它。在这种情况下,我们可以简化的操作很多!\n",
    "\n",
    "l x a + l x b + l x c → l x (a+b+c)\n",
    "\n",
    "现在,很明显,这个函数是正确的。(最初的解决方案太过复杂)"
   ]
  },
  {
   "cell_type": "code",
   "execution_count": 8,
   "metadata": {},
   "outputs": [
    {
     "name": "stdout",
     "output_type": "stream",
     "text": [
      "['😊', '😊', '😊']\n"
     ]
    }
   ],
   "source": [
    "def smile(l):\n",
    "    return ['😊'] * sum(l)\n",
    "\n",
    "print(smile([1, 2]))"
   ]
  },
  {
   "cell_type": "markdown",
   "metadata": {},
   "source": [
    "## 4."
   ]
  },
  {
   "cell_type": "markdown",
   "metadata": {},
   "source": [
    "### 递归\n",
    "\n",
    "#### Con: 复杂性和(过度)递归\n",
    "\n",
    "过程式编程依靠循环,函数式编程经常依赖于递归\n",
    "\n",
    "#### 一个过程式编程例子\n",
    "\n",
    "让我们首先考虑的程序实现的阶乘(!)操作"
   ]
  },
  {
   "cell_type": "code",
   "execution_count": 9,
   "metadata": {},
   "outputs": [
    {
     "name": "stdout",
     "output_type": "stream",
     "text": [
      "2\n",
      "24\n"
     ]
    }
   ],
   "source": [
    "def p_factorial(n):\n",
    "    f = 1\n",
    "    for i in range(1, n+1):\n",
    "        f *= i\n",
    "    return f\n",
    "\n",
    "print(p_factorial(2))\n",
    "print(p_factorial(4))"
   ]
  },
  {
   "cell_type": "markdown",
   "metadata": {},
   "source": [
    "#### 一个函数式编程例子"
   ]
  },
  {
   "cell_type": "code",
   "execution_count": 10,
   "metadata": {},
   "outputs": [
    {
     "name": "stdout",
     "output_type": "stream",
     "text": [
      "2\n",
      "24\n"
     ]
    }
   ],
   "source": [
    "def f_factorial(n):\n",
    "    \n",
    "    return 1 if n == 0 else n*f_factorial(n-1)\n",
    "\n",
    "print(f_factorial(2))\n",
    "print(f_factorial(4))"
   ]
  },
  {
   "cell_type": "markdown",
   "metadata": {},
   "source": [
    "### 遇见递归错误\n",
    "- Python's  最大递归深度\n",
    "- 程序式编程和函数式编程实现的结果是相同的。但是函数式编程受限于Python最大递归深度为1000（左右）！"
   ]
  },
  {
   "cell_type": "code",
   "execution_count": 11,
   "metadata": {},
   "outputs": [],
   "source": [
    "# p_factorial(5000)  # ok\n",
    "# f_factorail(5000)  # RecursionError: maximum recursion depth exceeded in comparison"
   ]
  },
  {
   "cell_type": "markdown",
   "metadata": {},
   "source": [
    "### Con: 函数式编程不(总是)和人的一般思维相通\n",
    "#### 考虑一下 \" 投票 \" 过程\n",
    "- 政治投票至少有两个参与者：选民和政治家。 \n",
    "- 投票是选民的行为；我们不认为投票是政治家的行为。个人支持的政治家是选民的属性。收到的选票数目是政治家的属性。 \n",
    "- 这种逻辑可以通过面向对象的编程来完美封装。 \n",
    "\n",
    "#### 一个面向对象的编程实现"
   ]
  },
  {
   "cell_type": "code",
   "execution_count": 12,
   "metadata": {},
   "outputs": [
    {
     "name": "stdout",
     "output_type": "stream",
     "text": [
      "Jean voted for Macron\n",
      "Macron received 1 vote(s)\n"
     ]
    }
   ],
   "source": [
    "class Voter:\n",
    "    def __init__(self, name):\n",
    "        self.name = name\n",
    "        self.woted_for = None\n",
    "    \n",
    "    def vote(self, politician):\n",
    "        \n",
    "        self.voted_for = politician\n",
    "        politician.votes += 1\n",
    "    \n",
    "    def __str__(self):\n",
    "        \n",
    "        return self.name\n",
    "\n",
    "\n",
    "class Politician:\n",
    "    \n",
    "    def __init__(self, name):\n",
    "        \n",
    "        self.name = name\n",
    "        self.votes = 0\n",
    "    \n",
    "    def __str__(self):\n",
    "        \n",
    "        return self.name\n",
    "\n",
    "\n",
    "macron = Politician('Macron')\n",
    "jean = Voter('Jean')\n",
    "jean.vote(macron)\n",
    "print('{} voted for {}'.format(jean, jean.voted_for))\n",
    "print('{} received {} vote(s)'.format(macron, macron.votes))\n",
    "        "
   ]
  },
  {
   "cell_type": "markdown",
   "metadata": {},
   "source": [
    "#### 一个函数式编程实现\n",
    "- 我们可以使用纯函数编程实现相同的逻辑。但是直观结果是笨拙的，比面向对象的更不直观。 "
   ]
  },
  {
   "cell_type": "code",
   "execution_count": 13,
   "metadata": {},
   "outputs": [
    {
     "name": "stdout",
     "output_type": "stream",
     "text": [
      "Jean voted for Macron\n",
      "Macron received 1 vote(s)\n"
     ]
    }
   ],
   "source": [
    "def vote(voters, politicians, voter, politician):\n",
    "    \n",
    "    voters[voter] = politician\n",
    "    if politician in politicians:\n",
    "        politicians[politician] += 1\n",
    "    else:\n",
    "        politicians[politician] = 1\n",
    "    return voters, politicians\n",
    "\n",
    "\n",
    "def voted_for(voters, voter):\n",
    "    return '{} voted for {}'.format(voter, voters.get(voter, None))\n",
    "\n",
    "\n",
    "def votes(politicians, politician):\n",
    "    return '{} received {} vote(s)'.format(politician, politicians.get(politician, 0))\n",
    "\n",
    "voters, politicians = vote({}, {}, 'Jean', 'Macron')\n",
    "print(voted_for(voters, 'Jean'))\n",
    "print(votes(politicians, 'Macron'))"
   ]
  },
  {
   "cell_type": "code",
   "execution_count": null,
   "metadata": {},
   "outputs": [],
   "source": []
  }
 ],
 "metadata": {
  "kernelspec": {
   "display_name": "Python 3",
   "language": "python",
   "name": "python3"
  },
  "language_info": {
   "codemirror_mode": {
    "name": "ipython",
    "version": 3
   },
   "file_extension": ".py",
   "mimetype": "text/x-python",
   "name": "python",
   "nbconvert_exporter": "python",
   "pygments_lexer": "ipython3",
   "version": "3.6.5"
  }
 },
 "nbformat": 4,
 "nbformat_minor": 2
}
