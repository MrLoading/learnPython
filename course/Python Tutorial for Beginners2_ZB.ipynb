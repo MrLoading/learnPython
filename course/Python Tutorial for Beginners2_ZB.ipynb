{
 "cells": [
  {
   "cell_type": "markdown",
   "metadata": {},
   "source": [
    "# 1."
   ]
  },
  {
   "cell_type": "markdown",
   "metadata": {},
   "source": [
    "### 变量作用域\n",
    "- LEGB规则 \n",
    "    - (Local 局部作用域, Enclosing 函数范围作用域, Global 全局作用域, Built-in 内置对象作用域)\n",
    "- global/nonlocal (全局/非局部)"
   ]
  },
  {
   "cell_type": "markdown",
   "metadata": {},
   "source": [
    "###### Local,  Global"
   ]
  },
  {
   "cell_type": "code",
   "execution_count": 4,
   "metadata": {},
   "outputs": [
    {
     "name": "stdout",
     "output_type": "stream",
     "text": [
      "local X\n",
      "local y\n",
      "------------------------------\n",
      "local X\n",
      "global y\n"
     ]
    }
   ],
   "source": [
    "x = 'global x'\n",
    "y = 'global y'\n",
    "\n",
    "def test():\n",
    "    \n",
    "    global x\n",
    "    x = 'local X'\n",
    "    y = 'local y'\n",
    "    print(x)\n",
    "    print(y)\n",
    "    return None\n",
    "\n",
    "test()\n",
    "print(\"-\"*30)\n",
    "print(x)\n",
    "print(y)"
   ]
  },
  {
   "cell_type": "markdown",
   "metadata": {},
   "source": [
    "test()内部的x为全局变量 / y为局部变量 \n",
    "\n",
    "只有x的值被改变"
   ]
  },
  {
   "cell_type": "markdown",
   "metadata": {},
   "source": [
    "###### Built-in\n",
    "- 这个空间内有很多的内建函数和对象\n",
    "- 常用的min() max() sum() len()等"
   ]
  },
  {
   "cell_type": "code",
   "execution_count": 5,
   "metadata": {},
   "outputs": [
    {
     "name": "stdout",
     "output_type": "stream",
     "text": [
      "1\n"
     ]
    }
   ],
   "source": [
    "a = [5, 9, 3, 1, 7]\n",
    "print(min(a))"
   ]
  },
  {
   "cell_type": "code",
   "execution_count": 6,
   "metadata": {},
   "outputs": [
    {
     "name": "stdout",
     "output_type": "stream",
     "text": [
      "my min(x)\n"
     ]
    }
   ],
   "source": [
    "a = [5, 9, 3, 1, 7]\n",
    "\n",
    "def min(x):\n",
    "    return 'my min(x)'\n",
    "\n",
    "print(min(a))"
   ]
  },
  {
   "cell_type": "markdown",
   "metadata": {},
   "source": [
    "- Enclosing 函数范围作用域也称直接外围作用域\n",
    "- 常见于嵌套函数"
   ]
  },
  {
   "cell_type": "code",
   "execution_count": 8,
   "metadata": {},
   "outputs": [
    {
     "name": "stdout",
     "output_type": "stream",
     "text": [
      "outer\n",
      "outer\n",
      "--------------------\n",
      "global\n"
     ]
    }
   ],
   "source": [
    "x = 'global'\n",
    "\n",
    "def outer():\n",
    "    x = 'outer'\n",
    "    \n",
    "    def inner():\n",
    "#         x = 'inner'\n",
    "        print(x)\n",
    "    \n",
    "    inner()\n",
    "    print(x)\n",
    "    \n",
    "    \n",
    "outer()\n",
    "print('-'*20)\n",
    "print(x)\n",
    "\n",
    "# 注释掉 x = 'inner' 重新运行"
   ]
  },
  {
   "cell_type": "markdown",
   "metadata": {},
   "source": [
    "# 2."
   ]
  },
  {
   "cell_type": "markdown",
   "metadata": {},
   "source": [
    "# 3."
   ]
  },
  {
   "cell_type": "markdown",
   "metadata": {},
   "source": [
    "###  使用try -- except 块进行错误处理\n",
    "```python\n",
    "            try:\n",
    "                pass\n",
    "            except Exception:\n",
    "                pass\n",
    "```"
   ]
  },
  {
   "cell_type": "markdown",
   "metadata": {},
   "source": [
    "- 写个bug -- 打开文件异常\n",
    "- 用try--except处理"
   ]
  },
  {
   "cell_type": "code",
   "execution_count": 10,
   "metadata": {},
   "outputs": [
    {
     "name": "stdout",
     "output_type": "stream",
     "text": [
      "[Errno 2] No such file or directory: 'temp.txt'\n"
     ]
    }
   ],
   "source": [
    "try:\n",
    "    f = open('temp.txt','r')\n",
    "    \n",
    "except Exception as e:\n",
    "    \n",
    "    print(e)\n",
    "\n"
   ]
  },
  {
   "cell_type": "markdown",
   "metadata": {},
   "source": [
    "- try -- except -- finally"
   ]
  },
  {
   "cell_type": "code",
   "execution_count": 13,
   "metadata": {},
   "outputs": [
    {
     "name": "stdout",
     "output_type": "stream",
     "text": [
      "finally!\n"
     ]
    }
   ],
   "source": [
    "try:\n",
    "    f = open('tmp.txt','r')\n",
    "    \n",
    "except Exception as e:\n",
    "    \n",
    "    print(e)\n",
    "\n",
    "finally:\n",
    "    \n",
    "    f.close()\n",
    "    print('finally!')\n",
    "\n",
    "\n",
    "\n",
    "\n",
    "\n",
    "\n"
   ]
  },
  {
   "cell_type": "markdown",
   "metadata": {},
   "source": [
    "- try -- except -- else -- finally"
   ]
  },
  {
   "cell_type": "code",
   "execution_count": 15,
   "metadata": {},
   "outputs": [
    {
     "name": "stdout",
     "output_type": "stream",
     "text": [
      "else!!\n",
      "{\n",
      " \"cells\": [\n",
      "  {\n",
      "   \"cell_type\": \"markdown\",\n",
      "   \"metadata\": {},\n",
      "   \"source\": [\n",
      "    \"# 1.\"\n",
      "   ]\n",
      "  }\n",
      "finally!\n"
     ]
    }
   ],
   "source": [
    "# 在当前工作目录下创建一个文件,消除异常\n",
    "try:\n",
    "    f = open('tmp.txt','r')\n",
    "    \n",
    "except Exception as e:\n",
    "    \n",
    "    print(e)\n",
    "\n",
    "else:\n",
    "    print('else!!')\n",
    "    r = f.read()\n",
    "    print(r)\n",
    "finally:\n",
    "    \n",
    "    f.close()\n",
    "    print('finally!')\n",
    "\n"
   ]
  },
  {
   "cell_type": "markdown",
   "metadata": {},
   "source": [
    "- 主动抛出异常 raise Exception('msg')"
   ]
  },
  {
   "cell_type": "code",
   "execution_count": 16,
   "metadata": {},
   "outputs": [
    {
     "name": "stdout",
     "output_type": "stream",
     "text": [
      "a = 1!\n"
     ]
    }
   ],
   "source": [
    "a = 1\n",
    "try:\n",
    "    if a == 1:\n",
    "        raise Exception('a = 1!')\n",
    "    \n",
    "except Exception as e:\n",
    "    \n",
    "    print(e)\n",
    "\n",
    "\n",
    "\n"
   ]
  },
  {
   "cell_type": "markdown",
   "metadata": {},
   "source": [
    "# 4."
   ]
  },
  {
   "cell_type": "markdown",
   "metadata": {},
   "source": [
    "### 用unittest模块测试代码"
   ]
  },
  {
   "cell_type": "markdown",
   "metadata": {},
   "source": [
    "- 有一部分写好的代码需要测试"
   ]
  },
  {
   "cell_type": "code",
   "execution_count": 10,
   "metadata": {},
   "outputs": [],
   "source": [
    "## calc.py\n",
    "def add(x, y):\n",
    "    return x + y\n",
    "\n",
    "\n",
    "def subtract(x, y):\n",
    "    return x - y\n",
    "\n",
    "\n",
    "def multiply(x, y):\n",
    "    return x * y\n",
    "\n",
    "\n",
    "def divide(x, y):\n",
    "    if y == 0:\n",
    "        raise ValueError(\"Can not divide by zero!\")\n",
    "    return x / y\n"
   ]
  },
  {
   "cell_type": "markdown",
   "metadata": {},
   "source": [
    "#### 单元测试\n",
    "- unittest\n",
    "- .assertEqual()"
   ]
  },
  {
   "cell_type": "code",
   "execution_count": 17,
   "metadata": {},
   "outputs": [],
   "source": [
    "import unittest\n",
    "from  calc import  add,subtract, multiply, divide\n",
    "\n",
    "\n",
    "class TestCalc(unittest.TestCase):\n",
    "    # must start with the word 'test',for example: it can't be 'add_test'\n",
    "    def test_add(self):\n",
    "        result = add(10, 5)\n",
    "        self.assertEqual(result, 15)\n",
    "        self.assertEqual(add(-1, 1), 0)\n",
    "        self.assertEqual(add(-1, -1), -2)\n",
    "\n",
    "    def test_subtract(self):\n",
    "        self.assertEqual(subtract(-1, 1), -2)\n",
    "        self.assertEqual(subtract(1, 1), 0)\n",
    "\n",
    "    def test_multiply(self):\n",
    "        self.assertEqual(multiply(-1, 1), -1)\n",
    "        self.assertEqual(multiply(-1, 0), 0)\n",
    "        self.assertEqual(multiply(1, 1), 1)\n",
    "\n",
    "    def test_divide(self):\n",
    "        self.assertEqual(divide(-1, 1), -1)\n",
    "        self.assertEqual(divide(2, 1), 2)\n",
    "\n",
    "        self.assertRaises(ValueError, divide, 10, 0)\n",
    "\n",
    "        with self.assertRaises(ValueError):\n",
    "            divide(5, 0)"
   ]
  },
  {
   "cell_type": "code",
   "execution_count": null,
   "metadata": {},
   "outputs": [],
   "source": []
  },
  {
   "cell_type": "code",
   "execution_count": null,
   "metadata": {},
   "outputs": [],
   "source": []
  },
  {
   "cell_type": "markdown",
   "metadata": {},
   "source": [
    "# 1."
   ]
  },
  {
   "cell_type": "markdown",
   "metadata": {},
   "source": [
    "### 类和实例"
   ]
  },
  {
   "cell_type": "markdown",
   "metadata": {},
   "source": [
    "- 一个简单的Employee类"
   ]
  },
  {
   "cell_type": "markdown",
   "metadata": {},
   "source": [
    "- 类是创建实例的蓝图"
   ]
  },
  {
   "cell_type": "code",
   "execution_count": 20,
   "metadata": {},
   "outputs": [
    {
     "name": "stdout",
     "output_type": "stream",
     "text": [
      "<__main__.Employee object at 0x000001A1C10D7780>\n",
      "<__main__.Employee object at 0x000001A1C109A6D8>\n"
     ]
    }
   ],
   "source": [
    "class Employee:\n",
    "    pass\n",
    "\n",
    "\n",
    "e1 = Employee()\n",
    "e2 = Employee()\n",
    "\n",
    "\n",
    "\n",
    "print(e1)\n",
    "\n",
    "print(e2)\n"
   ]
  },
  {
   "cell_type": "markdown",
   "metadata": {},
   "source": [
    "- 给实例直接添加属性"
   ]
  },
  {
   "cell_type": "code",
   "execution_count": 21,
   "metadata": {},
   "outputs": [
    {
     "name": "stdout",
     "output_type": "stream",
     "text": [
      "Mark Smith\n"
     ]
    }
   ],
   "source": [
    "''' Mar Smith pay '''\n",
    "\n",
    "e1.first = 'Mark'\n",
    "e1.last = 'Smith'\n",
    "e1.pay = 50000\n",
    "\n",
    "\n",
    "\n",
    "print('{} {}'.format(e1.first, e1.last))\n",
    "\n"
   ]
  },
  {
   "cell_type": "markdown",
   "metadata": {},
   "source": [
    "-  \\_\\_init\\_\\_() 初始化(类似于构造函数)\n",
    "- self 在对象方法中表示当前对象本身，如果调用对象的一个方法，\n",
    "    那么该对象\"self\"会自动传入当前方法的**第一个参数**中"
   ]
  },
  {
   "cell_type": "code",
   "execution_count": 23,
   "metadata": {},
   "outputs": [
    {
     "name": "stdout",
     "output_type": "stream",
     "text": [
      "Mark Smith\n",
      "Mark.Smith@email.com\n"
     ]
    }
   ],
   "source": [
    " ''''first, last, pay, email''' \n",
    "class Employee:\n",
    "    \n",
    "    def __init__(self, first, last, pay):\n",
    "        self.first = first\n",
    "        self.last = last\n",
    "        self.pay = pay\n",
    "        self.email = '{}.{}@email.com'.format(self.first, self.last)\n",
    "    \n",
    "    \n",
    "e1 = Employee('Mark', 'Smith', 50000)\n",
    "    \n",
    "print('{} {}'.format(e1.first, e1.last))\n",
    "print(e1.email)"
   ]
  },
  {
   "cell_type": "markdown",
   "metadata": {},
   "source": [
    "##### 添加 fullname()方法 , 用来得到employee的全名"
   ]
  },
  {
   "cell_type": "code",
   "execution_count": 24,
   "metadata": {},
   "outputs": [
    {
     "name": "stdout",
     "output_type": "stream",
     "text": [
      "Mark Smith\n"
     ]
    }
   ],
   "source": [
    "class Employee:\n",
    "    \n",
    "    def __init__(self, first, last, pay):\n",
    "        self.first = first\n",
    "        self.last = last\n",
    "        self.pay = pay\n",
    "        self.email = '{}.{}@email.com'.format(self.first, self.last)\n",
    "    \n",
    "    def fullname(self):\n",
    "        \n",
    "        return '{} {}'.format(self.first, self.last)\n",
    "\n",
    "\n",
    "e1 = Employee('Mark', 'Smith', 50000)\n",
    "    \n",
    "\n",
    "print(e1.fullname())\n",
    "\n",
    "\n",
    "\n"
   ]
  },
  {
   "cell_type": "markdown",
   "metadata": {},
   "source": [
    "- 如果我们直接调用类名Employee来调用fullname()方法, 而不是用e1实例调用"
   ]
  },
  {
   "cell_type": "code",
   "execution_count": 26,
   "metadata": {},
   "outputs": [
    {
     "name": "stdout",
     "output_type": "stream",
     "text": [
      "Mark Smith\n"
     ]
    }
   ],
   "source": [
    "\n",
    "print(Employee.fullname(e1))\n",
    "\n",
    "\n",
    "\n",
    "\n",
    "\n",
    "\n"
   ]
  },
  {
   "cell_type": "markdown",
   "metadata": {},
   "source": [
    "- 需要把实例作为参数传入"
   ]
  },
  {
   "cell_type": "markdown",
   "metadata": {},
   "source": [
    "- 如果类想调用绑定方法，就必须遵循函数的参数规则，有几个参数，就必须传递几个参数"
   ]
  },
  {
   "cell_type": "markdown",
   "metadata": {},
   "source": [
    "# 2."
   ]
  },
  {
   "cell_type": "markdown",
   "metadata": {},
   "source": [
    "### 类变量\n",
    "- 类变量是类和所有实例共享的\n",
    "- 实例变量是每个实例独享的"
   ]
  },
  {
   "cell_type": "code",
   "execution_count": 36,
   "metadata": {},
   "outputs": [
    {
     "name": "stdout",
     "output_type": "stream",
     "text": [
      "1.04\n",
      "1.04\n"
     ]
    }
   ],
   "source": [
    "# 添加一项类变量 raise_amt 工资涨幅(raise amount)\n",
    "# 添加一个加薪方法 apply_raise(self)\n",
    "\n",
    "class Employee:\n",
    "    \n",
    "    raise_amt = 1.04\n",
    "    \n",
    "    def __init__(self, first, last, pay):\n",
    "        self.first = first\n",
    "        self.last = last \n",
    "        self.pay = pay\n",
    "        self.email = f'{self.first}.{self.last}@email.com'\n",
    "\n",
    "    def fullname(self):\n",
    "        \n",
    "        return f'{self.first} {self.last}'\n",
    "    \n",
    "\n",
    "        \n",
    "        \n",
    "    \n",
    "e1 = Employee('Mark', 'Smith', 50000)\n",
    "e2 = Employee('Join', 'Test', 60000)\n",
    "\n",
    "print(e1.raise_amt)\n",
    "print(e2.raise_amt)\n",
    "\n"
   ]
  },
  {
   "cell_type": "code",
   "execution_count": 33,
   "metadata": {},
   "outputs": [
    {
     "name": "stdout",
     "output_type": "stream",
     "text": [
      "{'first': 'Mark', 'last': 'Smith', 'pay': 50000, 'email': 'Mark.Smith@email.com'}\n",
      "{'first': 'Join', 'last': 'Test', 'pay': 60000, 'email': 'Join.Test@email.com'}\n",
      "{'__module__': '__main__', 'raise_amt': 1.04, '__init__': <function Employee.__init__ at 0x000001A1C11646A8>, 'fullname': <function Employee.fullname at 0x000001A1C1164730>, '__dict__': <attribute '__dict__' of 'Employee' objects>, '__weakref__': <attribute '__weakref__' of 'Employee' objects>, '__doc__': None}\n"
     ]
    }
   ],
   "source": [
    "# .__dict__查看实例/类的所有成员/属性\n",
    "print(e1.__dict__)\n",
    "print(e2.__dict__)\n",
    "\n",
    "print(Employee.__dict__)\n",
    "\n"
   ]
  },
  {
   "cell_type": "markdown",
   "metadata": {},
   "source": [
    "- 对象访问一个成员时,如果对象中没有该成员,尝试访问类中的同名成员。\n",
    "- 如果对象中有此成员,一定使用对象中的成员"
   ]
  },
  {
   "cell_type": "code",
   "execution_count": 38,
   "metadata": {},
   "outputs": [
    {
     "name": "stdout",
     "output_type": "stream",
     "text": [
      "1.4\n",
      "1.04\n"
     ]
    }
   ],
   "source": [
    "# 把实例e1的工资涨幅修改\n",
    "\n",
    "e1.raise_amt = 1.4\n",
    "print(e1.raise_amt)\n",
    "print(e2.raise_amt)\n"
   ]
  },
  {
   "cell_type": "code",
   "execution_count": 39,
   "metadata": {},
   "outputs": [
    {
     "name": "stdout",
     "output_type": "stream",
     "text": [
      "{'first': 'Mark', 'last': 'Smith', 'pay': 50000, 'email': 'Mark.Smith@email.com', 'raise_amt': 1.4}\n",
      "{'first': 'Join', 'last': 'Test', 'pay': 60000, 'email': 'Join.Test@email.com'}\n",
      "{'__module__': '__main__', 'raise_amt': 1.04, '__init__': <function Employee.__init__ at 0x000001A1C1164510>, 'fullname': <function Employee.fullname at 0x000001A1C1164840>, '__dict__': <attribute '__dict__' of 'Employee' objects>, '__weakref__': <attribute '__weakref__' of 'Employee' objects>, '__doc__': None}\n"
     ]
    }
   ],
   "source": [
    "# 再次查看实例/类的所有属性\n",
    "print(e1.__dict__)\n",
    "print(e2.__dict__)\n",
    "\n",
    "print(Employee.__dict__)"
   ]
  },
  {
   "cell_type": "markdown",
   "metadata": {},
   "source": [
    "- e1 比e2多了属性'raise_amt'\n",
    "- e1 访问'raise_amt'时, 访问 e1 自己的名为'raise_amt'的成员,\n",
    "- e2 访问'raise_amt'时, 由于e2 并没有'raise_amt'成员, 所以访问**Employee类**中的同名成员 "
   ]
  },
  {
   "cell_type": "markdown",
   "metadata": {},
   "source": [
    "# 3."
   ]
  },
  {
   "cell_type": "markdown",
   "metadata": {},
   "source": [
    "## 类中的3类方法：\n",
    "\n",
    "#### 1.常规方法(实例方法/对象方法/绑定方法)\n",
    "- 凡是类中的方法或函数，默认情况下都是给**实例**使用的。\n",
    "- 调用时自动把**当前实例**当做第一个参数传入\n",
    "- 如果**类**来调用类中的方法，那么这个方法仅仅只是一个函数，那么既然是函数，就不会自动传值。(手动传值)\n",
    "\n",
    "```python\n",
    "    def func(self):\n",
    "        pass\n",
    "```\n",
    "\n",
    "#### 2.类方法(类绑定方法)\n",
    "\n",
    "-  怎样将类中常规的方法解除实例绑定关系? 在python中，引入了 **@classmethod** 方法(装饰器)，将类中实例的方法绑定到类身上。\n",
    "- 调用时自动把**当前类**当做第一个参数传入\n",
    "```python\n",
    "    @classmethod\n",
    "    def func(cls):\n",
    "        pass\n",
    "```\n",
    "\n",
    "#### 3.静态方法(普通方法)\n",
    "\n",
    "- python给我们提供了 **@staticmethod** 可以解除绑定关系，将一个类中的方法，变为一个普通函数。\n",
    "- 使用了 **@staticmethod** 装饰了一个函数，那么这个函数跟普通函数没有什么区别。遵从函数参数传递规则，有几个参数就传递几个参数。\n",
    "\n",
    "```python\n",
    "    @staticmethod\n",
    "    def func():\n",
    "        pass\n",
    "```"
   ]
  },
  {
   "cell_type": "markdown",
   "metadata": {},
   "source": [
    "### 常规方法(实例方法/对象方法/绑定方法)\n"
   ]
  },
  {
   "cell_type": "markdown",
   "metadata": {},
   "source": [
    "- 把fullname()修改为一个不需要参数的方法"
   ]
  },
  {
   "cell_type": "code",
   "execution_count": 40,
   "metadata": {},
   "outputs": [
    {
     "ename": "TypeError",
     "evalue": "fullname() takes 0 positional arguments but 1 was given",
     "output_type": "error",
     "traceback": [
      "\u001b[1;31m---------------------------------------------------------------------------\u001b[0m",
      "\u001b[1;31mTypeError\u001b[0m                                 Traceback (most recent call last)",
      "\u001b[1;32m<ipython-input-40-30b073f37b6c>\u001b[0m in \u001b[0;36m<module>\u001b[1;34m()\u001b[0m\n\u001b[0;32m     13\u001b[0m \u001b[0me1\u001b[0m \u001b[1;33m=\u001b[0m \u001b[0mEmployee\u001b[0m\u001b[1;33m(\u001b[0m\u001b[1;34m'Mark'\u001b[0m\u001b[1;33m,\u001b[0m \u001b[1;34m'Smith'\u001b[0m\u001b[1;33m,\u001b[0m \u001b[1;36m50000\u001b[0m\u001b[1;33m)\u001b[0m\u001b[1;33m\u001b[0m\u001b[0m\n\u001b[0;32m     14\u001b[0m \u001b[1;33m\u001b[0m\u001b[0m\n\u001b[1;32m---> 15\u001b[1;33m \u001b[0me1\u001b[0m\u001b[1;33m.\u001b[0m\u001b[0mfullname\u001b[0m\u001b[1;33m(\u001b[0m\u001b[1;33m)\u001b[0m\u001b[1;33m\u001b[0m\u001b[0m\n\u001b[0m",
      "\u001b[1;31mTypeError\u001b[0m: fullname() takes 0 positional arguments but 1 was given"
     ]
    }
   ],
   "source": [
    "class Employee:\n",
    "    \n",
    "    def __init__(self, first, last, pay):\n",
    "        self.first = first\n",
    "        self.last = last\n",
    "        self.pay = pay\n",
    "\n",
    "    def fullname():\n",
    "        pass\n",
    "    \n",
    "    \n",
    "    \n",
    "e1 = Employee('Mark', 'Smith', 50000)\n",
    "\n",
    "e1.fullname()"
   ]
  },
  {
   "cell_type": "markdown",
   "metadata": {},
   "source": [
    "- fullname()不需要参数, 但Python自动传入了一个参数(当前实例e1),引起报错\n",
    "- 我们改为def fullname(self):"
   ]
  },
  {
   "cell_type": "code",
   "execution_count": 49,
   "metadata": {},
   "outputs": [
    {
     "name": "stdout",
     "output_type": "stream",
     "text": [
      "<__main__.Employee object at 0x000001A1C1176EB8>\n",
      "<__main__.Employee object at 0x000001A1C1176EB8>\n"
     ]
    }
   ],
   "source": [
    "class Employee:\n",
    "    \n",
    "    def __init__(self, first, last, pay):\n",
    "        self.first = first\n",
    "        self.last = last\n",
    "        self.pay = pay\n",
    "\n",
    "    def fullname(me):\n",
    "        print(me)\n",
    "    \n",
    "    \n",
    "e1 = Employee('Mark', 'Smith', 50000)\n",
    "\n",
    "e1.fullname()\n",
    "\n",
    "print(e1)"
   ]
  },
  {
   "cell_type": "code",
   "execution_count": null,
   "metadata": {},
   "outputs": [],
   "source": []
  },
  {
   "cell_type": "code",
   "execution_count": null,
   "metadata": {},
   "outputs": [],
   "source": []
  },
  {
   "cell_type": "markdown",
   "metadata": {},
   "source": [
    "- 并没有报错, 因为调用def fullname(self)时**e1**被Python默认传入方法中,\n",
    "- 我们用**self**接收了默认传入的**e1**, 所以不会报错"
   ]
  },
  {
   "cell_type": "markdown",
   "metadata": {},
   "source": [
    "### 类方法\n",
    "- @classmethod"
   ]
  },
  {
   "cell_type": "markdown",
   "metadata": {},
   "source": [
    "定义了一个set_raise_amt()类方法,用于修改raise_amt 类变量"
   ]
  },
  {
   "cell_type": "code",
   "execution_count": 45,
   "metadata": {},
   "outputs": [
    {
     "ename": "TypeError",
     "evalue": "fullname() takes 0 positional arguments but 1 was given",
     "output_type": "error",
     "traceback": [
      "\u001b[1;31m---------------------------------------------------------------------------\u001b[0m",
      "\u001b[1;31mTypeError\u001b[0m                                 Traceback (most recent call last)",
      "\u001b[1;32m<ipython-input-45-e432a908b0da>\u001b[0m in \u001b[0;36m<module>\u001b[1;34m()\u001b[0m\n\u001b[0;32m     17\u001b[0m \u001b[1;33m\u001b[0m\u001b[0m\n\u001b[0;32m     18\u001b[0m \u001b[0me1\u001b[0m \u001b[1;33m=\u001b[0m \u001b[0mEmployee\u001b[0m\u001b[1;33m(\u001b[0m\u001b[1;34m'Mark'\u001b[0m\u001b[1;33m,\u001b[0m \u001b[1;34m'Smith'\u001b[0m\u001b[1;33m,\u001b[0m \u001b[1;36m50000\u001b[0m\u001b[1;33m)\u001b[0m\u001b[1;33m\u001b[0m\u001b[0m\n\u001b[1;32m---> 19\u001b[1;33m \u001b[0me1\u001b[0m\u001b[1;33m.\u001b[0m\u001b[0mfullname\u001b[0m\u001b[1;33m(\u001b[0m\u001b[1;33m)\u001b[0m\u001b[1;33m\u001b[0m\u001b[0m\n\u001b[0m",
      "\u001b[1;31mTypeError\u001b[0m: fullname() takes 0 positional arguments but 1 was given"
     ]
    }
   ],
   "source": [
    "class Employee:\n",
    "    \n",
    "    def __init__(self, first, last, pay):\n",
    "        self.first = first\n",
    "        self.last = last\n",
    "        self.pay = pay\n",
    "\n",
    "    @classmethod\n",
    "    def fullname():\n",
    "        \n",
    "        print(\"me\")\n",
    "        \n",
    "\n",
    "\n",
    "\n",
    "\n",
    "    \n",
    "e1 = Employee('Mark', 'Smith', 50000)\n",
    "e1.fullname()\n"
   ]
  },
  {
   "cell_type": "markdown",
   "metadata": {},
   "source": [
    "- 出错, 原因同样是多传入一个参数\n",
    "- 我们改为def fullname(cls, amount)试试"
   ]
  },
  {
   "cell_type": "code",
   "execution_count": 51,
   "metadata": {},
   "outputs": [
    {
     "name": "stdout",
     "output_type": "stream",
     "text": [
      "<class '__main__.Employee'>\n",
      "<class '__main__.Employee'>\n"
     ]
    }
   ],
   "source": [
    "class Employee:\n",
    "    \n",
    "    def __init__(self, first, last, pay):\n",
    "        self.first = first\n",
    "        self.last = last\n",
    "        self.pay = pay\n",
    "\n",
    "    @classmethod\n",
    "    def fullname(cls):\n",
    "        \n",
    "        print(cls)\n",
    "        \n",
    "\n",
    "\n",
    "\n",
    "\n",
    "\n",
    "    \n",
    "e1 = Employee('Mark', 'Smith', 50000)\n",
    "\n",
    "e1.fullname()\n",
    "print(Employee)"
   ]
  },
  {
   "cell_type": "markdown",
   "metadata": {},
   "source": [
    "- 并没有报错, 因为调用时**Employee类**被Python默认传入def fullname(cls, amount): 中,\n",
    "- 我们用**cls**接收了默认传入的**Employee类**, 所以不会报错\n",
    "\n",
    "\n",
    "### 静态方法,\n",
    "- 使用了 **@staticmethod** 装饰的一个函数    def work_overtime():"
   ]
  },
  {
   "cell_type": "code",
   "execution_count": 54,
   "metadata": {},
   "outputs": [
    {
     "name": "stdout",
     "output_type": "stream",
     "text": [
      "OK!\n"
     ]
    }
   ],
   "source": [
    "class Employee:\n",
    "    \n",
    "    def __init__(self, first, last, pay):\n",
    "        self.first = first\n",
    "        self.last = last\n",
    "        self.pay = pay\n",
    "\n",
    "    @classmethod\n",
    "    def fullname(cls):\n",
    "        \n",
    "        print(cls)\n",
    "        \n",
    "    @staticmethod\n",
    "    def work_overtime():\n",
    "        \n",
    "        print('OK!')\n",
    "\n",
    "\n",
    "\n",
    "    \n",
    "    \n",
    "    \n",
    "e1 = Employee('Mark', 'Smith', 50000)\n",
    "e1.work_overtime()"
   ]
  },
  {
   "cell_type": "markdown",
   "metadata": {},
   "source": [
    "# 4."
   ]
  },
  {
   "cell_type": "markdown",
   "metadata": {},
   "source": [
    "### 继承-创建子类\n",
    "- class sub_class(super_class)\n",
    "```python\n",
    "    class Employee:\n",
    "        pass\n",
    "    \n",
    "    class Developer(Employee):\n",
    "        pass\n",
    "```"
   ]
  },
  {
   "cell_type": "code",
   "execution_count": 55,
   "metadata": {},
   "outputs": [
    {
     "name": "stdout",
     "output_type": "stream",
     "text": [
      "50000\n",
      "Join Test\n"
     ]
    }
   ],
   "source": [
    "class Employee:\n",
    "    \n",
    "    raise_amt = 1.04\n",
    "    \n",
    "    def __init__(self, first, last, pay):\n",
    "        self.first = first\n",
    "        self.last = last\n",
    "        self.pay = pay\n",
    "        \n",
    "    def fullname(self):\n",
    "        \n",
    "        return  f'{self.first} {self.last}'\n",
    "    \n",
    "    @classmethod\n",
    "    def set_raise_amt(cls, amount):\n",
    "        cls.raise_amt = amount  \n",
    "        \n",
    "    @staticmethod\n",
    "    def work_overtime():\n",
    "        print('Yes')\n",
    "    \n",
    "    \n",
    "class Developer(Employee):\n",
    "    pass\n",
    "    \n",
    "    \n",
    "    \n",
    "    \n",
    "    \n",
    "    \n",
    "    \n",
    "e = Employee('Mark', 'Smith', 50000)\n",
    "d = Developer('Join', 'Test', 60000)\n",
    "\n",
    "print(e.pay)\n",
    "print(d.fullname())"
   ]
  },
  {
   "cell_type": "markdown",
   "metadata": {},
   "source": [
    "- 我们将Developer的 'raise_amt'值修改, 并添加apply_raise()方法\n",
    "- Employee 'raise_amt'值并不会变"
   ]
  },
  {
   "cell_type": "code",
   "execution_count": 57,
   "metadata": {},
   "outputs": [
    {
     "name": "stdout",
     "output_type": "stream",
     "text": [
      "1.04\n",
      "1.4\n",
      "60000\n",
      "84000\n"
     ]
    }
   ],
   "source": [
    "class Developer(Employee):\n",
    "    raise_amt = 1.4     \n",
    "\n",
    "    def apply_raise(self):\n",
    "        \n",
    "        self.pay = int(self.pay * self.raise_amt)\n",
    "\n",
    "\n",
    "\n",
    "\n",
    "\n",
    "    \n",
    "    \n",
    "d = Developer('Join', 'Test', 60000)\n",
    "\n",
    "print(Employee.raise_amt)\n",
    "print(Developer.raise_amt)\n",
    "\n",
    "print(d.pay)\n",
    "d.apply_raise()\n",
    "print(d.pay)"
   ]
  },
  {
   "cell_type": "markdown",
   "metadata": {},
   "source": [
    "- help()查看Developer类的各种信息\n",
    "\n",
    "- 方法解析顺序:Method resolution order \n",
    "- 先Developer 后  Employee 最后  builtins.object内置对象\n",
    "    \n",
    "    - 新定义了方法apply_raise(self)\n",
    "    - 新调整了'raise_mt ' 的值\n",
    "    - 继承了Employee的 \\__init__方法, fullname()方法"
   ]
  },
  {
   "cell_type": "code",
   "execution_count": 58,
   "metadata": {},
   "outputs": [
    {
     "name": "stdout",
     "output_type": "stream",
     "text": [
      "Help on class Developer in module __main__:\n",
      "\n",
      "class Developer(Employee)\n",
      " |  Method resolution order:\n",
      " |      Developer\n",
      " |      Employee\n",
      " |      builtins.object\n",
      " |  \n",
      " |  Methods defined here:\n",
      " |  \n",
      " |  apply_raise(self)\n",
      " |  \n",
      " |  ----------------------------------------------------------------------\n",
      " |  Data and other attributes defined here:\n",
      " |  \n",
      " |  raise_amt = 1.4\n",
      " |  \n",
      " |  ----------------------------------------------------------------------\n",
      " |  Methods inherited from Employee:\n",
      " |  \n",
      " |  __init__(self, first, last, pay)\n",
      " |      Initialize self.  See help(type(self)) for accurate signature.\n",
      " |  \n",
      " |  fullname(self)\n",
      " |  \n",
      " |  ----------------------------------------------------------------------\n",
      " |  Class methods inherited from Employee:\n",
      " |  \n",
      " |  set_raise_amt(amount) from builtins.type\n",
      " |  \n",
      " |  ----------------------------------------------------------------------\n",
      " |  Static methods inherited from Employee:\n",
      " |  \n",
      " |  work_overtime()\n",
      " |  \n",
      " |  ----------------------------------------------------------------------\n",
      " |  Data descriptors inherited from Employee:\n",
      " |  \n",
      " |  __dict__\n",
      " |      dictionary for instance variables (if defined)\n",
      " |  \n",
      " |  __weakref__\n",
      " |      list of weak references to the object (if defined)\n",
      "\n",
      "None\n"
     ]
    }
   ],
   "source": [
    "print(help(Developer))"
   ]
  },
  {
   "cell_type": "markdown",
   "metadata": {},
   "source": [
    "- 为Developer添加更多属性 如 skill = 'Python'\n",
    "- 使用Developer的\\_\\_init__(函数)初始化Developer\n",
    "    - 使用 super().\\_\\_init__()调用父类init方法"
   ]
  },
  {
   "cell_type": "code",
   "execution_count": 60,
   "metadata": {},
   "outputs": [
    {
     "name": "stdout",
     "output_type": "stream",
     "text": [
      "python\n",
      "Join Test\n"
     ]
    }
   ],
   "source": [
    "class Developer(Employee):\n",
    "    raise_amt = 1.4     \n",
    "\n",
    "    def __init__(self, first, last, pay, skill):\n",
    "        self.skill = skill\n",
    "        super().__init__(first, last, pay)\n",
    "        \n",
    "    def apply_raise(self):\n",
    "        \n",
    "        self.pay = int(self.pay * self.raise_amt)\n",
    "\n",
    "\n",
    "    \n",
    "\n",
    "    \n",
    "    \n",
    "    \n",
    "d = Developer('Join', 'Test', 60000, 'python')\n",
    "\n",
    "print(d.skill)\n",
    "print(d.fullname())"
   ]
  },
  {
   "cell_type": "markdown",
   "metadata": {},
   "source": [
    "### isinstance() issubclass()\n",
    "### 判断类和实例 / 类和子类的关系\n",
    "- isinstance()将告诉我们一个对象是否是一个类的实例 (会考虑继承关系)\n",
    "- issubclass()将告诉我们一个类是否是一个类的子类"
   ]
  },
  {
   "cell_type": "code",
   "execution_count": 66,
   "metadata": {},
   "outputs": [
    {
     "name": "stdout",
     "output_type": "stream",
     "text": [
      "True\n",
      "True\n"
     ]
    }
   ],
   "source": [
    "class Employee:\n",
    "    \n",
    "    raise_mt = 1.04\n",
    "    \n",
    "    def __init__(self, first, last, pay):\n",
    "        self.first = first\n",
    "        self.last = last\n",
    "        self.pay = pay\n",
    "        \n",
    "    def fullname(self):\n",
    "        fullname = '{} {}'.format(self.first, self.last)\n",
    "        return fullname\n",
    "    \n",
    "    \n",
    "class Developer(Employee):\n",
    "    raise_mt = 1.25\n",
    "    \n",
    "    def __init__(self, first, last, pay, skill):\n",
    "        \n",
    "        self.skill = skill\n",
    "        \n",
    "        super().__init__(first, last, pay)\n",
    "            \n",
    "    def apply_raise(self):\n",
    "        self.pay = int(self.pay * self.raise_mt)\n",
    "    \n",
    "d = Developer('Join', 'Test', 60000, 'python')\n",
    "e = Employee('Join', 'Test', 60000)\n",
    "\n",
    "# print(isinstance(d, Employee))\n",
    "# print(isinstance(d, Developer))\n",
    "\n",
    "print(issubclass(Developer, Employee))\n",
    "print(issubclass(Employee, Employee))"
   ]
  },
  {
   "cell_type": "markdown",
   "metadata": {},
   "source": [
    "# 5."
   ]
  },
  {
   "cell_type": "markdown",
   "metadata": {},
   "source": [
    "### 几个特殊的 (Magic/Dunder) 方法\n",
    "1. __\\_\\_init\\_\\___( )\n",
    "2. __\\_\\_repr\\_\\___( )\n",
    "3. __\\_\\_str\\_\\___( )"
   ]
  },
  {
   "cell_type": "markdown",
   "metadata": {},
   "source": [
    "- 简单了解一下2. __\\_\\_repr\\_\\___( )和3. __\\_\\_str\\_\\___( )"
   ]
  },
  {
   "cell_type": "code",
   "execution_count": 67,
   "metadata": {},
   "outputs": [
    {
     "name": "stdout",
     "output_type": "stream",
     "text": [
      "<__main__.Employee object at 0x000001A1C119AEB8>\n"
     ]
    }
   ],
   "source": [
    "class Employee:\n",
    "    def __init__(self, first, last, pay):\n",
    "        self.first = first\n",
    "        self.last = last\n",
    "        self.email = first + '.' + last + '@email.com'\n",
    "        self.pay = pay\n",
    "\n",
    "        \n",
    "emp1 = Employee('Mark', 'Doe', 50000)\n",
    "# 直接打印emp1\n",
    "\n",
    "print(emp1)"
   ]
  },
  {
   "cell_type": "markdown",
   "metadata": {},
   "source": [
    "- 输出了一些提示性信息, 但是并不是很友好,只是显示了内存地址等抽象信息\n",
    "- 我们想知道跟具体易懂的信息\n",
    "- 用\\__repr\\__()"
   ]
  },
  {
   "cell_type": "code",
   "execution_count": 68,
   "metadata": {},
   "outputs": [
    {
     "name": "stdout",
     "output_type": "stream",
     "text": [
      "Mark Doe\n"
     ]
    }
   ],
   "source": [
    "class Employee:\n",
    "    def __init__(self, first, last, pay):\n",
    "        self.first = first\n",
    "        self.last = last\n",
    "        self.email = first + '.' + last + '@email.com'\n",
    "        self.pay = pay\n",
    "    \n",
    "    def __repr__(self):\n",
    "        \n",
    "        return '{} {}'.format(self.first, self.last)\n",
    "\n",
    "\n",
    "\n",
    "\n",
    "\n",
    "        \n",
    "emp1 = Employee('Mark', 'Doe', 50000)\n",
    "\n",
    "print(emp1)"
   ]
  },
  {
   "cell_type": "markdown",
   "metadata": {},
   "source": [
    "- 比较友好的输出"
   ]
  },
  {
   "cell_type": "markdown",
   "metadata": {},
   "source": [
    "- 重写\\__str\\__()\n",
    "- 相当于把Employee 转化成了 str字符串"
   ]
  },
  {
   "cell_type": "code",
   "execution_count": 70,
   "metadata": {},
   "outputs": [
    {
     "name": "stdout",
     "output_type": "stream",
     "text": [
      "Mark Doe Mark.Doe@email.com\n"
     ]
    }
   ],
   "source": [
    "class Employee:\n",
    "    def __init__(self, first, last, pay):\n",
    "        self.first = first\n",
    "        self.last = last\n",
    "        self.email = first + '.' + last + '@email.com'\n",
    "        self.pay = pay\n",
    "    \n",
    "    def __repr__(self):\n",
    "        \n",
    "        return '{} {}'.format(self.first, self.last)\n",
    "    \n",
    "    def __str__(self):\n",
    "        \n",
    "        return '{} {} {}'.format(self.first, self.last, self.email)\n",
    "    \n",
    "    \n",
    "    \n",
    "emp1 = Employee('Mark', 'Doe', 50000)\n",
    "\n",
    "print(emp1)"
   ]
  },
  {
   "cell_type": "markdown",
   "metadata": {},
   "source": [
    "- \\__str\\__()覆盖住了\\__repr\\__()\n",
    "- 同时存在时一般\\__str\\__()优先"
   ]
  },
  {
   "cell_type": "markdown",
   "metadata": {},
   "source": [
    "#### 还有很多特殊函数, 可以在Python文档里找到\n",
    "- 例如\\_\\_len()\\_\\_"
   ]
  },
  {
   "cell_type": "markdown",
   "metadata": {},
   "source": [
    "- 将两个employee 相加? _\\_add_\\_()\n",
    "- 重写\\_\\_len()\\_\\_方法"
   ]
  },
  {
   "cell_type": "code",
   "execution_count": 72,
   "metadata": {},
   "outputs": [
    {
     "name": "stdout",
     "output_type": "stream",
     "text": [
      "7\n"
     ]
    }
   ],
   "source": [
    "class Employee:\n",
    "    def __init__(self, first, last, pay):\n",
    "        self.first = first\n",
    "        self.last = last\n",
    "        self.email = first + '.' + last + '@email.com'\n",
    "        self.pay = pay\n",
    "    \n",
    "    def __repr__(self):\n",
    "        \n",
    "        return '{} {}'.format(self.first, self.last)\n",
    "    \n",
    "    def __str__(self):\n",
    "        \n",
    "        return '{} {} {}'.format(self.first, self.last, self.email)\n",
    "    \n",
    "    def __len__(self):\n",
    "        \n",
    "        return len(self.first + self.last)\n",
    "    \n",
    "    \n",
    "    \n",
    "\n",
    "emp1 = Employee('Mark', 'Doe', 50000)\n",
    "\n",
    "print(len(emp1))"
   ]
  },
  {
   "cell_type": "markdown",
   "metadata": {},
   "source": [
    "| name | name | name | name |\n",
    "|:--- |:----|:--- |:----|\n",
    "| object.__add__(self, other)           | object.__radd__(self, other)      | object.__iadd__(self, other)           | object.__neg__(self) \n",
    "| object.__sub__(self, other)           | object.__rsub__(self, other)      | object.__isub__(self, other)           | object.__pos__(self) \n",
    "| object.__mul__(self, other)           | object.__rmul__(self, other)      | object.__imul__(self, other)           | object.__abs__(self) \n",
    "| object.__matmul__(self, other)        | object.__rmatmul__(self, other)   | object.__imatmul__(self, other)        | object.__invert__(self) \n",
    "| object.__truediv__(self, other)       | object.__rtruediv__(self, other)  | object.__itruediv__(self, other)       |  \n",
    "| object.__floordiv__(self, other)      | object.__rfloordiv__(self, other) | object.__ifloordiv__(self, other)      | object.__complex__(self) \n",
    "| object.__mod__(self, other)           | object.__rmod__(self, other)      | object.__imod__(self, other)           | object.__int__(self) \n",
    "| object.__divmod__(self, other)        | object.__rdivmod__(self, other)   | object.__ipow__(self, other[, modulo]) | object.__float__(self) \n",
    "| object.__pow__(self, other[, modulo]) | object.__rpow__(self, other)      | object.__ilshift__(self, other)        |  \n",
    "| object.__lshift__(self, other)        | object.__rlshift__(self, other)   | object.__irshift__(self, other)        | object.__round__(self[, ndigits]) \n",
    "| object.__rshift__(self, other)        | object.__rrshift__(self, other)   | object.__iand__(self, other)           | object.__trunc__(self) \n",
    "| object.__and__(self, other)           | object.__rand__(self, other)      | object.__ixor__(self, other)           | object.__floor__(self) \n",
    "| object.__xor__(self, other)           | object.__rxor__(self, other)      | object.__ior__(self, other)            | object.__ceil__(self) \n",
    "| object.__or__(self, other)            | object.__ror__(self, other)       |                                        |"
   ]
  },
  {
   "cell_type": "markdown",
   "metadata": {},
   "source": [
    "# 6."
   ]
  },
  {
   "cell_type": "markdown",
   "metadata": {},
   "source": [
    "###  装饰器 - Getters, Setters, and Deleters"
   ]
  },
  {
   "cell_type": "markdown",
   "metadata": {},
   "source": [
    "- 修改员工的first 属性, 再输出email的值"
   ]
  },
  {
   "cell_type": "code",
   "execution_count": 75,
   "metadata": {},
   "outputs": [
    {
     "name": "stdout",
     "output_type": "stream",
     "text": [
      "Mary\n",
      "Mark.Doe@email.com\n"
     ]
    }
   ],
   "source": [
    "class Employee:\n",
    "    def __init__(self, first, last, pay):\n",
    "        self.first = first\n",
    "        self.last = last\n",
    "        self.email = first + '.' + last + '@email.com'\n",
    "        self.pay = pay\n",
    "    \n",
    "    def fullname(self):\n",
    "        return '{} {}'.format(self.first, self.last)\n",
    "\n",
    "\n",
    "    \n",
    "emp1 = Employee('Mark', 'Doe', 50000)\n",
    "emp2 = Employee('Tom', 'Smith', 60000)\n",
    "\n",
    "\n",
    "emp1.first = 'Mary'\n",
    "print(emp1.first)\n",
    "print(emp1.email)\n"
   ]
  },
  {
   "cell_type": "markdown",
   "metadata": {},
   "source": [
    "- 修改emp1的first name后, 再次输出emp1的email, 发现email并没有随first的改变而改变\n",
    "- 因为email是在创建emp1的时候根据第一次输入的名字一次性生成的,之后email属性就不会受first 和 last 属性影响了\n",
    "- 怎么解决这个问题?\n",
    "- 1. 我们可以写一个email()方法, 就像fullname()方法一样(访问时必须调用函数)\n",
    "- 2. 写get() 和 set()方法,就像C++/Java中一样(太麻烦了)\n",
    "- 3. 使用Python的装饰器---->**@property**"
   ]
  },
  {
   "cell_type": "code",
   "execution_count": 79,
   "metadata": {},
   "outputs": [
    {
     "name": "stdout",
     "output_type": "stream",
     "text": [
      "Mary\n",
      "Mary.Doe@email.com\n"
     ]
    }
   ],
   "source": [
    "class Employee:\n",
    "    def __init__(self, first, last, pay):\n",
    "        self.first = first\n",
    "        self.last = last\n",
    "        self.pay = pay\n",
    "        \n",
    "    def fullname(self):\n",
    "        return '{} {}'.format(self.first, self.last)\n",
    "    \n",
    "    @property\n",
    "    def email(self):\n",
    "        \n",
    "        return '{}.{}@email.com'.format(self.first, self.last)\n",
    "    \n",
    "    \n",
    "    \n",
    "    \n",
    "    \n",
    "    \n",
    "    \n",
    "emp1 = Employee('Mark', 'Doe', 50000)\n",
    "\n",
    "emp1.first = 'Mary'\n",
    "print(emp1.first)\n",
    "print(emp1.email)\n"
   ]
  },
  {
   "cell_type": "markdown",
   "metadata": {},
   "source": [
    "- email(self) 和方法1.很类似, 在使用时不用调用函数的写法, 直接当做属性操作"
   ]
  },
  {
   "cell_type": "markdown",
   "metadata": {},
   "source": [
    "- 如果我们想要直接修改emp1.fullname()得到的值 ??\n",
    "- 并且使emp1对应的的first/last值都自动变为与fullname相应的值"
   ]
  },
  {
   "cell_type": "code",
   "execution_count": 82,
   "metadata": {},
   "outputs": [
    {
     "name": "stdout",
     "output_type": "stream",
     "text": [
      "{'first': 'Mark', 'last': 'Doe', 'pay': 50000, 'fullname': 'Cory Smith'}\n"
     ]
    }
   ],
   "source": [
    "class Employee:\n",
    "    def __init__(self, first, last, pay):\n",
    "        self.first = first\n",
    "        self.last = last\n",
    "        self.pay = pay\n",
    "        \n",
    "    def fullname(self):\n",
    "        return '{} {}'.format(self.first, self.last)\n",
    "    \n",
    "    @property\n",
    "    def email(self):\n",
    "        \n",
    "        return '{}.{}@email.com'.format(self.first, self.last)\n",
    "\n",
    "\n",
    "emp1 = Employee('Mark', 'Doe', 50000)\n",
    "\n",
    "\n",
    "\n",
    "\n",
    "\n",
    "\n",
    "\n",
    "\n",
    "\n",
    "\n",
    "\n",
    "\n",
    "emp1.fullname = 'Cory Smith'\n",
    "\n",
    "print(emp1.__dict__)"
   ]
  },
  {
   "cell_type": "markdown",
   "metadata": {},
   "source": [
    "#### Setters\n",
    "- 使用setter装饰器\n",
    "- **\\@attribute.setter**\n",
    "- **\\@attribute.deleter**\n",
    "- 再写一个使用 @fullname.setter 的def fullname(self, name) 即可完成修改功能e.fullname = new_name\n",
    "- 使用 @fullname.deletter 的def fullname(self)删除名字del e.fullname\n",
    "\n",
    "\n",
    "\n",
    "@attribute.setter中的attribute必须是属性或可以当做属性来使用, 不能是函数\n",
    "\n",
    "如:@fullname.setter中fullname可以作为属性来操作"
   ]
  },
  {
   "cell_type": "code",
   "execution_count": 93,
   "metadata": {},
   "outputs": [
    {
     "name": "stdout",
     "output_type": "stream",
     "text": [
      "Mary Coler\n",
      "Mary\n",
      "Coler\n",
      "{'first': 'Mary', 'last': 'Coler', 'pay': 50000}\n"
     ]
    }
   ],
   "source": [
    "class Employee:\n",
    "    def __init__(self, first, last, pay):\n",
    "        self.first = first\n",
    "        self.last = last\n",
    "        self.pay = pay\n",
    "    \n",
    "    @property\n",
    "    def email(self):\n",
    "        return self.first + '.' + self.last + '@email.com'\n",
    "    \n",
    "    @property\n",
    "    def fullname(self):\n",
    "        return '{} {}'.format(self.first, self.last)\n",
    "    \n",
    "    @fullname.setter\n",
    "    def fullname(self, new_name):\n",
    "        \n",
    "        f, l = new_name.split(\" \")\n",
    "        self.first = f\n",
    "        self.last = l\n",
    "    \n",
    "    \n",
    "    \n",
    "    \n",
    "    \n",
    "emp1 = Employee('Mark', 'Doe', 50000)\n",
    "\n",
    "emp1.fullname = 'Mary Coler'\n",
    "\n",
    "print(emp1.fullname)\n",
    "print(emp1.first)\n",
    "print(emp1.last)\n",
    "print(emp1.__dict__)"
   ]
  },
  {
   "cell_type": "markdown",
   "metadata": {},
   "source": [
    "@fullname.deleter删除 姓 名"
   ]
  },
  {
   "cell_type": "code",
   "execution_count": 92,
   "metadata": {},
   "outputs": [
    {
     "name": "stdout",
     "output_type": "stream",
     "text": [
      "delete name!\n",
      "None\n"
     ]
    }
   ],
   "source": [
    "class Employee:\n",
    "    def __init__(self, first, last, pay):\n",
    "        self.first = first\n",
    "        self.last = last\n",
    "        self.pay = pay\n",
    "    \n",
    "    @property\n",
    "    def email(self):\n",
    "        return self.first + '.' + self.last + '@email.com'\n",
    "    \n",
    "    @property\n",
    "    def fullname(self):\n",
    "        return '{} {}'.format(self.first, self.last)\n",
    "    \n",
    "    @fullname.deleter\n",
    "    def fullname(self):\n",
    "        print(\"delete name!\")\n",
    "        self.first = None\n",
    "        self.last = None\n",
    "\n",
    "  \n",
    "\n",
    "\n",
    "\n",
    "\n",
    "\n",
    "emp1 = Employee('Mark', 'Doe', 50000)\n",
    "del emp1.fullname\n",
    "\n",
    "print(emp1.first)"
   ]
  },
  {
   "cell_type": "code",
   "execution_count": null,
   "metadata": {},
   "outputs": [],
   "source": []
  },
  {
   "cell_type": "code",
   "execution_count": null,
   "metadata": {},
   "outputs": [],
   "source": []
  },
  {
   "cell_type": "code",
   "execution_count": null,
   "metadata": {},
   "outputs": [],
   "source": []
  },
  {
   "cell_type": "code",
   "execution_count": null,
   "metadata": {},
   "outputs": [],
   "source": []
  },
  {
   "cell_type": "code",
   "execution_count": null,
   "metadata": {},
   "outputs": [],
   "source": []
  },
  {
   "cell_type": "code",
   "execution_count": null,
   "metadata": {},
   "outputs": [],
   "source": []
  },
  {
   "cell_type": "code",
   "execution_count": null,
   "metadata": {},
   "outputs": [],
   "source": []
  },
  {
   "cell_type": "code",
   "execution_count": null,
   "metadata": {},
   "outputs": [],
   "source": []
  },
  {
   "cell_type": "code",
   "execution_count": null,
   "metadata": {},
   "outputs": [],
   "source": []
  },
  {
   "cell_type": "code",
   "execution_count": null,
   "metadata": {},
   "outputs": [],
   "source": []
  },
  {
   "cell_type": "code",
   "execution_count": null,
   "metadata": {},
   "outputs": [],
   "source": []
  },
  {
   "cell_type": "code",
   "execution_count": null,
   "metadata": {},
   "outputs": [],
   "source": []
  },
  {
   "cell_type": "code",
   "execution_count": null,
   "metadata": {},
   "outputs": [],
   "source": []
  },
  {
   "cell_type": "code",
   "execution_count": null,
   "metadata": {},
   "outputs": [],
   "source": []
  },
  {
   "cell_type": "code",
   "execution_count": null,
   "metadata": {},
   "outputs": [],
   "source": []
  },
  {
   "cell_type": "code",
   "execution_count": null,
   "metadata": {},
   "outputs": [],
   "source": []
  },
  {
   "cell_type": "code",
   "execution_count": null,
   "metadata": {},
   "outputs": [],
   "source": []
  },
  {
   "cell_type": "markdown",
   "metadata": {},
   "source": [
    "- 面向对象的编程6 end\n",
    "    - 补充了类中绑定/非绑定方法的介绍\n",
    "    - 原视频提到查Python Document\n",
    "    - 部分内容合并到后面的章节"
   ]
  },
  {
   "cell_type": "code",
   "execution_count": null,
   "metadata": {},
   "outputs": [],
   "source": []
  },
  {
   "cell_type": "code",
   "execution_count": null,
   "metadata": {},
   "outputs": [],
   "source": []
  },
  {
   "cell_type": "code",
   "execution_count": null,
   "metadata": {},
   "outputs": [],
   "source": []
  },
  {
   "cell_type": "code",
   "execution_count": null,
   "metadata": {},
   "outputs": [],
   "source": []
  },
  {
   "cell_type": "code",
   "execution_count": null,
   "metadata": {},
   "outputs": [],
   "source": []
  },
  {
   "cell_type": "code",
   "execution_count": null,
   "metadata": {},
   "outputs": [],
   "source": []
  },
  {
   "cell_type": "code",
   "execution_count": null,
   "metadata": {},
   "outputs": [],
   "source": []
  },
  {
   "cell_type": "code",
   "execution_count": null,
   "metadata": {},
   "outputs": [],
   "source": []
  },
  {
   "cell_type": "code",
   "execution_count": null,
   "metadata": {},
   "outputs": [],
   "source": []
  },
  {
   "cell_type": "code",
   "execution_count": null,
   "metadata": {},
   "outputs": [],
   "source": []
  },
  {
   "cell_type": "code",
   "execution_count": null,
   "metadata": {},
   "outputs": [],
   "source": []
  },
  {
   "cell_type": "code",
   "execution_count": null,
   "metadata": {},
   "outputs": [],
   "source": []
  },
  {
   "cell_type": "code",
   "execution_count": null,
   "metadata": {},
   "outputs": [],
   "source": []
  },
  {
   "cell_type": "code",
   "execution_count": null,
   "metadata": {},
   "outputs": [],
   "source": []
  },
  {
   "cell_type": "code",
   "execution_count": null,
   "metadata": {},
   "outputs": [],
   "source": []
  },
  {
   "cell_type": "code",
   "execution_count": null,
   "metadata": {},
   "outputs": [],
   "source": []
  },
  {
   "cell_type": "code",
   "execution_count": null,
   "metadata": {},
   "outputs": [],
   "source": []
  }
 ],
 "metadata": {
  "kernelspec": {
   "display_name": "Python 3",
   "language": "python",
   "name": "python3"
  },
  "language_info": {
   "codemirror_mode": {
    "name": "ipython",
    "version": 3
   },
   "file_extension": ".py",
   "mimetype": "text/x-python",
   "name": "python",
   "nbconvert_exporter": "python",
   "pygments_lexer": "ipython3",
   "version": "3.6.5"
  }
 },
 "nbformat": 4,
 "nbformat_minor": 2
}
