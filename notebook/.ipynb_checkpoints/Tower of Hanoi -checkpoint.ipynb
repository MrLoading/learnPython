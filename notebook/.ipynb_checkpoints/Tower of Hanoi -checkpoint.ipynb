{
 "cells": [
  {
   "cell_type": "markdown",
   "metadata": {},
   "source": [
    "## 汉诺塔\n",
    "### 题目描述：\n",
    "\n",
    "\n",
    "    汉诺塔是由三根杆子A，B，C组成的。A杆上有N个穿孔圆盘，盘的尺寸由下到上依次变小，编号从1到n。要求按下列规则将所有圆盘移至C杆：每次只能移动一个圆盘；大盘不能叠在小盘上面。提示：可将圆盘临时置于B杆，也可将从A杆移出的圆盘重新移回A杆，但都必须尊循上述两条规则。问：如何移？\n",
    "\n",
    "### 输入：\n",
    "\n",
    "\n",
    "    一个整数N（N<=10），表示圆盘的个数\n",
    "\n",
    "### 输出：\n",
    "\n",
    "\n",
    "    移动盘子的过程，每一步一行，格式为“要移动的盘子所在的柱子编号-->要移动到得柱子的编号”\n",
    "### 样例输入\n",
    " \n",
    "    2\n",
    "### 样例输出\n",
    "\n",
    "\n",
    "    A-->B\n",
    "    A-->C\n",
    "    B-->C"
   ]
  },
  {
   "cell_type": "code",
   "execution_count": null,
   "metadata": {},
   "outputs": [],
   "source": []
  }
 ],
 "metadata": {
  "kernelspec": {
   "display_name": "Python 3",
   "language": "python",
   "name": "python3"
  },
  "language_info": {
   "codemirror_mode": {
    "name": "ipython",
    "version": 3
   },
   "file_extension": ".py",
   "mimetype": "text/x-python",
   "name": "python",
   "nbconvert_exporter": "python",
   "pygments_lexer": "ipython3",
   "version": "3.6.5"
  }
 },
 "nbformat": 4,
 "nbformat_minor": 2
}
