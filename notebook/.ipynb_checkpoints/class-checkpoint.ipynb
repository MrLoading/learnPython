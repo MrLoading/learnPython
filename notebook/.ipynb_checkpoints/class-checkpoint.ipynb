{
 "cells": [
  {
   "cell_type": "markdown",
   "metadata": {},
   "source": [
    "## 类和对象\n",
    "- self 在对象方法中表示当前对象本身，如果调用对象的一个方法，\n",
    "    那么该对象\"self\"会自动传入当前方法的**第一个参数**中"
   ]
  },
  {
   "cell_type": "code",
   "execution_count": 1,
   "metadata": {},
   "outputs": [
    {
     "name": "stdout",
     "output_type": "stream",
     "text": [
      "94593985989264\n",
      "140385235541552\n",
      "{'__module__': '__main__', 'name': None, 'age': 'unknow', 'speak': <function stu.speak at 0x7fadfc176510>, '__dict__': <attribute '__dict__' of 'stu' objects>, '__weakref__': <attribute '__weakref__' of 'stu' objects>, '__doc__': None}\n",
      " `  `  `  `  `  `  `  `  `  `  `  `  `  `  `  `  `  `  `  ` \n",
      "94593985989264\n",
      "140385235541552\n",
      "{}\n",
      " `  `  `  `  `  `  `  `  `  `  `  `  `  `  `  `  `  `  `  ` \n",
      "140385235539816\n",
      "94593986280256\n",
      "{'name': 'Mark', 'age': 10}\n"
     ]
    }
   ],
   "source": [
    "class stu():\n",
    "    name = None\n",
    "    age = \"unknow\"\n",
    "    \n",
    "    # self 相当于Java中的this\n",
    "    def speak(self):\n",
    "        print(\"My name is \", self.name)\n",
    "        print(\"I am \", self.age, \"years old\")\n",
    "        return None\n",
    "\n",
    "print(id(stu.name))     # 地址1\n",
    "print(id(stu.age))      # 地址2\n",
    "print(stu.__dict__)\n",
    "print(\" ` \"*20)\n",
    "# Mark 为 stu 的一个实例\n",
    "Mark = stu()\n",
    "print(id(Mark.name))    # 地址1\n",
    "print(id(Mark.age))     # 地址2\n",
    "print(Mark.__dict__)\n",
    "print(\" ` \"*20)\n",
    "Mark.name = \"Mark\"\n",
    "Mark.age = 10\n",
    "print(id(Mark.name))     # 地址3\n",
    "print(id(Mark.age))      # 地址4\n",
    "print(Mark.__dict__)"
   ]
  },
  {
   "cell_type": "markdown",
   "metadata": {},
   "source": [
    "## 类的绑定方法与非绑定方法\n",
    "- 类中的方法有两类：\n",
    "\n",
    "        绑定方法\n",
    "        非绑定方法\n",
    "\n",
    "\n",
    "- self 只是一个用于接收对象的普通参数，理论上可以**用任意普通变量代替**\n",
    "\n",
    "\n",
    "- 方法中有self形参的方法称为类的**非绑定方法**,没有self形参的叫做类的**绑定方法**\n",
    "\n"
   ]
  },
  {
   "cell_type": "code",
   "execution_count": 12,
   "metadata": {},
   "outputs": [
    {
     "name": "stdout",
     "output_type": "stream",
     "text": [
      "My name is  Tom\n",
      "I am  11 years old\n",
      "My name is \n",
      "I am 11 years old\n"
     ]
    }
   ],
   "source": [
    "class stu():\n",
    "    name = None\n",
    "    age = \"unknow\"\n",
    "    \n",
    "    # self 相当于Java中的this\n",
    "    def speak(self):\n",
    "        print(\"My name is \", self.name)\n",
    "        print(\"I am \", self.age, \"years old\")\n",
    "        return None\n",
    "    def reSpeak(s):\n",
    "        print(\"My name is \".format(s.name))\n",
    "        print(\"I am {0} years old\".format(s.age))\n",
    "        return None\n",
    "    \n",
    "    \n",
    "Tom = stu()\n",
    "Tom.name = \"Tom\"\n",
    "Tom.age = 11\n",
    "Tom.speak()\n",
    "Tom.reSpeak()"
   ]
  },
  {
   "cell_type": "markdown",
   "metadata": {},
   "source": [
    "### 绑定方法\n",
    "\n",
    "#### 1.对象的绑定方法\n",
    "\n",
    "- 凡是类中的方法或函数，默认情况下都是绑定给**对象**使用的。绑定给对象使用有一种好处，那就是不用手动将对象传入。对象是自动传到类中。\n",
    "\n",
    "\n",
    "- 当**对象**调用类中方法时候，对象自动传到类中\n",
    "\n",
    "- 如果**类**来调用类中的方法，那么这个方法仅仅只是一个函数，那么既然是函数，就不会自动传值。\n",
    "\n",
    "\n",
    "- 也就是说，当**类**调用类中的方法时候，如果想结果正常运行，函数有几个参数，我们就得传递进去几个参数(這个参数可以是任意的，但是，必须传递进去)。\n",
    "\n"
   ]
  },
  {
   "cell_type": "code",
   "execution_count": 14,
   "metadata": {},
   "outputs": [
    {
     "name": "stdout",
     "output_type": "stream",
     "text": [
      "<bound method People.talk of <__main__.People object at 0x7ff80c351a20>>\n"
     ]
    }
   ],
   "source": [
    "class People:\n",
    "    def __init__(self, name):\n",
    "        self.name = name\n",
    "    def talk(self):    # 有self 参数\n",
    "        pass\n",
    "    \n",
    "p = People('Tom')\n",
    "print(p.talk)\n",
    "# 从上面的输出结果来看，talk()這个类中的方法，是绑定给对象使用的。"
   ]
  },
  {
   "cell_type": "code",
   "execution_count": 17,
   "metadata": {},
   "outputs": [
    {
     "name": "stdout",
     "output_type": "stream",
     "text": [
      "<bound method People.talk of <__main__.People object at 0x7ff80c2cd080>>\n",
      "<function People.talk at 0x7ff80c2b2598>\n"
     ]
    }
   ],
   "source": [
    "class People:\n",
    "    def __init__(self, name):\n",
    "        self.name = name\n",
    "    def talk():     # 无self 参数\n",
    "        pass\n",
    "    \n",
    "p = People('Tom')\n",
    "print(p.talk)\n",
    "# 结果显示与上面是一样。\n",
    "# 这说明，不管是类中的方法，还是类中函数，默认情况下都是绑定给对象使用的。\n",
    "print(People.talk)\n",
    "# 如果类调用类中的方法，那么这个方法仅仅只是一个函数，无自动传值这一功能\n",
    "\n",
    "People.talk() \n",
    "\n",
    "People.talk() \n",
    "# 当类调用类中的方法时，不会自动传值，函数有几个参数，就得传递进去几个参数(任意)"
   ]
  },
  {
   "cell_type": "code",
   "execution_count": 29,
   "metadata": {},
   "outputs": [],
   "source": [
    "class People:\n",
    "    def __init__(self, name):\n",
    "        self.name = name\n",
    "    def talk(self):     # 有self 参数\n",
    "        pass\n",
    "    \n",
    "p = People('Tom')\n",
    "p.talk()\n",
    "People.talk(123)\n",
    "People.talk()   # 报错 TypeError: talk() missing 1 required positional argument: 'self'\n",
    "# 当类调用类中的方法时，不会自动传值，函数有几个参数，就得传递进去几个参数(任意)"
   ]
  },
  {
   "cell_type": "code",
   "execution_count": 34,
   "metadata": {},
   "outputs": [],
   "source": [
    "class People:\n",
    "    def __init__(self, name):\n",
    "        self.name = name\n",
    "    def talk():     # 无self 参数\n",
    "        pass\n",
    "    \n",
    "p = People('Tom')\n",
    "\n",
    "People.talk()\n",
    "p.talk()  # 此行报错 TypeError: talk() takes 0 positional arguments but 1 was given\n",
    "# People来调用talk()方法时候，并不需要传递参数；\n",
    "# 而当对象来调用talk()的时候，由于对象调用自己的绑定方法，会自动将对象当作第一个参数传递进去，\n",
    "# 所以，当类中talk()方法没有带参数时，而你又给它传递了一个，显然是会报错的。"
   ]
  },
  {
   "cell_type": "markdown",
   "metadata": {},
   "source": [
    "#### 综上所述，我们可以得出以下结论：\n",
    "\n",
    "1. <font color=#008000>凡是类中的方法和函数，都是绑定给对象使用的</font>\n",
    "2. <font color=#008000>绑定方法都有自动传值的功能。传递进去的值，就是对象本身</font>\n",
    "3. <font color=#008000>如果类想调用绑定方法，就必须遵循函数的参数规则，有几个参数，就必须传递几个参数</font>\n"
   ]
  },
  {
   "cell_type": "markdown",
   "metadata": {},
   "source": [
    "This is [an example](http://example.com/ \"Title\") inline link."
   ]
  },
  {
   "cell_type": "code",
   "execution_count": null,
   "metadata": {},
   "outputs": [],
   "source": []
  }
 ],
 "metadata": {
  "kernelspec": {
   "display_name": "Python 3",
   "language": "python",
   "name": "python3"
  },
  "language_info": {
   "codemirror_mode": {
    "name": "ipython",
    "version": 3
   },
   "file_extension": ".py",
   "mimetype": "text/x-python",
   "name": "python",
   "nbconvert_exporter": "python",
   "pygments_lexer": "ipython3",
   "version": "3.6.5"
  }
 },
 "nbformat": 4,
 "nbformat_minor": 2
}
