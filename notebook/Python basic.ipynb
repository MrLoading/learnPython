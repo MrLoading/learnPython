{
 "cells": [
  {
   "cell_type": "code",
   "execution_count": null,
   "metadata": {},
   "outputs": [],
   "source": [
    "print(\"hello world\")"
   ]
  },
  {
   "cell_type": "markdown",
   "metadata": {},
   "source": [
    "## 进制表示"
   ]
  },
  {
   "cell_type": "code",
   "execution_count": 12,
   "metadata": {},
   "outputs": [
    {
     "name": "stdout",
     "output_type": "stream",
     "text": [
      "8进制特殊开头“0o”%d 18\n",
      "2进制特殊开头“0b”%d 18\n"
     ]
    }
   ],
   "source": [
    "age = 0o22\n",
    "print(\"8进制特殊开头“0o”%d\",age)\n",
    "age = 0b10010\n",
    "print(\"2进制特殊开头“0b”%d\",age)"
   ]
  },
  {
   "cell_type": "markdown",
   "metadata": {},
   "source": [
    "## 换行符"
   ]
  },
  {
   "cell_type": "code",
   "execution_count": 19,
   "metadata": {},
   "outputs": [
    {
     "name": "stdout",
     "output_type": "stream",
     "text": [
      "字符串1.单双引号、1.三单双引号\n",
      "三引号可表示多行\n",
      "here next  line \r\n",
      " anther \n",
      " line\n"
     ]
    }
   ],
   "source": [
    "str = '''字符串1.单双引号、1.三单双引号\n",
    "三引号可表示多行'''\n",
    "print(str)\n",
    "#windows中：\\n\n",
    "#linux 中 ：\\r\\t\n",
    "str1 = \"here next  line \\r\\n anther \\n line\"\n",
    "print(str1)"
   ]
  },
  {
   "cell_type": "markdown",
   "metadata": {},
   "source": [
    "## 格式化字符串"
   ]
  },
  {
   "cell_type": "code",
   "execution_count": 31,
   "metadata": {},
   "outputs": [
    {
     "name": "stdout",
     "output_type": "stream",
     "text": [
      "This is a %s \n",
      "This is a pen \n",
      "I am 18 years old\n",
      "This is a pen I am 18 years old\n"
     ]
    }
   ],
   "source": [
    "s = \"This is a %s \"\n",
    "age = \"I am %d years old\"\n",
    "s1 = s+age\n",
    "print(s)\n",
    "\n",
    "print(s%\"pen\")\n",
    "print(d%18)\n",
    "#多个占位符用括号将参数括起来\n",
    "print(s1%(\"pen\",18))"
   ]
  },
  {
   "cell_type": "markdown",
   "metadata": {},
   "source": [
    "### format函数格式化字符串\n",
    "- 以{}和：代替% ， format后为参数列表"
   ]
  },
  {
   "cell_type": "code",
   "execution_count": 37,
   "metadata": {},
   "outputs": [
    {
     "name": "stdout",
     "output_type": "stream",
     "text": [
      "This is a pen\n",
      "This is a pen,I am 18 years old,I have a pen\n",
      "小明 got 59\n"
     ]
    }
   ],
   "source": [
    "s = \"This is a {}\".format(\"pen\")\n",
    "print (s)\n",
    "s = \"This is a {1},I am {0} years old,I have a {1}\".format(18,\"pen\")\n",
    "print(s)\n",
    "\n",
    "grade = {'name' : '小明', 'score': '59'}\n",
    "print('{name} got {score}'.format(**grade))\n",
    "#通过关键字，可用字典当关键字传入值时，在字典前加**即可"
   ]
  },
  {
   "cell_type": "code",
   "execution_count": 38,
   "metadata": {},
   "outputs": [
    {
     "name": "stdout",
     "output_type": "stream",
     "text": [
      "11111010\n",
      "372\n",
      "250\n",
      "fa\n"
     ]
    }
   ],
   "source": [
    "#进制转换10——>其他进制\n",
    "print('{:b}'.format(250))\n",
    "print('{:o}'.format(250))\n",
    "print('{:d}'.format(250))\n",
    "print('{:x}'.format(250))"
   ]
  },
  {
   "cell_type": "code",
   "execution_count": 39,
   "metadata": {},
   "outputs": [
    {
     "name": "stdout",
     "output_type": "stream",
     "text": [
      "3.142\n",
      "3.100\n"
     ]
    }
   ],
   "source": [
    "#精度控制\n",
    "print('{:.3f}'.format(3.14159265))\n",
    "print('{:.3f}'.format(3.1))"
   ]
  },
  {
   "cell_type": "code",
   "execution_count": 43,
   "metadata": {},
   "outputs": [
    {
     "name": "stdout",
     "output_type": "stream",
     "text": [
      "      小明      \n",
      "######小明######\n",
      "            小明\n",
      "&&&&&&&&&&&&小明\n",
      "小明************\n",
      "小明            \n"
     ]
    }
   ],
   "source": [
    "#填充和对齐\n",
    "print('{:^14}'.format('小明'))\n",
    "print('{:#^14}'.format('小明'))\n",
    "print('{:>14}'.format('小明'))\n",
    "print('{:&>14}'.format('小明'))\n",
    "print('{:*<14}'.format('小明'))\n",
    "print('{:<14}'.format('小明'))\n",
    "#其中^<>分别表示居中、左对齐、右对齐，后面带宽度"
   ]
  },
  {
   "cell_type": "markdown",
   "metadata": {},
   "source": [
    "## 运算符"
   ]
  },
  {
   "cell_type": "markdown",
   "metadata": {},
   "source": [
    "### 算术运算符\n",
    "- / Python2.x 与Python3.x中，除号（/）可能不同\n",
    "- ** 幂运算\n",
    "- // 取整除 - 返回商的整数部分"
   ]
  },
  {
   "cell_type": "code",
   "execution_count": 49,
   "metadata": {},
   "outputs": [
    {
     "name": "stdout",
     "output_type": "stream",
     "text": [
      "Python3.x : /  1.5\n",
      "64\n",
      "Python3.x : // \" 1\n"
     ]
    }
   ],
   "source": [
    "a = 3/2\n",
    "#Python22.x中结果为“1” ， Python23.x中结果为“1.5”\n",
    "print('Python3.x : / ',a)\n",
    "a = 4 ** 3\n",
    "print(a)\n",
    "a = 3//2\n",
    "print('Python3.x : // \"',a)"
   ]
  },
  {
   "cell_type": "markdown",
   "metadata": {},
   "source": [
    "### 逻辑运算符\n",
    "- and 逻辑与\n",
    "- or 逻辑或\n",
    "- not 逻辑非\n",
    "- 没有异或\n",
    "    - and ~ 乘\n",
    "    - or  ~ 加\n",
    "    - True  ~ 1\n",
    "    - False ~ 0"
   ]
  },
  {
   "cell_type": "code",
   "execution_count": 55,
   "metadata": {},
   "outputs": [
    {
     "name": "stdout",
     "output_type": "stream",
     "text": [
      "True\n"
     ]
    }
   ],
   "source": [
    "a = True\n",
    "b = False\n",
    "c = True\n",
    "d = a and b or c\n",
    "print(d)"
   ]
  },
  {
   "cell_type": "markdown",
   "metadata": {},
   "source": [
    "### 位运算符\n",
    "- &\t按位与运算符\n",
    "- |\t按位或运算符\n",
    "- ^\t按位异或运算符\n",
    "- ~\t按位取反运算符： ~x 类似于 -x-1  有符号二进制数的补码形式。\n",
    "- << 左移动运算符：运算数的各二进位全部左移指定移动的位数\n",
    "- \\>> 右移动运算符：把\">>\"左边的运算数的各二进位全部右移指定移动的位数"
   ]
  },
  {
   "cell_type": "markdown",
   "metadata": {},
   "source": [
    "### 成员运算符\n",
    "- in\n",
    "- not in"
   ]
  },
  {
   "cell_type": "code",
   "execution_count": 56,
   "metadata": {},
   "outputs": [
    {
     "name": "stdout",
     "output_type": "stream",
     "text": [
      "False\n",
      "True\n"
     ]
    }
   ],
   "source": [
    "array = {1,2,3,4,6}\n",
    "a = 5\n",
    "print(a in array)\n",
    "print(a not in array)"
   ]
  },
  {
   "cell_type": "markdown",
   "metadata": {},
   "source": [
    "## 基本输入输出\n",
    "- input(\"提示信息\") 以字符串类型接收所有输入内容\n",
    "- print(*objects, sep=' ', end='\\n', file=sys.stdout, flush=False)\n",
    "    - objects -- 复数，表示可以一次输出多个对象。输出多个对象时，需要用 , 分隔。\n",
    "    - sep -- 用来间隔多个对象，默认值是一个空格。\n",
    "    - end -- 用来设定以什么结尾。默认值是换行符 \\n，我们可以换成其他字符串。\n",
    "    - file -- 要写入的文件对象\\数据流。\n",
    "    - flush表示是否立刻将输出语句输入到参数file指向的对象中\n",
    "    - 例如："
   ]
  },
  {
   "cell_type": "code",
   "execution_count": 40,
   "metadata": {},
   "outputs": [],
   "source": [
    "f = open('example.txt','w')\n",
    "print('a',file=f)\n",
    "#可以看到abc.txt文件这时为空，只有执行f.close()之后才将内容写进文件。\n",
    "#如果改为：\n",
    "print('a',file=f,flush=True)\n",
    "#则立刻就可以看到文件的内容"
   ]
  },
  {
   "cell_type": "markdown",
   "metadata": {},
   "source": [
    "- input([prompt])\n",
    "    - 接收任意任性输入，将所有输入默认为字符串处理，并返回字符串类型。\n",
    "    - prompt: 提示信息"
   ]
  },
  {
   "cell_type": "code",
   "execution_count": 41,
   "metadata": {},
   "outputs": [
    {
     "name": "stdout",
     "output_type": "stream",
     "text": [
      "input:123\n"
     ]
    },
    {
     "data": {
      "text/plain": [
       "str"
      ]
     },
     "execution_count": 41,
     "metadata": {},
     "output_type": "execute_result"
    }
   ],
   "source": [
    "a = input(\"input:\")\n",
    "input:123                  # 输入整数\n",
    "type(a)  "
   ]
  },
  {
   "cell_type": "markdown",
   "metadata": {},
   "source": [
    "##### 交换变量值"
   ]
  },
  {
   "cell_type": "code",
   "execution_count": 1,
   "metadata": {},
   "outputs": [
    {
     "name": "stdout",
     "output_type": "stream",
     "text": [
      "2\n",
      "1\n"
     ]
    }
   ],
   "source": [
    "a = 1\n",
    "b = 2\n",
    "a,b = b,a\n",
    "print(a)\n",
    "print(b)"
   ]
  },
  {
   "cell_type": "markdown",
   "metadata": {},
   "source": [
    "## 分支循环"
   ]
  },
  {
   "cell_type": "code",
   "execution_count": 21,
   "metadata": {},
   "outputs": [
    {
     "name": "stdout",
     "output_type": "stream",
     "text": [
      "Input age :  14\n",
      "litter brother!\n"
     ]
    }
   ],
   "source": [
    "age = input(\"Input age :  \")\n",
    "age = int(age)\n",
    "if age < 16:\n",
    "    print(\"litter brother!\")\n",
    "elif age < 24:\n",
    "    print(\"16 < age < 24\")\n",
    "else:\n",
    "    print(\"big old!\")"
   ]
  },
  {
   "cell_type": "markdown",
   "metadata": {},
   "source": [
    "### python 没有switch case语句 可用if-elif-else代替"
   ]
  },
  {
   "cell_type": "code",
   "execution_count": 25,
   "metadata": {},
   "outputs": [
    {
     "name": "stdout",
     "output_type": "stream",
     "text": [
      "Input age :  1\n",
      "3\n",
      "汪汪汪\n"
     ]
    }
   ],
   "source": [
    "age = input(\"Input age :  \")\n",
    "age = int(age)\n",
    "\n",
    "switch = {\n",
    "      0:lambda x:x+1,\n",
    "      1:lambda x:x*3,\n",
    "      2:lambda x:x**x\n",
    "  }\n",
    "  \n",
    "try:\n",
    "    print(switch[age](age))\n",
    "except KeyError as e:\n",
    "     pass\n",
    "##\n",
    "switch = {\n",
    "      0:\"喵喵喵\",\n",
    "      1:\"汪汪汪\",\n",
    "      2:\"嘤嘤嘤\"\n",
    "  }\n",
    "if age == 0:\n",
    "    print(swiitch[0])\n",
    "elif age == 1:\n",
    "    print(switch[1])\n",
    "else:\n",
    "    print(switch[2])"
   ]
  },
  {
   "cell_type": "markdown",
   "metadata": {},
   "source": [
    "### range()\n",
    "- 生成一个数组序列\n",
    "- 范围可限定"
   ]
  },
  {
   "cell_type": "code",
   "execution_count": 31,
   "metadata": {},
   "outputs": [
    {
     "name": "stdout",
     "output_type": "stream",
     "text": [
      "5,6,7,8,9,"
     ]
    }
   ],
   "source": [
    "for i in range(5,10):\n",
    "    print(\"%d,\"%i,end=\"\")#print()输出不换行，以“”结尾"
   ]
  },
  {
   "cell_type": "markdown",
   "metadata": {},
   "source": [
    "### for-else语句\n",
    "- for 循环结束时执行else\n",
    "- else 可选"
   ]
  },
  {
   "cell_type": "code",
   "execution_count": 35,
   "metadata": {},
   "outputs": [
    {
     "name": "stdout",
     "output_type": "stream",
     "text": [
      "Petter\n",
      "Petter is just so so !\n",
      "Mark\n",
      "Mark is a big old !\n",
      "Lily\n",
      "Lily is just so so !\n",
      "That's alllllll\n"
     ]
    }
   ],
   "source": [
    "for name in ['Petter','Mark','Lily']:\n",
    "    print(name)\n",
    "    if name == 'Mark':\n",
    "        print(\"{0} is a big old !\".format(name))\n",
    "    else:\n",
    "        print(\"{0} is just so so !\".format(name))\n",
    "else:\n",
    "    print(\"That's alllllll\")"
   ]
  },
  {
   "cell_type": "markdown",
   "metadata": {},
   "source": [
    "### while-else语句\n",
    "- else 可选"
   ]
  },
  {
   "cell_type": "code",
   "execution_count": 3,
   "metadata": {},
   "outputs": [
    {
     "name": "stdout",
     "output_type": "stream",
     "text": [
      "The 0 day\n",
      "The 1 day\n",
      "The 2 day\n",
      "done!\n"
     ]
    }
   ],
   "source": [
    "day = 3\n",
    "today = 0\n",
    "while today < day:\n",
    "    print(\"The %d day\"%today)\n",
    "    today += 1\n",
    "else:\n",
    "    print(\"done!\")"
   ]
  },
  {
   "cell_type": "code",
   "execution_count": null,
   "metadata": {},
   "outputs": [],
   "source": []
  }
 ],
 "metadata": {
  "kernelspec": {
   "display_name": "Python 3",
   "language": "python",
   "name": "python3"
  },
  "language_info": {
   "codemirror_mode": {
    "name": "ipython",
    "version": 3
   },
   "file_extension": ".py",
   "mimetype": "text/x-python",
   "name": "python",
   "nbconvert_exporter": "python",
   "pygments_lexer": "ipython3",
   "version": "3.6.5"
  }
 },
 "nbformat": 4,
 "nbformat_minor": 2
}
