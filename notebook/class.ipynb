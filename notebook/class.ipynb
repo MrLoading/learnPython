{
 "cells": [
  {
   "cell_type": "markdown",
   "metadata": {},
   "source": [
    "## 类和对象\n",
    "- self 在对象方法中表示当前对象本身，如果调用对象的一个方法，\n",
    "    那么该对象\"self\"会自动传入当前方法的**第一个参数**中\n",
    "- 对象访问一个成员时,如果对象中没有该成员,尝试访问类中的同名成员。如果对象中有此成员,一定使用对象中的成员\n",
    "- 创建对象的时候,类中的成员不会放入对象当中,而是得到一个空对象,没有成员\n",
    "- 通过对象对类中成员重新赋值或者通过对象添加成员应成员会保存在对象中,而不会修改类成员"
   ]
  },
  {
   "cell_type": "code",
   "execution_count": 1,
   "metadata": {},
   "outputs": [
    {
     "name": "stdout",
     "output_type": "stream",
     "text": [
      "94593985989264\n",
      "140385235541552\n",
      "{'__module__': '__main__', 'name': None, 'age': 'unknow', 'speak': <function stu.speak at 0x7fadfc176510>, '__dict__': <attribute '__dict__' of 'stu' objects>, '__weakref__': <attribute '__weakref__' of 'stu' objects>, '__doc__': None}\n",
      " `  `  `  `  `  `  `  `  `  `  `  `  `  `  `  `  `  `  `  ` \n",
      "94593985989264\n",
      "140385235541552\n",
      "{}\n",
      " `  `  `  `  `  `  `  `  `  `  `  `  `  `  `  `  `  `  `  ` \n",
      "140385235539816\n",
      "94593986280256\n",
      "{'name': 'Mark', 'age': 10}\n"
     ]
    }
   ],
   "source": [
    "class stu():\n",
    "    name = None\n",
    "    age = \"unknow\"\n",
    "    \n",
    "    # self 相当于Java中的this\n",
    "    def speak(self):\n",
    "        print(\"My name is \", self.name)\n",
    "        print(\"I am \", self.age, \"years old\")\n",
    "        return None\n",
    "\n",
    "print(id(stu.name))     # 地址1\n",
    "print(id(stu.age))      # 地址2\n",
    "print(stu.__dict__)\n",
    "print(\" ` \"*20)\n",
    "# Mark 为 stu 的一个实例\n",
    "Mark = stu()\n",
    "print(id(Mark.name))    # 地址1\n",
    "print(id(Mark.age))     # 地址2\n",
    "print(Mark.__dict__)\n",
    "print(\" ` \"*20)\n",
    "Mark.name = \"Mark\"\n",
    "Mark.age = 10\n",
    "print(id(Mark.name))     # 地址3\n",
    "print(id(Mark.age))      # 地址4\n",
    "print(Mark.__dict__)"
   ]
  },
  {
   "cell_type": "markdown",
   "metadata": {},
   "source": [
    "- 类访问绑定类的方法时,如果类方法中需要访问当前类的成员,可以通过 **\\_\\_cLas\\_\\_.成员名**来访问"
   ]
  },
  {
   "cell_type": "code",
   "execution_count": 30,
   "metadata": {},
   "outputs": [
    {
     "name": "stdout",
     "output_type": "stream",
     "text": [
      "My name is None\n",
      "My age is 0\n",
      "My name is Mark\n",
      "My age is 14\n",
      "My name is None\n",
      "My age is 0\n"
     ]
    }
   ],
   "source": [
    "class stu():\n",
    "    name = None\n",
    "    age = 0\n",
    "    \n",
    "    # self 相当于Java中的this\n",
    "    def speak(self):\n",
    "        self.name = \"Mark\"\n",
    "        self.age = 14\n",
    "        print(\"My name is {0}\".format(self.name))\n",
    "        print(\"My age is {0}\".format(self.age))\n",
    "        print(\"My name is {0}\".format(__class__.name))\n",
    "        print(\"My age is {0}\".format(__class__.age))\n",
    "    def say():\n",
    "        print(\"My name is {0}\".format(__class__.name))\n",
    "        print(\"My age is {0}\".format(__class__.age))\n",
    "        \n",
    "        \n",
    "stu.say()\n",
    "Tom = stu()\n",
    "Tom.name = Tom\n",
    "Tom.speak()"
   ]
  },
  {
   "cell_type": "markdown",
   "metadata": {},
   "source": [
    "## 类的绑定方法与非绑定方法\n",
    "- 类中的方法有两类：\n",
    "\n",
    "        绑定方法\n",
    "        非绑定方法\n",
    "\n",
    "\n",
    "- self 只是一个用于接收对象的普通参数，理论上可以**用任意普通变量代替**\n",
    "\n",
    "\n",
    "- 方法中有self形参的方法称为类的**非绑定方法**,没有self形参的叫做类的**绑定方法**\n",
    "\n"
   ]
  },
  {
   "cell_type": "code",
   "execution_count": 12,
   "metadata": {},
   "outputs": [
    {
     "name": "stdout",
     "output_type": "stream",
     "text": [
      "My name is  Tom\n",
      "I am  11 years old\n",
      "My name is \n",
      "I am 11 years old\n"
     ]
    }
   ],
   "source": [
    "class stu():\n",
    "    name = None\n",
    "    age = \"unknow\"\n",
    "    \n",
    "    # self 相当于Java中的this\n",
    "    def speak(self):\n",
    "        print(\"My name is \", self.name)\n",
    "        print(\"I am \", self.age, \"years old\")\n",
    "        return None\n",
    "    def reSpeak(s):\n",
    "        print(\"My name is \".format(s.name))\n",
    "        print(\"I am {0} years old\".format(s.age))\n",
    "        return None\n",
    "    \n",
    "    \n",
    "Tom = stu()\n",
    "Tom.name = \"Tom\"\n",
    "Tom.age = 11\n",
    "Tom.speak()\n",
    "Tom.reSpeak()"
   ]
  },
  {
   "cell_type": "markdown",
   "metadata": {},
   "source": [
    "### 绑定方法\n",
    "\n",
    "#### 1.对象的绑定方法\n",
    "\n",
    "- 凡是类中的方法或函数，默认情况下都是绑定给**对象**使用的。绑定给对象使用有一种好处，那就是不用手动将对象传入。对象是自动传到类中。\n",
    "\n",
    "\n",
    "- 当**对象**调用类中方法时候，对象自动传到类中\n",
    "\n",
    "- 如果**类**来调用类中的方法，那么这个方法仅仅只是一个函数，那么既然是函数，就不会自动传值。\n",
    "\n",
    "\n",
    "- 也就是说，当**类**调用类中的方法时候，如果想结果正常运行，函数有几个参数，我们就得传递进去几个参数(這个参数可以是任意的，但是，必须传递进去)。\n",
    "\n"
   ]
  },
  {
   "cell_type": "code",
   "execution_count": 14,
   "metadata": {},
   "outputs": [
    {
     "name": "stdout",
     "output_type": "stream",
     "text": [
      "<bound method People.talk of <__main__.People object at 0x7ff80c351a20>>\n"
     ]
    }
   ],
   "source": [
    "class People:\n",
    "    def __init__(self, name):\n",
    "        self.name = name\n",
    "    def talk(self):    # 有self 参数\n",
    "        pass\n",
    "    \n",
    "p = People('Tom')\n",
    "print(p.talk)\n",
    "# 从上面的输出结果来看，talk()這个类中的方法，是绑定给对象使用的。"
   ]
  },
  {
   "cell_type": "code",
   "execution_count": 17,
   "metadata": {},
   "outputs": [
    {
     "name": "stdout",
     "output_type": "stream",
     "text": [
      "<bound method People.talk of <__main__.People object at 0x7ff80c2cd080>>\n",
      "<function People.talk at 0x7ff80c2b2598>\n"
     ]
    }
   ],
   "source": [
    "class People:\n",
    "    def __init__(self, name):\n",
    "        self.name = name\n",
    "    def talk():     # 无self 参数\n",
    "        pass\n",
    "    \n",
    "p = People('Tom')\n",
    "print(p.talk)\n",
    "# 结果显示与上面是一样。\n",
    "# 这说明，不管是类中的方法，还是类中函数，默认情况下都是绑定给对象使用的。\n",
    "print(People.talk)\n",
    "# 如果类调用类中的方法，那么这个方法仅仅只是一个函数，无自动传值这一功能\n",
    "\n",
    "People.talk() \n",
    "\n",
    "People.talk() \n",
    "# 当类调用类中的方法时，不会自动传值，函数有几个参数，就得传递进去几个参数(任意)"
   ]
  },
  {
   "cell_type": "code",
   "execution_count": 29,
   "metadata": {},
   "outputs": [],
   "source": [
    "class People:\n",
    "    def __init__(self, name):\n",
    "        self.name = name\n",
    "    def talk(self):     # 有self 参数\n",
    "        pass\n",
    "    \n",
    "p = People('Tom')\n",
    "p.talk()\n",
    "People.talk(123)\n",
    "People.talk()   # 报错 TypeError: talk() missing 1 required positional argument: 'self'\n",
    "# 当类调用类中的方法时，不会自动传值，函数有几个参数，就得传递进去几个参数(任意)"
   ]
  },
  {
   "cell_type": "code",
   "execution_count": 34,
   "metadata": {},
   "outputs": [],
   "source": [
    "class People:\n",
    "    def __init__(self, name):\n",
    "        self.name = name\n",
    "    def talk():     # 无self 参数\n",
    "        pass\n",
    "    \n",
    "p = People('Tom')\n",
    "\n",
    "People.talk()\n",
    "p.talk()  # 此行报错 TypeError: talk() takes 0 positional arguments but 1 was given\n",
    "# People来调用talk()方法时候，并不需要传递参数；\n",
    "# 而当对象来调用talk()的时候，由于对象调用自己的绑定方法，会自动将对象当作第一个参数传递进去，\n",
    "# 所以，当类中talk()方法没有带参数时，而你又给它传递了一个，显然是会报错的。"
   ]
  },
  {
   "cell_type": "markdown",
   "metadata": {},
   "source": [
    "#### 综上所述，我们可以得出以下结论：\n",
    "\n",
    "1. <font color=#008000>凡是类中的方法和函数，都是绑定给对象使用的</font>\n",
    "2. <font color=#008000>绑定方法都有自动传值的功能。传递进去的值，就是对象本身</font>\n",
    "3. <font color=#008000>如果</font>类<font color=#008000>想调用绑定方法，就必须遵循函数的参数规则，有几个参数，就必须传递几个参数</font>\n"
   ]
  },
  {
   "cell_type": "markdown",
   "metadata": {},
   "source": [
    "#### 2.类的绑定方法\n",
    "- 既然类中的方法，默认都是绑定给对象使用，那么，我们要采取一点措施，将类中的绑定方法解除对象绑定关系，进而绑定到类上。\n",
    "- 在python中，引入了 **@classmethod** 方法，将类中的方法绑定到类身上。"
   ]
  },
  {
   "cell_type": "code",
   "execution_count": 2,
   "metadata": {},
   "outputs": [
    {
     "name": "stdout",
     "output_type": "stream",
     "text": [
      "<bound method People.talk of <class '__main__.People'>>\n"
     ]
    }
   ],
   "source": [
    "class People:\n",
    "    @classmethod\n",
    "    def talk(cls):\n",
    "        pass\n",
    "\n",
    "p = People()\n",
    "print(People.talk)"
   ]
  },
  {
   "cell_type": "markdown",
   "metadata": {},
   "source": [
    "- 从上述结果可以看出，我们加上了一个装饰器，将类中绑定给对象的方法，绑定到类身上了。我们之前分析过，如果一个方法绑定到谁身上，那么在调用该函数的时候，将自动将该调用者当作第一个参数传递到函数中。"
   ]
  },
  {
   "cell_type": "code",
   "execution_count": 4,
   "metadata": {},
   "outputs": [
    {
     "name": "stdout",
     "output_type": "stream",
     "text": [
      "<bound method People.talk of <class '__main__.People'>>\n",
      "<bound method People.talk of <class '__main__.People'>>\n"
     ]
    }
   ],
   "source": [
    "class People:\n",
    "    def __init__(self,name):\n",
    "        self.name = name\n",
    "\n",
    "    @classmethod\n",
    "    def talk(cls):\n",
    "        pass\n",
    "\n",
    "p = People('xiaohua')\n",
    "print(People.talk)\n",
    "print(p.talk)"
   ]
  },
  {
   "cell_type": "markdown",
   "metadata": {},
   "source": [
    "- 但是，绑定到类的方法与绑定到对象方法有一点点不同：\n",
    "<font color=#008000>当对象在调用</font>类<font color=#008000>的绑定方法时，也会默认把</font>类<font color=#008000>当作参数传递进去</font>"
   ]
  },
  {
   "cell_type": "code",
   "execution_count": 8,
   "metadata": {},
   "outputs": [],
   "source": [
    "class People:\n",
    "    @classmethod\n",
    "    def talk(cls):\n",
    "        pass\n",
    "\n",
    "p = People()\n",
    "People.talk()\n",
    "p.talk()"
   ]
  },
  {
   "cell_type": "code",
   "execution_count": 17,
   "metadata": {},
   "outputs": [],
   "source": [
    "class People:\n",
    "    @classmethod\n",
    "    def talk():\n",
    "        pass\n",
    "\n",
    "p = People()\n",
    "People.talk()  #报错结果 talk() takes 0 positional arguments but 1 was given\n",
    "p.talk()       #报错结果 talk() takes 0 positional arguments but 1 was given"
   ]
  },
  {
   "cell_type": "markdown",
   "metadata": {},
   "source": [
    "- 就说明了，当对象来调用类的绑定方法时，也是自动将类传递进去，并不需遵循函数参数传递的规则。\n",
    "- 类中方法默认都是绑定给对象使用，当对象调用绑定方法时，会自动将对象作为第一个参数传递进去；而类来调用，则必须遵循函数参数一一对应的规则，有几个参数，就必须传递几个参数。如果一个方法是用了@classmethod装饰器，那么這个方法绑定到类身上，不管是对象来调用还是类调用，都会将类作为第一个参数传递进去。"
   ]
  },
  {
   "cell_type": "markdown",
   "metadata": {},
   "source": [
    "### 非绑定方法\n",
    "- python给我们提供了 **@staticmethod** 可以解除绑定关系，将一个类中的方法，变为一个普通函数。\n",
    "- 使用了 **@staticmethod** 装饰了一个函数，那么这个函数跟普通函数没有什么区别。遵从函数参数传递规则，有几个参数就传递几个参数。"
   ]
  },
  {
   "cell_type": "code",
   "execution_count": 24,
   "metadata": {},
   "outputs": [
    {
     "name": "stdout",
     "output_type": "stream",
     "text": [
      "<function MySQL.create_id at 0x7fadfc0b3400>\n",
      "<function MySQL.create_id at 0x7fadfc0b3400>\n"
     ]
    }
   ],
   "source": [
    "import hashlib\n",
    "import time\n",
    "class MySQL:\n",
    "    def __init__(self,host,port):\n",
    "        self.id=self.create_id()\n",
    "        self.host=host\n",
    "        self.port=port\n",
    "    @staticmethod\n",
    "    def create_id(): # 就是一个普通函数\n",
    "        m=hashlib.md5(str(time.clock()).encode('utf-8'))\n",
    "        return m.hexdigest()\n",
    "\n",
    "\n",
    "print(MySQL.create_id)  # 查看结果为普通函数\n",
    "conn=MySQL('127.0.0.1',1234)\n",
    "print(conn.create_id)  # 查看结果为普通函数"
   ]
  },
  {
   "cell_type": "markdown",
   "metadata": {},
   "source": [
    "部分引用自 文章：[全面解析python类的绑定方法与非绑定方法](https://www.cnblogs.com/vipchenwei/p/7126772.html \"全面解析python类的绑定方法与非绑定方法\") "
   ]
  },
  {
   "cell_type": "code",
   "execution_count": null,
   "metadata": {},
   "outputs": [],
   "source": []
  }
 ],
 "metadata": {
  "kernelspec": {
   "display_name": "Python 3",
   "language": "python",
   "name": "python3"
  },
  "language_info": {
   "codemirror_mode": {
    "name": "ipython",
    "version": 3
   },
   "file_extension": ".py",
   "mimetype": "text/x-python",
   "name": "python",
   "nbconvert_exporter": "python",
   "pygments_lexer": "ipython3",
   "version": "3.6.5"
  }
 },
 "nbformat": 4,
 "nbformat_minor": 2
}
