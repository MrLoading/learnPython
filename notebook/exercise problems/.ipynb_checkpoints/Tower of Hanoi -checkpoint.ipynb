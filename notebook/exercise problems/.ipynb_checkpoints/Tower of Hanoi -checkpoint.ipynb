{
 "cells": [
  {
   "cell_type": "markdown",
   "metadata": {},
   "source": [
    "## 汉诺塔\n",
    "### 题目描述：\n",
    "\n",
    "\n",
    "    汉诺塔是由三根杆子A，B，C组成的。A杆上有N个穿孔圆盘，盘的尺寸由下到上依次变小，编号从1到n。要求按下列规则将所有圆盘移至C杆：每次只能移动一个圆盘；大盘不能叠在小盘上面。提示：可将圆盘临时置于B杆，也可将从A杆移出的圆盘重新移回A杆，但都必须尊循上述两条规则。问：如何移？\n",
    "\n",
    "### 输入：\n",
    "\n",
    "\n",
    "    一个整数N（N<=10），表示圆盘的个数\n",
    "\n",
    "### 输出：\n",
    "\n",
    "\n",
    "    移动盘子的过程，每一步一行，格式为“要移动的盘子所在的柱子编号---要移动到得柱子的编号”\n",
    "### 样例输入\n",
    " \n",
    "    2\n",
    "### 样例输出\n",
    "\n",
    "\n",
    "    A---B\n",
    "    A---C\n",
    "    B---C"
   ]
  },
  {
   "cell_type": "code",
   "execution_count": 4,
   "metadata": {},
   "outputs": [
    {
     "name": "stdout",
     "output_type": "stream",
     "text": [
      "3\n",
      "A---C\n",
      "A---B\n",
      "C---B\n",
      "A---C\n",
      "B---A\n",
      "B---C\n",
      "A---C\n"
     ]
    }
   ],
   "source": [
    "def hanoi(n,A='A',B='B',C='C'):\n",
    "    if n == 1:\n",
    "        print(\"{0}---{1}\".format(A,C))\n",
    "        return None\n",
    "    elif n == 2:\n",
    "        print(\"{0}---{1}\".format(A,B))\n",
    "        print(\"{0}---{1}\".format(A,C))\n",
    "        print(\"{0}---{1}\".format(B,C))\n",
    "        return None\n",
    "    else:\n",
    "        #把上面 n-1 个盘子由 A 借助 C 放到 B\n",
    "        hanoi(n-1,A,C,B)\n",
    "        #再把最下面的第 n 个盘子直接由 A 放到 C\n",
    "        print(\"{0}---{1}\".format(A,C))\n",
    "        #最后把 n-1 个盘子从 B 借助 A 放到 C\n",
    "        hanoi(n-1,B,A,C)\n",
    "        return None\n",
    "n = int(input(\"\"))\n",
    "hanoi(n)"
   ]
  },
  {
   "cell_type": "markdown",
   "metadata": {},
   "source": [
    "## 汉诺塔2\n",
    "### 题目描述：\n",
    "\n",
    "\n",
    "    古老的汉诺塔问题是：用最少的步数将N个半径互不相等的圆盘从1号柱利用2号柱全部移动到3号柱，在移动过程中小盘永远在大盘上边。\n",
    "$\\color{#008000}{现在再加上一个条件：不允许从1号柱直接把盘移动到3号柱， 也不允许从3号柱直接移动到1号柱。}$\n",
    "    \n",
    "    现把盘按半径从小到大1——N进行编号。每种状态用N个整数表示， 第i个整数表示第i号盘所在的柱的编号。则N=2时的移动方案为（1,1）>（2,1）>（3，1）>（3，2）>（2,2）>（1,2）>（1,3）>(2,3) >（3,3）初始状态为0步，变成求在某步数时的状态。\n",
    "\n",
    "### 输入：\n",
    "\n",
    "\n",
    "    输入文件的第一行为整数T（1<=T<=100),表示输入数据的组数。接下来的T行，每行有两个整数N,M(1<=N<=19, 0<=M<=移动N个圆盘需要的次数）\n",
    "\n",
    "### 输出：\n",
    "\n",
    "\n",
    "    输入文件的第一行为整数T（1<=T<=100),表示输入数据的组数。接下来的T行，每行有两个整数N,M(1<=N<=19, 0<=M<=移动N个圆盘需要的次数）\n",
    "    \n",
    "### 样例输入\n",
    " \n",
    "    3\n",
    "    2 0\n",
    "    2 1\n",
    "    2 2\n",
    "    \n",
    "### 样例输出\n",
    "\n",
    "\n",
    "    1 1\n",
    "    2 1\n",
    "    3 1"
   ]
  },
  {
   "cell_type": "code",
   "execution_count": 27,
   "metadata": {},
   "outputs": [
    {
     "name": "stdout",
     "output_type": "stream",
     "text": [
      "5\n",
      "[1, 1, 1, 1, 1]\n",
      "1 2\n",
      "[3, 3, 3, 3, 2]\n",
      "2 3\n",
      "[1, 1, 1, 1, 3]\n",
      "all done!\n"
     ]
    }
   ],
   "source": [
    "def set_one(x):\n",
    "    x = 1\n",
    "    return x\n",
    "\n",
    "\n",
    "def hanoi2(n, L, A=1, B=2, C=3, debug=False):\n",
    "    \n",
    "    if n == 1:\n",
    "        if debug :\n",
    "            print(\"{0} {1}\".format(A, B))             # 把唯一一个盘子从A柱移动到B柱\n",
    "        L[n-1] = B                                    # 记录移动后盘子所在柱 位置\n",
    "        if debug :\n",
    "            print(L)\n",
    "            print(\"{0} {1}\".format(B, C))             # 把唯一一个盘子从B柱移动到C柱\n",
    "        L[n-1] = C                                    # 记录位置\n",
    "        if debug :\n",
    "            print(L)\n",
    "            print(\"n = 1 : done!\")\n",
    "        return None\n",
    "    elif n == 2:\n",
    "        if debug :\n",
    "            print(\"{0} {1}\".format(A, B))\n",
    "        L[n-2] = B\n",
    "        if debug :\n",
    "            print(L)\n",
    "            print(\"{0} {1}\".format(B, C))\n",
    "        L[n-2] = C\n",
    "        if debug :\n",
    "            print(L)\n",
    "            print(\"{0} {1}\".format(A, B))\n",
    "        L[n-1] = B\n",
    "        if debug :\n",
    "            print(L)\n",
    "            print(\"{0} {1}\".format(C, B))\n",
    "        L[n-2] = B\n",
    "        if debug :\n",
    "            print(L)\n",
    "            print(\"{0} {1}\".format(B, A))\n",
    "        L[n-2] = A\n",
    "        if debug :\n",
    "            print(L)\n",
    "            print(\"{0} {1}\".format(B, C))\n",
    "        L[n-1] = C\n",
    "        if debug :\n",
    "            print(L)\n",
    "            print(\"{0} {1}\".format(A, B))\n",
    "        L[n-2] = B\n",
    "        if debug :\n",
    "            print(L)\n",
    "            print(\"{0} {1}\".format(B, C))\n",
    "        L[n-2] = C\n",
    "        if debug :\n",
    "            print(L)\n",
    "            print(\"n = 2 : done!\")\n",
    "        return None\n",
    "    else:\n",
    "        hanoi2(n-1, L, A, B, C, debug)                   # 把上面 n-1 个盘子由 A 放到 C\n",
    "        if debug :\n",
    "            print(\"{0} {1}\".format(A, B))         # 再把最下面的第 n 个盘子由 A 放到 B\n",
    "        L[n-1] = B\n",
    "        if debug :\n",
    "            print(L)\n",
    "        hanoi2(n-1, L, C, B, A, debug)                   # 把 n-1 个盘子从 C 放到 A\n",
    "        if debug :\n",
    "            print(\"{0} {1}\".format(B, C))         # 再把最下面的第 n 个盘子由 B 放到 C\n",
    "        L[n-1] = C\n",
    "        if debug :\n",
    "            print(L)\n",
    "        hanoi2(n-1, L, A, B, C, debug)                   # 最后把 n-1 个盘子由 A 放到 C\n",
    "        if debug :\n",
    "            print(\"all done!\")\n",
    "        return None\n",
    "        \n",
    "\n",
    "\n",
    "n = int(input(\"\"))\n",
    "L = list(i for i in range(1, n+1))\n",
    "L = list(map(set_one, L))\n",
    "print(L)\n",
    "hanoi2(n, L, debug=True)\n"
   ]
  },
  {
   "cell_type": "code",
   "execution_count": 28,
   "metadata": {},
   "outputs": [
    {
     "ename": "SyntaxError",
     "evalue": "invalid syntax (<ipython-input-28-658ee56be378>, line 5)",
     "output_type": "error",
     "traceback": [
      "\u001b[0;36m  File \u001b[0;32m\"<ipython-input-28-658ee56be378>\"\u001b[0;36m, line \u001b[0;32m5\u001b[0m\n\u001b[0;31m    L.append(t)\u001b[0m\n\u001b[0m    ^\u001b[0m\n\u001b[0;31mSyntaxError\u001b[0m\u001b[0;31m:\u001b[0m invalid syntax\n"
     ]
    }
   ],
   "source": [
    "N = int(input(\"\"))\n",
    "L = []\n",
    "for i in range(N+1) :\n",
    "    t = list(j for j in range(1, N + 1)\n",
    "    L.append(t)\n"
   ]
  },
  {
   "cell_type": "code",
   "execution_count": null,
   "metadata": {},
   "outputs": [],
   "source": []
  },
  {
   "cell_type": "code",
   "execution_count": null,
   "metadata": {},
   "outputs": [],
   "source": []
  },
  {
   "cell_type": "code",
   "execution_count": null,
   "metadata": {},
   "outputs": [],
   "source": []
  },
  {
   "cell_type": "code",
   "execution_count": null,
   "metadata": {},
   "outputs": [],
   "source": []
  }
 ],
 "metadata": {
  "kernelspec": {
   "display_name": "Python 3",
   "language": "python",
   "name": "python3"
  },
  "language_info": {
   "codemirror_mode": {
    "name": "ipython",
    "version": 3
   },
   "file_extension": ".py",
   "mimetype": "text/x-python",
   "name": "python",
   "nbconvert_exporter": "python",
   "pygments_lexer": "ipython3",
   "version": "3.6.5"
  }
 },
 "nbformat": 4,
 "nbformat_minor": 2
}
