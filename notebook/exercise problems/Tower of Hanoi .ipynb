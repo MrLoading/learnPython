{
 "cells": [
  {
   "cell_type": "markdown",
   "metadata": {},
   "source": [
    "## 汉诺塔\n",
    "### 题目描述：\n",
    "\n",
    "\n",
    "    汉诺塔是由三根杆子A，B，C组成的。A杆上有N个穿孔圆盘，盘的尺寸由下到上依次变小，编号从1到n。要求按下列规则将所有圆盘移至C杆：每次只能移动一个圆盘；大盘不能叠在小盘上面。提示：可将圆盘临时置于B杆，也可将从A杆移出的圆盘重新移回A杆，但都必须尊循上述两条规则。问：如何移？\n",
    "\n",
    "### 输入：\n",
    "\n",
    "\n",
    "    一个整数N（N<=10），表示圆盘的个数\n",
    "\n",
    "### 输出：\n",
    "\n",
    "\n",
    "    移动盘子的过程，每一步一行，格式为“要移动的盘子所在的柱子编号---要移动到得柱子的编号”\n",
    "### 样例输入\n",
    " \n",
    "    2\n",
    "### 样例输出\n",
    "\n",
    "\n",
    "    A---B\n",
    "    A---C\n",
    "    B---C"
   ]
  },
  {
   "cell_type": "code",
   "execution_count": 4,
   "metadata": {},
   "outputs": [
    {
     "name": "stdout",
     "output_type": "stream",
     "text": [
      "3\n",
      "A---C\n",
      "A---B\n",
      "C---B\n",
      "A---C\n",
      "B---A\n",
      "B---C\n",
      "A---C\n"
     ]
    }
   ],
   "source": [
    "def hanoi(n,A='A',B='B',C='C'):\n",
    "    if n == 1:\n",
    "        print(\"{0}---{1}\".format(A,C))\n",
    "        return None\n",
    "    elif n == 2:\n",
    "        print(\"{0}---{1}\".format(A,B))\n",
    "        print(\"{0}---{1}\".format(A,C))\n",
    "        print(\"{0}---{1}\".format(B,C))\n",
    "        return None\n",
    "    else:\n",
    "        #把上面 n-1 个盘子由 A 借助 C 放到 B\n",
    "        hanoi(n-1,A,C,B)\n",
    "        #再把最下面的第 n 个盘子直接由 A 放到 C\n",
    "        print(\"{0}---{1}\".format(A,C))\n",
    "        #最后把 n-1 个盘子从 B 借助 A 放到 C\n",
    "        hanoi(n-1,B,A,C)\n",
    "        return None\n",
    "n = int(input(\"\"))\n",
    "hanoi(n)"
   ]
  },
  {
   "cell_type": "code",
   "execution_count": 33,
   "metadata": {},
   "outputs": [
    {
     "name": "stdout",
     "output_type": "stream",
     "text": [
      "1\n",
      "1 2\n",
      "3\n"
     ]
    }
   ],
   "source": [
    "n = int(input(\"\"))\n",
    "for i in range(1,n+1):\n",
    "    str = input(\"\")\n",
    "    str = str.split(\" \")\n",
    "    a = int(str[0])\n",
    "    b = int(str[1])\n",
    "    print(a + b)"
   ]
  },
  {
   "cell_type": "code",
   "execution_count": null,
   "metadata": {},
   "outputs": [],
   "source": []
  },
  {
   "cell_type": "code",
   "execution_count": null,
   "metadata": {},
   "outputs": [],
   "source": []
  },
  {
   "cell_type": "code",
   "execution_count": null,
   "metadata": {},
   "outputs": [],
   "source": []
  },
  {
   "cell_type": "code",
   "execution_count": null,
   "metadata": {},
   "outputs": [],
   "source": []
  },
  {
   "cell_type": "code",
   "execution_count": null,
   "metadata": {},
   "outputs": [],
   "source": []
  },
  {
   "cell_type": "code",
   "execution_count": null,
   "metadata": {},
   "outputs": [],
   "source": []
  },
  {
   "cell_type": "code",
   "execution_count": null,
   "metadata": {},
   "outputs": [],
   "source": []
  },
  {
   "cell_type": "code",
   "execution_count": null,
   "metadata": {},
   "outputs": [],
   "source": []
  },
  {
   "cell_type": "code",
   "execution_count": null,
   "metadata": {},
   "outputs": [],
   "source": []
  }
 ],
 "metadata": {
  "kernelspec": {
   "display_name": "Python 3",
   "language": "python",
   "name": "python3"
  },
  "language_info": {
   "codemirror_mode": {
    "name": "ipython",
    "version": 3
   },
   "file_extension": ".py",
   "mimetype": "text/x-python",
   "name": "python",
   "nbconvert_exporter": "python",
   "pygments_lexer": "ipython3",
   "version": "3.6.5"
  }
 },
 "nbformat": 4,
 "nbformat_minor": 2
}
